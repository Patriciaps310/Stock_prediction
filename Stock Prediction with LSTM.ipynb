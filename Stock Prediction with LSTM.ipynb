{
 "cells": [
  {
   "attachments": {
    "LSTM.png": {
     "image/png": "[encoded data removed]"
    }
   },
   "cell_type": "markdown",
   "id": "cedcb052",
   "metadata": {},
   "source": [
    "# Stock prediction using Long short-term memory \n",
    "\n",
    "An LSTM is a type of recurrent neural network that addresses the vanishing gradient problem in traditional RNNs. By using a gating mechanism that selectively recalls or forgets information, LSTM networks deal with this problem. In essence, LSTM uses past data in a particular way. It uses data that the neural network has seen and 'forgets' irrelevant data.![LSTM.png](attachment:LSTM.png)\n",
    "\n",
    "\n",
    "Some of its most common uses are:\n",
    "- language modeling, such as translation, and \n",
    "- time series forecasting such as predicting weather, energy consumption and **stock prices**!"
   ]
  },
  {
   "cell_type": "code",
   "execution_count": 1,
   "id": "f7892fdf",
   "metadata": {},
   "outputs": [],
   "source": [
    "#import libraries\n",
    "\n",
    "import yfinance as yf\n",
    "import pandas as pd\n",
    "import datetime as datetime\n",
    "import numpy as np\n",
    "\n",
    "from sklearn.preprocessing import MinMaxScaler\n",
    "from tensorflow.keras.layers import LSTM, Dense\n",
    "from tensorflow.keras.models import Sequential\n",
    "from sklearn.metrics import mean_squared_error as MSE\n",
    "from sklearn.model_selection import GridSearchCV\n",
    "from tensorflow.keras.metrics import RootMeanSquaredError\n",
    "from sklearn.metrics import classification_report\n",
    "from tensorflow.keras.wrappers.scikit_learn import KerasClassifier\n",
    "from tensorflow.keras.callbacks import EarlyStopping\n",
    "from math import sqrt\n",
    "\n",
    "\n",
    "import matplotlib.pyplot as plt\n",
    "import plotly.graph_objects as go\n",
    "from plotly.subplots import make_subplots\n",
    "# from dash import dash, dcc, html, Input, Output"
   ]
  },
  {
   "cell_type": "markdown",
   "id": "05b781cb",
   "metadata": {},
   "source": [
    "Get past5 years of stock data "
   ]
  },
  {
   "cell_type": "code",
   "execution_count": 2,
   "id": "4e286911",
   "metadata": {},
   "outputs": [
    {
     "name": "stdout",
     "output_type": "stream",
     "text": [
      "[*********************100%***********************]  3 of 3 completed\n"
     ]
    }
   ],
   "source": [
    "# get today's date\n",
    "end_date = datetime.datetime.today().strftime(\"%Y-%m-%d\")\n",
    "\n",
    "#we will train our model individually on three different stocks \n",
    "tickers = [\"AAPL\", \"MSFT\", \"AMZN\"]\n",
    "\n",
    "# get past 5 years of data\n",
    "start_date = (datetime.datetime.today() - datetime.timedelta(days=365*5)).strftime(\"%Y-%m-%d\")\n",
    "stock_data = yf.download(tickers, start=start_date, end=end_date)"
   ]
  },
  {
   "cell_type": "markdown",
   "id": "1726f8f1",
   "metadata": {},
   "source": [
    "Keep only values for close and reorganize dataframe"
   ]
  },
  {
   "cell_type": "code",
   "execution_count": 3,
   "id": "41837460",
   "metadata": {},
   "outputs": [],
   "source": [
    "stock_data_close = stock_data['Close']"
   ]
  },
  {
   "cell_type": "code",
   "execution_count": 4,
   "id": "f711fce4",
   "metadata": {
    "scrolled": true
   },
   "outputs": [
    {
     "data": {
      "text/html": [
       "<div>\n",
       "<style scoped>\n",
       "    .dataframe tbody tr th:only-of-type {\n",
       "        vertical-align: middle;\n",
       "    }\n",
       "\n",
       "    .dataframe tbody tr th {\n",
       "        vertical-align: top;\n",
       "    }\n",
       "\n",
       "    .dataframe thead th {\n",
       "        text-align: right;\n",
       "    }\n",
       "</style>\n",
       "<table border=\"1\" class=\"dataframe\">\n",
       "  <thead>\n",
       "    <tr style=\"text-align: right;\">\n",
       "      <th></th>\n",
       "      <th>AAPL</th>\n",
       "      <th>AMZN</th>\n",
       "      <th>MSFT</th>\n",
       "    </tr>\n",
       "    <tr>\n",
       "      <th>Date</th>\n",
       "      <th></th>\n",
       "      <th></th>\n",
       "      <th></th>\n",
       "    </tr>\n",
       "  </thead>\n",
       "  <tbody>\n",
       "    <tr>\n",
       "      <th>2018-08-27 00:00:00-04:00</th>\n",
       "      <td>54.485001</td>\n",
       "      <td>96.384003</td>\n",
       "      <td>109.599998</td>\n",
       "    </tr>\n",
       "    <tr>\n",
       "      <th>2018-08-28 00:00:00-04:00</th>\n",
       "      <td>54.924999</td>\n",
       "      <td>96.640999</td>\n",
       "      <td>110.260002</td>\n",
       "    </tr>\n",
       "    <tr>\n",
       "      <th>2018-08-29 00:00:00-04:00</th>\n",
       "      <td>55.744999</td>\n",
       "      <td>99.904999</td>\n",
       "      <td>112.019997</td>\n",
       "    </tr>\n",
       "    <tr>\n",
       "      <th>2018-08-30 00:00:00-04:00</th>\n",
       "      <td>56.257500</td>\n",
       "      <td>100.119003</td>\n",
       "      <td>111.949997</td>\n",
       "    </tr>\n",
       "    <tr>\n",
       "      <th>2018-08-31 00:00:00-04:00</th>\n",
       "      <td>56.907501</td>\n",
       "      <td>100.635498</td>\n",
       "      <td>112.330002</td>\n",
       "    </tr>\n",
       "    <tr>\n",
       "      <th>...</th>\n",
       "      <td>...</td>\n",
       "      <td>...</td>\n",
       "      <td>...</td>\n",
       "    </tr>\n",
       "    <tr>\n",
       "      <th>2023-08-18 00:00:00-04:00</th>\n",
       "      <td>174.490005</td>\n",
       "      <td>133.220001</td>\n",
       "      <td>316.480011</td>\n",
       "    </tr>\n",
       "    <tr>\n",
       "      <th>2023-08-21 00:00:00-04:00</th>\n",
       "      <td>175.839996</td>\n",
       "      <td>134.679993</td>\n",
       "      <td>321.880005</td>\n",
       "    </tr>\n",
       "    <tr>\n",
       "      <th>2023-08-22 00:00:00-04:00</th>\n",
       "      <td>177.229996</td>\n",
       "      <td>134.250000</td>\n",
       "      <td>322.459991</td>\n",
       "    </tr>\n",
       "    <tr>\n",
       "      <th>2023-08-23 00:00:00-04:00</th>\n",
       "      <td>181.119995</td>\n",
       "      <td>135.520004</td>\n",
       "      <td>327.000000</td>\n",
       "    </tr>\n",
       "    <tr>\n",
       "      <th>2023-08-24 00:00:00-04:00</th>\n",
       "      <td>176.380005</td>\n",
       "      <td>131.839996</td>\n",
       "      <td>319.970001</td>\n",
       "    </tr>\n",
       "  </tbody>\n",
       "</table>\n",
       "<p>1257 rows × 3 columns</p>\n",
       "</div>"
      ],
      "text/plain": [
       "                                 AAPL        AMZN        MSFT\n",
       "Date                                                         \n",
       "2018-08-27 00:00:00-04:00   54.485001   96.384003  109.599998\n",
       "2018-08-28 00:00:00-04:00   54.924999   96.640999  110.260002\n",
       "2018-08-29 00:00:00-04:00   55.744999   99.904999  112.019997\n",
       "2018-08-30 00:00:00-04:00   56.257500  100.119003  111.949997\n",
       "2018-08-31 00:00:00-04:00   56.907501  100.635498  112.330002\n",
       "...                               ...         ...         ...\n",
       "2023-08-18 00:00:00-04:00  174.490005  133.220001  316.480011\n",
       "2023-08-21 00:00:00-04:00  175.839996  134.679993  321.880005\n",
       "2023-08-22 00:00:00-04:00  177.229996  134.250000  322.459991\n",
       "2023-08-23 00:00:00-04:00  181.119995  135.520004  327.000000\n",
       "2023-08-24 00:00:00-04:00  176.380005  131.839996  319.970001\n",
       "\n",
       "[1257 rows x 3 columns]"
      ]
     },
     "execution_count": 4,
     "metadata": {},
     "output_type": "execute_result"
    }
   ],
   "source": [
    "stock_data_close"
   ]
  },
  {
   "cell_type": "markdown",
   "id": "1dd2616e",
   "metadata": {},
   "source": [
    "Split data now in train and test.<br>We will use a standard 80/20 split"
   ]
  },
  {
   "cell_type": "code",
   "execution_count": 5,
   "id": "334f5c0a",
   "metadata": {},
   "outputs": [],
   "source": [
    "data_split = int(stock_data_close.shape[0] * 0.8)\n",
    "\n",
    "df_train, df_test = stock_data_close[:data_split], stock_data_close[data_split:]"
   ]
  },
  {
   "cell_type": "markdown",
   "id": "cd6a26cb",
   "metadata": {},
   "source": [
    "Scale data to speed up conversion in the model"
   ]
  },
  {
   "cell_type": "code",
   "execution_count": 6,
   "id": "6ef3e56c",
   "metadata": {},
   "outputs": [],
   "source": [
    "scaled_df_train = {}\n",
    "scaled_df_test = {}\n",
    "train_scaler = {}\n",
    "test_scaler = {}\n",
    "\n",
    "for i in tickers:\n",
    "    min_maxscaler = MinMaxScaler(feature_range=(0,1))\n",
    "    scaled_df_train[i] = min_maxscaler.fit_transform(df_train[[i]])\n",
    "    train_scaler[i] = min_maxscaler\n",
    "    \n",
    "for i in tickers:\n",
    "    min_maxscaler = MinMaxScaler(feature_range=(0,1))\n",
    "    scaled_df_test[i] = min_maxscaler.fit_transform(df_test[[i]])\n",
    "    test_scaler[i] = min_maxscaler"
   ]
  },
  {
   "cell_type": "markdown",
   "id": "180e1dd0",
   "metadata": {},
   "source": [
    "Now, we will use the previous 60 trading days to train the model"
   ]
  },
  {
   "cell_type": "code",
   "execution_count": 7,
   "id": "eff1a329",
   "metadata": {},
   "outputs": [],
   "source": [
    "#train data\n",
    "\n",
    "train = {}\n",
    "for stock in df_train.columns:\n",
    "    #dict inside dict for each stock to have x and y values\n",
    "    train[stock] = {}\n",
    "    x_train = []\n",
    "    y_train = []\n",
    "    for i in range(60, len(scaled_df_train[stock])):\n",
    "        x_train.append(scaled_df_train[stock][i-60:i,0])\n",
    "        y_train.append(scaled_df_train[stock][i,0])\n",
    "    #convert list into array\n",
    "    x_train, y_train = np.array(x_train), np.array(y_train)\n",
    "    #reshape data\n",
    "    train[stock]['X'] = np.reshape(x_train, (x_train.shape[0], x_train.shape[1], 1))\n",
    "    train[stock]['y'] = y_train\n",
    "\n",
    "    \n",
    "#test data\n",
    "\n",
    "test = {}\n",
    "for stock in df_test.columns:\n",
    "    test[stock] = {}\n",
    "    x_test = []\n",
    "    y_test = []\n",
    "    for i in range(60, len(scaled_df_test[stock])):\n",
    "        x_test.append(scaled_df_test[stock][i-60:i,0])\n",
    "        y_test.append(scaled_df_test[stock][i,0])\n",
    "    #convert list into array\n",
    "    x_test, y_test = np.array(x_test), np.array(y_test)\n",
    "    #reshape data\n",
    "    test[stock]['X'] = np.reshape(x_test, (x_test.shape[0], x_test.shape[1], 1))\n",
    "    test[stock]['y'] = y_test"
   ]
  },
  {
   "cell_type": "markdown",
   "id": "76d4209a",
   "metadata": {},
   "source": [
    "Now we can start building our model"
   ]
  },
  {
   "cell_type": "markdown",
   "id": "12ad563a",
   "metadata": {},
   "source": [
    "Build LSTM Model"
   ]
  },
  {
   "cell_type": "code",
   "execution_count": 22,
   "id": "68193bdc",
   "metadata": {},
   "outputs": [],
   "source": [
    "early_stop = EarlyStopping(monitor='loss', patience=5, verbose=1)\n",
    "lstm_model = Sequential()\n",
    "#no layers \n",
    "lstm_model.add(LSTM(50, return_sequences = True, input_shape = (x_train.shape[1], 1)))\n",
    "lstm_model.add(LSTM(50, return_sequences = False))\n",
    "#no neurons\n",
    "lstm_model.add(Dense(25))\n",
    "lstm_model.add(Dense(1))\n",
    "\n",
    "#compile model\n",
    "lstm_model.compile(optimizer='adam', loss='mean_squared_error')"
   ]
  },
  {
   "cell_type": "markdown",
   "id": "49d759e7",
   "metadata": {},
   "source": [
    "Fit model"
   ]
  },
  {
   "cell_type": "code",
   "execution_count": 25,
   "id": "9aeb57d4",
   "metadata": {},
   "outputs": [
    {
     "name": "stdout",
     "output_type": "stream",
     "text": [
      "Epoch 1/100\n",
      "30/30 [==============================] - 3s 44ms/step - loss: 5.8901e-04\n",
      "Epoch 2/100\n",
      "30/30 [==============================] - 1s 42ms/step - loss: 4.4626e-04\n",
      "Epoch 3/100\n",
      "30/30 [==============================] - 1s 41ms/step - loss: 4.3827e-04\n",
      "Epoch 4/100\n",
      "30/30 [==============================] - 1s 42ms/step - loss: 4.3567e-04\n",
      "Epoch 5/100\n",
      "30/30 [==============================] - 1s 43ms/step - loss: 4.2494e-04\n",
      "Epoch 6/100\n",
      "30/30 [==============================] - 1s 42ms/step - loss: 4.2581e-04\n",
      "Epoch 7/100\n",
      "30/30 [==============================] - 1s 44ms/step - loss: 4.3373e-04\n",
      "Epoch 8/100\n",
      "30/30 [==============================] - 1s 43ms/step - loss: 4.1945e-04\n",
      "Epoch 9/100\n",
      "30/30 [==============================] - 1s 42ms/step - loss: 4.1749e-04\n",
      "Epoch 10/100\n",
      "30/30 [==============================] - 1s 44ms/step - loss: 4.2803e-04\n",
      "Epoch 11/100\n",
      "30/30 [==============================] - 1s 46ms/step - loss: 4.1567e-04\n",
      "Epoch 12/100\n",
      "30/30 [==============================] - 1s 41ms/step - loss: 4.1736e-04\n",
      "Epoch 13/100\n",
      "30/30 [==============================] - 1s 41ms/step - loss: 4.1288e-04\n",
      "Epoch 14/100\n",
      "30/30 [==============================] - 1s 41ms/step - loss: 4.1090e-04\n",
      "Epoch 15/100\n",
      "30/30 [==============================] - 1s 41ms/step - loss: 4.0827e-04\n",
      "Epoch 16/100\n",
      "30/30 [==============================] - 1s 41ms/step - loss: 4.2228e-04\n",
      "Epoch 17/100\n",
      "30/30 [==============================] - 1s 41ms/step - loss: 4.0954e-04\n",
      "Epoch 18/100\n",
      "30/30 [==============================] - 1s 43ms/step - loss: 4.0514e-04\n",
      "Epoch 19/100\n",
      "30/30 [==============================] - 1s 41ms/step - loss: 4.0197e-04\n",
      "Epoch 20/100\n",
      "30/30 [==============================] - 1s 41ms/step - loss: 4.0209e-04\n",
      "Epoch 21/100\n",
      "30/30 [==============================] - 1s 42ms/step - loss: 4.0448e-04\n",
      "Epoch 22/100\n",
      "30/30 [==============================] - 1s 48ms/step - loss: 3.9803e-04\n",
      "Epoch 23/100\n",
      "30/30 [==============================] - 1s 43ms/step - loss: 4.0294e-04\n",
      "Epoch 24/100\n",
      "30/30 [==============================] - 1s 43ms/step - loss: 3.9477e-04\n",
      "Epoch 25/100\n",
      "30/30 [==============================] - 1s 42ms/step - loss: 4.0373e-04\n",
      "Epoch 26/100\n",
      "30/30 [==============================] - 1s 40ms/step - loss: 4.0035e-04\n",
      "Epoch 27/100\n",
      "30/30 [==============================] - 1s 43ms/step - loss: 4.1416e-04\n",
      "Epoch 28/100\n",
      "30/30 [==============================] - 1s 43ms/step - loss: 3.9669e-04\n",
      "Epoch 29/100\n",
      "30/30 [==============================] - 1s 43ms/step - loss: 4.0049e-04\n",
      "Epoch 29: early stopping\n",
      "Epoch 1/100\n",
      "30/30 [==============================] - 1s 43ms/step - loss: 4.1122e-04\n",
      "Epoch 2/100\n",
      "30/30 [==============================] - 1s 42ms/step - loss: 3.9135e-04\n",
      "Epoch 3/100\n",
      "30/30 [==============================] - 1s 47ms/step - loss: 4.1962e-04\n",
      "Epoch 4/100\n",
      "30/30 [==============================] - 1s 46ms/step - loss: 3.8322e-04\n",
      "Epoch 5/100\n",
      "30/30 [==============================] - 1s 47ms/step - loss: 3.9000e-04\n",
      "Epoch 6/100\n",
      "30/30 [==============================] - 2s 54ms/step - loss: 3.8952e-04\n",
      "Epoch 7/100\n",
      "30/30 [==============================] - 1s 48ms/step - loss: 3.8377e-04\n",
      "Epoch 8/100\n",
      "30/30 [==============================] - 2s 50ms/step - loss: 3.7914e-04\n",
      "Epoch 9/100\n",
      "30/30 [==============================] - 1s 43ms/step - loss: 3.8591e-04\n",
      "Epoch 10/100\n",
      "30/30 [==============================] - 1s 41ms/step - loss: 3.8095e-04\n",
      "Epoch 11/100\n",
      "30/30 [==============================] - 1s 41ms/step - loss: 3.9222e-04\n",
      "Epoch 12/100\n",
      "30/30 [==============================] - 1s 41ms/step - loss: 4.0751e-04\n",
      "Epoch 13/100\n",
      "30/30 [==============================] - 1s 43ms/step - loss: 3.6720e-04\n",
      "Epoch 14/100\n",
      "30/30 [==============================] - 1s 42ms/step - loss: 3.7011e-04\n",
      "Epoch 15/100\n",
      "30/30 [==============================] - 1s 42ms/step - loss: 3.6809e-04\n",
      "Epoch 16/100\n",
      "30/30 [==============================] - 1s 42ms/step - loss: 3.6655e-04\n",
      "Epoch 17/100\n",
      "30/30 [==============================] - 1s 41ms/step - loss: 3.6801e-04\n",
      "Epoch 18/100\n",
      "30/30 [==============================] - 1s 41ms/step - loss: 3.6081e-04\n",
      "Epoch 19/100\n",
      "30/30 [==============================] - 1s 41ms/step - loss: 3.5439e-04\n",
      "Epoch 20/100\n",
      "30/30 [==============================] - 1s 41ms/step - loss: 3.5677e-04\n",
      "Epoch 21/100\n",
      "30/30 [==============================] - 1s 43ms/step - loss: 3.7609e-04\n",
      "Epoch 22/100\n",
      "30/30 [==============================] - 1s 49ms/step - loss: 3.8605e-04\n",
      "Epoch 23/100\n",
      "30/30 [==============================] - 1s 48ms/step - loss: 3.7012e-04\n",
      "Epoch 24/100\n",
      "30/30 [==============================] - 1s 47ms/step - loss: 3.5757e-04\n",
      "Epoch 24: early stopping\n",
      "Epoch 1/100\n",
      "30/30 [==============================] - 1s 49ms/step - loss: 9.1751e-04\n",
      "Epoch 2/100\n",
      "30/30 [==============================] - 1s 41ms/step - loss: 9.2559e-04\n",
      "Epoch 3/100\n",
      "30/30 [==============================] - 1s 41ms/step - loss: 8.8536e-04\n",
      "Epoch 4/100\n",
      "30/30 [==============================] - 1s 41ms/step - loss: 8.9216e-04\n",
      "Epoch 5/100\n",
      "30/30 [==============================] - 1s 42ms/step - loss: 8.5228e-04\n",
      "Epoch 6/100\n",
      "30/30 [==============================] - 1s 41ms/step - loss: 8.7344e-04\n",
      "Epoch 7/100\n",
      "30/30 [==============================] - 1s 45ms/step - loss: 8.6326e-04\n",
      "Epoch 8/100\n",
      "30/30 [==============================] - 1s 41ms/step - loss: 8.4657e-04\n",
      "Epoch 9/100\n",
      "30/30 [==============================] - 1s 42ms/step - loss: 8.1004e-04\n",
      "Epoch 10/100\n",
      "30/30 [==============================] - 1s 41ms/step - loss: 7.9863e-04\n",
      "Epoch 11/100\n",
      "30/30 [==============================] - 1s 41ms/step - loss: 7.9838e-04\n",
      "Epoch 12/100\n",
      "30/30 [==============================] - 1s 41ms/step - loss: 7.9406e-04\n",
      "Epoch 13/100\n",
      "30/30 [==============================] - 1s 42ms/step - loss: 7.6437e-04\n",
      "Epoch 14/100\n",
      "30/30 [==============================] - 1s 46ms/step - loss: 7.7774e-04\n",
      "Epoch 15/100\n",
      "30/30 [==============================] - 1s 42ms/step - loss: 7.8036e-04\n",
      "Epoch 16/100\n",
      "30/30 [==============================] - 1s 41ms/step - loss: 8.1641e-04\n",
      "Epoch 17/100\n",
      "30/30 [==============================] - 1s 42ms/step - loss: 7.3312e-04\n",
      "Epoch 18/100\n",
      "30/30 [==============================] - 1s 43ms/step - loss: 7.6156e-04\n",
      "Epoch 19/100\n",
      "30/30 [==============================] - 1s 43ms/step - loss: 7.3852e-04\n",
      "Epoch 20/100\n",
      "30/30 [==============================] - 1s 43ms/step - loss: 7.5408e-04\n",
      "Epoch 21/100\n",
      "30/30 [==============================] - 1s 42ms/step - loss: 7.5411e-04\n",
      "Epoch 22/100\n",
      "30/30 [==============================] - 1s 46ms/step - loss: 7.1958e-04\n",
      "Epoch 23/100\n",
      "30/30 [==============================] - 1s 47ms/step - loss: 7.2679e-04\n",
      "Epoch 24/100\n",
      "30/30 [==============================] - 1s 45ms/step - loss: 7.1012e-04\n",
      "Epoch 25/100\n",
      "30/30 [==============================] - 1s 43ms/step - loss: 6.7149e-04\n",
      "Epoch 26/100\n",
      "30/30 [==============================] - 1s 44ms/step - loss: 7.4009e-04\n",
      "Epoch 27/100\n",
      "30/30 [==============================] - 1s 45ms/step - loss: 6.8150e-04\n",
      "Epoch 28/100\n",
      "30/30 [==============================] - 1s 45ms/step - loss: 6.6920e-04\n",
      "Epoch 29/100\n",
      "30/30 [==============================] - 1s 47ms/step - loss: 7.5119e-04\n",
      "Epoch 30/100\n",
      "30/30 [==============================] - 2s 56ms/step - loss: 6.6862e-04\n",
      "Epoch 31/100\n",
      "30/30 [==============================] - 2s 68ms/step - loss: 6.6867e-04\n",
      "Epoch 32/100\n",
      "30/30 [==============================] - 2s 58ms/step - loss: 6.5967e-04\n",
      "Epoch 33/100\n",
      "30/30 [==============================] - 1s 48ms/step - loss: 6.5266e-04\n",
      "Epoch 34/100\n",
      "30/30 [==============================] - 1s 48ms/step - loss: 6.3783e-04\n",
      "Epoch 35/100\n",
      "30/30 [==============================] - 2s 60ms/step - loss: 6.2946e-04\n",
      "Epoch 36/100\n",
      "30/30 [==============================] - 2s 56ms/step - loss: 6.2811e-04\n",
      "Epoch 37/100\n",
      "30/30 [==============================] - 1s 47ms/step - loss: 6.6836e-04\n",
      "Epoch 38/100\n",
      "30/30 [==============================] - 1s 45ms/step - loss: 6.7369e-04\n",
      "Epoch 39/100\n",
      "30/30 [==============================] - 1s 44ms/step - loss: 7.3819e-04\n",
      "Epoch 40/100\n",
      "30/30 [==============================] - 1s 46ms/step - loss: 6.9901e-04\n",
      "Epoch 41/100\n",
      "30/30 [==============================] - 1s 47ms/step - loss: 6.1366e-04\n",
      "Epoch 42/100\n",
      "30/30 [==============================] - 1s 44ms/step - loss: 6.3443e-04\n"
     ]
    },
    {
     "name": "stdout",
     "output_type": "stream",
     "text": [
      "Epoch 43/100\n",
      "30/30 [==============================] - 1s 43ms/step - loss: 6.4669e-04\n",
      "Epoch 44/100\n",
      "30/30 [==============================] - 1s 44ms/step - loss: 6.4494e-04\n",
      "Epoch 45/100\n",
      "30/30 [==============================] - 1s 45ms/step - loss: 7.1006e-04\n",
      "Epoch 46/100\n",
      "30/30 [==============================] - 1s 42ms/step - loss: 6.5128e-04\n",
      "Epoch 46: early stopping\n"
     ]
    }
   ],
   "source": [
    "for i in tickers:\n",
    "    lstm_model.fit(train[i]['X'], train[i]['y'], batch_size=32, epochs=100, callbacks=[early_stop])"
   ]
  },
  {
   "cell_type": "markdown",
   "id": "d9474960",
   "metadata": {},
   "source": [
    "Get predicted prices"
   ]
  },
  {
   "cell_type": "code",
   "execution_count": 26,
   "id": "806985d1",
   "metadata": {},
   "outputs": [
    {
     "name": "stdout",
     "output_type": "stream",
     "text": [
      "6/6 [==============================] - 0s 18ms/step\n"
     ]
    },
    {
     "data": {
      "application/vnd.plotly.v1+json": {
       "config": {
        "plotlyServerURL": "https://plot.ly"
       },
       "data": [
        {
         "line": {
          "color": "blue",
          "width": 0.7
         },
         "name": "Real Stock Prices",
         "type": "scatter",
         "x": [
          "2022-11-17T00:00:00-05:00",
          "2022-11-18T00:00:00-05:00",
          "2022-11-21T00:00:00-05:00",
          "2022-11-22T00:00:00-05:00",
          "2022-11-23T00:00:00-05:00",
          "2022-11-25T00:00:00-05:00",
          "2022-11-28T00:00:00-05:00",
          "2022-11-29T00:00:00-05:00",
          "2022-11-30T00:00:00-05:00",
          "2022-12-01T00:00:00-05:00",
          "2022-12-02T00:00:00-05:00",
          "2022-12-05T00:00:00-05:00",
          "2022-12-06T00:00:00-05:00",
          "2022-12-07T00:00:00-05:00",
          "2022-12-08T00:00:00-05:00",
          "2022-12-09T00:00:00-05:00",
          "2022-12-12T00:00:00-05:00",
          "2022-12-13T00:00:00-05:00",
          "2022-12-14T00:00:00-05:00",
          "2022-12-15T00:00:00-05:00",
          "2022-12-16T00:00:00-05:00",
          "2022-12-19T00:00:00-05:00",
          "2022-12-20T00:00:00-05:00",
          "2022-12-21T00:00:00-05:00",
          "2022-12-22T00:00:00-05:00",
          "2022-12-23T00:00:00-05:00",
          "2022-12-27T00:00:00-05:00",
          "2022-12-28T00:00:00-05:00",
          "2022-12-29T00:00:00-05:00",
          "2022-12-30T00:00:00-05:00",
          "2023-01-03T00:00:00-05:00",
          "2023-01-04T00:00:00-05:00",
          "2023-01-05T00:00:00-05:00",
          "2023-01-06T00:00:00-05:00",
          "2023-01-09T00:00:00-05:00",
          "2023-01-10T00:00:00-05:00",
          "2023-01-11T00:00:00-05:00",
          "2023-01-12T00:00:00-05:00",
          "2023-01-13T00:00:00-05:00",
          "2023-01-17T00:00:00-05:00",
          "2023-01-18T00:00:00-05:00",
          "2023-01-19T00:00:00-05:00",
          "2023-01-20T00:00:00-05:00",
          "2023-01-23T00:00:00-05:00",
          "2023-01-24T00:00:00-05:00",
          "2023-01-25T00:00:00-05:00",
          "2023-01-26T00:00:00-05:00",
          "2023-01-27T00:00:00-05:00",
          "2023-01-30T00:00:00-05:00",
          "2023-01-31T00:00:00-05:00",
          "2023-02-01T00:00:00-05:00",
          "2023-02-02T00:00:00-05:00",
          "2023-02-03T00:00:00-05:00",
          "2023-02-06T00:00:00-05:00",
          "2023-02-07T00:00:00-05:00",
          "2023-02-08T00:00:00-05:00",
          "2023-02-09T00:00:00-05:00",
          "2023-02-10T00:00:00-05:00",
          "2023-02-13T00:00:00-05:00",
          "2023-02-14T00:00:00-05:00",
          "2023-02-15T00:00:00-05:00",
          "2023-02-16T00:00:00-05:00",
          "2023-02-17T00:00:00-05:00",
          "2023-02-21T00:00:00-05:00",
          "2023-02-22T00:00:00-05:00",
          "2023-02-23T00:00:00-05:00",
          "2023-02-24T00:00:00-05:00",
          "2023-02-27T00:00:00-05:00",
          "2023-02-28T00:00:00-05:00",
          "2023-03-01T00:00:00-05:00",
          "2023-03-02T00:00:00-05:00",
          "2023-03-03T00:00:00-05:00",
          "2023-03-06T00:00:00-05:00",
          "2023-03-07T00:00:00-05:00",
          "2023-03-08T00:00:00-05:00",
          "2023-03-09T00:00:00-05:00",
          "2023-03-10T00:00:00-05:00",
          "2023-03-13T00:00:00-04:00",
          "2023-03-14T00:00:00-04:00",
          "2023-03-15T00:00:00-04:00",
          "2023-03-16T00:00:00-04:00",
          "2023-03-17T00:00:00-04:00",
          "2023-03-20T00:00:00-04:00",
          "2023-03-21T00:00:00-04:00",
          "2023-03-22T00:00:00-04:00",
          "2023-03-23T00:00:00-04:00",
          "2023-03-24T00:00:00-04:00",
          "2023-03-27T00:00:00-04:00",
          "2023-03-28T00:00:00-04:00",
          "2023-03-29T00:00:00-04:00",
          "2023-03-30T00:00:00-04:00",
          "2023-03-31T00:00:00-04:00",
          "2023-04-03T00:00:00-04:00",
          "2023-04-04T00:00:00-04:00",
          "2023-04-05T00:00:00-04:00",
          "2023-04-06T00:00:00-04:00",
          "2023-04-10T00:00:00-04:00",
          "2023-04-11T00:00:00-04:00",
          "2023-04-12T00:00:00-04:00",
          "2023-04-13T00:00:00-04:00",
          "2023-04-14T00:00:00-04:00",
          "2023-04-17T00:00:00-04:00",
          "2023-04-18T00:00:00-04:00",
          "2023-04-19T00:00:00-04:00",
          "2023-04-20T00:00:00-04:00",
          "2023-04-21T00:00:00-04:00",
          "2023-04-24T00:00:00-04:00",
          "2023-04-25T00:00:00-04:00",
          "2023-04-26T00:00:00-04:00",
          "2023-04-27T00:00:00-04:00",
          "2023-04-28T00:00:00-04:00",
          "2023-05-01T00:00:00-04:00",
          "2023-05-02T00:00:00-04:00",
          "2023-05-03T00:00:00-04:00",
          "2023-05-04T00:00:00-04:00",
          "2023-05-05T00:00:00-04:00",
          "2023-05-08T00:00:00-04:00",
          "2023-05-09T00:00:00-04:00",
          "2023-05-10T00:00:00-04:00",
          "2023-05-11T00:00:00-04:00",
          "2023-05-12T00:00:00-04:00",
          "2023-05-15T00:00:00-04:00",
          "2023-05-16T00:00:00-04:00",
          "2023-05-17T00:00:00-04:00",
          "2023-05-18T00:00:00-04:00",
          "2023-05-19T00:00:00-04:00",
          "2023-05-22T00:00:00-04:00",
          "2023-05-23T00:00:00-04:00",
          "2023-05-24T00:00:00-04:00",
          "2023-05-25T00:00:00-04:00",
          "2023-05-26T00:00:00-04:00",
          "2023-05-30T00:00:00-04:00",
          "2023-05-31T00:00:00-04:00",
          "2023-06-01T00:00:00-04:00",
          "2023-06-02T00:00:00-04:00",
          "2023-06-05T00:00:00-04:00",
          "2023-06-06T00:00:00-04:00",
          "2023-06-07T00:00:00-04:00",
          "2023-06-08T00:00:00-04:00",
          "2023-06-09T00:00:00-04:00",
          "2023-06-12T00:00:00-04:00",
          "2023-06-13T00:00:00-04:00",
          "2023-06-14T00:00:00-04:00",
          "2023-06-15T00:00:00-04:00",
          "2023-06-16T00:00:00-04:00",
          "2023-06-20T00:00:00-04:00",
          "2023-06-21T00:00:00-04:00",
          "2023-06-22T00:00:00-04:00",
          "2023-06-23T00:00:00-04:00",
          "2023-06-26T00:00:00-04:00",
          "2023-06-27T00:00:00-04:00",
          "2023-06-28T00:00:00-04:00",
          "2023-06-29T00:00:00-04:00",
          "2023-06-30T00:00:00-04:00",
          "2023-07-03T00:00:00-04:00",
          "2023-07-05T00:00:00-04:00",
          "2023-07-06T00:00:00-04:00",
          "2023-07-07T00:00:00-04:00",
          "2023-07-10T00:00:00-04:00",
          "2023-07-11T00:00:00-04:00",
          "2023-07-12T00:00:00-04:00",
          "2023-07-13T00:00:00-04:00",
          "2023-07-14T00:00:00-04:00",
          "2023-07-17T00:00:00-04:00",
          "2023-07-18T00:00:00-04:00",
          "2023-07-19T00:00:00-04:00",
          "2023-07-20T00:00:00-04:00",
          "2023-07-21T00:00:00-04:00",
          "2023-07-24T00:00:00-04:00",
          "2023-07-25T00:00:00-04:00",
          "2023-07-26T00:00:00-04:00",
          "2023-07-27T00:00:00-04:00",
          "2023-07-28T00:00:00-04:00",
          "2023-07-31T00:00:00-04:00",
          "2023-08-01T00:00:00-04:00",
          "2023-08-02T00:00:00-04:00",
          "2023-08-03T00:00:00-04:00",
          "2023-08-04T00:00:00-04:00",
          "2023-08-07T00:00:00-04:00",
          "2023-08-08T00:00:00-04:00",
          "2023-08-09T00:00:00-04:00",
          "2023-08-10T00:00:00-04:00",
          "2023-08-11T00:00:00-04:00",
          "2023-08-14T00:00:00-04:00",
          "2023-08-15T00:00:00-04:00",
          "2023-08-16T00:00:00-04:00",
          "2023-08-17T00:00:00-04:00",
          "2023-08-18T00:00:00-04:00",
          "2023-08-21T00:00:00-04:00",
          "2023-08-22T00:00:00-04:00",
          "2023-08-23T00:00:00-04:00",
          "2023-08-24T00:00:00-04:00"
         ],
         "y": [
          150.72000122070312,
          151.2899932861328,
          148.00999450683594,
          150.17999267578125,
          151.07000732421875,
          148.11000061035156,
          144.22000122070312,
          141.1699981689453,
          148.0299987792969,
          148.30999755859375,
          147.80999755859375,
          146.6300048828125,
          142.91000366210938,
          140.94000244140625,
          142.64999389648438,
          142.16000366210938,
          144.49000549316406,
          145.47000122070312,
          143.2100067138672,
          136.5,
          134.50999450683594,
          132.3699951171875,
          132.3000030517578,
          135.4499969482422,
          132.22999572753906,
          131.86000061035156,
          130.02999877929688,
          126.04000091552734,
          129.61000061035156,
          129.92999267578125,
          125.06999969482422,
          126.36000061035156,
          125.0199966430664,
          129.6199951171875,
          130.14999389648438,
          130.72999572753906,
          133.49000549316406,
          133.41000366210938,
          134.75999450683594,
          135.94000244140625,
          135.2100067138672,
          135.27000427246094,
          137.8699951171875,
          141.11000061035156,
          142.52999877929688,
          141.86000061035156,
          143.96000671386716,
          145.92999267578125,
          143,
          144.2899932861328,
          145.42999267578125,
          150.82000732421875,
          154.5,
          151.72999572753906,
          154.64999389648438,
          151.9199981689453,
          150.8699951171875,
          151.00999450683594,
          153.85000610351562,
          153.1999969482422,
          155.3300018310547,
          153.7100067138672,
          152.5500030517578,
          148.47999572753906,
          148.91000366210938,
          149.39999389648438,
          146.7100067138672,
          147.9199981689453,
          147.41000366210938,
          145.30999755859375,
          145.91000366210938,
          151.02999877929688,
          153.8300018310547,
          151.60000610351562,
          152.8699951171875,
          150.58999633789062,
          148.5,
          150.47000122070312,
          152.58999633789065,
          152.9900054931641,
          155.85000610351562,
          155,
          157.39999389648438,
          159.27999877929688,
          157.8300018310547,
          158.92999267578125,
          160.25,
          158.27999877929688,
          157.64999389648438,
          160.77000427246094,
          162.36000061035156,
          164.89999389648438,
          166.1699981689453,
          165.6300048828125,
          163.75999450683594,
          164.66000366210938,
          162.02999877929688,
          160.8000030517578,
          160.10000610351562,
          165.55999755859375,
          165.2100067138672,
          165.22999572753906,
          166.47000122070312,
          167.6300048828125,
          166.64999389648438,
          165.02000427246094,
          165.3300018310547,
          163.77000427246094,
          163.75999450683594,
          168.41000366210938,
          169.67999267578125,
          169.58999633789062,
          168.5399932861328,
          167.4499969482422,
          165.7899932861328,
          173.57000732421875,
          173.5,
          171.77000427246094,
          173.55999755859375,
          173.75,
          172.57000732421875,
          172.07000732421875,
          172.07000732421875,
          172.69000244140625,
          175.0500030517578,
          175.16000366210938,
          174.19999694824216,
          171.55999755859372,
          171.83999633789062,
          172.99000549316406,
          175.42999267578125,
          177.3000030517578,
          177.25,
          180.08999633789062,
          180.9499969482422,
          179.5800018310547,
          179.2100067138672,
          177.82000732421875,
          180.57000732421875,
          180.9600067138672,
          183.7899932861328,
          183.30999755859375,
          183.9499969482422,
          186.00999450683594,
          184.9199981689453,
          185.00999450683594,
          183.9600067138672,
          187,
          186.67999267578122,
          185.27000427246094,
          188.05999755859375,
          189.25,
          189.58999633789062,
          193.97000122070312,
          192.4600067138672,
          191.3300018310547,
          191.80999755859375,
          190.67999267578125,
          188.61000061035153,
          188.0800018310547,
          189.77000427246094,
          190.5399932861328,
          190.69000244140625,
          193.99000549316406,
          193.72999572753906,
          195.10000610351562,
          193.1300048828125,
          191.94000244140625,
          192.75000000000003,
          193.6199951171875,
          194.5,
          193.22000122070312,
          195.8300018310547,
          196.4499969482422,
          195.61000061035156,
          192.5800018310547,
          191.1699981689453,
          181.99000549316406,
          178.85000610351562,
          179.8000030517578,
          178.19000244140625,
          177.97000122070312,
          177.7899932861328,
          179.4600067138672,
          177.4499969482422,
          176.57000732421875,
          174,
          174.49000549316406,
          175.83999633789062,
          177.22999572753903,
          181.1199951171875,
          176.3800048828125
         ]
        },
        {
         "line": {
          "color": "red",
          "width": 1.5
         },
         "mode": "lines",
         "name": "Predicted Stock Prices",
         "type": "scatter",
         "x": [
          "2022-11-17T00:00:00-05:00",
          "2022-11-18T00:00:00-05:00",
          "2022-11-21T00:00:00-05:00",
          "2022-11-22T00:00:00-05:00",
          "2022-11-23T00:00:00-05:00",
          "2022-11-25T00:00:00-05:00",
          "2022-11-28T00:00:00-05:00",
          "2022-11-29T00:00:00-05:00",
          "2022-11-30T00:00:00-05:00",
          "2022-12-01T00:00:00-05:00",
          "2022-12-02T00:00:00-05:00",
          "2022-12-05T00:00:00-05:00",
          "2022-12-06T00:00:00-05:00",
          "2022-12-07T00:00:00-05:00",
          "2022-12-08T00:00:00-05:00",
          "2022-12-09T00:00:00-05:00",
          "2022-12-12T00:00:00-05:00",
          "2022-12-13T00:00:00-05:00",
          "2022-12-14T00:00:00-05:00",
          "2022-12-15T00:00:00-05:00",
          "2022-12-16T00:00:00-05:00",
          "2022-12-19T00:00:00-05:00",
          "2022-12-20T00:00:00-05:00",
          "2022-12-21T00:00:00-05:00",
          "2022-12-22T00:00:00-05:00",
          "2022-12-23T00:00:00-05:00",
          "2022-12-27T00:00:00-05:00",
          "2022-12-28T00:00:00-05:00",
          "2022-12-29T00:00:00-05:00",
          "2022-12-30T00:00:00-05:00",
          "2023-01-03T00:00:00-05:00",
          "2023-01-04T00:00:00-05:00",
          "2023-01-05T00:00:00-05:00",
          "2023-01-06T00:00:00-05:00",
          "2023-01-09T00:00:00-05:00",
          "2023-01-10T00:00:00-05:00",
          "2023-01-11T00:00:00-05:00",
          "2023-01-12T00:00:00-05:00",
          "2023-01-13T00:00:00-05:00",
          "2023-01-17T00:00:00-05:00",
          "2023-01-18T00:00:00-05:00",
          "2023-01-19T00:00:00-05:00",
          "2023-01-20T00:00:00-05:00",
          "2023-01-23T00:00:00-05:00",
          "2023-01-24T00:00:00-05:00",
          "2023-01-25T00:00:00-05:00",
          "2023-01-26T00:00:00-05:00",
          "2023-01-27T00:00:00-05:00",
          "2023-01-30T00:00:00-05:00",
          "2023-01-31T00:00:00-05:00",
          "2023-02-01T00:00:00-05:00",
          "2023-02-02T00:00:00-05:00",
          "2023-02-03T00:00:00-05:00",
          "2023-02-06T00:00:00-05:00",
          "2023-02-07T00:00:00-05:00",
          "2023-02-08T00:00:00-05:00",
          "2023-02-09T00:00:00-05:00",
          "2023-02-10T00:00:00-05:00",
          "2023-02-13T00:00:00-05:00",
          "2023-02-14T00:00:00-05:00",
          "2023-02-15T00:00:00-05:00",
          "2023-02-16T00:00:00-05:00",
          "2023-02-17T00:00:00-05:00",
          "2023-02-21T00:00:00-05:00",
          "2023-02-22T00:00:00-05:00",
          "2023-02-23T00:00:00-05:00",
          "2023-02-24T00:00:00-05:00",
          "2023-02-27T00:00:00-05:00",
          "2023-02-28T00:00:00-05:00",
          "2023-03-01T00:00:00-05:00",
          "2023-03-02T00:00:00-05:00",
          "2023-03-03T00:00:00-05:00",
          "2023-03-06T00:00:00-05:00",
          "2023-03-07T00:00:00-05:00",
          "2023-03-08T00:00:00-05:00",
          "2023-03-09T00:00:00-05:00",
          "2023-03-10T00:00:00-05:00",
          "2023-03-13T00:00:00-04:00",
          "2023-03-14T00:00:00-04:00",
          "2023-03-15T00:00:00-04:00",
          "2023-03-16T00:00:00-04:00",
          "2023-03-17T00:00:00-04:00",
          "2023-03-20T00:00:00-04:00",
          "2023-03-21T00:00:00-04:00",
          "2023-03-22T00:00:00-04:00",
          "2023-03-23T00:00:00-04:00",
          "2023-03-24T00:00:00-04:00",
          "2023-03-27T00:00:00-04:00",
          "2023-03-28T00:00:00-04:00",
          "2023-03-29T00:00:00-04:00",
          "2023-03-30T00:00:00-04:00",
          "2023-03-31T00:00:00-04:00",
          "2023-04-03T00:00:00-04:00",
          "2023-04-04T00:00:00-04:00",
          "2023-04-05T00:00:00-04:00",
          "2023-04-06T00:00:00-04:00",
          "2023-04-10T00:00:00-04:00",
          "2023-04-11T00:00:00-04:00",
          "2023-04-12T00:00:00-04:00",
          "2023-04-13T00:00:00-04:00",
          "2023-04-14T00:00:00-04:00",
          "2023-04-17T00:00:00-04:00",
          "2023-04-18T00:00:00-04:00",
          "2023-04-19T00:00:00-04:00",
          "2023-04-20T00:00:00-04:00",
          "2023-04-21T00:00:00-04:00",
          "2023-04-24T00:00:00-04:00",
          "2023-04-25T00:00:00-04:00",
          "2023-04-26T00:00:00-04:00",
          "2023-04-27T00:00:00-04:00",
          "2023-04-28T00:00:00-04:00",
          "2023-05-01T00:00:00-04:00",
          "2023-05-02T00:00:00-04:00",
          "2023-05-03T00:00:00-04:00",
          "2023-05-04T00:00:00-04:00",
          "2023-05-05T00:00:00-04:00",
          "2023-05-08T00:00:00-04:00",
          "2023-05-09T00:00:00-04:00",
          "2023-05-10T00:00:00-04:00",
          "2023-05-11T00:00:00-04:00",
          "2023-05-12T00:00:00-04:00",
          "2023-05-15T00:00:00-04:00",
          "2023-05-16T00:00:00-04:00",
          "2023-05-17T00:00:00-04:00",
          "2023-05-18T00:00:00-04:00",
          "2023-05-19T00:00:00-04:00",
          "2023-05-22T00:00:00-04:00",
          "2023-05-23T00:00:00-04:00",
          "2023-05-24T00:00:00-04:00",
          "2023-05-25T00:00:00-04:00",
          "2023-05-26T00:00:00-04:00",
          "2023-05-30T00:00:00-04:00",
          "2023-05-31T00:00:00-04:00",
          "2023-06-01T00:00:00-04:00",
          "2023-06-02T00:00:00-04:00",
          "2023-06-05T00:00:00-04:00",
          "2023-06-06T00:00:00-04:00",
          "2023-06-07T00:00:00-04:00",
          "2023-06-08T00:00:00-04:00",
          "2023-06-09T00:00:00-04:00",
          "2023-06-12T00:00:00-04:00",
          "2023-06-13T00:00:00-04:00",
          "2023-06-14T00:00:00-04:00",
          "2023-06-15T00:00:00-04:00",
          "2023-06-16T00:00:00-04:00",
          "2023-06-20T00:00:00-04:00",
          "2023-06-21T00:00:00-04:00",
          "2023-06-22T00:00:00-04:00",
          "2023-06-23T00:00:00-04:00",
          "2023-06-26T00:00:00-04:00",
          "2023-06-27T00:00:00-04:00",
          "2023-06-28T00:00:00-04:00",
          "2023-06-29T00:00:00-04:00",
          "2023-06-30T00:00:00-04:00",
          "2023-07-03T00:00:00-04:00",
          "2023-07-05T00:00:00-04:00",
          "2023-07-06T00:00:00-04:00",
          "2023-07-07T00:00:00-04:00",
          "2023-07-10T00:00:00-04:00",
          "2023-07-11T00:00:00-04:00",
          "2023-07-12T00:00:00-04:00",
          "2023-07-13T00:00:00-04:00",
          "2023-07-14T00:00:00-04:00",
          "2023-07-17T00:00:00-04:00",
          "2023-07-18T00:00:00-04:00",
          "2023-07-19T00:00:00-04:00",
          "2023-07-20T00:00:00-04:00",
          "2023-07-21T00:00:00-04:00",
          "2023-07-24T00:00:00-04:00",
          "2023-07-25T00:00:00-04:00",
          "2023-07-26T00:00:00-04:00",
          "2023-07-27T00:00:00-04:00",
          "2023-07-28T00:00:00-04:00",
          "2023-07-31T00:00:00-04:00",
          "2023-08-01T00:00:00-04:00",
          "2023-08-02T00:00:00-04:00",
          "2023-08-03T00:00:00-04:00",
          "2023-08-04T00:00:00-04:00",
          "2023-08-07T00:00:00-04:00",
          "2023-08-08T00:00:00-04:00",
          "2023-08-09T00:00:00-04:00",
          "2023-08-10T00:00:00-04:00",
          "2023-08-11T00:00:00-04:00",
          "2023-08-14T00:00:00-04:00",
          "2023-08-15T00:00:00-04:00",
          "2023-08-16T00:00:00-04:00",
          "2023-08-17T00:00:00-04:00",
          "2023-08-18T00:00:00-04:00",
          "2023-08-21T00:00:00-04:00",
          "2023-08-22T00:00:00-04:00",
          "2023-08-23T00:00:00-04:00",
          "2023-08-24T00:00:00-04:00"
         ],
         "y": [
          149.26422119140625,
          150.30186462402344,
          151.12481689453125,
          148.9658966064453,
          149.76942443847656,
          150.8373565673828,
          149.01895141601562,
          145.5926055908203,
          142.40428161621094,
          146.05320739746094,
          148.0044403076172,
          148.18099975585938,
          147.22897338867188,
          144.24761962890625,
          141.84854125976562,
          142.21038818359375,
          142.26028442382812,
          143.85646057128906,
          145.2144012451172,
          144.1177978515625,
          139.17970275878906,
          135.93946838378906,
          133.54539489746094,
          132.6393280029297,
          134.26966857910156,
          133.4183807373047,
          132.60826110839844,
          131.21287536621094,
          128.36521911621094,
          128.783447265625,
          129.57005310058594,
          127.43785095214844,
          126.74299621582031,
          125.89014434814453,
          127.85188293457031,
          129.52511596679688,
          130.61764526367188,
          132.5818328857422,
          133.5137939453125,
          134.5564422607422,
          135.68260192871094,
          135.69944763183594,
          135.60134887695312,
          137.104736328125,
          139.90774536132812,
          142.0494842529297,
          142.29994201660156,
          143.56610107421875,
          145.37950134277344,
          143.989990234375,
          144.14938354492188,
          145.06602478027344,
          149.2398223876953,
          153.50714111328125,
          152.5504608154297,
          154.1031036376953,
          152.4723663330078,
          151.10195922851562,
          150.86825561523438,
          153.03623962402344,
          153.26950073242188,
          154.86000061035156,
          154.03590393066406,
          152.8075408935547,
          149.43601989746094,
          148.78639221191406,
          149.135009765625,
          147.4180145263672,
          147.6859893798828,
          147.53128051757812,
          146.0083770751953,
          145.87269592285156,
          149.54620361328125,
          153.04469299316406,
          152.34027099609375,
          152.77413940429688,
          151.20068359375,
          149.14984130859375,
          150.0047607421875,
          152.02435302734375,
          152.9943389892578,
          155.35797119140625,
          155.33131408691406,
          157.01707458496094,
          158.94268798828125,
          158.1761016845703,
          158.7355499267578,
          159.95741271972656,
          158.63343811035156,
          157.7553253173828,
          160.11431884765625,
          162.05795288085938,
          164.52084350585938,
          165.97991943359375,
          165.61593627929688,
          163.83399963378906,
          164.2801055908203,
          162.2247314453125,
          160.8373565673828,
          160.08059692382812,
          164.56338500976562,
          165.2725372314453,
          165.20498657226562,
          166.15086364746094,
          167.2915802001953,
          166.58372497558594,
          165.01121520996094,
          165.04888916015625,
          163.81475830078125,
          163.62362670898438,
          167.64981079101562,
          169.52337646484375,
          169.54322814941406,
          168.46441650390625,
          167.3102264404297,
          165.7422332763672,
          172.45358276367188,
          173.50070190429688,
          171.7628173828125,
          173.07252502441406,
          173.42576599121094,
          172.35293579101562,
          171.781005859375,
          171.7694091796875,
          172.37664794921875,
          174.6246337890625,
          174.9248046875,
          173.94869995117188,
          171.38751220703125,
          171.42274475097656,
          172.590087890625,
          175.00741577148438,
          176.9561767578125,
          176.94622802734375,
          179.5150146484375,
          180.46849060058594,
          179.09674072265625,
          178.64385986328125,
          177.36033630371094,
          179.99148559570312,
          180.57406616210938,
          183.2728729248047,
          182.81019592285156,
          183.30029296875,
          185.32693481445312,
          184.23834228515625,
          184.26803588867188,
          183.2582244873047,
          186.3114776611328,
          186.03146362304688,
          184.52447509765625,
          187.3135986328125,
          188.53184509277344,
          188.7640380859375,
          193.1816864013672,
          191.38916015625,
          190.177001953125,
          190.78561401367188,
          189.67921447753906,
          187.64479064941406,
          187.24267578125,
          189.05197143554688,
          189.80130004882812,
          189.84103393554688,
          193.1649627685547,
          192.68893432617188,
          194.02438354492188,
          191.8758544921875,
          190.78500366210938,
          191.79705810546875,
          192.73507690429688,
          193.58909606933594,
          192.14743041992188,
          194.9210205078125,
          195.40606689453125,
          194.39739990234375,
          191.27264404296875,
          190.0885772705078,
          180.98196411132812,
          178.27708435058594,
          179.4033966064453,
          178.0558319091797,
          177.74427795410156,
          177.52642822265625,
          179.05804443359375,
          177.22557067871094,
          176.2167510986328,
          173.81689453125,
          174.15000915527344,
          175.5673370361328,
          177.04139709472656,
          180.8018798828125
         ]
        }
       ],
       "layout": {
        "template": {
         "data": {
          "bar": [
           {
            "error_x": {
             "color": "#2a3f5f"
            },
            "error_y": {
             "color": "#2a3f5f"
            },
            "marker": {
             "line": {
              "color": "#E5ECF6",
              "width": 0.5
             },
             "pattern": {
              "fillmode": "overlay",
              "size": 10,
              "solidity": 0.2
             }
            },
            "type": "bar"
           }
          ],
          "barpolar": [
           {
            "marker": {
             "line": {
              "color": "#E5ECF6",
              "width": 0.5
             },
             "pattern": {
              "fillmode": "overlay",
              "size": 10,
              "solidity": 0.2
             }
            },
            "type": "barpolar"
           }
          ],
          "carpet": [
           {
            "aaxis": {
             "endlinecolor": "#2a3f5f",
             "gridcolor": "white",
             "linecolor": "white",
             "minorgridcolor": "white",
             "startlinecolor": "#2a3f5f"
            },
            "baxis": {
             "endlinecolor": "#2a3f5f",
             "gridcolor": "white",
             "linecolor": "white",
             "minorgridcolor": "white",
             "startlinecolor": "#2a3f5f"
            },
            "type": "carpet"
           }
          ],
          "choropleth": [
           {
            "colorbar": {
             "outlinewidth": 0,
             "ticks": ""
            },
            "type": "choropleth"
           }
          ],
          "contour": [
           {
            "colorbar": {
             "outlinewidth": 0,
             "ticks": ""
            },
            "colorscale": [
             [
              0,
              "#0d0887"
             ],
             [
              0.1111111111111111,
              "#46039f"
             ],
             [
              0.2222222222222222,
              "#7201a8"
             ],
             [
              0.3333333333333333,
              "#9c179e"
             ],
             [
              0.4444444444444444,
              "#bd3786"
             ],
             [
              0.5555555555555556,
              "#d8576b"
             ],
             [
              0.6666666666666666,
              "#ed7953"
             ],
             [
              0.7777777777777778,
              "#fb9f3a"
             ],
             [
              0.8888888888888888,
              "#fdca26"
             ],
             [
              1,
              "#f0f921"
             ]
            ],
            "type": "contour"
           }
          ],
          "contourcarpet": [
           {
            "colorbar": {
             "outlinewidth": 0,
             "ticks": ""
            },
            "type": "contourcarpet"
           }
          ],
          "heatmap": [
           {
            "colorbar": {
             "outlinewidth": 0,
             "ticks": ""
            },
            "colorscale": [
             [
              0,
              "#0d0887"
             ],
             [
              0.1111111111111111,
              "#46039f"
             ],
             [
              0.2222222222222222,
              "#7201a8"
             ],
             [
              0.3333333333333333,
              "#9c179e"
             ],
             [
              0.4444444444444444,
              "#bd3786"
             ],
             [
              0.5555555555555556,
              "#d8576b"
             ],
             [
              0.6666666666666666,
              "#ed7953"
             ],
             [
              0.7777777777777778,
              "#fb9f3a"
             ],
             [
              0.8888888888888888,
              "#fdca26"
             ],
             [
              1,
              "#f0f921"
             ]
            ],
            "type": "heatmap"
           }
          ],
          "heatmapgl": [
           {
            "colorbar": {
             "outlinewidth": 0,
             "ticks": ""
            },
            "colorscale": [
             [
              0,
              "#0d0887"
             ],
             [
              0.1111111111111111,
              "#46039f"
             ],
             [
              0.2222222222222222,
              "#7201a8"
             ],
             [
              0.3333333333333333,
              "#9c179e"
             ],
             [
              0.4444444444444444,
              "#bd3786"
             ],
             [
              0.5555555555555556,
              "#d8576b"
             ],
             [
              0.6666666666666666,
              "#ed7953"
             ],
             [
              0.7777777777777778,
              "#fb9f3a"
             ],
             [
              0.8888888888888888,
              "#fdca26"
             ],
             [
              1,
              "#f0f921"
             ]
            ],
            "type": "heatmapgl"
           }
          ],
          "histogram": [
           {
            "marker": {
             "pattern": {
              "fillmode": "overlay",
              "size": 10,
              "solidity": 0.2
             }
            },
            "type": "histogram"
           }
          ],
          "histogram2d": [
           {
            "colorbar": {
             "outlinewidth": 0,
             "ticks": ""
            },
            "colorscale": [
             [
              0,
              "#0d0887"
             ],
             [
              0.1111111111111111,
              "#46039f"
             ],
             [
              0.2222222222222222,
              "#7201a8"
             ],
             [
              0.3333333333333333,
              "#9c179e"
             ],
             [
              0.4444444444444444,
              "#bd3786"
             ],
             [
              0.5555555555555556,
              "#d8576b"
             ],
             [
              0.6666666666666666,
              "#ed7953"
             ],
             [
              0.7777777777777778,
              "#fb9f3a"
             ],
             [
              0.8888888888888888,
              "#fdca26"
             ],
             [
              1,
              "#f0f921"
             ]
            ],
            "type": "histogram2d"
           }
          ],
          "histogram2dcontour": [
           {
            "colorbar": {
             "outlinewidth": 0,
             "ticks": ""
            },
            "colorscale": [
             [
              0,
              "#0d0887"
             ],
             [
              0.1111111111111111,
              "#46039f"
             ],
             [
              0.2222222222222222,
              "#7201a8"
             ],
             [
              0.3333333333333333,
              "#9c179e"
             ],
             [
              0.4444444444444444,
              "#bd3786"
             ],
             [
              0.5555555555555556,
              "#d8576b"
             ],
             [
              0.6666666666666666,
              "#ed7953"
             ],
             [
              0.7777777777777778,
              "#fb9f3a"
             ],
             [
              0.8888888888888888,
              "#fdca26"
             ],
             [
              1,
              "#f0f921"
             ]
            ],
            "type": "histogram2dcontour"
           }
          ],
          "mesh3d": [
           {
            "colorbar": {
             "outlinewidth": 0,
             "ticks": ""
            },
            "type": "mesh3d"
           }
          ],
          "parcoords": [
           {
            "line": {
             "colorbar": {
              "outlinewidth": 0,
              "ticks": ""
             }
            },
            "type": "parcoords"
           }
          ],
          "pie": [
           {
            "automargin": true,
            "type": "pie"
           }
          ],
          "scatter": [
           {
            "fillpattern": {
             "fillmode": "overlay",
             "size": 10,
             "solidity": 0.2
            },
            "type": "scatter"
           }
          ],
          "scatter3d": [
           {
            "line": {
             "colorbar": {
              "outlinewidth": 0,
              "ticks": ""
             }
            },
            "marker": {
             "colorbar": {
              "outlinewidth": 0,
              "ticks": ""
             }
            },
            "type": "scatter3d"
           }
          ],
          "scattercarpet": [
           {
            "marker": {
             "colorbar": {
              "outlinewidth": 0,
              "ticks": ""
             }
            },
            "type": "scattercarpet"
           }
          ],
          "scattergeo": [
           {
            "marker": {
             "colorbar": {
              "outlinewidth": 0,
              "ticks": ""
             }
            },
            "type": "scattergeo"
           }
          ],
          "scattergl": [
           {
            "marker": {
             "colorbar": {
              "outlinewidth": 0,
              "ticks": ""
             }
            },
            "type": "scattergl"
           }
          ],
          "scattermapbox": [
           {
            "marker": {
             "colorbar": {
              "outlinewidth": 0,
              "ticks": ""
             }
            },
            "type": "scattermapbox"
           }
          ],
          "scatterpolar": [
           {
            "marker": {
             "colorbar": {
              "outlinewidth": 0,
              "ticks": ""
             }
            },
            "type": "scatterpolar"
           }
          ],
          "scatterpolargl": [
           {
            "marker": {
             "colorbar": {
              "outlinewidth": 0,
              "ticks": ""
             }
            },
            "type": "scatterpolargl"
           }
          ],
          "scatterternary": [
           {
            "marker": {
             "colorbar": {
              "outlinewidth": 0,
              "ticks": ""
             }
            },
            "type": "scatterternary"
           }
          ],
          "surface": [
           {
            "colorbar": {
             "outlinewidth": 0,
             "ticks": ""
            },
            "colorscale": [
             [
              0,
              "#0d0887"
             ],
             [
              0.1111111111111111,
              "#46039f"
             ],
             [
              0.2222222222222222,
              "#7201a8"
             ],
             [
              0.3333333333333333,
              "#9c179e"
             ],
             [
              0.4444444444444444,
              "#bd3786"
             ],
             [
              0.5555555555555556,
              "#d8576b"
             ],
             [
              0.6666666666666666,
              "#ed7953"
             ],
             [
              0.7777777777777778,
              "#fb9f3a"
             ],
             [
              0.8888888888888888,
              "#fdca26"
             ],
             [
              1,
              "#f0f921"
             ]
            ],
            "type": "surface"
           }
          ],
          "table": [
           {
            "cells": {
             "fill": {
              "color": "#EBF0F8"
             },
             "line": {
              "color": "white"
             }
            },
            "header": {
             "fill": {
              "color": "#C8D4E3"
             },
             "line": {
              "color": "white"
             }
            },
            "type": "table"
           }
          ]
         },
         "layout": {
          "annotationdefaults": {
           "arrowcolor": "#2a3f5f",
           "arrowhead": 0,
           "arrowwidth": 1
          },
          "autotypenumbers": "strict",
          "coloraxis": {
           "colorbar": {
            "outlinewidth": 0,
            "ticks": ""
           }
          },
          "colorscale": {
           "diverging": [
            [
             0,
             "#8e0152"
            ],
            [
             0.1,
             "#c51b7d"
            ],
            [
             0.2,
             "#de77ae"
            ],
            [
             0.3,
             "#f1b6da"
            ],
            [
             0.4,
             "#fde0ef"
            ],
            [
             0.5,
             "#f7f7f7"
            ],
            [
             0.6,
             "#e6f5d0"
            ],
            [
             0.7,
             "#b8e186"
            ],
            [
             0.8,
             "#7fbc41"
            ],
            [
             0.9,
             "#4d9221"
            ],
            [
             1,
             "#276419"
            ]
           ],
           "sequential": [
            [
             0,
             "#0d0887"
            ],
            [
             0.1111111111111111,
             "#46039f"
            ],
            [
             0.2222222222222222,
             "#7201a8"
            ],
            [
             0.3333333333333333,
             "#9c179e"
            ],
            [
             0.4444444444444444,
             "#bd3786"
            ],
            [
             0.5555555555555556,
             "#d8576b"
            ],
            [
             0.6666666666666666,
             "#ed7953"
            ],
            [
             0.7777777777777778,
             "#fb9f3a"
            ],
            [
             0.8888888888888888,
             "#fdca26"
            ],
            [
             1,
             "#f0f921"
            ]
           ],
           "sequentialminus": [
            [
             0,
             "#0d0887"
            ],
            [
             0.1111111111111111,
             "#46039f"
            ],
            [
             0.2222222222222222,
             "#7201a8"
            ],
            [
             0.3333333333333333,
             "#9c179e"
            ],
            [
             0.4444444444444444,
             "#bd3786"
            ],
            [
             0.5555555555555556,
             "#d8576b"
            ],
            [
             0.6666666666666666,
             "#ed7953"
            ],
            [
             0.7777777777777778,
             "#fb9f3a"
            ],
            [
             0.8888888888888888,
             "#fdca26"
            ],
            [
             1,
             "#f0f921"
            ]
           ]
          },
          "colorway": [
           "#636efa",
           "#EF553B",
           "#00cc96",
           "#ab63fa",
           "#FFA15A",
           "#19d3f3",
           "#FF6692",
           "#B6E880",
           "#FF97FF",
           "#FECB52"
          ],
          "font": {
           "color": "#2a3f5f"
          },
          "geo": {
           "bgcolor": "white",
           "lakecolor": "white",
           "landcolor": "#E5ECF6",
           "showlakes": true,
           "showland": true,
           "subunitcolor": "white"
          },
          "hoverlabel": {
           "align": "left"
          },
          "hovermode": "closest",
          "mapbox": {
           "style": "light"
          },
          "paper_bgcolor": "white",
          "plot_bgcolor": "#E5ECF6",
          "polar": {
           "angularaxis": {
            "gridcolor": "white",
            "linecolor": "white",
            "ticks": ""
           },
           "bgcolor": "#E5ECF6",
           "radialaxis": {
            "gridcolor": "white",
            "linecolor": "white",
            "ticks": ""
           }
          },
          "scene": {
           "xaxis": {
            "backgroundcolor": "#E5ECF6",
            "gridcolor": "white",
            "gridwidth": 2,
            "linecolor": "white",
            "showbackground": true,
            "ticks": "",
            "zerolinecolor": "white"
           },
           "yaxis": {
            "backgroundcolor": "#E5ECF6",
            "gridcolor": "white",
            "gridwidth": 2,
            "linecolor": "white",
            "showbackground": true,
            "ticks": "",
            "zerolinecolor": "white"
           },
           "zaxis": {
            "backgroundcolor": "#E5ECF6",
            "gridcolor": "white",
            "gridwidth": 2,
            "linecolor": "white",
            "showbackground": true,
            "ticks": "",
            "zerolinecolor": "white"
           }
          },
          "shapedefaults": {
           "line": {
            "color": "#2a3f5f"
           }
          },
          "ternary": {
           "aaxis": {
            "gridcolor": "white",
            "linecolor": "white",
            "ticks": ""
           },
           "baxis": {
            "gridcolor": "white",
            "linecolor": "white",
            "ticks": ""
           },
           "bgcolor": "#E5ECF6",
           "caxis": {
            "gridcolor": "white",
            "linecolor": "white",
            "ticks": ""
           }
          },
          "title": {
           "x": 0.05
          },
          "xaxis": {
           "automargin": true,
           "gridcolor": "white",
           "linecolor": "white",
           "ticks": "",
           "title": {
            "standoff": 15
           },
           "zerolinecolor": "white",
           "zerolinewidth": 2
          },
          "yaxis": {
           "automargin": true,
           "gridcolor": "white",
           "linecolor": "white",
           "ticks": "",
           "title": {
            "standoff": 15
           },
           "zerolinecolor": "white",
           "zerolinewidth": 2
          }
         }
        },
        "title": {
         "text": "Real Stock Prices vs Predicted by LSTM\n\nRMSE 2.4127081371342443"
        },
        "xaxis": {
         "title": {
          "text": "Date"
         }
        },
        "yaxis": {
         "title": {
          "text": "Value"
         }
        }
       }
      },
      "text/html": [
       "<div>                            <div id=\"752bf070-5c30-4933-b7af-9e91646b660f\" class=\"plotly-graph-div\" style=\"height:525px; width:100%;\"></div>            <script type=\"text/javascript\">                require([\"plotly\"], function(Plotly) {                    window.PLOTLYENV=window.PLOTLYENV || {};                                    if (document.getElementById(\"752bf070-5c30-4933-b7af-9e91646b660f\")) {                    Plotly.newPlot(                        \"752bf070-5c30-4933-b7af-9e91646b660f\",                        [{\"line\":{\"color\":\"blue\",\"width\":0.7},\"name\":\"Real Stock Prices\",\"x\":[\"2022-11-17T00:00:00-05:00\",\"2022-11-18T00:00:00-05:00\",\"2022-11-21T00:00:00-05:00\",\"2022-11-22T00:00:00-05:00\",\"2022-11-23T00:00:00-05:00\",\"2022-11-25T00:00:00-05:00\",\"2022-11-28T00:00:00-05:00\",\"2022-11-29T00:00:00-05:00\",\"2022-11-30T00:00:00-05:00\",\"2022-12-01T00:00:00-05:00\",\"2022-12-02T00:00:00-05:00\",\"2022-12-05T00:00:00-05:00\",\"2022-12-06T00:00:00-05:00\",\"2022-12-07T00:00:00-05:00\",\"2022-12-08T00:00:00-05:00\",\"2022-12-09T00:00:00-05:00\",\"2022-12-12T00:00:00-05:00\",\"2022-12-13T00:00:00-05:00\",\"2022-12-14T00:00:00-05:00\",\"2022-12-15T00:00:00-05:00\",\"2022-12-16T00:00:00-05:00\",\"2022-12-19T00:00:00-05:00\",\"2022-12-20T00:00:00-05:00\",\"2022-12-21T00:00:00-05:00\",\"2022-12-22T00:00:00-05:00\",\"2022-12-23T00:00:00-05:00\",\"2022-12-27T00:00:00-05:00\",\"2022-12-28T00:00:00-05:00\",\"2022-12-29T00:00:00-05:00\",\"2022-12-30T00:00:00-05:00\",\"2023-01-03T00:00:00-05:00\",\"2023-01-04T00:00:00-05:00\",\"2023-01-05T00:00:00-05:00\",\"2023-01-06T00:00:00-05:00\",\"2023-01-09T00:00:00-05:00\",\"2023-01-10T00:00:00-05:00\",\"2023-01-11T00:00:00-05:00\",\"2023-01-12T00:00:00-05:00\",\"2023-01-13T00:00:00-05:00\",\"2023-01-17T00:00:00-05:00\",\"2023-01-18T00:00:00-05:00\",\"2023-01-19T00:00:00-05:00\",\"2023-01-20T00:00:00-05:00\",\"2023-01-23T00:00:00-05:00\",\"2023-01-24T00:00:00-05:00\",\"2023-01-25T00:00:00-05:00\",\"2023-01-26T00:00:00-05:00\",\"2023-01-27T00:00:00-05:00\",\"2023-01-30T00:00:00-05:00\",\"2023-01-31T00:00:00-05:00\",\"2023-02-01T00:00:00-05:00\",\"2023-02-02T00:00:00-05:00\",\"2023-02-03T00:00:00-05:00\",\"2023-02-06T00:00:00-05:00\",\"2023-02-07T00:00:00-05:00\",\"2023-02-08T00:00:00-05:00\",\"2023-02-09T00:00:00-05:00\",\"2023-02-10T00:00:00-05:00\",\"2023-02-13T00:00:00-05:00\",\"2023-02-14T00:00:00-05:00\",\"2023-02-15T00:00:00-05:00\",\"2023-02-16T00:00:00-05:00\",\"2023-02-17T00:00:00-05:00\",\"2023-02-21T00:00:00-05:00\",\"2023-02-22T00:00:00-05:00\",\"2023-02-23T00:00:00-05:00\",\"2023-02-24T00:00:00-05:00\",\"2023-02-27T00:00:00-05:00\",\"2023-02-28T00:00:00-05:00\",\"2023-03-01T00:00:00-05:00\",\"2023-03-02T00:00:00-05:00\",\"2023-03-03T00:00:00-05:00\",\"2023-03-06T00:00:00-05:00\",\"2023-03-07T00:00:00-05:00\",\"2023-03-08T00:00:00-05:00\",\"2023-03-09T00:00:00-05:00\",\"2023-03-10T00:00:00-05:00\",\"2023-03-13T00:00:00-04:00\",\"2023-03-14T00:00:00-04:00\",\"2023-03-15T00:00:00-04:00\",\"2023-03-16T00:00:00-04:00\",\"2023-03-17T00:00:00-04:00\",\"2023-03-20T00:00:00-04:00\",\"2023-03-21T00:00:00-04:00\",\"2023-03-22T00:00:00-04:00\",\"2023-03-23T00:00:00-04:00\",\"2023-03-24T00:00:00-04:00\",\"2023-03-27T00:00:00-04:00\",\"2023-03-28T00:00:00-04:00\",\"2023-03-29T00:00:00-04:00\",\"2023-03-30T00:00:00-04:00\",\"2023-03-31T00:00:00-04:00\",\"2023-04-03T00:00:00-04:00\",\"2023-04-04T00:00:00-04:00\",\"2023-04-05T00:00:00-04:00\",\"2023-04-06T00:00:00-04:00\",\"2023-04-10T00:00:00-04:00\",\"2023-04-11T00:00:00-04:00\",\"2023-04-12T00:00:00-04:00\",\"2023-04-13T00:00:00-04:00\",\"2023-04-14T00:00:00-04:00\",\"2023-04-17T00:00:00-04:00\",\"2023-04-18T00:00:00-04:00\",\"2023-04-19T00:00:00-04:00\",\"2023-04-20T00:00:00-04:00\",\"2023-04-21T00:00:00-04:00\",\"2023-04-24T00:00:00-04:00\",\"2023-04-25T00:00:00-04:00\",\"2023-04-26T00:00:00-04:00\",\"2023-04-27T00:00:00-04:00\",\"2023-04-28T00:00:00-04:00\",\"2023-05-01T00:00:00-04:00\",\"2023-05-02T00:00:00-04:00\",\"2023-05-03T00:00:00-04:00\",\"2023-05-04T00:00:00-04:00\",\"2023-05-05T00:00:00-04:00\",\"2023-05-08T00:00:00-04:00\",\"2023-05-09T00:00:00-04:00\",\"2023-05-10T00:00:00-04:00\",\"2023-05-11T00:00:00-04:00\",\"2023-05-12T00:00:00-04:00\",\"2023-05-15T00:00:00-04:00\",\"2023-05-16T00:00:00-04:00\",\"2023-05-17T00:00:00-04:00\",\"2023-05-18T00:00:00-04:00\",\"2023-05-19T00:00:00-04:00\",\"2023-05-22T00:00:00-04:00\",\"2023-05-23T00:00:00-04:00\",\"2023-05-24T00:00:00-04:00\",\"2023-05-25T00:00:00-04:00\",\"2023-05-26T00:00:00-04:00\",\"2023-05-30T00:00:00-04:00\",\"2023-05-31T00:00:00-04:00\",\"2023-06-01T00:00:00-04:00\",\"2023-06-02T00:00:00-04:00\",\"2023-06-05T00:00:00-04:00\",\"2023-06-06T00:00:00-04:00\",\"2023-06-07T00:00:00-04:00\",\"2023-06-08T00:00:00-04:00\",\"2023-06-09T00:00:00-04:00\",\"2023-06-12T00:00:00-04:00\",\"2023-06-13T00:00:00-04:00\",\"2023-06-14T00:00:00-04:00\",\"2023-06-15T00:00:00-04:00\",\"2023-06-16T00:00:00-04:00\",\"2023-06-20T00:00:00-04:00\",\"2023-06-21T00:00:00-04:00\",\"2023-06-22T00:00:00-04:00\",\"2023-06-23T00:00:00-04:00\",\"2023-06-26T00:00:00-04:00\",\"2023-06-27T00:00:00-04:00\",\"2023-06-28T00:00:00-04:00\",\"2023-06-29T00:00:00-04:00\",\"2023-06-30T00:00:00-04:00\",\"2023-07-03T00:00:00-04:00\",\"2023-07-05T00:00:00-04:00\",\"2023-07-06T00:00:00-04:00\",\"2023-07-07T00:00:00-04:00\",\"2023-07-10T00:00:00-04:00\",\"2023-07-11T00:00:00-04:00\",\"2023-07-12T00:00:00-04:00\",\"2023-07-13T00:00:00-04:00\",\"2023-07-14T00:00:00-04:00\",\"2023-07-17T00:00:00-04:00\",\"2023-07-18T00:00:00-04:00\",\"2023-07-19T00:00:00-04:00\",\"2023-07-20T00:00:00-04:00\",\"2023-07-21T00:00:00-04:00\",\"2023-07-24T00:00:00-04:00\",\"2023-07-25T00:00:00-04:00\",\"2023-07-26T00:00:00-04:00\",\"2023-07-27T00:00:00-04:00\",\"2023-07-28T00:00:00-04:00\",\"2023-07-31T00:00:00-04:00\",\"2023-08-01T00:00:00-04:00\",\"2023-08-02T00:00:00-04:00\",\"2023-08-03T00:00:00-04:00\",\"2023-08-04T00:00:00-04:00\",\"2023-08-07T00:00:00-04:00\",\"2023-08-08T00:00:00-04:00\",\"2023-08-09T00:00:00-04:00\",\"2023-08-10T00:00:00-04:00\",\"2023-08-11T00:00:00-04:00\",\"2023-08-14T00:00:00-04:00\",\"2023-08-15T00:00:00-04:00\",\"2023-08-16T00:00:00-04:00\",\"2023-08-17T00:00:00-04:00\",\"2023-08-18T00:00:00-04:00\",\"2023-08-21T00:00:00-04:00\",\"2023-08-22T00:00:00-04:00\",\"2023-08-23T00:00:00-04:00\",\"2023-08-24T00:00:00-04:00\"],\"y\":[150.72000122070312,151.2899932861328,148.00999450683594,150.17999267578125,151.07000732421875,148.11000061035156,144.22000122070312,141.1699981689453,148.0299987792969,148.30999755859375,147.80999755859375,146.6300048828125,142.91000366210938,140.94000244140625,142.64999389648438,142.16000366210938,144.49000549316406,145.47000122070312,143.2100067138672,136.5,134.50999450683594,132.3699951171875,132.3000030517578,135.4499969482422,132.22999572753906,131.86000061035156,130.02999877929688,126.04000091552734,129.61000061035156,129.92999267578125,125.06999969482422,126.36000061035156,125.0199966430664,129.6199951171875,130.14999389648438,130.72999572753906,133.49000549316406,133.41000366210938,134.75999450683594,135.94000244140625,135.2100067138672,135.27000427246094,137.8699951171875,141.11000061035156,142.52999877929688,141.86000061035156,143.96000671386716,145.92999267578125,143.0,144.2899932861328,145.42999267578125,150.82000732421875,154.5,151.72999572753906,154.64999389648438,151.9199981689453,150.8699951171875,151.00999450683594,153.85000610351562,153.1999969482422,155.3300018310547,153.7100067138672,152.5500030517578,148.47999572753906,148.91000366210938,149.39999389648438,146.7100067138672,147.9199981689453,147.41000366210938,145.30999755859375,145.91000366210938,151.02999877929688,153.8300018310547,151.60000610351562,152.8699951171875,150.58999633789062,148.5,150.47000122070312,152.58999633789065,152.9900054931641,155.85000610351562,155.0,157.39999389648438,159.27999877929688,157.8300018310547,158.92999267578125,160.25,158.27999877929688,157.64999389648438,160.77000427246094,162.36000061035156,164.89999389648438,166.1699981689453,165.6300048828125,163.75999450683594,164.66000366210938,162.02999877929688,160.8000030517578,160.10000610351562,165.55999755859375,165.2100067138672,165.22999572753906,166.47000122070312,167.6300048828125,166.64999389648438,165.02000427246094,165.3300018310547,163.77000427246094,163.75999450683594,168.41000366210938,169.67999267578125,169.58999633789062,168.5399932861328,167.4499969482422,165.7899932861328,173.57000732421875,173.5,171.77000427246094,173.55999755859375,173.75,172.57000732421875,172.07000732421875,172.07000732421875,172.69000244140625,175.0500030517578,175.16000366210938,174.19999694824216,171.55999755859372,171.83999633789062,172.99000549316406,175.42999267578125,177.3000030517578,177.25,180.08999633789062,180.9499969482422,179.5800018310547,179.2100067138672,177.82000732421875,180.57000732421875,180.9600067138672,183.7899932861328,183.30999755859375,183.9499969482422,186.00999450683594,184.9199981689453,185.00999450683594,183.9600067138672,187.0,186.67999267578122,185.27000427246094,188.05999755859375,189.25,189.58999633789062,193.97000122070312,192.4600067138672,191.3300018310547,191.80999755859375,190.67999267578125,188.61000061035153,188.0800018310547,189.77000427246094,190.5399932861328,190.69000244140625,193.99000549316406,193.72999572753906,195.10000610351562,193.1300048828125,191.94000244140625,192.75000000000003,193.6199951171875,194.5,193.22000122070312,195.8300018310547,196.4499969482422,195.61000061035156,192.5800018310547,191.1699981689453,181.99000549316406,178.85000610351562,179.8000030517578,178.19000244140625,177.97000122070312,177.7899932861328,179.4600067138672,177.4499969482422,176.57000732421875,174.0,174.49000549316406,175.83999633789062,177.22999572753903,181.1199951171875,176.3800048828125],\"type\":\"scatter\"},{\"line\":{\"color\":\"red\",\"width\":1.5},\"mode\":\"lines\",\"name\":\"Predicted Stock Prices\",\"x\":[\"2022-11-17T00:00:00-05:00\",\"2022-11-18T00:00:00-05:00\",\"2022-11-21T00:00:00-05:00\",\"2022-11-22T00:00:00-05:00\",\"2022-11-23T00:00:00-05:00\",\"2022-11-25T00:00:00-05:00\",\"2022-11-28T00:00:00-05:00\",\"2022-11-29T00:00:00-05:00\",\"2022-11-30T00:00:00-05:00\",\"2022-12-01T00:00:00-05:00\",\"2022-12-02T00:00:00-05:00\",\"2022-12-05T00:00:00-05:00\",\"2022-12-06T00:00:00-05:00\",\"2022-12-07T00:00:00-05:00\",\"2022-12-08T00:00:00-05:00\",\"2022-12-09T00:00:00-05:00\",\"2022-12-12T00:00:00-05:00\",\"2022-12-13T00:00:00-05:00\",\"2022-12-14T00:00:00-05:00\",\"2022-12-15T00:00:00-05:00\",\"2022-12-16T00:00:00-05:00\",\"2022-12-19T00:00:00-05:00\",\"2022-12-20T00:00:00-05:00\",\"2022-12-21T00:00:00-05:00\",\"2022-12-22T00:00:00-05:00\",\"2022-12-23T00:00:00-05:00\",\"2022-12-27T00:00:00-05:00\",\"2022-12-28T00:00:00-05:00\",\"2022-12-29T00:00:00-05:00\",\"2022-12-30T00:00:00-05:00\",\"2023-01-03T00:00:00-05:00\",\"2023-01-04T00:00:00-05:00\",\"2023-01-05T00:00:00-05:00\",\"2023-01-06T00:00:00-05:00\",\"2023-01-09T00:00:00-05:00\",\"2023-01-10T00:00:00-05:00\",\"2023-01-11T00:00:00-05:00\",\"2023-01-12T00:00:00-05:00\",\"2023-01-13T00:00:00-05:00\",\"2023-01-17T00:00:00-05:00\",\"2023-01-18T00:00:00-05:00\",\"2023-01-19T00:00:00-05:00\",\"2023-01-20T00:00:00-05:00\",\"2023-01-23T00:00:00-05:00\",\"2023-01-24T00:00:00-05:00\",\"2023-01-25T00:00:00-05:00\",\"2023-01-26T00:00:00-05:00\",\"2023-01-27T00:00:00-05:00\",\"2023-01-30T00:00:00-05:00\",\"2023-01-31T00:00:00-05:00\",\"2023-02-01T00:00:00-05:00\",\"2023-02-02T00:00:00-05:00\",\"2023-02-03T00:00:00-05:00\",\"2023-02-06T00:00:00-05:00\",\"2023-02-07T00:00:00-05:00\",\"2023-02-08T00:00:00-05:00\",\"2023-02-09T00:00:00-05:00\",\"2023-02-10T00:00:00-05:00\",\"2023-02-13T00:00:00-05:00\",\"2023-02-14T00:00:00-05:00\",\"2023-02-15T00:00:00-05:00\",\"2023-02-16T00:00:00-05:00\",\"2023-02-17T00:00:00-05:00\",\"2023-02-21T00:00:00-05:00\",\"2023-02-22T00:00:00-05:00\",\"2023-02-23T00:00:00-05:00\",\"2023-02-24T00:00:00-05:00\",\"2023-02-27T00:00:00-05:00\",\"2023-02-28T00:00:00-05:00\",\"2023-03-01T00:00:00-05:00\",\"2023-03-02T00:00:00-05:00\",\"2023-03-03T00:00:00-05:00\",\"2023-03-06T00:00:00-05:00\",\"2023-03-07T00:00:00-05:00\",\"2023-03-08T00:00:00-05:00\",\"2023-03-09T00:00:00-05:00\",\"2023-03-10T00:00:00-05:00\",\"2023-03-13T00:00:00-04:00\",\"2023-03-14T00:00:00-04:00\",\"2023-03-15T00:00:00-04:00\",\"2023-03-16T00:00:00-04:00\",\"2023-03-17T00:00:00-04:00\",\"2023-03-20T00:00:00-04:00\",\"2023-03-21T00:00:00-04:00\",\"2023-03-22T00:00:00-04:00\",\"2023-03-23T00:00:00-04:00\",\"2023-03-24T00:00:00-04:00\",\"2023-03-27T00:00:00-04:00\",\"2023-03-28T00:00:00-04:00\",\"2023-03-29T00:00:00-04:00\",\"2023-03-30T00:00:00-04:00\",\"2023-03-31T00:00:00-04:00\",\"2023-04-03T00:00:00-04:00\",\"2023-04-04T00:00:00-04:00\",\"2023-04-05T00:00:00-04:00\",\"2023-04-06T00:00:00-04:00\",\"2023-04-10T00:00:00-04:00\",\"2023-04-11T00:00:00-04:00\",\"2023-04-12T00:00:00-04:00\",\"2023-04-13T00:00:00-04:00\",\"2023-04-14T00:00:00-04:00\",\"2023-04-17T00:00:00-04:00\",\"2023-04-18T00:00:00-04:00\",\"2023-04-19T00:00:00-04:00\",\"2023-04-20T00:00:00-04:00\",\"2023-04-21T00:00:00-04:00\",\"2023-04-24T00:00:00-04:00\",\"2023-04-25T00:00:00-04:00\",\"2023-04-26T00:00:00-04:00\",\"2023-04-27T00:00:00-04:00\",\"2023-04-28T00:00:00-04:00\",\"2023-05-01T00:00:00-04:00\",\"2023-05-02T00:00:00-04:00\",\"2023-05-03T00:00:00-04:00\",\"2023-05-04T00:00:00-04:00\",\"2023-05-05T00:00:00-04:00\",\"2023-05-08T00:00:00-04:00\",\"2023-05-09T00:00:00-04:00\",\"2023-05-10T00:00:00-04:00\",\"2023-05-11T00:00:00-04:00\",\"2023-05-12T00:00:00-04:00\",\"2023-05-15T00:00:00-04:00\",\"2023-05-16T00:00:00-04:00\",\"2023-05-17T00:00:00-04:00\",\"2023-05-18T00:00:00-04:00\",\"2023-05-19T00:00:00-04:00\",\"2023-05-22T00:00:00-04:00\",\"2023-05-23T00:00:00-04:00\",\"2023-05-24T00:00:00-04:00\",\"2023-05-25T00:00:00-04:00\",\"2023-05-26T00:00:00-04:00\",\"2023-05-30T00:00:00-04:00\",\"2023-05-31T00:00:00-04:00\",\"2023-06-01T00:00:00-04:00\",\"2023-06-02T00:00:00-04:00\",\"2023-06-05T00:00:00-04:00\",\"2023-06-06T00:00:00-04:00\",\"2023-06-07T00:00:00-04:00\",\"2023-06-08T00:00:00-04:00\",\"2023-06-09T00:00:00-04:00\",\"2023-06-12T00:00:00-04:00\",\"2023-06-13T00:00:00-04:00\",\"2023-06-14T00:00:00-04:00\",\"2023-06-15T00:00:00-04:00\",\"2023-06-16T00:00:00-04:00\",\"2023-06-20T00:00:00-04:00\",\"2023-06-21T00:00:00-04:00\",\"2023-06-22T00:00:00-04:00\",\"2023-06-23T00:00:00-04:00\",\"2023-06-26T00:00:00-04:00\",\"2023-06-27T00:00:00-04:00\",\"2023-06-28T00:00:00-04:00\",\"2023-06-29T00:00:00-04:00\",\"2023-06-30T00:00:00-04:00\",\"2023-07-03T00:00:00-04:00\",\"2023-07-05T00:00:00-04:00\",\"2023-07-06T00:00:00-04:00\",\"2023-07-07T00:00:00-04:00\",\"2023-07-10T00:00:00-04:00\",\"2023-07-11T00:00:00-04:00\",\"2023-07-12T00:00:00-04:00\",\"2023-07-13T00:00:00-04:00\",\"2023-07-14T00:00:00-04:00\",\"2023-07-17T00:00:00-04:00\",\"2023-07-18T00:00:00-04:00\",\"2023-07-19T00:00:00-04:00\",\"2023-07-20T00:00:00-04:00\",\"2023-07-21T00:00:00-04:00\",\"2023-07-24T00:00:00-04:00\",\"2023-07-25T00:00:00-04:00\",\"2023-07-26T00:00:00-04:00\",\"2023-07-27T00:00:00-04:00\",\"2023-07-28T00:00:00-04:00\",\"2023-07-31T00:00:00-04:00\",\"2023-08-01T00:00:00-04:00\",\"2023-08-02T00:00:00-04:00\",\"2023-08-03T00:00:00-04:00\",\"2023-08-04T00:00:00-04:00\",\"2023-08-07T00:00:00-04:00\",\"2023-08-08T00:00:00-04:00\",\"2023-08-09T00:00:00-04:00\",\"2023-08-10T00:00:00-04:00\",\"2023-08-11T00:00:00-04:00\",\"2023-08-14T00:00:00-04:00\",\"2023-08-15T00:00:00-04:00\",\"2023-08-16T00:00:00-04:00\",\"2023-08-17T00:00:00-04:00\",\"2023-08-18T00:00:00-04:00\",\"2023-08-21T00:00:00-04:00\",\"2023-08-22T00:00:00-04:00\",\"2023-08-23T00:00:00-04:00\",\"2023-08-24T00:00:00-04:00\"],\"y\":[149.26422119140625,150.30186462402344,151.12481689453125,148.9658966064453,149.76942443847656,150.8373565673828,149.01895141601562,145.5926055908203,142.40428161621094,146.05320739746094,148.0044403076172,148.18099975585938,147.22897338867188,144.24761962890625,141.84854125976562,142.21038818359375,142.26028442382812,143.85646057128906,145.2144012451172,144.1177978515625,139.17970275878906,135.93946838378906,133.54539489746094,132.6393280029297,134.26966857910156,133.4183807373047,132.60826110839844,131.21287536621094,128.36521911621094,128.783447265625,129.57005310058594,127.43785095214844,126.74299621582031,125.89014434814453,127.85188293457031,129.52511596679688,130.61764526367188,132.5818328857422,133.5137939453125,134.5564422607422,135.68260192871094,135.69944763183594,135.60134887695312,137.104736328125,139.90774536132812,142.0494842529297,142.29994201660156,143.56610107421875,145.37950134277344,143.989990234375,144.14938354492188,145.06602478027344,149.2398223876953,153.50714111328125,152.5504608154297,154.1031036376953,152.4723663330078,151.10195922851562,150.86825561523438,153.03623962402344,153.26950073242188,154.86000061035156,154.03590393066406,152.8075408935547,149.43601989746094,148.78639221191406,149.135009765625,147.4180145263672,147.6859893798828,147.53128051757812,146.0083770751953,145.87269592285156,149.54620361328125,153.04469299316406,152.34027099609375,152.77413940429688,151.20068359375,149.14984130859375,150.0047607421875,152.02435302734375,152.9943389892578,155.35797119140625,155.33131408691406,157.01707458496094,158.94268798828125,158.1761016845703,158.7355499267578,159.95741271972656,158.63343811035156,157.7553253173828,160.11431884765625,162.05795288085938,164.52084350585938,165.97991943359375,165.61593627929688,163.83399963378906,164.2801055908203,162.2247314453125,160.8373565673828,160.08059692382812,164.56338500976562,165.2725372314453,165.20498657226562,166.15086364746094,167.2915802001953,166.58372497558594,165.01121520996094,165.04888916015625,163.81475830078125,163.62362670898438,167.64981079101562,169.52337646484375,169.54322814941406,168.46441650390625,167.3102264404297,165.7422332763672,172.45358276367188,173.50070190429688,171.7628173828125,173.07252502441406,173.42576599121094,172.35293579101562,171.781005859375,171.7694091796875,172.37664794921875,174.6246337890625,174.9248046875,173.94869995117188,171.38751220703125,171.42274475097656,172.590087890625,175.00741577148438,176.9561767578125,176.94622802734375,179.5150146484375,180.46849060058594,179.09674072265625,178.64385986328125,177.36033630371094,179.99148559570312,180.57406616210938,183.2728729248047,182.81019592285156,183.30029296875,185.32693481445312,184.23834228515625,184.26803588867188,183.2582244873047,186.3114776611328,186.03146362304688,184.52447509765625,187.3135986328125,188.53184509277344,188.7640380859375,193.1816864013672,191.38916015625,190.177001953125,190.78561401367188,189.67921447753906,187.64479064941406,187.24267578125,189.05197143554688,189.80130004882812,189.84103393554688,193.1649627685547,192.68893432617188,194.02438354492188,191.8758544921875,190.78500366210938,191.79705810546875,192.73507690429688,193.58909606933594,192.14743041992188,194.9210205078125,195.40606689453125,194.39739990234375,191.27264404296875,190.0885772705078,180.98196411132812,178.27708435058594,179.4033966064453,178.0558319091797,177.74427795410156,177.52642822265625,179.05804443359375,177.22557067871094,176.2167510986328,173.81689453125,174.15000915527344,175.5673370361328,177.04139709472656,180.8018798828125],\"type\":\"scatter\"}],                        {\"template\":{\"data\":{\"histogram2dcontour\":[{\"type\":\"histogram2dcontour\",\"colorbar\":{\"outlinewidth\":0,\"ticks\":\"\"},\"colorscale\":[[0.0,\"#0d0887\"],[0.1111111111111111,\"#46039f\"],[0.2222222222222222,\"#7201a8\"],[0.3333333333333333,\"#9c179e\"],[0.4444444444444444,\"#bd3786\"],[0.5555555555555556,\"#d8576b\"],[0.6666666666666666,\"#ed7953\"],[0.7777777777777778,\"#fb9f3a\"],[0.8888888888888888,\"#fdca26\"],[1.0,\"#f0f921\"]]}],\"choropleth\":[{\"type\":\"choropleth\",\"colorbar\":{\"outlinewidth\":0,\"ticks\":\"\"}}],\"histogram2d\":[{\"type\":\"histogram2d\",\"colorbar\":{\"outlinewidth\":0,\"ticks\":\"\"},\"colorscale\":[[0.0,\"#0d0887\"],[0.1111111111111111,\"#46039f\"],[0.2222222222222222,\"#7201a8\"],[0.3333333333333333,\"#9c179e\"],[0.4444444444444444,\"#bd3786\"],[0.5555555555555556,\"#d8576b\"],[0.6666666666666666,\"#ed7953\"],[0.7777777777777778,\"#fb9f3a\"],[0.8888888888888888,\"#fdca26\"],[1.0,\"#f0f921\"]]}],\"heatmap\":[{\"type\":\"heatmap\",\"colorbar\":{\"outlinewidth\":0,\"ticks\":\"\"},\"colorscale\":[[0.0,\"#0d0887\"],[0.1111111111111111,\"#46039f\"],[0.2222222222222222,\"#7201a8\"],[0.3333333333333333,\"#9c179e\"],[0.4444444444444444,\"#bd3786\"],[0.5555555555555556,\"#d8576b\"],[0.6666666666666666,\"#ed7953\"],[0.7777777777777778,\"#fb9f3a\"],[0.8888888888888888,\"#fdca26\"],[1.0,\"#f0f921\"]]}],\"heatmapgl\":[{\"type\":\"heatmapgl\",\"colorbar\":{\"outlinewidth\":0,\"ticks\":\"\"},\"colorscale\":[[0.0,\"#0d0887\"],[0.1111111111111111,\"#46039f\"],[0.2222222222222222,\"#7201a8\"],[0.3333333333333333,\"#9c179e\"],[0.4444444444444444,\"#bd3786\"],[0.5555555555555556,\"#d8576b\"],[0.6666666666666666,\"#ed7953\"],[0.7777777777777778,\"#fb9f3a\"],[0.8888888888888888,\"#fdca26\"],[1.0,\"#f0f921\"]]}],\"contourcarpet\":[{\"type\":\"contourcarpet\",\"colorbar\":{\"outlinewidth\":0,\"ticks\":\"\"}}],\"contour\":[{\"type\":\"contour\",\"colorbar\":{\"outlinewidth\":0,\"ticks\":\"\"},\"colorscale\":[[0.0,\"#0d0887\"],[0.1111111111111111,\"#46039f\"],[0.2222222222222222,\"#7201a8\"],[0.3333333333333333,\"#9c179e\"],[0.4444444444444444,\"#bd3786\"],[0.5555555555555556,\"#d8576b\"],[0.6666666666666666,\"#ed7953\"],[0.7777777777777778,\"#fb9f3a\"],[0.8888888888888888,\"#fdca26\"],[1.0,\"#f0f921\"]]}],\"surface\":[{\"type\":\"surface\",\"colorbar\":{\"outlinewidth\":0,\"ticks\":\"\"},\"colorscale\":[[0.0,\"#0d0887\"],[0.1111111111111111,\"#46039f\"],[0.2222222222222222,\"#7201a8\"],[0.3333333333333333,\"#9c179e\"],[0.4444444444444444,\"#bd3786\"],[0.5555555555555556,\"#d8576b\"],[0.6666666666666666,\"#ed7953\"],[0.7777777777777778,\"#fb9f3a\"],[0.8888888888888888,\"#fdca26\"],[1.0,\"#f0f921\"]]}],\"mesh3d\":[{\"type\":\"mesh3d\",\"colorbar\":{\"outlinewidth\":0,\"ticks\":\"\"}}],\"scatter\":[{\"fillpattern\":{\"fillmode\":\"overlay\",\"size\":10,\"solidity\":0.2},\"type\":\"scatter\"}],\"parcoords\":[{\"type\":\"parcoords\",\"line\":{\"colorbar\":{\"outlinewidth\":0,\"ticks\":\"\"}}}],\"scatterpolargl\":[{\"type\":\"scatterpolargl\",\"marker\":{\"colorbar\":{\"outlinewidth\":0,\"ticks\":\"\"}}}],\"bar\":[{\"error_x\":{\"color\":\"#2a3f5f\"},\"error_y\":{\"color\":\"#2a3f5f\"},\"marker\":{\"line\":{\"color\":\"#E5ECF6\",\"width\":0.5},\"pattern\":{\"fillmode\":\"overlay\",\"size\":10,\"solidity\":0.2}},\"type\":\"bar\"}],\"scattergeo\":[{\"type\":\"scattergeo\",\"marker\":{\"colorbar\":{\"outlinewidth\":0,\"ticks\":\"\"}}}],\"scatterpolar\":[{\"type\":\"scatterpolar\",\"marker\":{\"colorbar\":{\"outlinewidth\":0,\"ticks\":\"\"}}}],\"histogram\":[{\"marker\":{\"pattern\":{\"fillmode\":\"overlay\",\"size\":10,\"solidity\":0.2}},\"type\":\"histogram\"}],\"scattergl\":[{\"type\":\"scattergl\",\"marker\":{\"colorbar\":{\"outlinewidth\":0,\"ticks\":\"\"}}}],\"scatter3d\":[{\"type\":\"scatter3d\",\"line\":{\"colorbar\":{\"outlinewidth\":0,\"ticks\":\"\"}},\"marker\":{\"colorbar\":{\"outlinewidth\":0,\"ticks\":\"\"}}}],\"scattermapbox\":[{\"type\":\"scattermapbox\",\"marker\":{\"colorbar\":{\"outlinewidth\":0,\"ticks\":\"\"}}}],\"scatterternary\":[{\"type\":\"scatterternary\",\"marker\":{\"colorbar\":{\"outlinewidth\":0,\"ticks\":\"\"}}}],\"scattercarpet\":[{\"type\":\"scattercarpet\",\"marker\":{\"colorbar\":{\"outlinewidth\":0,\"ticks\":\"\"}}}],\"carpet\":[{\"aaxis\":{\"endlinecolor\":\"#2a3f5f\",\"gridcolor\":\"white\",\"linecolor\":\"white\",\"minorgridcolor\":\"white\",\"startlinecolor\":\"#2a3f5f\"},\"baxis\":{\"endlinecolor\":\"#2a3f5f\",\"gridcolor\":\"white\",\"linecolor\":\"white\",\"minorgridcolor\":\"white\",\"startlinecolor\":\"#2a3f5f\"},\"type\":\"carpet\"}],\"table\":[{\"cells\":{\"fill\":{\"color\":\"#EBF0F8\"},\"line\":{\"color\":\"white\"}},\"header\":{\"fill\":{\"color\":\"#C8D4E3\"},\"line\":{\"color\":\"white\"}},\"type\":\"table\"}],\"barpolar\":[{\"marker\":{\"line\":{\"color\":\"#E5ECF6\",\"width\":0.5},\"pattern\":{\"fillmode\":\"overlay\",\"size\":10,\"solidity\":0.2}},\"type\":\"barpolar\"}],\"pie\":[{\"automargin\":true,\"type\":\"pie\"}]},\"layout\":{\"autotypenumbers\":\"strict\",\"colorway\":[\"#636efa\",\"#EF553B\",\"#00cc96\",\"#ab63fa\",\"#FFA15A\",\"#19d3f3\",\"#FF6692\",\"#B6E880\",\"#FF97FF\",\"#FECB52\"],\"font\":{\"color\":\"#2a3f5f\"},\"hovermode\":\"closest\",\"hoverlabel\":{\"align\":\"left\"},\"paper_bgcolor\":\"white\",\"plot_bgcolor\":\"#E5ECF6\",\"polar\":{\"bgcolor\":\"#E5ECF6\",\"angularaxis\":{\"gridcolor\":\"white\",\"linecolor\":\"white\",\"ticks\":\"\"},\"radialaxis\":{\"gridcolor\":\"white\",\"linecolor\":\"white\",\"ticks\":\"\"}},\"ternary\":{\"bgcolor\":\"#E5ECF6\",\"aaxis\":{\"gridcolor\":\"white\",\"linecolor\":\"white\",\"ticks\":\"\"},\"baxis\":{\"gridcolor\":\"white\",\"linecolor\":\"white\",\"ticks\":\"\"},\"caxis\":{\"gridcolor\":\"white\",\"linecolor\":\"white\",\"ticks\":\"\"}},\"coloraxis\":{\"colorbar\":{\"outlinewidth\":0,\"ticks\":\"\"}},\"colorscale\":{\"sequential\":[[0.0,\"#0d0887\"],[0.1111111111111111,\"#46039f\"],[0.2222222222222222,\"#7201a8\"],[0.3333333333333333,\"#9c179e\"],[0.4444444444444444,\"#bd3786\"],[0.5555555555555556,\"#d8576b\"],[0.6666666666666666,\"#ed7953\"],[0.7777777777777778,\"#fb9f3a\"],[0.8888888888888888,\"#fdca26\"],[1.0,\"#f0f921\"]],\"sequentialminus\":[[0.0,\"#0d0887\"],[0.1111111111111111,\"#46039f\"],[0.2222222222222222,\"#7201a8\"],[0.3333333333333333,\"#9c179e\"],[0.4444444444444444,\"#bd3786\"],[0.5555555555555556,\"#d8576b\"],[0.6666666666666666,\"#ed7953\"],[0.7777777777777778,\"#fb9f3a\"],[0.8888888888888888,\"#fdca26\"],[1.0,\"#f0f921\"]],\"diverging\":[[0,\"#8e0152\"],[0.1,\"#c51b7d\"],[0.2,\"#de77ae\"],[0.3,\"#f1b6da\"],[0.4,\"#fde0ef\"],[0.5,\"#f7f7f7\"],[0.6,\"#e6f5d0\"],[0.7,\"#b8e186\"],[0.8,\"#7fbc41\"],[0.9,\"#4d9221\"],[1,\"#276419\"]]},\"xaxis\":{\"gridcolor\":\"white\",\"linecolor\":\"white\",\"ticks\":\"\",\"title\":{\"standoff\":15},\"zerolinecolor\":\"white\",\"automargin\":true,\"zerolinewidth\":2},\"yaxis\":{\"gridcolor\":\"white\",\"linecolor\":\"white\",\"ticks\":\"\",\"title\":{\"standoff\":15},\"zerolinecolor\":\"white\",\"automargin\":true,\"zerolinewidth\":2},\"scene\":{\"xaxis\":{\"backgroundcolor\":\"#E5ECF6\",\"gridcolor\":\"white\",\"linecolor\":\"white\",\"showbackground\":true,\"ticks\":\"\",\"zerolinecolor\":\"white\",\"gridwidth\":2},\"yaxis\":{\"backgroundcolor\":\"#E5ECF6\",\"gridcolor\":\"white\",\"linecolor\":\"white\",\"showbackground\":true,\"ticks\":\"\",\"zerolinecolor\":\"white\",\"gridwidth\":2},\"zaxis\":{\"backgroundcolor\":\"#E5ECF6\",\"gridcolor\":\"white\",\"linecolor\":\"white\",\"showbackground\":true,\"ticks\":\"\",\"zerolinecolor\":\"white\",\"gridwidth\":2}},\"shapedefaults\":{\"line\":{\"color\":\"#2a3f5f\"}},\"annotationdefaults\":{\"arrowcolor\":\"#2a3f5f\",\"arrowhead\":0,\"arrowwidth\":1},\"geo\":{\"bgcolor\":\"white\",\"landcolor\":\"#E5ECF6\",\"subunitcolor\":\"white\",\"showland\":true,\"showlakes\":true,\"lakecolor\":\"white\"},\"title\":{\"x\":0.05},\"mapbox\":{\"style\":\"light\"}}},\"title\":{\"text\":\"Real Stock Prices vs Predicted by LSTM\\n\\nRMSE 2.4127081371342443\"},\"xaxis\":{\"title\":{\"text\":\"Date\"}},\"yaxis\":{\"title\":{\"text\":\"Value\"}}},                        {\"responsive\": true}                    ).then(function(){\n",
       "                            \n",
       "var gd = document.getElementById('752bf070-5c30-4933-b7af-9e91646b660f');\n",
       "var x = new MutationObserver(function (mutations, observer) {{\n",
       "        var display = window.getComputedStyle(gd).display;\n",
       "        if (!display || display === 'none') {{\n",
       "            console.log([gd, 'removed!']);\n",
       "            Plotly.purge(gd);\n",
       "            observer.disconnect();\n",
       "        }}\n",
       "}});\n",
       "\n",
       "// Listen for the removal of the full notebook cells\n",
       "var notebookContainer = gd.closest('#notebook-container');\n",
       "if (notebookContainer) {{\n",
       "    x.observe(notebookContainer, {childList: true});\n",
       "}}\n",
       "\n",
       "// Listen for the clearing of the current output cell\n",
       "var outputEl = gd.closest('.output');\n",
       "if (outputEl) {{\n",
       "    x.observe(outputEl, {childList: true});\n",
       "}}\n",
       "\n",
       "                        })                };                });            </script>        </div>"
      ]
     },
     "metadata": {},
     "output_type": "display_data"
    },
    {
     "name": "stdout",
     "output_type": "stream",
     "text": [
      "6/6 [==============================] - 0s 19ms/step\n"
     ]
    },
    {
     "data": {
      "application/vnd.plotly.v1+json": {
       "config": {
        "plotlyServerURL": "https://plot.ly"
       },
       "data": [
        {
         "line": {
          "color": "blue",
          "width": 0.7
         },
         "name": "Real Stock Prices",
         "type": "scatter",
         "x": [
          "2022-11-17T00:00:00-05:00",
          "2022-11-18T00:00:00-05:00",
          "2022-11-21T00:00:00-05:00",
          "2022-11-22T00:00:00-05:00",
          "2022-11-23T00:00:00-05:00",
          "2022-11-25T00:00:00-05:00",
          "2022-11-28T00:00:00-05:00",
          "2022-11-29T00:00:00-05:00",
          "2022-11-30T00:00:00-05:00",
          "2022-12-01T00:00:00-05:00",
          "2022-12-02T00:00:00-05:00",
          "2022-12-05T00:00:00-05:00",
          "2022-12-06T00:00:00-05:00",
          "2022-12-07T00:00:00-05:00",
          "2022-12-08T00:00:00-05:00",
          "2022-12-09T00:00:00-05:00",
          "2022-12-12T00:00:00-05:00",
          "2022-12-13T00:00:00-05:00",
          "2022-12-14T00:00:00-05:00",
          "2022-12-15T00:00:00-05:00",
          "2022-12-16T00:00:00-05:00",
          "2022-12-19T00:00:00-05:00",
          "2022-12-20T00:00:00-05:00",
          "2022-12-21T00:00:00-05:00",
          "2022-12-22T00:00:00-05:00",
          "2022-12-23T00:00:00-05:00",
          "2022-12-27T00:00:00-05:00",
          "2022-12-28T00:00:00-05:00",
          "2022-12-29T00:00:00-05:00",
          "2022-12-30T00:00:00-05:00",
          "2023-01-03T00:00:00-05:00",
          "2023-01-04T00:00:00-05:00",
          "2023-01-05T00:00:00-05:00",
          "2023-01-06T00:00:00-05:00",
          "2023-01-09T00:00:00-05:00",
          "2023-01-10T00:00:00-05:00",
          "2023-01-11T00:00:00-05:00",
          "2023-01-12T00:00:00-05:00",
          "2023-01-13T00:00:00-05:00",
          "2023-01-17T00:00:00-05:00",
          "2023-01-18T00:00:00-05:00",
          "2023-01-19T00:00:00-05:00",
          "2023-01-20T00:00:00-05:00",
          "2023-01-23T00:00:00-05:00",
          "2023-01-24T00:00:00-05:00",
          "2023-01-25T00:00:00-05:00",
          "2023-01-26T00:00:00-05:00",
          "2023-01-27T00:00:00-05:00",
          "2023-01-30T00:00:00-05:00",
          "2023-01-31T00:00:00-05:00",
          "2023-02-01T00:00:00-05:00",
          "2023-02-02T00:00:00-05:00",
          "2023-02-03T00:00:00-05:00",
          "2023-02-06T00:00:00-05:00",
          "2023-02-07T00:00:00-05:00",
          "2023-02-08T00:00:00-05:00",
          "2023-02-09T00:00:00-05:00",
          "2023-02-10T00:00:00-05:00",
          "2023-02-13T00:00:00-05:00",
          "2023-02-14T00:00:00-05:00",
          "2023-02-15T00:00:00-05:00",
          "2023-02-16T00:00:00-05:00",
          "2023-02-17T00:00:00-05:00",
          "2023-02-21T00:00:00-05:00",
          "2023-02-22T00:00:00-05:00",
          "2023-02-23T00:00:00-05:00",
          "2023-02-24T00:00:00-05:00",
          "2023-02-27T00:00:00-05:00",
          "2023-02-28T00:00:00-05:00",
          "2023-03-01T00:00:00-05:00",
          "2023-03-02T00:00:00-05:00",
          "2023-03-03T00:00:00-05:00",
          "2023-03-06T00:00:00-05:00",
          "2023-03-07T00:00:00-05:00",
          "2023-03-08T00:00:00-05:00",
          "2023-03-09T00:00:00-05:00",
          "2023-03-10T00:00:00-05:00",
          "2023-03-13T00:00:00-04:00",
          "2023-03-14T00:00:00-04:00",
          "2023-03-15T00:00:00-04:00",
          "2023-03-16T00:00:00-04:00",
          "2023-03-17T00:00:00-04:00",
          "2023-03-20T00:00:00-04:00",
          "2023-03-21T00:00:00-04:00",
          "2023-03-22T00:00:00-04:00",
          "2023-03-23T00:00:00-04:00",
          "2023-03-24T00:00:00-04:00",
          "2023-03-27T00:00:00-04:00",
          "2023-03-28T00:00:00-04:00",
          "2023-03-29T00:00:00-04:00",
          "2023-03-30T00:00:00-04:00",
          "2023-03-31T00:00:00-04:00",
          "2023-04-03T00:00:00-04:00",
          "2023-04-04T00:00:00-04:00",
          "2023-04-05T00:00:00-04:00",
          "2023-04-06T00:00:00-04:00",
          "2023-04-10T00:00:00-04:00",
          "2023-04-11T00:00:00-04:00",
          "2023-04-12T00:00:00-04:00",
          "2023-04-13T00:00:00-04:00",
          "2023-04-14T00:00:00-04:00",
          "2023-04-17T00:00:00-04:00",
          "2023-04-18T00:00:00-04:00",
          "2023-04-19T00:00:00-04:00",
          "2023-04-20T00:00:00-04:00",
          "2023-04-21T00:00:00-04:00",
          "2023-04-24T00:00:00-04:00",
          "2023-04-25T00:00:00-04:00",
          "2023-04-26T00:00:00-04:00",
          "2023-04-27T00:00:00-04:00",
          "2023-04-28T00:00:00-04:00",
          "2023-05-01T00:00:00-04:00",
          "2023-05-02T00:00:00-04:00",
          "2023-05-03T00:00:00-04:00",
          "2023-05-04T00:00:00-04:00",
          "2023-05-05T00:00:00-04:00",
          "2023-05-08T00:00:00-04:00",
          "2023-05-09T00:00:00-04:00",
          "2023-05-10T00:00:00-04:00",
          "2023-05-11T00:00:00-04:00",
          "2023-05-12T00:00:00-04:00",
          "2023-05-15T00:00:00-04:00",
          "2023-05-16T00:00:00-04:00",
          "2023-05-17T00:00:00-04:00",
          "2023-05-18T00:00:00-04:00",
          "2023-05-19T00:00:00-04:00",
          "2023-05-22T00:00:00-04:00",
          "2023-05-23T00:00:00-04:00",
          "2023-05-24T00:00:00-04:00",
          "2023-05-25T00:00:00-04:00",
          "2023-05-26T00:00:00-04:00",
          "2023-05-30T00:00:00-04:00",
          "2023-05-31T00:00:00-04:00",
          "2023-06-01T00:00:00-04:00",
          "2023-06-02T00:00:00-04:00",
          "2023-06-05T00:00:00-04:00",
          "2023-06-06T00:00:00-04:00",
          "2023-06-07T00:00:00-04:00",
          "2023-06-08T00:00:00-04:00",
          "2023-06-09T00:00:00-04:00",
          "2023-06-12T00:00:00-04:00",
          "2023-06-13T00:00:00-04:00",
          "2023-06-14T00:00:00-04:00",
          "2023-06-15T00:00:00-04:00",
          "2023-06-16T00:00:00-04:00",
          "2023-06-20T00:00:00-04:00",
          "2023-06-21T00:00:00-04:00",
          "2023-06-22T00:00:00-04:00",
          "2023-06-23T00:00:00-04:00",
          "2023-06-26T00:00:00-04:00",
          "2023-06-27T00:00:00-04:00",
          "2023-06-28T00:00:00-04:00",
          "2023-06-29T00:00:00-04:00",
          "2023-06-30T00:00:00-04:00",
          "2023-07-03T00:00:00-04:00",
          "2023-07-05T00:00:00-04:00",
          "2023-07-06T00:00:00-04:00",
          "2023-07-07T00:00:00-04:00",
          "2023-07-10T00:00:00-04:00",
          "2023-07-11T00:00:00-04:00",
          "2023-07-12T00:00:00-04:00",
          "2023-07-13T00:00:00-04:00",
          "2023-07-14T00:00:00-04:00",
          "2023-07-17T00:00:00-04:00",
          "2023-07-18T00:00:00-04:00",
          "2023-07-19T00:00:00-04:00",
          "2023-07-20T00:00:00-04:00",
          "2023-07-21T00:00:00-04:00",
          "2023-07-24T00:00:00-04:00",
          "2023-07-25T00:00:00-04:00",
          "2023-07-26T00:00:00-04:00",
          "2023-07-27T00:00:00-04:00",
          "2023-07-28T00:00:00-04:00",
          "2023-07-31T00:00:00-04:00",
          "2023-08-01T00:00:00-04:00",
          "2023-08-02T00:00:00-04:00",
          "2023-08-03T00:00:00-04:00",
          "2023-08-04T00:00:00-04:00",
          "2023-08-07T00:00:00-04:00",
          "2023-08-08T00:00:00-04:00",
          "2023-08-09T00:00:00-04:00",
          "2023-08-10T00:00:00-04:00",
          "2023-08-11T00:00:00-04:00",
          "2023-08-14T00:00:00-04:00",
          "2023-08-15T00:00:00-04:00",
          "2023-08-16T00:00:00-04:00",
          "2023-08-17T00:00:00-04:00",
          "2023-08-18T00:00:00-04:00",
          "2023-08-21T00:00:00-04:00",
          "2023-08-22T00:00:00-04:00",
          "2023-08-23T00:00:00-04:00",
          "2023-08-24T00:00:00-04:00"
         ],
         "y": [
          241.67999267578125,
          241.22000122070312,
          242.0500030517578,
          245.02999877929688,
          247.5800018310547,
          247.49000549316406,
          241.75999450683594,
          240.3300018310547,
          255.13999938964844,
          254.69000244140625,
          255.02000427246094,
          250.1999969482422,
          245.1199951171875,
          244.3699951171875,
          247.39999389648438,
          245.4199981689453,
          252.50999450683594,
          256.9200134277344,
          257.2200012207031,
          249.00999450683594,
          244.69000244140628,
          240.4499969482422,
          241.8000030517578,
          244.42999267578122,
          238.19000244140628,
          238.72999572753903,
          236.96000671386722,
          234.52999877929685,
          241.00999450683594,
          239.82000732421875,
          239.5800018310547,
          229.1000061035156,
          222.30999755859375,
          224.92999267578128,
          227.1199951171875,
          228.85000610351562,
          235.77000427246094,
          238.50999450683594,
          239.22999572753906,
          240.35000610351565,
          235.80999755859375,
          231.92999267578125,
          240.22000122070315,
          242.5800018310547,
          242.0399932861328,
          240.61000061035156,
          248,
          248.16000366210938,
          242.7100067138672,
          247.80999755859378,
          252.75,
          264.6000061035156,
          258.3500061035156,
          256.7699890136719,
          267.55999755859375,
          266.7300109863281,
          263.6199951171875,
          263.1000061035156,
          271.32000732421875,
          272.1700134277344,
          269.32000732421875,
          262.1499938964844,
          258.05999755859375,
          252.6699981689453,
          251.50999450683594,
          254.77000427246094,
          249.22000122070312,
          250.16000366210938,
          249.4199981689453,
          246.27000427246094,
          251.11000061035156,
          255.2899932861328,
          256.8699951171875,
          254.14999389648438,
          253.6999969482422,
          252.32000732421875,
          248.58999633789062,
          253.9199981689453,
          260.7900085449219,
          265.44000244140625,
          276.20001220703125,
          279.42999267578125,
          272.2300109863281,
          273.7799987792969,
          272.2900085449219,
          277.6600036621094,
          280.57000732421875,
          276.3800048828125,
          275.2300109863281,
          280.510009765625,
          284.04998779296875,
          288.29998779296875,
          287.2300109863281,
          287.17999267578125,
          284.3399963378906,
          291.60000610351557,
          289.3900146484375,
          282.8299865722656,
          283.489990234375,
          289.8399963378906,
          286.1400146484375,
          288.79998779296875,
          288.3699951171875,
          288.45001220703125,
          286.1099853515625,
          285.760009765625,
          281.7699890136719,
          275.4200134277344,
          295.3699951171875,
          304.8299865722656,
          307.260009765625,
          305.55999755859375,
          305.4100036621094,
          304.3999938964844,
          305.4100036621094,
          310.6499938964844,
          308.6499938964844,
          307,
          312.30999755859375,
          310.1099853515625,
          308.9700012207032,
          309.4599914550781,
          311.739990234375,
          314,
          318.5199890136719,
          318.3399963378906,
          321.1799926757813,
          315.260009765625,
          313.8500061035156,
          325.9200134277344,
          332.8900146484375,
          331.2099914550781,
          328.3900146484375,
          332.5799865722656,
          335.3999938964844,
          335.94000244140625,
          333.67999267578125,
          323.3800048828125,
          325.260009765625,
          326.7900085449219,
          331.8500061035156,
          334.2900085449219,
          337.3399963378906,
          348.1000061035156,
          342.3299865722656,
          338.04998779296875,
          333.55999755859375,
          339.7099914550781,
          335.0199890136719,
          328.6000061035156,
          334.57000732421875,
          335.8500061035156,
          335.04998779296875,
          340.5400085449219,
          337.989990234375,
          338.1499938964844,
          341.2699890136719,
          337.2200012207031,
          331.8299865722656,
          332.4700012207031,
          337.20001220703125,
          342.6600036621094,
          345.239990234375,
          345.7300109863281,
          359.489990234375,
          355.0799865722656,
          346.8699951171875,
          343.7699890136719,
          345.1099853515625,
          350.9800109863281,
          337.7699890136719,
          330.7200012207031,
          338.3699951171875,
          335.9200134277344,
          336.3399963378907,
          327.5,
          326.6600036621094,
          327.7799987792969,
          330.10998535156244,
          326.0499877929688,
          322.2300109863282,
          322.92999267578125,
          321.010009765625,
          324.0400085449219,
          321.8599853515625,
          320.3999938964844,
          316.8800048828125,
          316.4800109863281,
          321.8800048828125,
          322.4599914550781,
          327,
          319.9700012207031
         ]
        },
        {
         "line": {
          "color": "red",
          "width": 1.5
         },
         "mode": "lines",
         "name": "Predicted Stock Prices",
         "type": "scatter",
         "x": [
          "2022-11-17T00:00:00-05:00",
          "2022-11-18T00:00:00-05:00",
          "2022-11-21T00:00:00-05:00",
          "2022-11-22T00:00:00-05:00",
          "2022-11-23T00:00:00-05:00",
          "2022-11-25T00:00:00-05:00",
          "2022-11-28T00:00:00-05:00",
          "2022-11-29T00:00:00-05:00",
          "2022-11-30T00:00:00-05:00",
          "2022-12-01T00:00:00-05:00",
          "2022-12-02T00:00:00-05:00",
          "2022-12-05T00:00:00-05:00",
          "2022-12-06T00:00:00-05:00",
          "2022-12-07T00:00:00-05:00",
          "2022-12-08T00:00:00-05:00",
          "2022-12-09T00:00:00-05:00",
          "2022-12-12T00:00:00-05:00",
          "2022-12-13T00:00:00-05:00",
          "2022-12-14T00:00:00-05:00",
          "2022-12-15T00:00:00-05:00",
          "2022-12-16T00:00:00-05:00",
          "2022-12-19T00:00:00-05:00",
          "2022-12-20T00:00:00-05:00",
          "2022-12-21T00:00:00-05:00",
          "2022-12-22T00:00:00-05:00",
          "2022-12-23T00:00:00-05:00",
          "2022-12-27T00:00:00-05:00",
          "2022-12-28T00:00:00-05:00",
          "2022-12-29T00:00:00-05:00",
          "2022-12-30T00:00:00-05:00",
          "2023-01-03T00:00:00-05:00",
          "2023-01-04T00:00:00-05:00",
          "2023-01-05T00:00:00-05:00",
          "2023-01-06T00:00:00-05:00",
          "2023-01-09T00:00:00-05:00",
          "2023-01-10T00:00:00-05:00",
          "2023-01-11T00:00:00-05:00",
          "2023-01-12T00:00:00-05:00",
          "2023-01-13T00:00:00-05:00",
          "2023-01-17T00:00:00-05:00",
          "2023-01-18T00:00:00-05:00",
          "2023-01-19T00:00:00-05:00",
          "2023-01-20T00:00:00-05:00",
          "2023-01-23T00:00:00-05:00",
          "2023-01-24T00:00:00-05:00",
          "2023-01-25T00:00:00-05:00",
          "2023-01-26T00:00:00-05:00",
          "2023-01-27T00:00:00-05:00",
          "2023-01-30T00:00:00-05:00",
          "2023-01-31T00:00:00-05:00",
          "2023-02-01T00:00:00-05:00",
          "2023-02-02T00:00:00-05:00",
          "2023-02-03T00:00:00-05:00",
          "2023-02-06T00:00:00-05:00",
          "2023-02-07T00:00:00-05:00",
          "2023-02-08T00:00:00-05:00",
          "2023-02-09T00:00:00-05:00",
          "2023-02-10T00:00:00-05:00",
          "2023-02-13T00:00:00-05:00",
          "2023-02-14T00:00:00-05:00",
          "2023-02-15T00:00:00-05:00",
          "2023-02-16T00:00:00-05:00",
          "2023-02-17T00:00:00-05:00",
          "2023-02-21T00:00:00-05:00",
          "2023-02-22T00:00:00-05:00",
          "2023-02-23T00:00:00-05:00",
          "2023-02-24T00:00:00-05:00",
          "2023-02-27T00:00:00-05:00",
          "2023-02-28T00:00:00-05:00",
          "2023-03-01T00:00:00-05:00",
          "2023-03-02T00:00:00-05:00",
          "2023-03-03T00:00:00-05:00",
          "2023-03-06T00:00:00-05:00",
          "2023-03-07T00:00:00-05:00",
          "2023-03-08T00:00:00-05:00",
          "2023-03-09T00:00:00-05:00",
          "2023-03-10T00:00:00-05:00",
          "2023-03-13T00:00:00-04:00",
          "2023-03-14T00:00:00-04:00",
          "2023-03-15T00:00:00-04:00",
          "2023-03-16T00:00:00-04:00",
          "2023-03-17T00:00:00-04:00",
          "2023-03-20T00:00:00-04:00",
          "2023-03-21T00:00:00-04:00",
          "2023-03-22T00:00:00-04:00",
          "2023-03-23T00:00:00-04:00",
          "2023-03-24T00:00:00-04:00",
          "2023-03-27T00:00:00-04:00",
          "2023-03-28T00:00:00-04:00",
          "2023-03-29T00:00:00-04:00",
          "2023-03-30T00:00:00-04:00",
          "2023-03-31T00:00:00-04:00",
          "2023-04-03T00:00:00-04:00",
          "2023-04-04T00:00:00-04:00",
          "2023-04-05T00:00:00-04:00",
          "2023-04-06T00:00:00-04:00",
          "2023-04-10T00:00:00-04:00",
          "2023-04-11T00:00:00-04:00",
          "2023-04-12T00:00:00-04:00",
          "2023-04-13T00:00:00-04:00",
          "2023-04-14T00:00:00-04:00",
          "2023-04-17T00:00:00-04:00",
          "2023-04-18T00:00:00-04:00",
          "2023-04-19T00:00:00-04:00",
          "2023-04-20T00:00:00-04:00",
          "2023-04-21T00:00:00-04:00",
          "2023-04-24T00:00:00-04:00",
          "2023-04-25T00:00:00-04:00",
          "2023-04-26T00:00:00-04:00",
          "2023-04-27T00:00:00-04:00",
          "2023-04-28T00:00:00-04:00",
          "2023-05-01T00:00:00-04:00",
          "2023-05-02T00:00:00-04:00",
          "2023-05-03T00:00:00-04:00",
          "2023-05-04T00:00:00-04:00",
          "2023-05-05T00:00:00-04:00",
          "2023-05-08T00:00:00-04:00",
          "2023-05-09T00:00:00-04:00",
          "2023-05-10T00:00:00-04:00",
          "2023-05-11T00:00:00-04:00",
          "2023-05-12T00:00:00-04:00",
          "2023-05-15T00:00:00-04:00",
          "2023-05-16T00:00:00-04:00",
          "2023-05-17T00:00:00-04:00",
          "2023-05-18T00:00:00-04:00",
          "2023-05-19T00:00:00-04:00",
          "2023-05-22T00:00:00-04:00",
          "2023-05-23T00:00:00-04:00",
          "2023-05-24T00:00:00-04:00",
          "2023-05-25T00:00:00-04:00",
          "2023-05-26T00:00:00-04:00",
          "2023-05-30T00:00:00-04:00",
          "2023-05-31T00:00:00-04:00",
          "2023-06-01T00:00:00-04:00",
          "2023-06-02T00:00:00-04:00",
          "2023-06-05T00:00:00-04:00",
          "2023-06-06T00:00:00-04:00",
          "2023-06-07T00:00:00-04:00",
          "2023-06-08T00:00:00-04:00",
          "2023-06-09T00:00:00-04:00",
          "2023-06-12T00:00:00-04:00",
          "2023-06-13T00:00:00-04:00",
          "2023-06-14T00:00:00-04:00",
          "2023-06-15T00:00:00-04:00",
          "2023-06-16T00:00:00-04:00",
          "2023-06-20T00:00:00-04:00",
          "2023-06-21T00:00:00-04:00",
          "2023-06-22T00:00:00-04:00",
          "2023-06-23T00:00:00-04:00",
          "2023-06-26T00:00:00-04:00",
          "2023-06-27T00:00:00-04:00",
          "2023-06-28T00:00:00-04:00",
          "2023-06-29T00:00:00-04:00",
          "2023-06-30T00:00:00-04:00",
          "2023-07-03T00:00:00-04:00",
          "2023-07-05T00:00:00-04:00",
          "2023-07-06T00:00:00-04:00",
          "2023-07-07T00:00:00-04:00",
          "2023-07-10T00:00:00-04:00",
          "2023-07-11T00:00:00-04:00",
          "2023-07-12T00:00:00-04:00",
          "2023-07-13T00:00:00-04:00",
          "2023-07-14T00:00:00-04:00",
          "2023-07-17T00:00:00-04:00",
          "2023-07-18T00:00:00-04:00",
          "2023-07-19T00:00:00-04:00",
          "2023-07-20T00:00:00-04:00",
          "2023-07-21T00:00:00-04:00",
          "2023-07-24T00:00:00-04:00",
          "2023-07-25T00:00:00-04:00",
          "2023-07-26T00:00:00-04:00",
          "2023-07-27T00:00:00-04:00",
          "2023-07-28T00:00:00-04:00",
          "2023-07-31T00:00:00-04:00",
          "2023-08-01T00:00:00-04:00",
          "2023-08-02T00:00:00-04:00",
          "2023-08-03T00:00:00-04:00",
          "2023-08-04T00:00:00-04:00",
          "2023-08-07T00:00:00-04:00",
          "2023-08-08T00:00:00-04:00",
          "2023-08-09T00:00:00-04:00",
          "2023-08-10T00:00:00-04:00",
          "2023-08-11T00:00:00-04:00",
          "2023-08-14T00:00:00-04:00",
          "2023-08-15T00:00:00-04:00",
          "2023-08-16T00:00:00-04:00",
          "2023-08-17T00:00:00-04:00",
          "2023-08-18T00:00:00-04:00",
          "2023-08-21T00:00:00-04:00",
          "2023-08-22T00:00:00-04:00",
          "2023-08-23T00:00:00-04:00",
          "2023-08-24T00:00:00-04:00"
         ],
         "y": [
          242.32015991210938,
          242.0096435546875,
          241.6498260498047,
          242.0557403564453,
          244.19003295898438,
          246.8088836669922,
          247.74822998046875,
          244.19207763671875,
          241.58267211914062,
          250.22557067871094,
          254.15997314453125,
          255.3569793701172,
          252.1382598876953,
          247.29856872558594,
          245.00576782226562,
          246.37335205078125,
          245.95724487304688,
          250.38197326660156,
          255.3636474609375,
          257.3023986816406,
          252.00306701660156,
          246.8330841064453,
          242.30442810058594,
          241.61187744140625,
          243.41268920898438,
          240.4810791015625,
          239.3381805419922,
          237.94277954101562,
          235.922119140625,
          238.98959350585938,
          240.02932739257812,
          240.13462829589844,
          233.7501220703125,
          226.70428466796875,
          225.036865234375,
          226.11729431152344,
          228.0081787109375,
          233.01263427734375,
          237.2448272705078,
          239.35243225097656,
          240.58486938476562,
          238.11366271972656,
          234.39703369140625,
          237.70693969726562,
          241.26510620117188,
          242.4308624267578,
          241.73350524902344,
          245.9261016845703,
          248.03189086914062,
          245.06369018554688,
          246.7902069091797,
          251.03125,
          260.9486389160156,
          260.22088623046875,
          257.9892578125,
          264.73614501953125,
          266.736328125,
          264.69525146484375,
          263.4321594238281,
          269.15093994140625,
          271.8148498535156,
          270.1583251953125,
          264.0990905761719,
          259.2944030761719,
          254.24899291992188,
          251.99456787109375,
          253.74032592773438,
          250.9224853515625,
          250.3404998779297,
          249.7903289794922,
          247.55645751953125,
          249.82373046875,
          253.81170654296875,
          256.4541320800781,
          255.34375,
          254.34092712402344,
          253.04745483398438,
          250.12159729003906,
          252.60231018066406,
          258.6348571777344,
          264.2693786621094,
          273.8846740722656,
          279.1817626953125,
          274.39349365234375,
          273.70648193359375,
          272.5316162109375,
          276.4309387207031,
          279.96954345703125,
          277.44464111328125,
          275.6362609863281,
          279.34735107421875,
          283.2815856933594,
          287.564697265625,
          287.4295349121094,
          287.0453186035156,
          284.554443359375,
          289.99786376953125,
          289.50439453125,
          283.7844543457031,
          283.07672119140625,
          288.3768005371094,
          286.6542053222656,
          288.243408203125,
          288.25250244140625,
          288.2410583496094,
          286.293212890625,
          285.58953857421875,
          282.30096435546875,
          276.577880859375,
          291.4126281738281,
          303.6000671386719,
          307.4217529296875,
          305.6195373535156,
          304.80218505859375,
          303.8016357421875,
          304.6864318847656,
          309.6678161621094,
          308.5245056152344,
          306.7069396972656,
          311.29010009765625,
          309.86083984375,
          308.4903259277344,
          308.7735900878906,
          310.9281921386719,
          313.2388916015625,
          317.5712585449219,
          317.65997314453125,
          320.1170959472656,
          314.6800842285156,
          312.9090270996094,
          324.3106994628906,
          332.0794982910156,
          330.3485412597656,
          327.0867004394531,
          331.052734375,
          334.09954833984375,
          334.63671875,
          332.2964782714844,
          322.1829833984375,
          323.9140930175781,
          325.8268127441406,
          330.87799072265625,
          333.3154296875,
          336.0787353515625,
          346.677734375,
          340.5074462890625,
          335.9646911621094,
          331.7606506347656,
          338.2342529296875,
          333.8314208984375,
          327.3959655761719,
          333.27691650390625,
          334.855712890625,
          333.9010314941406,
          339.1957702636719,
          336.5981750488281,
          336.5838317871094,
          339.7675476074219,
          335.7395324707031,
          330.3839111328125,
          331.16192626953125,
          336.09967041015625,
          341.65301513671875,
          344.0097351074219,
          344.1282653808594,
          358.0958557128906,
          352.76910400390625,
          344.15509033203125,
          341.64642333984375,
          343.55120849609375,
          349.76824951171875,
          335.97235107421875,
          329.1933288574219,
          337.1121520996094,
          334.99163818359375,
          335.1738586425781,
          326.37884521484375,
          325.4052429199219,
          326.72784423828125,
          329.1771545410156,
          325.32025146484375,
          321.4158630371094,
          322.0011901855469,
          320.4114074707031,
          323.2452697753906,
          321.4286193847656,
          319.8498229980469,
          316.48101806640625,
          315.94140625,
          321.1063537597656,
          322.1372985839844,
          326.32086181640625
         ]
        }
       ],
       "layout": {
        "template": {
         "data": {
          "bar": [
           {
            "error_x": {
             "color": "#2a3f5f"
            },
            "error_y": {
             "color": "#2a3f5f"
            },
            "marker": {
             "line": {
              "color": "#E5ECF6",
              "width": 0.5
             },
             "pattern": {
              "fillmode": "overlay",
              "size": 10,
              "solidity": 0.2
             }
            },
            "type": "bar"
           }
          ],
          "barpolar": [
           {
            "marker": {
             "line": {
              "color": "#E5ECF6",
              "width": 0.5
             },
             "pattern": {
              "fillmode": "overlay",
              "size": 10,
              "solidity": 0.2
             }
            },
            "type": "barpolar"
           }
          ],
          "carpet": [
           {
            "aaxis": {
             "endlinecolor": "#2a3f5f",
             "gridcolor": "white",
             "linecolor": "white",
             "minorgridcolor": "white",
             "startlinecolor": "#2a3f5f"
            },
            "baxis": {
             "endlinecolor": "#2a3f5f",
             "gridcolor": "white",
             "linecolor": "white",
             "minorgridcolor": "white",
             "startlinecolor": "#2a3f5f"
            },
            "type": "carpet"
           }
          ],
          "choropleth": [
           {
            "colorbar": {
             "outlinewidth": 0,
             "ticks": ""
            },
            "type": "choropleth"
           }
          ],
          "contour": [
           {
            "colorbar": {
             "outlinewidth": 0,
             "ticks": ""
            },
            "colorscale": [
             [
              0,
              "#0d0887"
             ],
             [
              0.1111111111111111,
              "#46039f"
             ],
             [
              0.2222222222222222,
              "#7201a8"
             ],
             [
              0.3333333333333333,
              "#9c179e"
             ],
             [
              0.4444444444444444,
              "#bd3786"
             ],
             [
              0.5555555555555556,
              "#d8576b"
             ],
             [
              0.6666666666666666,
              "#ed7953"
             ],
             [
              0.7777777777777778,
              "#fb9f3a"
             ],
             [
              0.8888888888888888,
              "#fdca26"
             ],
             [
              1,
              "#f0f921"
             ]
            ],
            "type": "contour"
           }
          ],
          "contourcarpet": [
           {
            "colorbar": {
             "outlinewidth": 0,
             "ticks": ""
            },
            "type": "contourcarpet"
           }
          ],
          "heatmap": [
           {
            "colorbar": {
             "outlinewidth": 0,
             "ticks": ""
            },
            "colorscale": [
             [
              0,
              "#0d0887"
             ],
             [
              0.1111111111111111,
              "#46039f"
             ],
             [
              0.2222222222222222,
              "#7201a8"
             ],
             [
              0.3333333333333333,
              "#9c179e"
             ],
             [
              0.4444444444444444,
              "#bd3786"
             ],
             [
              0.5555555555555556,
              "#d8576b"
             ],
             [
              0.6666666666666666,
              "#ed7953"
             ],
             [
              0.7777777777777778,
              "#fb9f3a"
             ],
             [
              0.8888888888888888,
              "#fdca26"
             ],
             [
              1,
              "#f0f921"
             ]
            ],
            "type": "heatmap"
           }
          ],
          "heatmapgl": [
           {
            "colorbar": {
             "outlinewidth": 0,
             "ticks": ""
            },
            "colorscale": [
             [
              0,
              "#0d0887"
             ],
             [
              0.1111111111111111,
              "#46039f"
             ],
             [
              0.2222222222222222,
              "#7201a8"
             ],
             [
              0.3333333333333333,
              "#9c179e"
             ],
             [
              0.4444444444444444,
              "#bd3786"
             ],
             [
              0.5555555555555556,
              "#d8576b"
             ],
             [
              0.6666666666666666,
              "#ed7953"
             ],
             [
              0.7777777777777778,
              "#fb9f3a"
             ],
             [
              0.8888888888888888,
              "#fdca26"
             ],
             [
              1,
              "#f0f921"
             ]
            ],
            "type": "heatmapgl"
           }
          ],
          "histogram": [
           {
            "marker": {
             "pattern": {
              "fillmode": "overlay",
              "size": 10,
              "solidity": 0.2
             }
            },
            "type": "histogram"
           }
          ],
          "histogram2d": [
           {
            "colorbar": {
             "outlinewidth": 0,
             "ticks": ""
            },
            "colorscale": [
             [
              0,
              "#0d0887"
             ],
             [
              0.1111111111111111,
              "#46039f"
             ],
             [
              0.2222222222222222,
              "#7201a8"
             ],
             [
              0.3333333333333333,
              "#9c179e"
             ],
             [
              0.4444444444444444,
              "#bd3786"
             ],
             [
              0.5555555555555556,
              "#d8576b"
             ],
             [
              0.6666666666666666,
              "#ed7953"
             ],
             [
              0.7777777777777778,
              "#fb9f3a"
             ],
             [
              0.8888888888888888,
              "#fdca26"
             ],
             [
              1,
              "#f0f921"
             ]
            ],
            "type": "histogram2d"
           }
          ],
          "histogram2dcontour": [
           {
            "colorbar": {
             "outlinewidth": 0,
             "ticks": ""
            },
            "colorscale": [
             [
              0,
              "#0d0887"
             ],
             [
              0.1111111111111111,
              "#46039f"
             ],
             [
              0.2222222222222222,
              "#7201a8"
             ],
             [
              0.3333333333333333,
              "#9c179e"
             ],
             [
              0.4444444444444444,
              "#bd3786"
             ],
             [
              0.5555555555555556,
              "#d8576b"
             ],
             [
              0.6666666666666666,
              "#ed7953"
             ],
             [
              0.7777777777777778,
              "#fb9f3a"
             ],
             [
              0.8888888888888888,
              "#fdca26"
             ],
             [
              1,
              "#f0f921"
             ]
            ],
            "type": "histogram2dcontour"
           }
          ],
          "mesh3d": [
           {
            "colorbar": {
             "outlinewidth": 0,
             "ticks": ""
            },
            "type": "mesh3d"
           }
          ],
          "parcoords": [
           {
            "line": {
             "colorbar": {
              "outlinewidth": 0,
              "ticks": ""
             }
            },
            "type": "parcoords"
           }
          ],
          "pie": [
           {
            "automargin": true,
            "type": "pie"
           }
          ],
          "scatter": [
           {
            "fillpattern": {
             "fillmode": "overlay",
             "size": 10,
             "solidity": 0.2
            },
            "type": "scatter"
           }
          ],
          "scatter3d": [
           {
            "line": {
             "colorbar": {
              "outlinewidth": 0,
              "ticks": ""
             }
            },
            "marker": {
             "colorbar": {
              "outlinewidth": 0,
              "ticks": ""
             }
            },
            "type": "scatter3d"
           }
          ],
          "scattercarpet": [
           {
            "marker": {
             "colorbar": {
              "outlinewidth": 0,
              "ticks": ""
             }
            },
            "type": "scattercarpet"
           }
          ],
          "scattergeo": [
           {
            "marker": {
             "colorbar": {
              "outlinewidth": 0,
              "ticks": ""
             }
            },
            "type": "scattergeo"
           }
          ],
          "scattergl": [
           {
            "marker": {
             "colorbar": {
              "outlinewidth": 0,
              "ticks": ""
             }
            },
            "type": "scattergl"
           }
          ],
          "scattermapbox": [
           {
            "marker": {
             "colorbar": {
              "outlinewidth": 0,
              "ticks": ""
             }
            },
            "type": "scattermapbox"
           }
          ],
          "scatterpolar": [
           {
            "marker": {
             "colorbar": {
              "outlinewidth": 0,
              "ticks": ""
             }
            },
            "type": "scatterpolar"
           }
          ],
          "scatterpolargl": [
           {
            "marker": {
             "colorbar": {
              "outlinewidth": 0,
              "ticks": ""
             }
            },
            "type": "scatterpolargl"
           }
          ],
          "scatterternary": [
           {
            "marker": {
             "colorbar": {
              "outlinewidth": 0,
              "ticks": ""
             }
            },
            "type": "scatterternary"
           }
          ],
          "surface": [
           {
            "colorbar": {
             "outlinewidth": 0,
             "ticks": ""
            },
            "colorscale": [
             [
              0,
              "#0d0887"
             ],
             [
              0.1111111111111111,
              "#46039f"
             ],
             [
              0.2222222222222222,
              "#7201a8"
             ],
             [
              0.3333333333333333,
              "#9c179e"
             ],
             [
              0.4444444444444444,
              "#bd3786"
             ],
             [
              0.5555555555555556,
              "#d8576b"
             ],
             [
              0.6666666666666666,
              "#ed7953"
             ],
             [
              0.7777777777777778,
              "#fb9f3a"
             ],
             [
              0.8888888888888888,
              "#fdca26"
             ],
             [
              1,
              "#f0f921"
             ]
            ],
            "type": "surface"
           }
          ],
          "table": [
           {
            "cells": {
             "fill": {
              "color": "#EBF0F8"
             },
             "line": {
              "color": "white"
             }
            },
            "header": {
             "fill": {
              "color": "#C8D4E3"
             },
             "line": {
              "color": "white"
             }
            },
            "type": "table"
           }
          ]
         },
         "layout": {
          "annotationdefaults": {
           "arrowcolor": "#2a3f5f",
           "arrowhead": 0,
           "arrowwidth": 1
          },
          "autotypenumbers": "strict",
          "coloraxis": {
           "colorbar": {
            "outlinewidth": 0,
            "ticks": ""
           }
          },
          "colorscale": {
           "diverging": [
            [
             0,
             "#8e0152"
            ],
            [
             0.1,
             "#c51b7d"
            ],
            [
             0.2,
             "#de77ae"
            ],
            [
             0.3,
             "#f1b6da"
            ],
            [
             0.4,
             "#fde0ef"
            ],
            [
             0.5,
             "#f7f7f7"
            ],
            [
             0.6,
             "#e6f5d0"
            ],
            [
             0.7,
             "#b8e186"
            ],
            [
             0.8,
             "#7fbc41"
            ],
            [
             0.9,
             "#4d9221"
            ],
            [
             1,
             "#276419"
            ]
           ],
           "sequential": [
            [
             0,
             "#0d0887"
            ],
            [
             0.1111111111111111,
             "#46039f"
            ],
            [
             0.2222222222222222,
             "#7201a8"
            ],
            [
             0.3333333333333333,
             "#9c179e"
            ],
            [
             0.4444444444444444,
             "#bd3786"
            ],
            [
             0.5555555555555556,
             "#d8576b"
            ],
            [
             0.6666666666666666,
             "#ed7953"
            ],
            [
             0.7777777777777778,
             "#fb9f3a"
            ],
            [
             0.8888888888888888,
             "#fdca26"
            ],
            [
             1,
             "#f0f921"
            ]
           ],
           "sequentialminus": [
            [
             0,
             "#0d0887"
            ],
            [
             0.1111111111111111,
             "#46039f"
            ],
            [
             0.2222222222222222,
             "#7201a8"
            ],
            [
             0.3333333333333333,
             "#9c179e"
            ],
            [
             0.4444444444444444,
             "#bd3786"
            ],
            [
             0.5555555555555556,
             "#d8576b"
            ],
            [
             0.6666666666666666,
             "#ed7953"
            ],
            [
             0.7777777777777778,
             "#fb9f3a"
            ],
            [
             0.8888888888888888,
             "#fdca26"
            ],
            [
             1,
             "#f0f921"
            ]
           ]
          },
          "colorway": [
           "#636efa",
           "#EF553B",
           "#00cc96",
           "#ab63fa",
           "#FFA15A",
           "#19d3f3",
           "#FF6692",
           "#B6E880",
           "#FF97FF",
           "#FECB52"
          ],
          "font": {
           "color": "#2a3f5f"
          },
          "geo": {
           "bgcolor": "white",
           "lakecolor": "white",
           "landcolor": "#E5ECF6",
           "showlakes": true,
           "showland": true,
           "subunitcolor": "white"
          },
          "hoverlabel": {
           "align": "left"
          },
          "hovermode": "closest",
          "mapbox": {
           "style": "light"
          },
          "paper_bgcolor": "white",
          "plot_bgcolor": "#E5ECF6",
          "polar": {
           "angularaxis": {
            "gridcolor": "white",
            "linecolor": "white",
            "ticks": ""
           },
           "bgcolor": "#E5ECF6",
           "radialaxis": {
            "gridcolor": "white",
            "linecolor": "white",
            "ticks": ""
           }
          },
          "scene": {
           "xaxis": {
            "backgroundcolor": "#E5ECF6",
            "gridcolor": "white",
            "gridwidth": 2,
            "linecolor": "white",
            "showbackground": true,
            "ticks": "",
            "zerolinecolor": "white"
           },
           "yaxis": {
            "backgroundcolor": "#E5ECF6",
            "gridcolor": "white",
            "gridwidth": 2,
            "linecolor": "white",
            "showbackground": true,
            "ticks": "",
            "zerolinecolor": "white"
           },
           "zaxis": {
            "backgroundcolor": "#E5ECF6",
            "gridcolor": "white",
            "gridwidth": 2,
            "linecolor": "white",
            "showbackground": true,
            "ticks": "",
            "zerolinecolor": "white"
           }
          },
          "shapedefaults": {
           "line": {
            "color": "#2a3f5f"
           }
          },
          "ternary": {
           "aaxis": {
            "gridcolor": "white",
            "linecolor": "white",
            "ticks": ""
           },
           "baxis": {
            "gridcolor": "white",
            "linecolor": "white",
            "ticks": ""
           },
           "bgcolor": "#E5ECF6",
           "caxis": {
            "gridcolor": "white",
            "linecolor": "white",
            "ticks": ""
           }
          },
          "title": {
           "x": 0.05
          },
          "xaxis": {
           "automargin": true,
           "gridcolor": "white",
           "linecolor": "white",
           "ticks": "",
           "title": {
            "standoff": 15
           },
           "zerolinecolor": "white",
           "zerolinewidth": 2
          },
          "yaxis": {
           "automargin": true,
           "gridcolor": "white",
           "linecolor": "white",
           "ticks": "",
           "title": {
            "standoff": 15
           },
           "zerolinecolor": "white",
           "zerolinewidth": 2
          }
         }
        },
        "title": {
         "text": "Real Stock Prices vs Predicted by LSTM\n\nRMSE 5.207543580277139"
        },
        "xaxis": {
         "title": {
          "text": "Date"
         }
        },
        "yaxis": {
         "title": {
          "text": "Value"
         }
        }
       }
      },
      "text/html": [
       "<div>                            <div id=\"3abd549a-420a-4069-8c18-7f7fa4d5a86b\" class=\"plotly-graph-div\" style=\"height:525px; width:100%;\"></div>            <script type=\"text/javascript\">                require([\"plotly\"], function(Plotly) {                    window.PLOTLYENV=window.PLOTLYENV || {};                                    if (document.getElementById(\"3abd549a-420a-4069-8c18-7f7fa4d5a86b\")) {                    Plotly.newPlot(                        \"3abd549a-420a-4069-8c18-7f7fa4d5a86b\",                        [{\"line\":{\"color\":\"blue\",\"width\":0.7},\"name\":\"Real Stock Prices\",\"x\":[\"2022-11-17T00:00:00-05:00\",\"2022-11-18T00:00:00-05:00\",\"2022-11-21T00:00:00-05:00\",\"2022-11-22T00:00:00-05:00\",\"2022-11-23T00:00:00-05:00\",\"2022-11-25T00:00:00-05:00\",\"2022-11-28T00:00:00-05:00\",\"2022-11-29T00:00:00-05:00\",\"2022-11-30T00:00:00-05:00\",\"2022-12-01T00:00:00-05:00\",\"2022-12-02T00:00:00-05:00\",\"2022-12-05T00:00:00-05:00\",\"2022-12-06T00:00:00-05:00\",\"2022-12-07T00:00:00-05:00\",\"2022-12-08T00:00:00-05:00\",\"2022-12-09T00:00:00-05:00\",\"2022-12-12T00:00:00-05:00\",\"2022-12-13T00:00:00-05:00\",\"2022-12-14T00:00:00-05:00\",\"2022-12-15T00:00:00-05:00\",\"2022-12-16T00:00:00-05:00\",\"2022-12-19T00:00:00-05:00\",\"2022-12-20T00:00:00-05:00\",\"2022-12-21T00:00:00-05:00\",\"2022-12-22T00:00:00-05:00\",\"2022-12-23T00:00:00-05:00\",\"2022-12-27T00:00:00-05:00\",\"2022-12-28T00:00:00-05:00\",\"2022-12-29T00:00:00-05:00\",\"2022-12-30T00:00:00-05:00\",\"2023-01-03T00:00:00-05:00\",\"2023-01-04T00:00:00-05:00\",\"2023-01-05T00:00:00-05:00\",\"2023-01-06T00:00:00-05:00\",\"2023-01-09T00:00:00-05:00\",\"2023-01-10T00:00:00-05:00\",\"2023-01-11T00:00:00-05:00\",\"2023-01-12T00:00:00-05:00\",\"2023-01-13T00:00:00-05:00\",\"2023-01-17T00:00:00-05:00\",\"2023-01-18T00:00:00-05:00\",\"2023-01-19T00:00:00-05:00\",\"2023-01-20T00:00:00-05:00\",\"2023-01-23T00:00:00-05:00\",\"2023-01-24T00:00:00-05:00\",\"2023-01-25T00:00:00-05:00\",\"2023-01-26T00:00:00-05:00\",\"2023-01-27T00:00:00-05:00\",\"2023-01-30T00:00:00-05:00\",\"2023-01-31T00:00:00-05:00\",\"2023-02-01T00:00:00-05:00\",\"2023-02-02T00:00:00-05:00\",\"2023-02-03T00:00:00-05:00\",\"2023-02-06T00:00:00-05:00\",\"2023-02-07T00:00:00-05:00\",\"2023-02-08T00:00:00-05:00\",\"2023-02-09T00:00:00-05:00\",\"2023-02-10T00:00:00-05:00\",\"2023-02-13T00:00:00-05:00\",\"2023-02-14T00:00:00-05:00\",\"2023-02-15T00:00:00-05:00\",\"2023-02-16T00:00:00-05:00\",\"2023-02-17T00:00:00-05:00\",\"2023-02-21T00:00:00-05:00\",\"2023-02-22T00:00:00-05:00\",\"2023-02-23T00:00:00-05:00\",\"2023-02-24T00:00:00-05:00\",\"2023-02-27T00:00:00-05:00\",\"2023-02-28T00:00:00-05:00\",\"2023-03-01T00:00:00-05:00\",\"2023-03-02T00:00:00-05:00\",\"2023-03-03T00:00:00-05:00\",\"2023-03-06T00:00:00-05:00\",\"2023-03-07T00:00:00-05:00\",\"2023-03-08T00:00:00-05:00\",\"2023-03-09T00:00:00-05:00\",\"2023-03-10T00:00:00-05:00\",\"2023-03-13T00:00:00-04:00\",\"2023-03-14T00:00:00-04:00\",\"2023-03-15T00:00:00-04:00\",\"2023-03-16T00:00:00-04:00\",\"2023-03-17T00:00:00-04:00\",\"2023-03-20T00:00:00-04:00\",\"2023-03-21T00:00:00-04:00\",\"2023-03-22T00:00:00-04:00\",\"2023-03-23T00:00:00-04:00\",\"2023-03-24T00:00:00-04:00\",\"2023-03-27T00:00:00-04:00\",\"2023-03-28T00:00:00-04:00\",\"2023-03-29T00:00:00-04:00\",\"2023-03-30T00:00:00-04:00\",\"2023-03-31T00:00:00-04:00\",\"2023-04-03T00:00:00-04:00\",\"2023-04-04T00:00:00-04:00\",\"2023-04-05T00:00:00-04:00\",\"2023-04-06T00:00:00-04:00\",\"2023-04-10T00:00:00-04:00\",\"2023-04-11T00:00:00-04:00\",\"2023-04-12T00:00:00-04:00\",\"2023-04-13T00:00:00-04:00\",\"2023-04-14T00:00:00-04:00\",\"2023-04-17T00:00:00-04:00\",\"2023-04-18T00:00:00-04:00\",\"2023-04-19T00:00:00-04:00\",\"2023-04-20T00:00:00-04:00\",\"2023-04-21T00:00:00-04:00\",\"2023-04-24T00:00:00-04:00\",\"2023-04-25T00:00:00-04:00\",\"2023-04-26T00:00:00-04:00\",\"2023-04-27T00:00:00-04:00\",\"2023-04-28T00:00:00-04:00\",\"2023-05-01T00:00:00-04:00\",\"2023-05-02T00:00:00-04:00\",\"2023-05-03T00:00:00-04:00\",\"2023-05-04T00:00:00-04:00\",\"2023-05-05T00:00:00-04:00\",\"2023-05-08T00:00:00-04:00\",\"2023-05-09T00:00:00-04:00\",\"2023-05-10T00:00:00-04:00\",\"2023-05-11T00:00:00-04:00\",\"2023-05-12T00:00:00-04:00\",\"2023-05-15T00:00:00-04:00\",\"2023-05-16T00:00:00-04:00\",\"2023-05-17T00:00:00-04:00\",\"2023-05-18T00:00:00-04:00\",\"2023-05-19T00:00:00-04:00\",\"2023-05-22T00:00:00-04:00\",\"2023-05-23T00:00:00-04:00\",\"2023-05-24T00:00:00-04:00\",\"2023-05-25T00:00:00-04:00\",\"2023-05-26T00:00:00-04:00\",\"2023-05-30T00:00:00-04:00\",\"2023-05-31T00:00:00-04:00\",\"2023-06-01T00:00:00-04:00\",\"2023-06-02T00:00:00-04:00\",\"2023-06-05T00:00:00-04:00\",\"2023-06-06T00:00:00-04:00\",\"2023-06-07T00:00:00-04:00\",\"2023-06-08T00:00:00-04:00\",\"2023-06-09T00:00:00-04:00\",\"2023-06-12T00:00:00-04:00\",\"2023-06-13T00:00:00-04:00\",\"2023-06-14T00:00:00-04:00\",\"2023-06-15T00:00:00-04:00\",\"2023-06-16T00:00:00-04:00\",\"2023-06-20T00:00:00-04:00\",\"2023-06-21T00:00:00-04:00\",\"2023-06-22T00:00:00-04:00\",\"2023-06-23T00:00:00-04:00\",\"2023-06-26T00:00:00-04:00\",\"2023-06-27T00:00:00-04:00\",\"2023-06-28T00:00:00-04:00\",\"2023-06-29T00:00:00-04:00\",\"2023-06-30T00:00:00-04:00\",\"2023-07-03T00:00:00-04:00\",\"2023-07-05T00:00:00-04:00\",\"2023-07-06T00:00:00-04:00\",\"2023-07-07T00:00:00-04:00\",\"2023-07-10T00:00:00-04:00\",\"2023-07-11T00:00:00-04:00\",\"2023-07-12T00:00:00-04:00\",\"2023-07-13T00:00:00-04:00\",\"2023-07-14T00:00:00-04:00\",\"2023-07-17T00:00:00-04:00\",\"2023-07-18T00:00:00-04:00\",\"2023-07-19T00:00:00-04:00\",\"2023-07-20T00:00:00-04:00\",\"2023-07-21T00:00:00-04:00\",\"2023-07-24T00:00:00-04:00\",\"2023-07-25T00:00:00-04:00\",\"2023-07-26T00:00:00-04:00\",\"2023-07-27T00:00:00-04:00\",\"2023-07-28T00:00:00-04:00\",\"2023-07-31T00:00:00-04:00\",\"2023-08-01T00:00:00-04:00\",\"2023-08-02T00:00:00-04:00\",\"2023-08-03T00:00:00-04:00\",\"2023-08-04T00:00:00-04:00\",\"2023-08-07T00:00:00-04:00\",\"2023-08-08T00:00:00-04:00\",\"2023-08-09T00:00:00-04:00\",\"2023-08-10T00:00:00-04:00\",\"2023-08-11T00:00:00-04:00\",\"2023-08-14T00:00:00-04:00\",\"2023-08-15T00:00:00-04:00\",\"2023-08-16T00:00:00-04:00\",\"2023-08-17T00:00:00-04:00\",\"2023-08-18T00:00:00-04:00\",\"2023-08-21T00:00:00-04:00\",\"2023-08-22T00:00:00-04:00\",\"2023-08-23T00:00:00-04:00\",\"2023-08-24T00:00:00-04:00\"],\"y\":[241.67999267578125,241.22000122070312,242.0500030517578,245.02999877929688,247.5800018310547,247.49000549316406,241.75999450683594,240.3300018310547,255.13999938964844,254.69000244140625,255.02000427246094,250.1999969482422,245.1199951171875,244.3699951171875,247.39999389648438,245.4199981689453,252.50999450683594,256.9200134277344,257.2200012207031,249.00999450683594,244.69000244140628,240.4499969482422,241.8000030517578,244.42999267578122,238.19000244140628,238.72999572753903,236.96000671386722,234.52999877929685,241.00999450683594,239.82000732421875,239.5800018310547,229.1000061035156,222.30999755859375,224.92999267578128,227.1199951171875,228.85000610351562,235.77000427246094,238.50999450683594,239.22999572753906,240.35000610351565,235.80999755859375,231.92999267578125,240.22000122070315,242.5800018310547,242.0399932861328,240.61000061035156,248.0,248.16000366210938,242.7100067138672,247.80999755859378,252.75,264.6000061035156,258.3500061035156,256.7699890136719,267.55999755859375,266.7300109863281,263.6199951171875,263.1000061035156,271.32000732421875,272.1700134277344,269.32000732421875,262.1499938964844,258.05999755859375,252.6699981689453,251.50999450683594,254.77000427246094,249.22000122070312,250.16000366210938,249.4199981689453,246.27000427246094,251.11000061035156,255.2899932861328,256.8699951171875,254.14999389648438,253.6999969482422,252.32000732421875,248.58999633789062,253.9199981689453,260.7900085449219,265.44000244140625,276.20001220703125,279.42999267578125,272.2300109863281,273.7799987792969,272.2900085449219,277.6600036621094,280.57000732421875,276.3800048828125,275.2300109863281,280.510009765625,284.04998779296875,288.29998779296875,287.2300109863281,287.17999267578125,284.3399963378906,291.60000610351557,289.3900146484375,282.8299865722656,283.489990234375,289.8399963378906,286.1400146484375,288.79998779296875,288.3699951171875,288.45001220703125,286.1099853515625,285.760009765625,281.7699890136719,275.4200134277344,295.3699951171875,304.8299865722656,307.260009765625,305.55999755859375,305.4100036621094,304.3999938964844,305.4100036621094,310.6499938964844,308.6499938964844,307.0,312.30999755859375,310.1099853515625,308.9700012207032,309.4599914550781,311.739990234375,314.0,318.5199890136719,318.3399963378906,321.1799926757813,315.260009765625,313.8500061035156,325.9200134277344,332.8900146484375,331.2099914550781,328.3900146484375,332.5799865722656,335.3999938964844,335.94000244140625,333.67999267578125,323.3800048828125,325.260009765625,326.7900085449219,331.8500061035156,334.2900085449219,337.3399963378906,348.1000061035156,342.3299865722656,338.04998779296875,333.55999755859375,339.7099914550781,335.0199890136719,328.6000061035156,334.57000732421875,335.8500061035156,335.04998779296875,340.5400085449219,337.989990234375,338.1499938964844,341.2699890136719,337.2200012207031,331.8299865722656,332.4700012207031,337.20001220703125,342.6600036621094,345.239990234375,345.7300109863281,359.489990234375,355.0799865722656,346.8699951171875,343.7699890136719,345.1099853515625,350.9800109863281,337.7699890136719,330.7200012207031,338.3699951171875,335.9200134277344,336.3399963378907,327.5,326.6600036621094,327.7799987792969,330.10998535156244,326.0499877929688,322.2300109863282,322.92999267578125,321.010009765625,324.0400085449219,321.8599853515625,320.3999938964844,316.8800048828125,316.4800109863281,321.8800048828125,322.4599914550781,327.0,319.9700012207031],\"type\":\"scatter\"},{\"line\":{\"color\":\"red\",\"width\":1.5},\"mode\":\"lines\",\"name\":\"Predicted Stock Prices\",\"x\":[\"2022-11-17T00:00:00-05:00\",\"2022-11-18T00:00:00-05:00\",\"2022-11-21T00:00:00-05:00\",\"2022-11-22T00:00:00-05:00\",\"2022-11-23T00:00:00-05:00\",\"2022-11-25T00:00:00-05:00\",\"2022-11-28T00:00:00-05:00\",\"2022-11-29T00:00:00-05:00\",\"2022-11-30T00:00:00-05:00\",\"2022-12-01T00:00:00-05:00\",\"2022-12-02T00:00:00-05:00\",\"2022-12-05T00:00:00-05:00\",\"2022-12-06T00:00:00-05:00\",\"2022-12-07T00:00:00-05:00\",\"2022-12-08T00:00:00-05:00\",\"2022-12-09T00:00:00-05:00\",\"2022-12-12T00:00:00-05:00\",\"2022-12-13T00:00:00-05:00\",\"2022-12-14T00:00:00-05:00\",\"2022-12-15T00:00:00-05:00\",\"2022-12-16T00:00:00-05:00\",\"2022-12-19T00:00:00-05:00\",\"2022-12-20T00:00:00-05:00\",\"2022-12-21T00:00:00-05:00\",\"2022-12-22T00:00:00-05:00\",\"2022-12-23T00:00:00-05:00\",\"2022-12-27T00:00:00-05:00\",\"2022-12-28T00:00:00-05:00\",\"2022-12-29T00:00:00-05:00\",\"2022-12-30T00:00:00-05:00\",\"2023-01-03T00:00:00-05:00\",\"2023-01-04T00:00:00-05:00\",\"2023-01-05T00:00:00-05:00\",\"2023-01-06T00:00:00-05:00\",\"2023-01-09T00:00:00-05:00\",\"2023-01-10T00:00:00-05:00\",\"2023-01-11T00:00:00-05:00\",\"2023-01-12T00:00:00-05:00\",\"2023-01-13T00:00:00-05:00\",\"2023-01-17T00:00:00-05:00\",\"2023-01-18T00:00:00-05:00\",\"2023-01-19T00:00:00-05:00\",\"2023-01-20T00:00:00-05:00\",\"2023-01-23T00:00:00-05:00\",\"2023-01-24T00:00:00-05:00\",\"2023-01-25T00:00:00-05:00\",\"2023-01-26T00:00:00-05:00\",\"2023-01-27T00:00:00-05:00\",\"2023-01-30T00:00:00-05:00\",\"2023-01-31T00:00:00-05:00\",\"2023-02-01T00:00:00-05:00\",\"2023-02-02T00:00:00-05:00\",\"2023-02-03T00:00:00-05:00\",\"2023-02-06T00:00:00-05:00\",\"2023-02-07T00:00:00-05:00\",\"2023-02-08T00:00:00-05:00\",\"2023-02-09T00:00:00-05:00\",\"2023-02-10T00:00:00-05:00\",\"2023-02-13T00:00:00-05:00\",\"2023-02-14T00:00:00-05:00\",\"2023-02-15T00:00:00-05:00\",\"2023-02-16T00:00:00-05:00\",\"2023-02-17T00:00:00-05:00\",\"2023-02-21T00:00:00-05:00\",\"2023-02-22T00:00:00-05:00\",\"2023-02-23T00:00:00-05:00\",\"2023-02-24T00:00:00-05:00\",\"2023-02-27T00:00:00-05:00\",\"2023-02-28T00:00:00-05:00\",\"2023-03-01T00:00:00-05:00\",\"2023-03-02T00:00:00-05:00\",\"2023-03-03T00:00:00-05:00\",\"2023-03-06T00:00:00-05:00\",\"2023-03-07T00:00:00-05:00\",\"2023-03-08T00:00:00-05:00\",\"2023-03-09T00:00:00-05:00\",\"2023-03-10T00:00:00-05:00\",\"2023-03-13T00:00:00-04:00\",\"2023-03-14T00:00:00-04:00\",\"2023-03-15T00:00:00-04:00\",\"2023-03-16T00:00:00-04:00\",\"2023-03-17T00:00:00-04:00\",\"2023-03-20T00:00:00-04:00\",\"2023-03-21T00:00:00-04:00\",\"2023-03-22T00:00:00-04:00\",\"2023-03-23T00:00:00-04:00\",\"2023-03-24T00:00:00-04:00\",\"2023-03-27T00:00:00-04:00\",\"2023-03-28T00:00:00-04:00\",\"2023-03-29T00:00:00-04:00\",\"2023-03-30T00:00:00-04:00\",\"2023-03-31T00:00:00-04:00\",\"2023-04-03T00:00:00-04:00\",\"2023-04-04T00:00:00-04:00\",\"2023-04-05T00:00:00-04:00\",\"2023-04-06T00:00:00-04:00\",\"2023-04-10T00:00:00-04:00\",\"2023-04-11T00:00:00-04:00\",\"2023-04-12T00:00:00-04:00\",\"2023-04-13T00:00:00-04:00\",\"2023-04-14T00:00:00-04:00\",\"2023-04-17T00:00:00-04:00\",\"2023-04-18T00:00:00-04:00\",\"2023-04-19T00:00:00-04:00\",\"2023-04-20T00:00:00-04:00\",\"2023-04-21T00:00:00-04:00\",\"2023-04-24T00:00:00-04:00\",\"2023-04-25T00:00:00-04:00\",\"2023-04-26T00:00:00-04:00\",\"2023-04-27T00:00:00-04:00\",\"2023-04-28T00:00:00-04:00\",\"2023-05-01T00:00:00-04:00\",\"2023-05-02T00:00:00-04:00\",\"2023-05-03T00:00:00-04:00\",\"2023-05-04T00:00:00-04:00\",\"2023-05-05T00:00:00-04:00\",\"2023-05-08T00:00:00-04:00\",\"2023-05-09T00:00:00-04:00\",\"2023-05-10T00:00:00-04:00\",\"2023-05-11T00:00:00-04:00\",\"2023-05-12T00:00:00-04:00\",\"2023-05-15T00:00:00-04:00\",\"2023-05-16T00:00:00-04:00\",\"2023-05-17T00:00:00-04:00\",\"2023-05-18T00:00:00-04:00\",\"2023-05-19T00:00:00-04:00\",\"2023-05-22T00:00:00-04:00\",\"2023-05-23T00:00:00-04:00\",\"2023-05-24T00:00:00-04:00\",\"2023-05-25T00:00:00-04:00\",\"2023-05-26T00:00:00-04:00\",\"2023-05-30T00:00:00-04:00\",\"2023-05-31T00:00:00-04:00\",\"2023-06-01T00:00:00-04:00\",\"2023-06-02T00:00:00-04:00\",\"2023-06-05T00:00:00-04:00\",\"2023-06-06T00:00:00-04:00\",\"2023-06-07T00:00:00-04:00\",\"2023-06-08T00:00:00-04:00\",\"2023-06-09T00:00:00-04:00\",\"2023-06-12T00:00:00-04:00\",\"2023-06-13T00:00:00-04:00\",\"2023-06-14T00:00:00-04:00\",\"2023-06-15T00:00:00-04:00\",\"2023-06-16T00:00:00-04:00\",\"2023-06-20T00:00:00-04:00\",\"2023-06-21T00:00:00-04:00\",\"2023-06-22T00:00:00-04:00\",\"2023-06-23T00:00:00-04:00\",\"2023-06-26T00:00:00-04:00\",\"2023-06-27T00:00:00-04:00\",\"2023-06-28T00:00:00-04:00\",\"2023-06-29T00:00:00-04:00\",\"2023-06-30T00:00:00-04:00\",\"2023-07-03T00:00:00-04:00\",\"2023-07-05T00:00:00-04:00\",\"2023-07-06T00:00:00-04:00\",\"2023-07-07T00:00:00-04:00\",\"2023-07-10T00:00:00-04:00\",\"2023-07-11T00:00:00-04:00\",\"2023-07-12T00:00:00-04:00\",\"2023-07-13T00:00:00-04:00\",\"2023-07-14T00:00:00-04:00\",\"2023-07-17T00:00:00-04:00\",\"2023-07-18T00:00:00-04:00\",\"2023-07-19T00:00:00-04:00\",\"2023-07-20T00:00:00-04:00\",\"2023-07-21T00:00:00-04:00\",\"2023-07-24T00:00:00-04:00\",\"2023-07-25T00:00:00-04:00\",\"2023-07-26T00:00:00-04:00\",\"2023-07-27T00:00:00-04:00\",\"2023-07-28T00:00:00-04:00\",\"2023-07-31T00:00:00-04:00\",\"2023-08-01T00:00:00-04:00\",\"2023-08-02T00:00:00-04:00\",\"2023-08-03T00:00:00-04:00\",\"2023-08-04T00:00:00-04:00\",\"2023-08-07T00:00:00-04:00\",\"2023-08-08T00:00:00-04:00\",\"2023-08-09T00:00:00-04:00\",\"2023-08-10T00:00:00-04:00\",\"2023-08-11T00:00:00-04:00\",\"2023-08-14T00:00:00-04:00\",\"2023-08-15T00:00:00-04:00\",\"2023-08-16T00:00:00-04:00\",\"2023-08-17T00:00:00-04:00\",\"2023-08-18T00:00:00-04:00\",\"2023-08-21T00:00:00-04:00\",\"2023-08-22T00:00:00-04:00\",\"2023-08-23T00:00:00-04:00\",\"2023-08-24T00:00:00-04:00\"],\"y\":[242.32015991210938,242.0096435546875,241.6498260498047,242.0557403564453,244.19003295898438,246.8088836669922,247.74822998046875,244.19207763671875,241.58267211914062,250.22557067871094,254.15997314453125,255.3569793701172,252.1382598876953,247.29856872558594,245.00576782226562,246.37335205078125,245.95724487304688,250.38197326660156,255.3636474609375,257.3023986816406,252.00306701660156,246.8330841064453,242.30442810058594,241.61187744140625,243.41268920898438,240.4810791015625,239.3381805419922,237.94277954101562,235.922119140625,238.98959350585938,240.02932739257812,240.13462829589844,233.7501220703125,226.70428466796875,225.036865234375,226.11729431152344,228.0081787109375,233.01263427734375,237.2448272705078,239.35243225097656,240.58486938476562,238.11366271972656,234.39703369140625,237.70693969726562,241.26510620117188,242.4308624267578,241.73350524902344,245.9261016845703,248.03189086914062,245.06369018554688,246.7902069091797,251.03125,260.9486389160156,260.22088623046875,257.9892578125,264.73614501953125,266.736328125,264.69525146484375,263.4321594238281,269.15093994140625,271.8148498535156,270.1583251953125,264.0990905761719,259.2944030761719,254.24899291992188,251.99456787109375,253.74032592773438,250.9224853515625,250.3404998779297,249.7903289794922,247.55645751953125,249.82373046875,253.81170654296875,256.4541320800781,255.34375,254.34092712402344,253.04745483398438,250.12159729003906,252.60231018066406,258.6348571777344,264.2693786621094,273.8846740722656,279.1817626953125,274.39349365234375,273.70648193359375,272.5316162109375,276.4309387207031,279.96954345703125,277.44464111328125,275.6362609863281,279.34735107421875,283.2815856933594,287.564697265625,287.4295349121094,287.0453186035156,284.554443359375,289.99786376953125,289.50439453125,283.7844543457031,283.07672119140625,288.3768005371094,286.6542053222656,288.243408203125,288.25250244140625,288.2410583496094,286.293212890625,285.58953857421875,282.30096435546875,276.577880859375,291.4126281738281,303.6000671386719,307.4217529296875,305.6195373535156,304.80218505859375,303.8016357421875,304.6864318847656,309.6678161621094,308.5245056152344,306.7069396972656,311.29010009765625,309.86083984375,308.4903259277344,308.7735900878906,310.9281921386719,313.2388916015625,317.5712585449219,317.65997314453125,320.1170959472656,314.6800842285156,312.9090270996094,324.3106994628906,332.0794982910156,330.3485412597656,327.0867004394531,331.052734375,334.09954833984375,334.63671875,332.2964782714844,322.1829833984375,323.9140930175781,325.8268127441406,330.87799072265625,333.3154296875,336.0787353515625,346.677734375,340.5074462890625,335.9646911621094,331.7606506347656,338.2342529296875,333.8314208984375,327.3959655761719,333.27691650390625,334.855712890625,333.9010314941406,339.1957702636719,336.5981750488281,336.5838317871094,339.7675476074219,335.7395324707031,330.3839111328125,331.16192626953125,336.09967041015625,341.65301513671875,344.0097351074219,344.1282653808594,358.0958557128906,352.76910400390625,344.15509033203125,341.64642333984375,343.55120849609375,349.76824951171875,335.97235107421875,329.1933288574219,337.1121520996094,334.99163818359375,335.1738586425781,326.37884521484375,325.4052429199219,326.72784423828125,329.1771545410156,325.32025146484375,321.4158630371094,322.0011901855469,320.4114074707031,323.2452697753906,321.4286193847656,319.8498229980469,316.48101806640625,315.94140625,321.1063537597656,322.1372985839844,326.32086181640625],\"type\":\"scatter\"}],                        {\"template\":{\"data\":{\"histogram2dcontour\":[{\"type\":\"histogram2dcontour\",\"colorbar\":{\"outlinewidth\":0,\"ticks\":\"\"},\"colorscale\":[[0.0,\"#0d0887\"],[0.1111111111111111,\"#46039f\"],[0.2222222222222222,\"#7201a8\"],[0.3333333333333333,\"#9c179e\"],[0.4444444444444444,\"#bd3786\"],[0.5555555555555556,\"#d8576b\"],[0.6666666666666666,\"#ed7953\"],[0.7777777777777778,\"#fb9f3a\"],[0.8888888888888888,\"#fdca26\"],[1.0,\"#f0f921\"]]}],\"choropleth\":[{\"type\":\"choropleth\",\"colorbar\":{\"outlinewidth\":0,\"ticks\":\"\"}}],\"histogram2d\":[{\"type\":\"histogram2d\",\"colorbar\":{\"outlinewidth\":0,\"ticks\":\"\"},\"colorscale\":[[0.0,\"#0d0887\"],[0.1111111111111111,\"#46039f\"],[0.2222222222222222,\"#7201a8\"],[0.3333333333333333,\"#9c179e\"],[0.4444444444444444,\"#bd3786\"],[0.5555555555555556,\"#d8576b\"],[0.6666666666666666,\"#ed7953\"],[0.7777777777777778,\"#fb9f3a\"],[0.8888888888888888,\"#fdca26\"],[1.0,\"#f0f921\"]]}],\"heatmap\":[{\"type\":\"heatmap\",\"colorbar\":{\"outlinewidth\":0,\"ticks\":\"\"},\"colorscale\":[[0.0,\"#0d0887\"],[0.1111111111111111,\"#46039f\"],[0.2222222222222222,\"#7201a8\"],[0.3333333333333333,\"#9c179e\"],[0.4444444444444444,\"#bd3786\"],[0.5555555555555556,\"#d8576b\"],[0.6666666666666666,\"#ed7953\"],[0.7777777777777778,\"#fb9f3a\"],[0.8888888888888888,\"#fdca26\"],[1.0,\"#f0f921\"]]}],\"heatmapgl\":[{\"type\":\"heatmapgl\",\"colorbar\":{\"outlinewidth\":0,\"ticks\":\"\"},\"colorscale\":[[0.0,\"#0d0887\"],[0.1111111111111111,\"#46039f\"],[0.2222222222222222,\"#7201a8\"],[0.3333333333333333,\"#9c179e\"],[0.4444444444444444,\"#bd3786\"],[0.5555555555555556,\"#d8576b\"],[0.6666666666666666,\"#ed7953\"],[0.7777777777777778,\"#fb9f3a\"],[0.8888888888888888,\"#fdca26\"],[1.0,\"#f0f921\"]]}],\"contourcarpet\":[{\"type\":\"contourcarpet\",\"colorbar\":{\"outlinewidth\":0,\"ticks\":\"\"}}],\"contour\":[{\"type\":\"contour\",\"colorbar\":{\"outlinewidth\":0,\"ticks\":\"\"},\"colorscale\":[[0.0,\"#0d0887\"],[0.1111111111111111,\"#46039f\"],[0.2222222222222222,\"#7201a8\"],[0.3333333333333333,\"#9c179e\"],[0.4444444444444444,\"#bd3786\"],[0.5555555555555556,\"#d8576b\"],[0.6666666666666666,\"#ed7953\"],[0.7777777777777778,\"#fb9f3a\"],[0.8888888888888888,\"#fdca26\"],[1.0,\"#f0f921\"]]}],\"surface\":[{\"type\":\"surface\",\"colorbar\":{\"outlinewidth\":0,\"ticks\":\"\"},\"colorscale\":[[0.0,\"#0d0887\"],[0.1111111111111111,\"#46039f\"],[0.2222222222222222,\"#7201a8\"],[0.3333333333333333,\"#9c179e\"],[0.4444444444444444,\"#bd3786\"],[0.5555555555555556,\"#d8576b\"],[0.6666666666666666,\"#ed7953\"],[0.7777777777777778,\"#fb9f3a\"],[0.8888888888888888,\"#fdca26\"],[1.0,\"#f0f921\"]]}],\"mesh3d\":[{\"type\":\"mesh3d\",\"colorbar\":{\"outlinewidth\":0,\"ticks\":\"\"}}],\"scatter\":[{\"fillpattern\":{\"fillmode\":\"overlay\",\"size\":10,\"solidity\":0.2},\"type\":\"scatter\"}],\"parcoords\":[{\"type\":\"parcoords\",\"line\":{\"colorbar\":{\"outlinewidth\":0,\"ticks\":\"\"}}}],\"scatterpolargl\":[{\"type\":\"scatterpolargl\",\"marker\":{\"colorbar\":{\"outlinewidth\":0,\"ticks\":\"\"}}}],\"bar\":[{\"error_x\":{\"color\":\"#2a3f5f\"},\"error_y\":{\"color\":\"#2a3f5f\"},\"marker\":{\"line\":{\"color\":\"#E5ECF6\",\"width\":0.5},\"pattern\":{\"fillmode\":\"overlay\",\"size\":10,\"solidity\":0.2}},\"type\":\"bar\"}],\"scattergeo\":[{\"type\":\"scattergeo\",\"marker\":{\"colorbar\":{\"outlinewidth\":0,\"ticks\":\"\"}}}],\"scatterpolar\":[{\"type\":\"scatterpolar\",\"marker\":{\"colorbar\":{\"outlinewidth\":0,\"ticks\":\"\"}}}],\"histogram\":[{\"marker\":{\"pattern\":{\"fillmode\":\"overlay\",\"size\":10,\"solidity\":0.2}},\"type\":\"histogram\"}],\"scattergl\":[{\"type\":\"scattergl\",\"marker\":{\"colorbar\":{\"outlinewidth\":0,\"ticks\":\"\"}}}],\"scatter3d\":[{\"type\":\"scatter3d\",\"line\":{\"colorbar\":{\"outlinewidth\":0,\"ticks\":\"\"}},\"marker\":{\"colorbar\":{\"outlinewidth\":0,\"ticks\":\"\"}}}],\"scattermapbox\":[{\"type\":\"scattermapbox\",\"marker\":{\"colorbar\":{\"outlinewidth\":0,\"ticks\":\"\"}}}],\"scatterternary\":[{\"type\":\"scatterternary\",\"marker\":{\"colorbar\":{\"outlinewidth\":0,\"ticks\":\"\"}}}],\"scattercarpet\":[{\"type\":\"scattercarpet\",\"marker\":{\"colorbar\":{\"outlinewidth\":0,\"ticks\":\"\"}}}],\"carpet\":[{\"aaxis\":{\"endlinecolor\":\"#2a3f5f\",\"gridcolor\":\"white\",\"linecolor\":\"white\",\"minorgridcolor\":\"white\",\"startlinecolor\":\"#2a3f5f\"},\"baxis\":{\"endlinecolor\":\"#2a3f5f\",\"gridcolor\":\"white\",\"linecolor\":\"white\",\"minorgridcolor\":\"white\",\"startlinecolor\":\"#2a3f5f\"},\"type\":\"carpet\"}],\"table\":[{\"cells\":{\"fill\":{\"color\":\"#EBF0F8\"},\"line\":{\"color\":\"white\"}},\"header\":{\"fill\":{\"color\":\"#C8D4E3\"},\"line\":{\"color\":\"white\"}},\"type\":\"table\"}],\"barpolar\":[{\"marker\":{\"line\":{\"color\":\"#E5ECF6\",\"width\":0.5},\"pattern\":{\"fillmode\":\"overlay\",\"size\":10,\"solidity\":0.2}},\"type\":\"barpolar\"}],\"pie\":[{\"automargin\":true,\"type\":\"pie\"}]},\"layout\":{\"autotypenumbers\":\"strict\",\"colorway\":[\"#636efa\",\"#EF553B\",\"#00cc96\",\"#ab63fa\",\"#FFA15A\",\"#19d3f3\",\"#FF6692\",\"#B6E880\",\"#FF97FF\",\"#FECB52\"],\"font\":{\"color\":\"#2a3f5f\"},\"hovermode\":\"closest\",\"hoverlabel\":{\"align\":\"left\"},\"paper_bgcolor\":\"white\",\"plot_bgcolor\":\"#E5ECF6\",\"polar\":{\"bgcolor\":\"#E5ECF6\",\"angularaxis\":{\"gridcolor\":\"white\",\"linecolor\":\"white\",\"ticks\":\"\"},\"radialaxis\":{\"gridcolor\":\"white\",\"linecolor\":\"white\",\"ticks\":\"\"}},\"ternary\":{\"bgcolor\":\"#E5ECF6\",\"aaxis\":{\"gridcolor\":\"white\",\"linecolor\":\"white\",\"ticks\":\"\"},\"baxis\":{\"gridcolor\":\"white\",\"linecolor\":\"white\",\"ticks\":\"\"},\"caxis\":{\"gridcolor\":\"white\",\"linecolor\":\"white\",\"ticks\":\"\"}},\"coloraxis\":{\"colorbar\":{\"outlinewidth\":0,\"ticks\":\"\"}},\"colorscale\":{\"sequential\":[[0.0,\"#0d0887\"],[0.1111111111111111,\"#46039f\"],[0.2222222222222222,\"#7201a8\"],[0.3333333333333333,\"#9c179e\"],[0.4444444444444444,\"#bd3786\"],[0.5555555555555556,\"#d8576b\"],[0.6666666666666666,\"#ed7953\"],[0.7777777777777778,\"#fb9f3a\"],[0.8888888888888888,\"#fdca26\"],[1.0,\"#f0f921\"]],\"sequentialminus\":[[0.0,\"#0d0887\"],[0.1111111111111111,\"#46039f\"],[0.2222222222222222,\"#7201a8\"],[0.3333333333333333,\"#9c179e\"],[0.4444444444444444,\"#bd3786\"],[0.5555555555555556,\"#d8576b\"],[0.6666666666666666,\"#ed7953\"],[0.7777777777777778,\"#fb9f3a\"],[0.8888888888888888,\"#fdca26\"],[1.0,\"#f0f921\"]],\"diverging\":[[0,\"#8e0152\"],[0.1,\"#c51b7d\"],[0.2,\"#de77ae\"],[0.3,\"#f1b6da\"],[0.4,\"#fde0ef\"],[0.5,\"#f7f7f7\"],[0.6,\"#e6f5d0\"],[0.7,\"#b8e186\"],[0.8,\"#7fbc41\"],[0.9,\"#4d9221\"],[1,\"#276419\"]]},\"xaxis\":{\"gridcolor\":\"white\",\"linecolor\":\"white\",\"ticks\":\"\",\"title\":{\"standoff\":15},\"zerolinecolor\":\"white\",\"automargin\":true,\"zerolinewidth\":2},\"yaxis\":{\"gridcolor\":\"white\",\"linecolor\":\"white\",\"ticks\":\"\",\"title\":{\"standoff\":15},\"zerolinecolor\":\"white\",\"automargin\":true,\"zerolinewidth\":2},\"scene\":{\"xaxis\":{\"backgroundcolor\":\"#E5ECF6\",\"gridcolor\":\"white\",\"linecolor\":\"white\",\"showbackground\":true,\"ticks\":\"\",\"zerolinecolor\":\"white\",\"gridwidth\":2},\"yaxis\":{\"backgroundcolor\":\"#E5ECF6\",\"gridcolor\":\"white\",\"linecolor\":\"white\",\"showbackground\":true,\"ticks\":\"\",\"zerolinecolor\":\"white\",\"gridwidth\":2},\"zaxis\":{\"backgroundcolor\":\"#E5ECF6\",\"gridcolor\":\"white\",\"linecolor\":\"white\",\"showbackground\":true,\"ticks\":\"\",\"zerolinecolor\":\"white\",\"gridwidth\":2}},\"shapedefaults\":{\"line\":{\"color\":\"#2a3f5f\"}},\"annotationdefaults\":{\"arrowcolor\":\"#2a3f5f\",\"arrowhead\":0,\"arrowwidth\":1},\"geo\":{\"bgcolor\":\"white\",\"landcolor\":\"#E5ECF6\",\"subunitcolor\":\"white\",\"showland\":true,\"showlakes\":true,\"lakecolor\":\"white\"},\"title\":{\"x\":0.05},\"mapbox\":{\"style\":\"light\"}}},\"title\":{\"text\":\"Real Stock Prices vs Predicted by LSTM\\n\\nRMSE 5.207543580277139\"},\"xaxis\":{\"title\":{\"text\":\"Date\"}},\"yaxis\":{\"title\":{\"text\":\"Value\"}}},                        {\"responsive\": true}                    ).then(function(){\n",
       "                            \n",
       "var gd = document.getElementById('3abd549a-420a-4069-8c18-7f7fa4d5a86b');\n",
       "var x = new MutationObserver(function (mutations, observer) {{\n",
       "        var display = window.getComputedStyle(gd).display;\n",
       "        if (!display || display === 'none') {{\n",
       "            console.log([gd, 'removed!']);\n",
       "            Plotly.purge(gd);\n",
       "            observer.disconnect();\n",
       "        }}\n",
       "}});\n",
       "\n",
       "// Listen for the removal of the full notebook cells\n",
       "var notebookContainer = gd.closest('#notebook-container');\n",
       "if (notebookContainer) {{\n",
       "    x.observe(notebookContainer, {childList: true});\n",
       "}}\n",
       "\n",
       "// Listen for the clearing of the current output cell\n",
       "var outputEl = gd.closest('.output');\n",
       "if (outputEl) {{\n",
       "    x.observe(outputEl, {childList: true});\n",
       "}}\n",
       "\n",
       "                        })                };                });            </script>        </div>"
      ]
     },
     "metadata": {},
     "output_type": "display_data"
    },
    {
     "name": "stdout",
     "output_type": "stream",
     "text": [
      "6/6 [==============================] - 0s 18ms/step\n"
     ]
    },
    {
     "data": {
      "application/vnd.plotly.v1+json": {
       "config": {
        "plotlyServerURL": "https://plot.ly"
       },
       "data": [
        {
         "line": {
          "color": "blue",
          "width": 0.7
         },
         "name": "Real Stock Prices",
         "type": "scatter",
         "x": [
          "2022-11-17T00:00:00-05:00",
          "2022-11-18T00:00:00-05:00",
          "2022-11-21T00:00:00-05:00",
          "2022-11-22T00:00:00-05:00",
          "2022-11-23T00:00:00-05:00",
          "2022-11-25T00:00:00-05:00",
          "2022-11-28T00:00:00-05:00",
          "2022-11-29T00:00:00-05:00",
          "2022-11-30T00:00:00-05:00",
          "2022-12-01T00:00:00-05:00",
          "2022-12-02T00:00:00-05:00",
          "2022-12-05T00:00:00-05:00",
          "2022-12-06T00:00:00-05:00",
          "2022-12-07T00:00:00-05:00",
          "2022-12-08T00:00:00-05:00",
          "2022-12-09T00:00:00-05:00",
          "2022-12-12T00:00:00-05:00",
          "2022-12-13T00:00:00-05:00",
          "2022-12-14T00:00:00-05:00",
          "2022-12-15T00:00:00-05:00",
          "2022-12-16T00:00:00-05:00",
          "2022-12-19T00:00:00-05:00",
          "2022-12-20T00:00:00-05:00",
          "2022-12-21T00:00:00-05:00",
          "2022-12-22T00:00:00-05:00",
          "2022-12-23T00:00:00-05:00",
          "2022-12-27T00:00:00-05:00",
          "2022-12-28T00:00:00-05:00",
          "2022-12-29T00:00:00-05:00",
          "2022-12-30T00:00:00-05:00",
          "2023-01-03T00:00:00-05:00",
          "2023-01-04T00:00:00-05:00",
          "2023-01-05T00:00:00-05:00",
          "2023-01-06T00:00:00-05:00",
          "2023-01-09T00:00:00-05:00",
          "2023-01-10T00:00:00-05:00",
          "2023-01-11T00:00:00-05:00",
          "2023-01-12T00:00:00-05:00",
          "2023-01-13T00:00:00-05:00",
          "2023-01-17T00:00:00-05:00",
          "2023-01-18T00:00:00-05:00",
          "2023-01-19T00:00:00-05:00",
          "2023-01-20T00:00:00-05:00",
          "2023-01-23T00:00:00-05:00",
          "2023-01-24T00:00:00-05:00",
          "2023-01-25T00:00:00-05:00",
          "2023-01-26T00:00:00-05:00",
          "2023-01-27T00:00:00-05:00",
          "2023-01-30T00:00:00-05:00",
          "2023-01-31T00:00:00-05:00",
          "2023-02-01T00:00:00-05:00",
          "2023-02-02T00:00:00-05:00",
          "2023-02-03T00:00:00-05:00",
          "2023-02-06T00:00:00-05:00",
          "2023-02-07T00:00:00-05:00",
          "2023-02-08T00:00:00-05:00",
          "2023-02-09T00:00:00-05:00",
          "2023-02-10T00:00:00-05:00",
          "2023-02-13T00:00:00-05:00",
          "2023-02-14T00:00:00-05:00",
          "2023-02-15T00:00:00-05:00",
          "2023-02-16T00:00:00-05:00",
          "2023-02-17T00:00:00-05:00",
          "2023-02-21T00:00:00-05:00",
          "2023-02-22T00:00:00-05:00",
          "2023-02-23T00:00:00-05:00",
          "2023-02-24T00:00:00-05:00",
          "2023-02-27T00:00:00-05:00",
          "2023-02-28T00:00:00-05:00",
          "2023-03-01T00:00:00-05:00",
          "2023-03-02T00:00:00-05:00",
          "2023-03-03T00:00:00-05:00",
          "2023-03-06T00:00:00-05:00",
          "2023-03-07T00:00:00-05:00",
          "2023-03-08T00:00:00-05:00",
          "2023-03-09T00:00:00-05:00",
          "2023-03-10T00:00:00-05:00",
          "2023-03-13T00:00:00-04:00",
          "2023-03-14T00:00:00-04:00",
          "2023-03-15T00:00:00-04:00",
          "2023-03-16T00:00:00-04:00",
          "2023-03-17T00:00:00-04:00",
          "2023-03-20T00:00:00-04:00",
          "2023-03-21T00:00:00-04:00",
          "2023-03-22T00:00:00-04:00",
          "2023-03-23T00:00:00-04:00",
          "2023-03-24T00:00:00-04:00",
          "2023-03-27T00:00:00-04:00",
          "2023-03-28T00:00:00-04:00",
          "2023-03-29T00:00:00-04:00",
          "2023-03-30T00:00:00-04:00",
          "2023-03-31T00:00:00-04:00",
          "2023-04-03T00:00:00-04:00",
          "2023-04-04T00:00:00-04:00",
          "2023-04-05T00:00:00-04:00",
          "2023-04-06T00:00:00-04:00",
          "2023-04-10T00:00:00-04:00",
          "2023-04-11T00:00:00-04:00",
          "2023-04-12T00:00:00-04:00",
          "2023-04-13T00:00:00-04:00",
          "2023-04-14T00:00:00-04:00",
          "2023-04-17T00:00:00-04:00",
          "2023-04-18T00:00:00-04:00",
          "2023-04-19T00:00:00-04:00",
          "2023-04-20T00:00:00-04:00",
          "2023-04-21T00:00:00-04:00",
          "2023-04-24T00:00:00-04:00",
          "2023-04-25T00:00:00-04:00",
          "2023-04-26T00:00:00-04:00",
          "2023-04-27T00:00:00-04:00",
          "2023-04-28T00:00:00-04:00",
          "2023-05-01T00:00:00-04:00",
          "2023-05-02T00:00:00-04:00",
          "2023-05-03T00:00:00-04:00",
          "2023-05-04T00:00:00-04:00",
          "2023-05-05T00:00:00-04:00",
          "2023-05-08T00:00:00-04:00",
          "2023-05-09T00:00:00-04:00",
          "2023-05-10T00:00:00-04:00",
          "2023-05-11T00:00:00-04:00",
          "2023-05-12T00:00:00-04:00",
          "2023-05-15T00:00:00-04:00",
          "2023-05-16T00:00:00-04:00",
          "2023-05-17T00:00:00-04:00",
          "2023-05-18T00:00:00-04:00",
          "2023-05-19T00:00:00-04:00",
          "2023-05-22T00:00:00-04:00",
          "2023-05-23T00:00:00-04:00",
          "2023-05-24T00:00:00-04:00",
          "2023-05-25T00:00:00-04:00",
          "2023-05-26T00:00:00-04:00",
          "2023-05-30T00:00:00-04:00",
          "2023-05-31T00:00:00-04:00",
          "2023-06-01T00:00:00-04:00",
          "2023-06-02T00:00:00-04:00",
          "2023-06-05T00:00:00-04:00",
          "2023-06-06T00:00:00-04:00",
          "2023-06-07T00:00:00-04:00",
          "2023-06-08T00:00:00-04:00",
          "2023-06-09T00:00:00-04:00",
          "2023-06-12T00:00:00-04:00",
          "2023-06-13T00:00:00-04:00",
          "2023-06-14T00:00:00-04:00",
          "2023-06-15T00:00:00-04:00",
          "2023-06-16T00:00:00-04:00",
          "2023-06-20T00:00:00-04:00",
          "2023-06-21T00:00:00-04:00",
          "2023-06-22T00:00:00-04:00",
          "2023-06-23T00:00:00-04:00",
          "2023-06-26T00:00:00-04:00",
          "2023-06-27T00:00:00-04:00",
          "2023-06-28T00:00:00-04:00",
          "2023-06-29T00:00:00-04:00",
          "2023-06-30T00:00:00-04:00",
          "2023-07-03T00:00:00-04:00",
          "2023-07-05T00:00:00-04:00",
          "2023-07-06T00:00:00-04:00",
          "2023-07-07T00:00:00-04:00",
          "2023-07-10T00:00:00-04:00",
          "2023-07-11T00:00:00-04:00",
          "2023-07-12T00:00:00-04:00",
          "2023-07-13T00:00:00-04:00",
          "2023-07-14T00:00:00-04:00",
          "2023-07-17T00:00:00-04:00",
          "2023-07-18T00:00:00-04:00",
          "2023-07-19T00:00:00-04:00",
          "2023-07-20T00:00:00-04:00",
          "2023-07-21T00:00:00-04:00",
          "2023-07-24T00:00:00-04:00",
          "2023-07-25T00:00:00-04:00",
          "2023-07-26T00:00:00-04:00",
          "2023-07-27T00:00:00-04:00",
          "2023-07-28T00:00:00-04:00",
          "2023-07-31T00:00:00-04:00",
          "2023-08-01T00:00:00-04:00",
          "2023-08-02T00:00:00-04:00",
          "2023-08-03T00:00:00-04:00",
          "2023-08-04T00:00:00-04:00",
          "2023-08-07T00:00:00-04:00",
          "2023-08-08T00:00:00-04:00",
          "2023-08-09T00:00:00-04:00",
          "2023-08-10T00:00:00-04:00",
          "2023-08-11T00:00:00-04:00",
          "2023-08-14T00:00:00-04:00",
          "2023-08-15T00:00:00-04:00",
          "2023-08-16T00:00:00-04:00",
          "2023-08-17T00:00:00-04:00",
          "2023-08-18T00:00:00-04:00",
          "2023-08-21T00:00:00-04:00",
          "2023-08-22T00:00:00-04:00",
          "2023-08-23T00:00:00-04:00",
          "2023-08-24T00:00:00-04:00"
         ],
         "y": [
          94.8499984741211,
          94.13999938964844,
          92.45999908447266,
          93.19999694824219,
          94.12999725341797,
          93.41000366210938,
          93.94999694824219,
          92.41999816894531,
          96.54000091552734,
          95.5,
          94.12999725341797,
          91.01000213623047,
          88.25,
          88.45999908447266,
          90.3499984741211,
          89.08999633789062,
          90.55000305175781,
          92.48999786376953,
          91.58000183105469,
          88.44999694824219,
          87.86000061035156,
          84.91999816894531,
          85.19000244140625,
          86.7699966430664,
          83.79000091552734,
          85.25,
          83.04000091552734,
          81.81999969482422,
          84.18000030517578,
          84,
          85.81999969482422,
          85.13999938964844,
          83.12000274658203,
          86.08000183105469,
          87.36000061035156,
          89.87000274658203,
          95.08999633789062,
          95.2699966430664,
          98.12000274658203,
          96.05000305175781,
          95.45999908447266,
          93.68000030517578,
          97.25,
          97.5199966430664,
          96.31999969482422,
          97.18000030517578,
          99.22000122070312,
          102.23999786376953,
          100.55000305175781,
          103.12999725341797,
          105.1500015258789,
          112.91000366210938,
          103.38999938964844,
          102.18000030517578,
          102.11000061035156,
          100.05000305175781,
          98.23999786376953,
          97.61000061035156,
          99.54000091552734,
          99.69999694824219,
          101.16000366210938,
          98.1500015258789,
          97.19999694824219,
          94.58000183105469,
          95.79000091552734,
          95.81999969482422,
          93.5,
          93.76000213623047,
          94.2300033569336,
          92.16999816894531,
          92.12999725341797,
          94.9000015258789,
          93.75,
          93.55000305175781,
          93.91999816894531,
          92.25,
          90.7300033569336,
          92.43000030517578,
          94.87999725341797,
          96.19999694824219,
          100.04000091552734,
          98.94999694824219,
          97.70999908447266,
          100.61000061035156,
          98.69999694824219,
          98.70999908447266,
          98.12999725341797,
          98.04000091552734,
          97.23999786376953,
          100.25,
          102,
          103.29000091552734,
          102.41000366210938,
          103.94999694824219,
          101.0999984741211,
          102.05999755859375,
          102.16999816894531,
          99.91999816894531,
          97.83000183105469,
          102.4000015258789,
          102.51000213623047,
          102.73999786376953,
          102.30000305175781,
          104.30000305175781,
          103.80999755859375,
          106.95999908447266,
          106.20999908447266,
          102.56999969482422,
          104.9800033569336,
          109.81999969482422,
          105.44999694824219,
          102.05000305175781,
          103.62999725341797,
          103.6500015258789,
          104,
          105.66000366210938,
          105.83000183105469,
          106.62000274658203,
          110.19000244140625,
          112.18000030517578,
          110.26000213623047,
          111.19999694824219,
          113.4000015258789,
          115.5,
          118.1500015258789,
          116.25,
          115.01000213623047,
          114.98999786376953,
          116.75,
          115,
          120.11000061035156,
          121.66000366210939,
          120.58000183105469,
          122.7699966430664,
          124.24999999999999,
          125.30000305175783,
          126.61000061035156,
          121.2300033569336,
          124.24999999999999,
          123.4300003051758,
          126.56999969482423,
          126.66000366210939,
          126.41999816894533,
          127.11000061035156,
          125.48999786376953,
          125.77999877929689,
          124.83000183105467,
          130.14999389648438,
          129.3300018310547,
          127.33000183105467,
          129.17999267578125,
          129.0399932861328,
          127.9000015258789,
          130.36000061035156,
          130.22000122070312,
          130.3800048828125,
          128.36000061035156,
          129.77999877929688,
          127.12999725341797,
          128.77999877929688,
          130.8000030517578,
          134.3000030517578,
          134.67999267578125,
          133.55999755859375,
          132.8300018310547,
          135.36000061035156,
          129.9600067138672,
          130,
          128.8000030517578,
          129.1300048828125,
          128.14999389648438,
          128.25,
          132.2100067138672,
          133.67999267578125,
          131.69000244140625,
          128.2100067138672,
          128.91000366210938,
          139.57000732421875,
          142.22000122070312,
          139.94000244140625,
          137.85000610351562,
          138.55999755859375,
          138.41000366210938,
          140.57000732421875,
          137.6699981689453,
          135.07000732421875,
          133.97999572753906,
          133.22000122070312,
          134.67999267578125,
          134.25,
          135.52000427246094,
          131.83999633789062
         ]
        },
        {
         "line": {
          "color": "red",
          "width": 1.5
         },
         "mode": "lines",
         "name": "Predicted Stock Prices",
         "type": "scatter",
         "x": [
          "2022-11-17T00:00:00-05:00",
          "2022-11-18T00:00:00-05:00",
          "2022-11-21T00:00:00-05:00",
          "2022-11-22T00:00:00-05:00",
          "2022-11-23T00:00:00-05:00",
          "2022-11-25T00:00:00-05:00",
          "2022-11-28T00:00:00-05:00",
          "2022-11-29T00:00:00-05:00",
          "2022-11-30T00:00:00-05:00",
          "2022-12-01T00:00:00-05:00",
          "2022-12-02T00:00:00-05:00",
          "2022-12-05T00:00:00-05:00",
          "2022-12-06T00:00:00-05:00",
          "2022-12-07T00:00:00-05:00",
          "2022-12-08T00:00:00-05:00",
          "2022-12-09T00:00:00-05:00",
          "2022-12-12T00:00:00-05:00",
          "2022-12-13T00:00:00-05:00",
          "2022-12-14T00:00:00-05:00",
          "2022-12-15T00:00:00-05:00",
          "2022-12-16T00:00:00-05:00",
          "2022-12-19T00:00:00-05:00",
          "2022-12-20T00:00:00-05:00",
          "2022-12-21T00:00:00-05:00",
          "2022-12-22T00:00:00-05:00",
          "2022-12-23T00:00:00-05:00",
          "2022-12-27T00:00:00-05:00",
          "2022-12-28T00:00:00-05:00",
          "2022-12-29T00:00:00-05:00",
          "2022-12-30T00:00:00-05:00",
          "2023-01-03T00:00:00-05:00",
          "2023-01-04T00:00:00-05:00",
          "2023-01-05T00:00:00-05:00",
          "2023-01-06T00:00:00-05:00",
          "2023-01-09T00:00:00-05:00",
          "2023-01-10T00:00:00-05:00",
          "2023-01-11T00:00:00-05:00",
          "2023-01-12T00:00:00-05:00",
          "2023-01-13T00:00:00-05:00",
          "2023-01-17T00:00:00-05:00",
          "2023-01-18T00:00:00-05:00",
          "2023-01-19T00:00:00-05:00",
          "2023-01-20T00:00:00-05:00",
          "2023-01-23T00:00:00-05:00",
          "2023-01-24T00:00:00-05:00",
          "2023-01-25T00:00:00-05:00",
          "2023-01-26T00:00:00-05:00",
          "2023-01-27T00:00:00-05:00",
          "2023-01-30T00:00:00-05:00",
          "2023-01-31T00:00:00-05:00",
          "2023-02-01T00:00:00-05:00",
          "2023-02-02T00:00:00-05:00",
          "2023-02-03T00:00:00-05:00",
          "2023-02-06T00:00:00-05:00",
          "2023-02-07T00:00:00-05:00",
          "2023-02-08T00:00:00-05:00",
          "2023-02-09T00:00:00-05:00",
          "2023-02-10T00:00:00-05:00",
          "2023-02-13T00:00:00-05:00",
          "2023-02-14T00:00:00-05:00",
          "2023-02-15T00:00:00-05:00",
          "2023-02-16T00:00:00-05:00",
          "2023-02-17T00:00:00-05:00",
          "2023-02-21T00:00:00-05:00",
          "2023-02-22T00:00:00-05:00",
          "2023-02-23T00:00:00-05:00",
          "2023-02-24T00:00:00-05:00",
          "2023-02-27T00:00:00-05:00",
          "2023-02-28T00:00:00-05:00",
          "2023-03-01T00:00:00-05:00",
          "2023-03-02T00:00:00-05:00",
          "2023-03-03T00:00:00-05:00",
          "2023-03-06T00:00:00-05:00",
          "2023-03-07T00:00:00-05:00",
          "2023-03-08T00:00:00-05:00",
          "2023-03-09T00:00:00-05:00",
          "2023-03-10T00:00:00-05:00",
          "2023-03-13T00:00:00-04:00",
          "2023-03-14T00:00:00-04:00",
          "2023-03-15T00:00:00-04:00",
          "2023-03-16T00:00:00-04:00",
          "2023-03-17T00:00:00-04:00",
          "2023-03-20T00:00:00-04:00",
          "2023-03-21T00:00:00-04:00",
          "2023-03-22T00:00:00-04:00",
          "2023-03-23T00:00:00-04:00",
          "2023-03-24T00:00:00-04:00",
          "2023-03-27T00:00:00-04:00",
          "2023-03-28T00:00:00-04:00",
          "2023-03-29T00:00:00-04:00",
          "2023-03-30T00:00:00-04:00",
          "2023-03-31T00:00:00-04:00",
          "2023-04-03T00:00:00-04:00",
          "2023-04-04T00:00:00-04:00",
          "2023-04-05T00:00:00-04:00",
          "2023-04-06T00:00:00-04:00",
          "2023-04-10T00:00:00-04:00",
          "2023-04-11T00:00:00-04:00",
          "2023-04-12T00:00:00-04:00",
          "2023-04-13T00:00:00-04:00",
          "2023-04-14T00:00:00-04:00",
          "2023-04-17T00:00:00-04:00",
          "2023-04-18T00:00:00-04:00",
          "2023-04-19T00:00:00-04:00",
          "2023-04-20T00:00:00-04:00",
          "2023-04-21T00:00:00-04:00",
          "2023-04-24T00:00:00-04:00",
          "2023-04-25T00:00:00-04:00",
          "2023-04-26T00:00:00-04:00",
          "2023-04-27T00:00:00-04:00",
          "2023-04-28T00:00:00-04:00",
          "2023-05-01T00:00:00-04:00",
          "2023-05-02T00:00:00-04:00",
          "2023-05-03T00:00:00-04:00",
          "2023-05-04T00:00:00-04:00",
          "2023-05-05T00:00:00-04:00",
          "2023-05-08T00:00:00-04:00",
          "2023-05-09T00:00:00-04:00",
          "2023-05-10T00:00:00-04:00",
          "2023-05-11T00:00:00-04:00",
          "2023-05-12T00:00:00-04:00",
          "2023-05-15T00:00:00-04:00",
          "2023-05-16T00:00:00-04:00",
          "2023-05-17T00:00:00-04:00",
          "2023-05-18T00:00:00-04:00",
          "2023-05-19T00:00:00-04:00",
          "2023-05-22T00:00:00-04:00",
          "2023-05-23T00:00:00-04:00",
          "2023-05-24T00:00:00-04:00",
          "2023-05-25T00:00:00-04:00",
          "2023-05-26T00:00:00-04:00",
          "2023-05-30T00:00:00-04:00",
          "2023-05-31T00:00:00-04:00",
          "2023-06-01T00:00:00-04:00",
          "2023-06-02T00:00:00-04:00",
          "2023-06-05T00:00:00-04:00",
          "2023-06-06T00:00:00-04:00",
          "2023-06-07T00:00:00-04:00",
          "2023-06-08T00:00:00-04:00",
          "2023-06-09T00:00:00-04:00",
          "2023-06-12T00:00:00-04:00",
          "2023-06-13T00:00:00-04:00",
          "2023-06-14T00:00:00-04:00",
          "2023-06-15T00:00:00-04:00",
          "2023-06-16T00:00:00-04:00",
          "2023-06-20T00:00:00-04:00",
          "2023-06-21T00:00:00-04:00",
          "2023-06-22T00:00:00-04:00",
          "2023-06-23T00:00:00-04:00",
          "2023-06-26T00:00:00-04:00",
          "2023-06-27T00:00:00-04:00",
          "2023-06-28T00:00:00-04:00",
          "2023-06-29T00:00:00-04:00",
          "2023-06-30T00:00:00-04:00",
          "2023-07-03T00:00:00-04:00",
          "2023-07-05T00:00:00-04:00",
          "2023-07-06T00:00:00-04:00",
          "2023-07-07T00:00:00-04:00",
          "2023-07-10T00:00:00-04:00",
          "2023-07-11T00:00:00-04:00",
          "2023-07-12T00:00:00-04:00",
          "2023-07-13T00:00:00-04:00",
          "2023-07-14T00:00:00-04:00",
          "2023-07-17T00:00:00-04:00",
          "2023-07-18T00:00:00-04:00",
          "2023-07-19T00:00:00-04:00",
          "2023-07-20T00:00:00-04:00",
          "2023-07-21T00:00:00-04:00",
          "2023-07-24T00:00:00-04:00",
          "2023-07-25T00:00:00-04:00",
          "2023-07-26T00:00:00-04:00",
          "2023-07-27T00:00:00-04:00",
          "2023-07-28T00:00:00-04:00",
          "2023-07-31T00:00:00-04:00",
          "2023-08-01T00:00:00-04:00",
          "2023-08-02T00:00:00-04:00",
          "2023-08-03T00:00:00-04:00",
          "2023-08-04T00:00:00-04:00",
          "2023-08-07T00:00:00-04:00",
          "2023-08-08T00:00:00-04:00",
          "2023-08-09T00:00:00-04:00",
          "2023-08-10T00:00:00-04:00",
          "2023-08-11T00:00:00-04:00",
          "2023-08-14T00:00:00-04:00",
          "2023-08-15T00:00:00-04:00",
          "2023-08-16T00:00:00-04:00",
          "2023-08-17T00:00:00-04:00",
          "2023-08-18T00:00:00-04:00",
          "2023-08-21T00:00:00-04:00",
          "2023-08-22T00:00:00-04:00",
          "2023-08-23T00:00:00-04:00",
          "2023-08-24T00:00:00-04:00"
         ],
         "y": [
          98.0957260131836,
          95.99419403076172,
          94.75531005859375,
          93.33792114257812,
          93.28946685791016,
          93.9985122680664,
          93.9068603515625,
          94.13778686523438,
          93.27143096923828,
          95.43460083007812,
          95.84403228759766,
          94.94869232177734,
          92.5184326171875,
          89.80024719238281,
          88.8055648803711,
          89.67039489746094,
          89.52960968017578,
          90.25102233886719,
          91.81011199951172,
          91.98664855957031,
          90.02938079833984,
          88.65713500976562,
          86.45821380615234,
          85.56929016113281,
          86.18765258789062,
          85.0560302734375,
          85.13121032714844,
          84.1307144165039,
          82.8988037109375,
          83.49053955078125,
          83.94085693359375,
          85.12828826904297,
          85.4316635131836,
          84.37248992919922,
          85.2640380859375,
          86.64019012451172,
          88.78031158447266,
          92.97610473632812,
          95.08616638183594,
          97.48445892333984,
          96.91424560546875,
          96.00908660888672,
          94.46209716796875,
          96.187744140625,
          97.2712631225586,
          96.81269836425781,
          97.09619140625,
          98.61039733886719,
          101.3205337524414,
          101.04232788085938,
          102.56356048583984,
          104.57158660888672,
          111.1580581665039,
          105.48743438720703,
          102.65506744384766,
          101.96380615234375,
          100.46215057373047,
          98.78617858886719,
          97.86719512939453,
          98.96758270263672,
          99.59909057617188,
          100.80258178710938,
          99.09844207763672,
          97.70861053466797,
          95.52171325683594,
          95.52510070800781,
          95.7400131225586,
          94.3836669921875,
          93.94896697998047,
          94.16282653808594,
          93.02640533447266,
          92.46538543701172,
          94.02410888671875,
          94.12147521972656,
          93.9123306274414,
          94.022705078125,
          93.04088592529297,
          91.63802337646484,
          92.08100891113281,
          93.97254180908203,
          95.73096466064453,
          98.93515014648438,
          99.41715240478516,
          98.45381927490234,
          99.95978546142578,
          99.28248596191406,
          98.92413330078125,
          98.42131805419922,
          98.19377136230469,
          97.6026382446289,
          99.44600677490234,
          101.4699935913086,
          103.04259490966797,
          102.79104614257812,
          103.67555236816406,
          101.87663269042969,
          101.90129089355469,
          102.09440612792969,
          100.57666778564453,
          98.58827209472656,
          101.1404037475586,
          102.35155487060547,
          102.81146240234375,
          102.54203796386719,
          103.8480453491211,
          103.9349594116211,
          106.23941802978516,
          106.39219665527344,
          103.56082916259766,
          104.44763946533203,
          108.60222625732422,
          106.46562194824219,
          103.07811737060547,
          103.28213500976562,
          103.56158447265625,
          103.95240783691406,
          105.31612396240234,
          105.85643005371094,
          106.52787017822266,
          109.4454345703125,
          111.82843017578125,
          110.69834899902344,
          111.01073455810547,
          112.91313171386719,
          115.11377716064453,
          117.76534271240234,
          116.47376251220703,
          115.03399658203125,
          114.79328155517578,
          116.34093475341797,
          115.15069580078125,
          119.33214569091797,
          121.44596862792969,
          120.55589294433594,
          122.27376556396484,
          123.8271255493164,
          124.89739990234375,
          126.15253448486328,
          121.16490936279297,
          123.53768157958984,
          123.17425537109375,
          126.06614685058594,
          126.38065338134766,
          126.0437240600586,
          126.62020111083984,
          125.11253356933594,
          125.29095458984375,
          124.47077178955078,
          129.50535583496094,
          129.0457000732422,
          126.90406799316406,
          128.56198120117188,
          128.57676696777344,
          127.46089172363281,
          129.8052978515625,
          129.80133056640625,
          129.88909912109375,
          127.90380096435547,
          129.2266845703125,
          126.78516387939453,
          128.2722625732422,
          130.37608337402344,
          133.8649139404297,
          134.17869567871094,
          132.87112426757812,
          132.1067657470703,
          134.71514892578125,
          129.37017822265625,
          129.4080352783203,
          128.39617919921875,
          128.74954223632812,
          127.8448486328125,
          127.88345336914062,
          131.7346649169922,
          133.29232788085938,
          131.15711975097656,
          127.63399505615234,
          128.31460571289062,
          139.08596801757812,
          141.94065856933594,
          138.9346466064453,
          136.7216339111328,
          137.68150329589844,
          137.6441650390625,
          139.9430389404297,
          136.79376220703125,
          134.2357177734375,
          133.30575561523438,
          132.65650939941406,
          134.17430114746094,
          133.7157440185547,
          134.91700744628906
         ]
        }
       ],
       "layout": {
        "template": {
         "data": {
          "bar": [
           {
            "error_x": {
             "color": "#2a3f5f"
            },
            "error_y": {
             "color": "#2a3f5f"
            },
            "marker": {
             "line": {
              "color": "#E5ECF6",
              "width": 0.5
             },
             "pattern": {
              "fillmode": "overlay",
              "size": 10,
              "solidity": 0.2
             }
            },
            "type": "bar"
           }
          ],
          "barpolar": [
           {
            "marker": {
             "line": {
              "color": "#E5ECF6",
              "width": 0.5
             },
             "pattern": {
              "fillmode": "overlay",
              "size": 10,
              "solidity": 0.2
             }
            },
            "type": "barpolar"
           }
          ],
          "carpet": [
           {
            "aaxis": {
             "endlinecolor": "#2a3f5f",
             "gridcolor": "white",
             "linecolor": "white",
             "minorgridcolor": "white",
             "startlinecolor": "#2a3f5f"
            },
            "baxis": {
             "endlinecolor": "#2a3f5f",
             "gridcolor": "white",
             "linecolor": "white",
             "minorgridcolor": "white",
             "startlinecolor": "#2a3f5f"
            },
            "type": "carpet"
           }
          ],
          "choropleth": [
           {
            "colorbar": {
             "outlinewidth": 0,
             "ticks": ""
            },
            "type": "choropleth"
           }
          ],
          "contour": [
           {
            "colorbar": {
             "outlinewidth": 0,
             "ticks": ""
            },
            "colorscale": [
             [
              0,
              "#0d0887"
             ],
             [
              0.1111111111111111,
              "#46039f"
             ],
             [
              0.2222222222222222,
              "#7201a8"
             ],
             [
              0.3333333333333333,
              "#9c179e"
             ],
             [
              0.4444444444444444,
              "#bd3786"
             ],
             [
              0.5555555555555556,
              "#d8576b"
             ],
             [
              0.6666666666666666,
              "#ed7953"
             ],
             [
              0.7777777777777778,
              "#fb9f3a"
             ],
             [
              0.8888888888888888,
              "#fdca26"
             ],
             [
              1,
              "#f0f921"
             ]
            ],
            "type": "contour"
           }
          ],
          "contourcarpet": [
           {
            "colorbar": {
             "outlinewidth": 0,
             "ticks": ""
            },
            "type": "contourcarpet"
           }
          ],
          "heatmap": [
           {
            "colorbar": {
             "outlinewidth": 0,
             "ticks": ""
            },
            "colorscale": [
             [
              0,
              "#0d0887"
             ],
             [
              0.1111111111111111,
              "#46039f"
             ],
             [
              0.2222222222222222,
              "#7201a8"
             ],
             [
              0.3333333333333333,
              "#9c179e"
             ],
             [
              0.4444444444444444,
              "#bd3786"
             ],
             [
              0.5555555555555556,
              "#d8576b"
             ],
             [
              0.6666666666666666,
              "#ed7953"
             ],
             [
              0.7777777777777778,
              "#fb9f3a"
             ],
             [
              0.8888888888888888,
              "#fdca26"
             ],
             [
              1,
              "#f0f921"
             ]
            ],
            "type": "heatmap"
           }
          ],
          "heatmapgl": [
           {
            "colorbar": {
             "outlinewidth": 0,
             "ticks": ""
            },
            "colorscale": [
             [
              0,
              "#0d0887"
             ],
             [
              0.1111111111111111,
              "#46039f"
             ],
             [
              0.2222222222222222,
              "#7201a8"
             ],
             [
              0.3333333333333333,
              "#9c179e"
             ],
             [
              0.4444444444444444,
              "#bd3786"
             ],
             [
              0.5555555555555556,
              "#d8576b"
             ],
             [
              0.6666666666666666,
              "#ed7953"
             ],
             [
              0.7777777777777778,
              "#fb9f3a"
             ],
             [
              0.8888888888888888,
              "#fdca26"
             ],
             [
              1,
              "#f0f921"
             ]
            ],
            "type": "heatmapgl"
           }
          ],
          "histogram": [
           {
            "marker": {
             "pattern": {
              "fillmode": "overlay",
              "size": 10,
              "solidity": 0.2
             }
            },
            "type": "histogram"
           }
          ],
          "histogram2d": [
           {
            "colorbar": {
             "outlinewidth": 0,
             "ticks": ""
            },
            "colorscale": [
             [
              0,
              "#0d0887"
             ],
             [
              0.1111111111111111,
              "#46039f"
             ],
             [
              0.2222222222222222,
              "#7201a8"
             ],
             [
              0.3333333333333333,
              "#9c179e"
             ],
             [
              0.4444444444444444,
              "#bd3786"
             ],
             [
              0.5555555555555556,
              "#d8576b"
             ],
             [
              0.6666666666666666,
              "#ed7953"
             ],
             [
              0.7777777777777778,
              "#fb9f3a"
             ],
             [
              0.8888888888888888,
              "#fdca26"
             ],
             [
              1,
              "#f0f921"
             ]
            ],
            "type": "histogram2d"
           }
          ],
          "histogram2dcontour": [
           {
            "colorbar": {
             "outlinewidth": 0,
             "ticks": ""
            },
            "colorscale": [
             [
              0,
              "#0d0887"
             ],
             [
              0.1111111111111111,
              "#46039f"
             ],
             [
              0.2222222222222222,
              "#7201a8"
             ],
             [
              0.3333333333333333,
              "#9c179e"
             ],
             [
              0.4444444444444444,
              "#bd3786"
             ],
             [
              0.5555555555555556,
              "#d8576b"
             ],
             [
              0.6666666666666666,
              "#ed7953"
             ],
             [
              0.7777777777777778,
              "#fb9f3a"
             ],
             [
              0.8888888888888888,
              "#fdca26"
             ],
             [
              1,
              "#f0f921"
             ]
            ],
            "type": "histogram2dcontour"
           }
          ],
          "mesh3d": [
           {
            "colorbar": {
             "outlinewidth": 0,
             "ticks": ""
            },
            "type": "mesh3d"
           }
          ],
          "parcoords": [
           {
            "line": {
             "colorbar": {
              "outlinewidth": 0,
              "ticks": ""
             }
            },
            "type": "parcoords"
           }
          ],
          "pie": [
           {
            "automargin": true,
            "type": "pie"
           }
          ],
          "scatter": [
           {
            "fillpattern": {
             "fillmode": "overlay",
             "size": 10,
             "solidity": 0.2
            },
            "type": "scatter"
           }
          ],
          "scatter3d": [
           {
            "line": {
             "colorbar": {
              "outlinewidth": 0,
              "ticks": ""
             }
            },
            "marker": {
             "colorbar": {
              "outlinewidth": 0,
              "ticks": ""
             }
            },
            "type": "scatter3d"
           }
          ],
          "scattercarpet": [
           {
            "marker": {
             "colorbar": {
              "outlinewidth": 0,
              "ticks": ""
             }
            },
            "type": "scattercarpet"
           }
          ],
          "scattergeo": [
           {
            "marker": {
             "colorbar": {
              "outlinewidth": 0,
              "ticks": ""
             }
            },
            "type": "scattergeo"
           }
          ],
          "scattergl": [
           {
            "marker": {
             "colorbar": {
              "outlinewidth": 0,
              "ticks": ""
             }
            },
            "type": "scattergl"
           }
          ],
          "scattermapbox": [
           {
            "marker": {
             "colorbar": {
              "outlinewidth": 0,
              "ticks": ""
             }
            },
            "type": "scattermapbox"
           }
          ],
          "scatterpolar": [
           {
            "marker": {
             "colorbar": {
              "outlinewidth": 0,
              "ticks": ""
             }
            },
            "type": "scatterpolar"
           }
          ],
          "scatterpolargl": [
           {
            "marker": {
             "colorbar": {
              "outlinewidth": 0,
              "ticks": ""
             }
            },
            "type": "scatterpolargl"
           }
          ],
          "scatterternary": [
           {
            "marker": {
             "colorbar": {
              "outlinewidth": 0,
              "ticks": ""
             }
            },
            "type": "scatterternary"
           }
          ],
          "surface": [
           {
            "colorbar": {
             "outlinewidth": 0,
             "ticks": ""
            },
            "colorscale": [
             [
              0,
              "#0d0887"
             ],
             [
              0.1111111111111111,
              "#46039f"
             ],
             [
              0.2222222222222222,
              "#7201a8"
             ],
             [
              0.3333333333333333,
              "#9c179e"
             ],
             [
              0.4444444444444444,
              "#bd3786"
             ],
             [
              0.5555555555555556,
              "#d8576b"
             ],
             [
              0.6666666666666666,
              "#ed7953"
             ],
             [
              0.7777777777777778,
              "#fb9f3a"
             ],
             [
              0.8888888888888888,
              "#fdca26"
             ],
             [
              1,
              "#f0f921"
             ]
            ],
            "type": "surface"
           }
          ],
          "table": [
           {
            "cells": {
             "fill": {
              "color": "#EBF0F8"
             },
             "line": {
              "color": "white"
             }
            },
            "header": {
             "fill": {
              "color": "#C8D4E3"
             },
             "line": {
              "color": "white"
             }
            },
            "type": "table"
           }
          ]
         },
         "layout": {
          "annotationdefaults": {
           "arrowcolor": "#2a3f5f",
           "arrowhead": 0,
           "arrowwidth": 1
          },
          "autotypenumbers": "strict",
          "coloraxis": {
           "colorbar": {
            "outlinewidth": 0,
            "ticks": ""
           }
          },
          "colorscale": {
           "diverging": [
            [
             0,
             "#8e0152"
            ],
            [
             0.1,
             "#c51b7d"
            ],
            [
             0.2,
             "#de77ae"
            ],
            [
             0.3,
             "#f1b6da"
            ],
            [
             0.4,
             "#fde0ef"
            ],
            [
             0.5,
             "#f7f7f7"
            ],
            [
             0.6,
             "#e6f5d0"
            ],
            [
             0.7,
             "#b8e186"
            ],
            [
             0.8,
             "#7fbc41"
            ],
            [
             0.9,
             "#4d9221"
            ],
            [
             1,
             "#276419"
            ]
           ],
           "sequential": [
            [
             0,
             "#0d0887"
            ],
            [
             0.1111111111111111,
             "#46039f"
            ],
            [
             0.2222222222222222,
             "#7201a8"
            ],
            [
             0.3333333333333333,
             "#9c179e"
            ],
            [
             0.4444444444444444,
             "#bd3786"
            ],
            [
             0.5555555555555556,
             "#d8576b"
            ],
            [
             0.6666666666666666,
             "#ed7953"
            ],
            [
             0.7777777777777778,
             "#fb9f3a"
            ],
            [
             0.8888888888888888,
             "#fdca26"
            ],
            [
             1,
             "#f0f921"
            ]
           ],
           "sequentialminus": [
            [
             0,
             "#0d0887"
            ],
            [
             0.1111111111111111,
             "#46039f"
            ],
            [
             0.2222222222222222,
             "#7201a8"
            ],
            [
             0.3333333333333333,
             "#9c179e"
            ],
            [
             0.4444444444444444,
             "#bd3786"
            ],
            [
             0.5555555555555556,
             "#d8576b"
            ],
            [
             0.6666666666666666,
             "#ed7953"
            ],
            [
             0.7777777777777778,
             "#fb9f3a"
            ],
            [
             0.8888888888888888,
             "#fdca26"
            ],
            [
             1,
             "#f0f921"
            ]
           ]
          },
          "colorway": [
           "#636efa",
           "#EF553B",
           "#00cc96",
           "#ab63fa",
           "#FFA15A",
           "#19d3f3",
           "#FF6692",
           "#B6E880",
           "#FF97FF",
           "#FECB52"
          ],
          "font": {
           "color": "#2a3f5f"
          },
          "geo": {
           "bgcolor": "white",
           "lakecolor": "white",
           "landcolor": "#E5ECF6",
           "showlakes": true,
           "showland": true,
           "subunitcolor": "white"
          },
          "hoverlabel": {
           "align": "left"
          },
          "hovermode": "closest",
          "mapbox": {
           "style": "light"
          },
          "paper_bgcolor": "white",
          "plot_bgcolor": "#E5ECF6",
          "polar": {
           "angularaxis": {
            "gridcolor": "white",
            "linecolor": "white",
            "ticks": ""
           },
           "bgcolor": "#E5ECF6",
           "radialaxis": {
            "gridcolor": "white",
            "linecolor": "white",
            "ticks": ""
           }
          },
          "scene": {
           "xaxis": {
            "backgroundcolor": "#E5ECF6",
            "gridcolor": "white",
            "gridwidth": 2,
            "linecolor": "white",
            "showbackground": true,
            "ticks": "",
            "zerolinecolor": "white"
           },
           "yaxis": {
            "backgroundcolor": "#E5ECF6",
            "gridcolor": "white",
            "gridwidth": 2,
            "linecolor": "white",
            "showbackground": true,
            "ticks": "",
            "zerolinecolor": "white"
           },
           "zaxis": {
            "backgroundcolor": "#E5ECF6",
            "gridcolor": "white",
            "gridwidth": 2,
            "linecolor": "white",
            "showbackground": true,
            "ticks": "",
            "zerolinecolor": "white"
           }
          },
          "shapedefaults": {
           "line": {
            "color": "#2a3f5f"
           }
          },
          "ternary": {
           "aaxis": {
            "gridcolor": "white",
            "linecolor": "white",
            "ticks": ""
           },
           "baxis": {
            "gridcolor": "white",
            "linecolor": "white",
            "ticks": ""
           },
           "bgcolor": "#E5ECF6",
           "caxis": {
            "gridcolor": "white",
            "linecolor": "white",
            "ticks": ""
           }
          },
          "title": {
           "x": 0.05
          },
          "xaxis": {
           "automargin": true,
           "gridcolor": "white",
           "linecolor": "white",
           "ticks": "",
           "title": {
            "standoff": 15
           },
           "zerolinecolor": "white",
           "zerolinewidth": 2
          },
          "yaxis": {
           "automargin": true,
           "gridcolor": "white",
           "linecolor": "white",
           "ticks": "",
           "title": {
            "standoff": 15
           },
           "zerolinecolor": "white",
           "zerolinewidth": 2
          }
         }
        },
        "title": {
         "text": "Real Stock Prices vs Predicted by LSTM\n\nRMSE 2.4370087359506782"
        },
        "xaxis": {
         "title": {
          "text": "Date"
         }
        },
        "yaxis": {
         "title": {
          "text": "Value"
         }
        }
       }
      },
      "text/html": [
       "<div>                            <div id=\"56f6b534-a411-4aa9-b144-7c9880738ac1\" class=\"plotly-graph-div\" style=\"height:525px; width:100%;\"></div>            <script type=\"text/javascript\">                require([\"plotly\"], function(Plotly) {                    window.PLOTLYENV=window.PLOTLYENV || {};                                    if (document.getElementById(\"56f6b534-a411-4aa9-b144-7c9880738ac1\")) {                    Plotly.newPlot(                        \"56f6b534-a411-4aa9-b144-7c9880738ac1\",                        [{\"line\":{\"color\":\"blue\",\"width\":0.7},\"name\":\"Real Stock Prices\",\"x\":[\"2022-11-17T00:00:00-05:00\",\"2022-11-18T00:00:00-05:00\",\"2022-11-21T00:00:00-05:00\",\"2022-11-22T00:00:00-05:00\",\"2022-11-23T00:00:00-05:00\",\"2022-11-25T00:00:00-05:00\",\"2022-11-28T00:00:00-05:00\",\"2022-11-29T00:00:00-05:00\",\"2022-11-30T00:00:00-05:00\",\"2022-12-01T00:00:00-05:00\",\"2022-12-02T00:00:00-05:00\",\"2022-12-05T00:00:00-05:00\",\"2022-12-06T00:00:00-05:00\",\"2022-12-07T00:00:00-05:00\",\"2022-12-08T00:00:00-05:00\",\"2022-12-09T00:00:00-05:00\",\"2022-12-12T00:00:00-05:00\",\"2022-12-13T00:00:00-05:00\",\"2022-12-14T00:00:00-05:00\",\"2022-12-15T00:00:00-05:00\",\"2022-12-16T00:00:00-05:00\",\"2022-12-19T00:00:00-05:00\",\"2022-12-20T00:00:00-05:00\",\"2022-12-21T00:00:00-05:00\",\"2022-12-22T00:00:00-05:00\",\"2022-12-23T00:00:00-05:00\",\"2022-12-27T00:00:00-05:00\",\"2022-12-28T00:00:00-05:00\",\"2022-12-29T00:00:00-05:00\",\"2022-12-30T00:00:00-05:00\",\"2023-01-03T00:00:00-05:00\",\"2023-01-04T00:00:00-05:00\",\"2023-01-05T00:00:00-05:00\",\"2023-01-06T00:00:00-05:00\",\"2023-01-09T00:00:00-05:00\",\"2023-01-10T00:00:00-05:00\",\"2023-01-11T00:00:00-05:00\",\"2023-01-12T00:00:00-05:00\",\"2023-01-13T00:00:00-05:00\",\"2023-01-17T00:00:00-05:00\",\"2023-01-18T00:00:00-05:00\",\"2023-01-19T00:00:00-05:00\",\"2023-01-20T00:00:00-05:00\",\"2023-01-23T00:00:00-05:00\",\"2023-01-24T00:00:00-05:00\",\"2023-01-25T00:00:00-05:00\",\"2023-01-26T00:00:00-05:00\",\"2023-01-27T00:00:00-05:00\",\"2023-01-30T00:00:00-05:00\",\"2023-01-31T00:00:00-05:00\",\"2023-02-01T00:00:00-05:00\",\"2023-02-02T00:00:00-05:00\",\"2023-02-03T00:00:00-05:00\",\"2023-02-06T00:00:00-05:00\",\"2023-02-07T00:00:00-05:00\",\"2023-02-08T00:00:00-05:00\",\"2023-02-09T00:00:00-05:00\",\"2023-02-10T00:00:00-05:00\",\"2023-02-13T00:00:00-05:00\",\"2023-02-14T00:00:00-05:00\",\"2023-02-15T00:00:00-05:00\",\"2023-02-16T00:00:00-05:00\",\"2023-02-17T00:00:00-05:00\",\"2023-02-21T00:00:00-05:00\",\"2023-02-22T00:00:00-05:00\",\"2023-02-23T00:00:00-05:00\",\"2023-02-24T00:00:00-05:00\",\"2023-02-27T00:00:00-05:00\",\"2023-02-28T00:00:00-05:00\",\"2023-03-01T00:00:00-05:00\",\"2023-03-02T00:00:00-05:00\",\"2023-03-03T00:00:00-05:00\",\"2023-03-06T00:00:00-05:00\",\"2023-03-07T00:00:00-05:00\",\"2023-03-08T00:00:00-05:00\",\"2023-03-09T00:00:00-05:00\",\"2023-03-10T00:00:00-05:00\",\"2023-03-13T00:00:00-04:00\",\"2023-03-14T00:00:00-04:00\",\"2023-03-15T00:00:00-04:00\",\"2023-03-16T00:00:00-04:00\",\"2023-03-17T00:00:00-04:00\",\"2023-03-20T00:00:00-04:00\",\"2023-03-21T00:00:00-04:00\",\"2023-03-22T00:00:00-04:00\",\"2023-03-23T00:00:00-04:00\",\"2023-03-24T00:00:00-04:00\",\"2023-03-27T00:00:00-04:00\",\"2023-03-28T00:00:00-04:00\",\"2023-03-29T00:00:00-04:00\",\"2023-03-30T00:00:00-04:00\",\"2023-03-31T00:00:00-04:00\",\"2023-04-03T00:00:00-04:00\",\"2023-04-04T00:00:00-04:00\",\"2023-04-05T00:00:00-04:00\",\"2023-04-06T00:00:00-04:00\",\"2023-04-10T00:00:00-04:00\",\"2023-04-11T00:00:00-04:00\",\"2023-04-12T00:00:00-04:00\",\"2023-04-13T00:00:00-04:00\",\"2023-04-14T00:00:00-04:00\",\"2023-04-17T00:00:00-04:00\",\"2023-04-18T00:00:00-04:00\",\"2023-04-19T00:00:00-04:00\",\"2023-04-20T00:00:00-04:00\",\"2023-04-21T00:00:00-04:00\",\"2023-04-24T00:00:00-04:00\",\"2023-04-25T00:00:00-04:00\",\"2023-04-26T00:00:00-04:00\",\"2023-04-27T00:00:00-04:00\",\"2023-04-28T00:00:00-04:00\",\"2023-05-01T00:00:00-04:00\",\"2023-05-02T00:00:00-04:00\",\"2023-05-03T00:00:00-04:00\",\"2023-05-04T00:00:00-04:00\",\"2023-05-05T00:00:00-04:00\",\"2023-05-08T00:00:00-04:00\",\"2023-05-09T00:00:00-04:00\",\"2023-05-10T00:00:00-04:00\",\"2023-05-11T00:00:00-04:00\",\"2023-05-12T00:00:00-04:00\",\"2023-05-15T00:00:00-04:00\",\"2023-05-16T00:00:00-04:00\",\"2023-05-17T00:00:00-04:00\",\"2023-05-18T00:00:00-04:00\",\"2023-05-19T00:00:00-04:00\",\"2023-05-22T00:00:00-04:00\",\"2023-05-23T00:00:00-04:00\",\"2023-05-24T00:00:00-04:00\",\"2023-05-25T00:00:00-04:00\",\"2023-05-26T00:00:00-04:00\",\"2023-05-30T00:00:00-04:00\",\"2023-05-31T00:00:00-04:00\",\"2023-06-01T00:00:00-04:00\",\"2023-06-02T00:00:00-04:00\",\"2023-06-05T00:00:00-04:00\",\"2023-06-06T00:00:00-04:00\",\"2023-06-07T00:00:00-04:00\",\"2023-06-08T00:00:00-04:00\",\"2023-06-09T00:00:00-04:00\",\"2023-06-12T00:00:00-04:00\",\"2023-06-13T00:00:00-04:00\",\"2023-06-14T00:00:00-04:00\",\"2023-06-15T00:00:00-04:00\",\"2023-06-16T00:00:00-04:00\",\"2023-06-20T00:00:00-04:00\",\"2023-06-21T00:00:00-04:00\",\"2023-06-22T00:00:00-04:00\",\"2023-06-23T00:00:00-04:00\",\"2023-06-26T00:00:00-04:00\",\"2023-06-27T00:00:00-04:00\",\"2023-06-28T00:00:00-04:00\",\"2023-06-29T00:00:00-04:00\",\"2023-06-30T00:00:00-04:00\",\"2023-07-03T00:00:00-04:00\",\"2023-07-05T00:00:00-04:00\",\"2023-07-06T00:00:00-04:00\",\"2023-07-07T00:00:00-04:00\",\"2023-07-10T00:00:00-04:00\",\"2023-07-11T00:00:00-04:00\",\"2023-07-12T00:00:00-04:00\",\"2023-07-13T00:00:00-04:00\",\"2023-07-14T00:00:00-04:00\",\"2023-07-17T00:00:00-04:00\",\"2023-07-18T00:00:00-04:00\",\"2023-07-19T00:00:00-04:00\",\"2023-07-20T00:00:00-04:00\",\"2023-07-21T00:00:00-04:00\",\"2023-07-24T00:00:00-04:00\",\"2023-07-25T00:00:00-04:00\",\"2023-07-26T00:00:00-04:00\",\"2023-07-27T00:00:00-04:00\",\"2023-07-28T00:00:00-04:00\",\"2023-07-31T00:00:00-04:00\",\"2023-08-01T00:00:00-04:00\",\"2023-08-02T00:00:00-04:00\",\"2023-08-03T00:00:00-04:00\",\"2023-08-04T00:00:00-04:00\",\"2023-08-07T00:00:00-04:00\",\"2023-08-08T00:00:00-04:00\",\"2023-08-09T00:00:00-04:00\",\"2023-08-10T00:00:00-04:00\",\"2023-08-11T00:00:00-04:00\",\"2023-08-14T00:00:00-04:00\",\"2023-08-15T00:00:00-04:00\",\"2023-08-16T00:00:00-04:00\",\"2023-08-17T00:00:00-04:00\",\"2023-08-18T00:00:00-04:00\",\"2023-08-21T00:00:00-04:00\",\"2023-08-22T00:00:00-04:00\",\"2023-08-23T00:00:00-04:00\",\"2023-08-24T00:00:00-04:00\"],\"y\":[94.8499984741211,94.13999938964844,92.45999908447266,93.19999694824219,94.12999725341797,93.41000366210938,93.94999694824219,92.41999816894531,96.54000091552734,95.5,94.12999725341797,91.01000213623047,88.25,88.45999908447266,90.3499984741211,89.08999633789062,90.55000305175781,92.48999786376953,91.58000183105469,88.44999694824219,87.86000061035156,84.91999816894531,85.19000244140625,86.7699966430664,83.79000091552734,85.25,83.04000091552734,81.81999969482422,84.18000030517578,84.0,85.81999969482422,85.13999938964844,83.12000274658203,86.08000183105469,87.36000061035156,89.87000274658203,95.08999633789062,95.2699966430664,98.12000274658203,96.05000305175781,95.45999908447266,93.68000030517578,97.25,97.5199966430664,96.31999969482422,97.18000030517578,99.22000122070312,102.23999786376953,100.55000305175781,103.12999725341797,105.1500015258789,112.91000366210938,103.38999938964844,102.18000030517578,102.11000061035156,100.05000305175781,98.23999786376953,97.61000061035156,99.54000091552734,99.69999694824219,101.16000366210938,98.1500015258789,97.19999694824219,94.58000183105469,95.79000091552734,95.81999969482422,93.5,93.76000213623047,94.2300033569336,92.16999816894531,92.12999725341797,94.9000015258789,93.75,93.55000305175781,93.91999816894531,92.25,90.7300033569336,92.43000030517578,94.87999725341797,96.19999694824219,100.04000091552734,98.94999694824219,97.70999908447266,100.61000061035156,98.69999694824219,98.70999908447266,98.12999725341797,98.04000091552734,97.23999786376953,100.25,102.0,103.29000091552734,102.41000366210938,103.94999694824219,101.0999984741211,102.05999755859375,102.16999816894531,99.91999816894531,97.83000183105469,102.4000015258789,102.51000213623047,102.73999786376953,102.30000305175781,104.30000305175781,103.80999755859375,106.95999908447266,106.20999908447266,102.56999969482422,104.9800033569336,109.81999969482422,105.44999694824219,102.05000305175781,103.62999725341797,103.6500015258789,104.0,105.66000366210938,105.83000183105469,106.62000274658203,110.19000244140625,112.18000030517578,110.26000213623047,111.19999694824219,113.4000015258789,115.5,118.1500015258789,116.25,115.01000213623047,114.98999786376953,116.75,115.0,120.11000061035156,121.66000366210939,120.58000183105469,122.7699966430664,124.24999999999999,125.30000305175783,126.61000061035156,121.2300033569336,124.24999999999999,123.4300003051758,126.56999969482423,126.66000366210939,126.41999816894533,127.11000061035156,125.48999786376953,125.77999877929689,124.83000183105467,130.14999389648438,129.3300018310547,127.33000183105467,129.17999267578125,129.0399932861328,127.9000015258789,130.36000061035156,130.22000122070312,130.3800048828125,128.36000061035156,129.77999877929688,127.12999725341797,128.77999877929688,130.8000030517578,134.3000030517578,134.67999267578125,133.55999755859375,132.8300018310547,135.36000061035156,129.9600067138672,130.0,128.8000030517578,129.1300048828125,128.14999389648438,128.25,132.2100067138672,133.67999267578125,131.69000244140625,128.2100067138672,128.91000366210938,139.57000732421875,142.22000122070312,139.94000244140625,137.85000610351562,138.55999755859375,138.41000366210938,140.57000732421875,137.6699981689453,135.07000732421875,133.97999572753906,133.22000122070312,134.67999267578125,134.25,135.52000427246094,131.83999633789062],\"type\":\"scatter\"},{\"line\":{\"color\":\"red\",\"width\":1.5},\"mode\":\"lines\",\"name\":\"Predicted Stock Prices\",\"x\":[\"2022-11-17T00:00:00-05:00\",\"2022-11-18T00:00:00-05:00\",\"2022-11-21T00:00:00-05:00\",\"2022-11-22T00:00:00-05:00\",\"2022-11-23T00:00:00-05:00\",\"2022-11-25T00:00:00-05:00\",\"2022-11-28T00:00:00-05:00\",\"2022-11-29T00:00:00-05:00\",\"2022-11-30T00:00:00-05:00\",\"2022-12-01T00:00:00-05:00\",\"2022-12-02T00:00:00-05:00\",\"2022-12-05T00:00:00-05:00\",\"2022-12-06T00:00:00-05:00\",\"2022-12-07T00:00:00-05:00\",\"2022-12-08T00:00:00-05:00\",\"2022-12-09T00:00:00-05:00\",\"2022-12-12T00:00:00-05:00\",\"2022-12-13T00:00:00-05:00\",\"2022-12-14T00:00:00-05:00\",\"2022-12-15T00:00:00-05:00\",\"2022-12-16T00:00:00-05:00\",\"2022-12-19T00:00:00-05:00\",\"2022-12-20T00:00:00-05:00\",\"2022-12-21T00:00:00-05:00\",\"2022-12-22T00:00:00-05:00\",\"2022-12-23T00:00:00-05:00\",\"2022-12-27T00:00:00-05:00\",\"2022-12-28T00:00:00-05:00\",\"2022-12-29T00:00:00-05:00\",\"2022-12-30T00:00:00-05:00\",\"2023-01-03T00:00:00-05:00\",\"2023-01-04T00:00:00-05:00\",\"2023-01-05T00:00:00-05:00\",\"2023-01-06T00:00:00-05:00\",\"2023-01-09T00:00:00-05:00\",\"2023-01-10T00:00:00-05:00\",\"2023-01-11T00:00:00-05:00\",\"2023-01-12T00:00:00-05:00\",\"2023-01-13T00:00:00-05:00\",\"2023-01-17T00:00:00-05:00\",\"2023-01-18T00:00:00-05:00\",\"2023-01-19T00:00:00-05:00\",\"2023-01-20T00:00:00-05:00\",\"2023-01-23T00:00:00-05:00\",\"2023-01-24T00:00:00-05:00\",\"2023-01-25T00:00:00-05:00\",\"2023-01-26T00:00:00-05:00\",\"2023-01-27T00:00:00-05:00\",\"2023-01-30T00:00:00-05:00\",\"2023-01-31T00:00:00-05:00\",\"2023-02-01T00:00:00-05:00\",\"2023-02-02T00:00:00-05:00\",\"2023-02-03T00:00:00-05:00\",\"2023-02-06T00:00:00-05:00\",\"2023-02-07T00:00:00-05:00\",\"2023-02-08T00:00:00-05:00\",\"2023-02-09T00:00:00-05:00\",\"2023-02-10T00:00:00-05:00\",\"2023-02-13T00:00:00-05:00\",\"2023-02-14T00:00:00-05:00\",\"2023-02-15T00:00:00-05:00\",\"2023-02-16T00:00:00-05:00\",\"2023-02-17T00:00:00-05:00\",\"2023-02-21T00:00:00-05:00\",\"2023-02-22T00:00:00-05:00\",\"2023-02-23T00:00:00-05:00\",\"2023-02-24T00:00:00-05:00\",\"2023-02-27T00:00:00-05:00\",\"2023-02-28T00:00:00-05:00\",\"2023-03-01T00:00:00-05:00\",\"2023-03-02T00:00:00-05:00\",\"2023-03-03T00:00:00-05:00\",\"2023-03-06T00:00:00-05:00\",\"2023-03-07T00:00:00-05:00\",\"2023-03-08T00:00:00-05:00\",\"2023-03-09T00:00:00-05:00\",\"2023-03-10T00:00:00-05:00\",\"2023-03-13T00:00:00-04:00\",\"2023-03-14T00:00:00-04:00\",\"2023-03-15T00:00:00-04:00\",\"2023-03-16T00:00:00-04:00\",\"2023-03-17T00:00:00-04:00\",\"2023-03-20T00:00:00-04:00\",\"2023-03-21T00:00:00-04:00\",\"2023-03-22T00:00:00-04:00\",\"2023-03-23T00:00:00-04:00\",\"2023-03-24T00:00:00-04:00\",\"2023-03-27T00:00:00-04:00\",\"2023-03-28T00:00:00-04:00\",\"2023-03-29T00:00:00-04:00\",\"2023-03-30T00:00:00-04:00\",\"2023-03-31T00:00:00-04:00\",\"2023-04-03T00:00:00-04:00\",\"2023-04-04T00:00:00-04:00\",\"2023-04-05T00:00:00-04:00\",\"2023-04-06T00:00:00-04:00\",\"2023-04-10T00:00:00-04:00\",\"2023-04-11T00:00:00-04:00\",\"2023-04-12T00:00:00-04:00\",\"2023-04-13T00:00:00-04:00\",\"2023-04-14T00:00:00-04:00\",\"2023-04-17T00:00:00-04:00\",\"2023-04-18T00:00:00-04:00\",\"2023-04-19T00:00:00-04:00\",\"2023-04-20T00:00:00-04:00\",\"2023-04-21T00:00:00-04:00\",\"2023-04-24T00:00:00-04:00\",\"2023-04-25T00:00:00-04:00\",\"2023-04-26T00:00:00-04:00\",\"2023-04-27T00:00:00-04:00\",\"2023-04-28T00:00:00-04:00\",\"2023-05-01T00:00:00-04:00\",\"2023-05-02T00:00:00-04:00\",\"2023-05-03T00:00:00-04:00\",\"2023-05-04T00:00:00-04:00\",\"2023-05-05T00:00:00-04:00\",\"2023-05-08T00:00:00-04:00\",\"2023-05-09T00:00:00-04:00\",\"2023-05-10T00:00:00-04:00\",\"2023-05-11T00:00:00-04:00\",\"2023-05-12T00:00:00-04:00\",\"2023-05-15T00:00:00-04:00\",\"2023-05-16T00:00:00-04:00\",\"2023-05-17T00:00:00-04:00\",\"2023-05-18T00:00:00-04:00\",\"2023-05-19T00:00:00-04:00\",\"2023-05-22T00:00:00-04:00\",\"2023-05-23T00:00:00-04:00\",\"2023-05-24T00:00:00-04:00\",\"2023-05-25T00:00:00-04:00\",\"2023-05-26T00:00:00-04:00\",\"2023-05-30T00:00:00-04:00\",\"2023-05-31T00:00:00-04:00\",\"2023-06-01T00:00:00-04:00\",\"2023-06-02T00:00:00-04:00\",\"2023-06-05T00:00:00-04:00\",\"2023-06-06T00:00:00-04:00\",\"2023-06-07T00:00:00-04:00\",\"2023-06-08T00:00:00-04:00\",\"2023-06-09T00:00:00-04:00\",\"2023-06-12T00:00:00-04:00\",\"2023-06-13T00:00:00-04:00\",\"2023-06-14T00:00:00-04:00\",\"2023-06-15T00:00:00-04:00\",\"2023-06-16T00:00:00-04:00\",\"2023-06-20T00:00:00-04:00\",\"2023-06-21T00:00:00-04:00\",\"2023-06-22T00:00:00-04:00\",\"2023-06-23T00:00:00-04:00\",\"2023-06-26T00:00:00-04:00\",\"2023-06-27T00:00:00-04:00\",\"2023-06-28T00:00:00-04:00\",\"2023-06-29T00:00:00-04:00\",\"2023-06-30T00:00:00-04:00\",\"2023-07-03T00:00:00-04:00\",\"2023-07-05T00:00:00-04:00\",\"2023-07-06T00:00:00-04:00\",\"2023-07-07T00:00:00-04:00\",\"2023-07-10T00:00:00-04:00\",\"2023-07-11T00:00:00-04:00\",\"2023-07-12T00:00:00-04:00\",\"2023-07-13T00:00:00-04:00\",\"2023-07-14T00:00:00-04:00\",\"2023-07-17T00:00:00-04:00\",\"2023-07-18T00:00:00-04:00\",\"2023-07-19T00:00:00-04:00\",\"2023-07-20T00:00:00-04:00\",\"2023-07-21T00:00:00-04:00\",\"2023-07-24T00:00:00-04:00\",\"2023-07-25T00:00:00-04:00\",\"2023-07-26T00:00:00-04:00\",\"2023-07-27T00:00:00-04:00\",\"2023-07-28T00:00:00-04:00\",\"2023-07-31T00:00:00-04:00\",\"2023-08-01T00:00:00-04:00\",\"2023-08-02T00:00:00-04:00\",\"2023-08-03T00:00:00-04:00\",\"2023-08-04T00:00:00-04:00\",\"2023-08-07T00:00:00-04:00\",\"2023-08-08T00:00:00-04:00\",\"2023-08-09T00:00:00-04:00\",\"2023-08-10T00:00:00-04:00\",\"2023-08-11T00:00:00-04:00\",\"2023-08-14T00:00:00-04:00\",\"2023-08-15T00:00:00-04:00\",\"2023-08-16T00:00:00-04:00\",\"2023-08-17T00:00:00-04:00\",\"2023-08-18T00:00:00-04:00\",\"2023-08-21T00:00:00-04:00\",\"2023-08-22T00:00:00-04:00\",\"2023-08-23T00:00:00-04:00\",\"2023-08-24T00:00:00-04:00\"],\"y\":[98.0957260131836,95.99419403076172,94.75531005859375,93.33792114257812,93.28946685791016,93.9985122680664,93.9068603515625,94.13778686523438,93.27143096923828,95.43460083007812,95.84403228759766,94.94869232177734,92.5184326171875,89.80024719238281,88.8055648803711,89.67039489746094,89.52960968017578,90.25102233886719,91.81011199951172,91.98664855957031,90.02938079833984,88.65713500976562,86.45821380615234,85.56929016113281,86.18765258789062,85.0560302734375,85.13121032714844,84.1307144165039,82.8988037109375,83.49053955078125,83.94085693359375,85.12828826904297,85.4316635131836,84.37248992919922,85.2640380859375,86.64019012451172,88.78031158447266,92.97610473632812,95.08616638183594,97.48445892333984,96.91424560546875,96.00908660888672,94.46209716796875,96.187744140625,97.2712631225586,96.81269836425781,97.09619140625,98.61039733886719,101.3205337524414,101.04232788085938,102.56356048583984,104.57158660888672,111.1580581665039,105.48743438720703,102.65506744384766,101.96380615234375,100.46215057373047,98.78617858886719,97.86719512939453,98.96758270263672,99.59909057617188,100.80258178710938,99.09844207763672,97.70861053466797,95.52171325683594,95.52510070800781,95.7400131225586,94.3836669921875,93.94896697998047,94.16282653808594,93.02640533447266,92.46538543701172,94.02410888671875,94.12147521972656,93.9123306274414,94.022705078125,93.04088592529297,91.63802337646484,92.08100891113281,93.97254180908203,95.73096466064453,98.93515014648438,99.41715240478516,98.45381927490234,99.95978546142578,99.28248596191406,98.92413330078125,98.42131805419922,98.19377136230469,97.6026382446289,99.44600677490234,101.4699935913086,103.04259490966797,102.79104614257812,103.67555236816406,101.87663269042969,101.90129089355469,102.09440612792969,100.57666778564453,98.58827209472656,101.1404037475586,102.35155487060547,102.81146240234375,102.54203796386719,103.8480453491211,103.9349594116211,106.23941802978516,106.39219665527344,103.56082916259766,104.44763946533203,108.60222625732422,106.46562194824219,103.07811737060547,103.28213500976562,103.56158447265625,103.95240783691406,105.31612396240234,105.85643005371094,106.52787017822266,109.4454345703125,111.82843017578125,110.69834899902344,111.01073455810547,112.91313171386719,115.11377716064453,117.76534271240234,116.47376251220703,115.03399658203125,114.79328155517578,116.34093475341797,115.15069580078125,119.33214569091797,121.44596862792969,120.55589294433594,122.27376556396484,123.8271255493164,124.89739990234375,126.15253448486328,121.16490936279297,123.53768157958984,123.17425537109375,126.06614685058594,126.38065338134766,126.0437240600586,126.62020111083984,125.11253356933594,125.29095458984375,124.47077178955078,129.50535583496094,129.0457000732422,126.90406799316406,128.56198120117188,128.57676696777344,127.46089172363281,129.8052978515625,129.80133056640625,129.88909912109375,127.90380096435547,129.2266845703125,126.78516387939453,128.2722625732422,130.37608337402344,133.8649139404297,134.17869567871094,132.87112426757812,132.1067657470703,134.71514892578125,129.37017822265625,129.4080352783203,128.39617919921875,128.74954223632812,127.8448486328125,127.88345336914062,131.7346649169922,133.29232788085938,131.15711975097656,127.63399505615234,128.31460571289062,139.08596801757812,141.94065856933594,138.9346466064453,136.7216339111328,137.68150329589844,137.6441650390625,139.9430389404297,136.79376220703125,134.2357177734375,133.30575561523438,132.65650939941406,134.17430114746094,133.7157440185547,134.91700744628906],\"type\":\"scatter\"}],                        {\"template\":{\"data\":{\"histogram2dcontour\":[{\"type\":\"histogram2dcontour\",\"colorbar\":{\"outlinewidth\":0,\"ticks\":\"\"},\"colorscale\":[[0.0,\"#0d0887\"],[0.1111111111111111,\"#46039f\"],[0.2222222222222222,\"#7201a8\"],[0.3333333333333333,\"#9c179e\"],[0.4444444444444444,\"#bd3786\"],[0.5555555555555556,\"#d8576b\"],[0.6666666666666666,\"#ed7953\"],[0.7777777777777778,\"#fb9f3a\"],[0.8888888888888888,\"#fdca26\"],[1.0,\"#f0f921\"]]}],\"choropleth\":[{\"type\":\"choropleth\",\"colorbar\":{\"outlinewidth\":0,\"ticks\":\"\"}}],\"histogram2d\":[{\"type\":\"histogram2d\",\"colorbar\":{\"outlinewidth\":0,\"ticks\":\"\"},\"colorscale\":[[0.0,\"#0d0887\"],[0.1111111111111111,\"#46039f\"],[0.2222222222222222,\"#7201a8\"],[0.3333333333333333,\"#9c179e\"],[0.4444444444444444,\"#bd3786\"],[0.5555555555555556,\"#d8576b\"],[0.6666666666666666,\"#ed7953\"],[0.7777777777777778,\"#fb9f3a\"],[0.8888888888888888,\"#fdca26\"],[1.0,\"#f0f921\"]]}],\"heatmap\":[{\"type\":\"heatmap\",\"colorbar\":{\"outlinewidth\":0,\"ticks\":\"\"},\"colorscale\":[[0.0,\"#0d0887\"],[0.1111111111111111,\"#46039f\"],[0.2222222222222222,\"#7201a8\"],[0.3333333333333333,\"#9c179e\"],[0.4444444444444444,\"#bd3786\"],[0.5555555555555556,\"#d8576b\"],[0.6666666666666666,\"#ed7953\"],[0.7777777777777778,\"#fb9f3a\"],[0.8888888888888888,\"#fdca26\"],[1.0,\"#f0f921\"]]}],\"heatmapgl\":[{\"type\":\"heatmapgl\",\"colorbar\":{\"outlinewidth\":0,\"ticks\":\"\"},\"colorscale\":[[0.0,\"#0d0887\"],[0.1111111111111111,\"#46039f\"],[0.2222222222222222,\"#7201a8\"],[0.3333333333333333,\"#9c179e\"],[0.4444444444444444,\"#bd3786\"],[0.5555555555555556,\"#d8576b\"],[0.6666666666666666,\"#ed7953\"],[0.7777777777777778,\"#fb9f3a\"],[0.8888888888888888,\"#fdca26\"],[1.0,\"#f0f921\"]]}],\"contourcarpet\":[{\"type\":\"contourcarpet\",\"colorbar\":{\"outlinewidth\":0,\"ticks\":\"\"}}],\"contour\":[{\"type\":\"contour\",\"colorbar\":{\"outlinewidth\":0,\"ticks\":\"\"},\"colorscale\":[[0.0,\"#0d0887\"],[0.1111111111111111,\"#46039f\"],[0.2222222222222222,\"#7201a8\"],[0.3333333333333333,\"#9c179e\"],[0.4444444444444444,\"#bd3786\"],[0.5555555555555556,\"#d8576b\"],[0.6666666666666666,\"#ed7953\"],[0.7777777777777778,\"#fb9f3a\"],[0.8888888888888888,\"#fdca26\"],[1.0,\"#f0f921\"]]}],\"surface\":[{\"type\":\"surface\",\"colorbar\":{\"outlinewidth\":0,\"ticks\":\"\"},\"colorscale\":[[0.0,\"#0d0887\"],[0.1111111111111111,\"#46039f\"],[0.2222222222222222,\"#7201a8\"],[0.3333333333333333,\"#9c179e\"],[0.4444444444444444,\"#bd3786\"],[0.5555555555555556,\"#d8576b\"],[0.6666666666666666,\"#ed7953\"],[0.7777777777777778,\"#fb9f3a\"],[0.8888888888888888,\"#fdca26\"],[1.0,\"#f0f921\"]]}],\"mesh3d\":[{\"type\":\"mesh3d\",\"colorbar\":{\"outlinewidth\":0,\"ticks\":\"\"}}],\"scatter\":[{\"fillpattern\":{\"fillmode\":\"overlay\",\"size\":10,\"solidity\":0.2},\"type\":\"scatter\"}],\"parcoords\":[{\"type\":\"parcoords\",\"line\":{\"colorbar\":{\"outlinewidth\":0,\"ticks\":\"\"}}}],\"scatterpolargl\":[{\"type\":\"scatterpolargl\",\"marker\":{\"colorbar\":{\"outlinewidth\":0,\"ticks\":\"\"}}}],\"bar\":[{\"error_x\":{\"color\":\"#2a3f5f\"},\"error_y\":{\"color\":\"#2a3f5f\"},\"marker\":{\"line\":{\"color\":\"#E5ECF6\",\"width\":0.5},\"pattern\":{\"fillmode\":\"overlay\",\"size\":10,\"solidity\":0.2}},\"type\":\"bar\"}],\"scattergeo\":[{\"type\":\"scattergeo\",\"marker\":{\"colorbar\":{\"outlinewidth\":0,\"ticks\":\"\"}}}],\"scatterpolar\":[{\"type\":\"scatterpolar\",\"marker\":{\"colorbar\":{\"outlinewidth\":0,\"ticks\":\"\"}}}],\"histogram\":[{\"marker\":{\"pattern\":{\"fillmode\":\"overlay\",\"size\":10,\"solidity\":0.2}},\"type\":\"histogram\"}],\"scattergl\":[{\"type\":\"scattergl\",\"marker\":{\"colorbar\":{\"outlinewidth\":0,\"ticks\":\"\"}}}],\"scatter3d\":[{\"type\":\"scatter3d\",\"line\":{\"colorbar\":{\"outlinewidth\":0,\"ticks\":\"\"}},\"marker\":{\"colorbar\":{\"outlinewidth\":0,\"ticks\":\"\"}}}],\"scattermapbox\":[{\"type\":\"scattermapbox\",\"marker\":{\"colorbar\":{\"outlinewidth\":0,\"ticks\":\"\"}}}],\"scatterternary\":[{\"type\":\"scatterternary\",\"marker\":{\"colorbar\":{\"outlinewidth\":0,\"ticks\":\"\"}}}],\"scattercarpet\":[{\"type\":\"scattercarpet\",\"marker\":{\"colorbar\":{\"outlinewidth\":0,\"ticks\":\"\"}}}],\"carpet\":[{\"aaxis\":{\"endlinecolor\":\"#2a3f5f\",\"gridcolor\":\"white\",\"linecolor\":\"white\",\"minorgridcolor\":\"white\",\"startlinecolor\":\"#2a3f5f\"},\"baxis\":{\"endlinecolor\":\"#2a3f5f\",\"gridcolor\":\"white\",\"linecolor\":\"white\",\"minorgridcolor\":\"white\",\"startlinecolor\":\"#2a3f5f\"},\"type\":\"carpet\"}],\"table\":[{\"cells\":{\"fill\":{\"color\":\"#EBF0F8\"},\"line\":{\"color\":\"white\"}},\"header\":{\"fill\":{\"color\":\"#C8D4E3\"},\"line\":{\"color\":\"white\"}},\"type\":\"table\"}],\"barpolar\":[{\"marker\":{\"line\":{\"color\":\"#E5ECF6\",\"width\":0.5},\"pattern\":{\"fillmode\":\"overlay\",\"size\":10,\"solidity\":0.2}},\"type\":\"barpolar\"}],\"pie\":[{\"automargin\":true,\"type\":\"pie\"}]},\"layout\":{\"autotypenumbers\":\"strict\",\"colorway\":[\"#636efa\",\"#EF553B\",\"#00cc96\",\"#ab63fa\",\"#FFA15A\",\"#19d3f3\",\"#FF6692\",\"#B6E880\",\"#FF97FF\",\"#FECB52\"],\"font\":{\"color\":\"#2a3f5f\"},\"hovermode\":\"closest\",\"hoverlabel\":{\"align\":\"left\"},\"paper_bgcolor\":\"white\",\"plot_bgcolor\":\"#E5ECF6\",\"polar\":{\"bgcolor\":\"#E5ECF6\",\"angularaxis\":{\"gridcolor\":\"white\",\"linecolor\":\"white\",\"ticks\":\"\"},\"radialaxis\":{\"gridcolor\":\"white\",\"linecolor\":\"white\",\"ticks\":\"\"}},\"ternary\":{\"bgcolor\":\"#E5ECF6\",\"aaxis\":{\"gridcolor\":\"white\",\"linecolor\":\"white\",\"ticks\":\"\"},\"baxis\":{\"gridcolor\":\"white\",\"linecolor\":\"white\",\"ticks\":\"\"},\"caxis\":{\"gridcolor\":\"white\",\"linecolor\":\"white\",\"ticks\":\"\"}},\"coloraxis\":{\"colorbar\":{\"outlinewidth\":0,\"ticks\":\"\"}},\"colorscale\":{\"sequential\":[[0.0,\"#0d0887\"],[0.1111111111111111,\"#46039f\"],[0.2222222222222222,\"#7201a8\"],[0.3333333333333333,\"#9c179e\"],[0.4444444444444444,\"#bd3786\"],[0.5555555555555556,\"#d8576b\"],[0.6666666666666666,\"#ed7953\"],[0.7777777777777778,\"#fb9f3a\"],[0.8888888888888888,\"#fdca26\"],[1.0,\"#f0f921\"]],\"sequentialminus\":[[0.0,\"#0d0887\"],[0.1111111111111111,\"#46039f\"],[0.2222222222222222,\"#7201a8\"],[0.3333333333333333,\"#9c179e\"],[0.4444444444444444,\"#bd3786\"],[0.5555555555555556,\"#d8576b\"],[0.6666666666666666,\"#ed7953\"],[0.7777777777777778,\"#fb9f3a\"],[0.8888888888888888,\"#fdca26\"],[1.0,\"#f0f921\"]],\"diverging\":[[0,\"#8e0152\"],[0.1,\"#c51b7d\"],[0.2,\"#de77ae\"],[0.3,\"#f1b6da\"],[0.4,\"#fde0ef\"],[0.5,\"#f7f7f7\"],[0.6,\"#e6f5d0\"],[0.7,\"#b8e186\"],[0.8,\"#7fbc41\"],[0.9,\"#4d9221\"],[1,\"#276419\"]]},\"xaxis\":{\"gridcolor\":\"white\",\"linecolor\":\"white\",\"ticks\":\"\",\"title\":{\"standoff\":15},\"zerolinecolor\":\"white\",\"automargin\":true,\"zerolinewidth\":2},\"yaxis\":{\"gridcolor\":\"white\",\"linecolor\":\"white\",\"ticks\":\"\",\"title\":{\"standoff\":15},\"zerolinecolor\":\"white\",\"automargin\":true,\"zerolinewidth\":2},\"scene\":{\"xaxis\":{\"backgroundcolor\":\"#E5ECF6\",\"gridcolor\":\"white\",\"linecolor\":\"white\",\"showbackground\":true,\"ticks\":\"\",\"zerolinecolor\":\"white\",\"gridwidth\":2},\"yaxis\":{\"backgroundcolor\":\"#E5ECF6\",\"gridcolor\":\"white\",\"linecolor\":\"white\",\"showbackground\":true,\"ticks\":\"\",\"zerolinecolor\":\"white\",\"gridwidth\":2},\"zaxis\":{\"backgroundcolor\":\"#E5ECF6\",\"gridcolor\":\"white\",\"linecolor\":\"white\",\"showbackground\":true,\"ticks\":\"\",\"zerolinecolor\":\"white\",\"gridwidth\":2}},\"shapedefaults\":{\"line\":{\"color\":\"#2a3f5f\"}},\"annotationdefaults\":{\"arrowcolor\":\"#2a3f5f\",\"arrowhead\":0,\"arrowwidth\":1},\"geo\":{\"bgcolor\":\"white\",\"landcolor\":\"#E5ECF6\",\"subunitcolor\":\"white\",\"showland\":true,\"showlakes\":true,\"lakecolor\":\"white\"},\"title\":{\"x\":0.05},\"mapbox\":{\"style\":\"light\"}}},\"title\":{\"text\":\"Real Stock Prices vs Predicted by LSTM\\n\\nRMSE 2.4370087359506782\"},\"xaxis\":{\"title\":{\"text\":\"Date\"}},\"yaxis\":{\"title\":{\"text\":\"Value\"}}},                        {\"responsive\": true}                    ).then(function(){\n",
       "                            \n",
       "var gd = document.getElementById('56f6b534-a411-4aa9-b144-7c9880738ac1');\n",
       "var x = new MutationObserver(function (mutations, observer) {{\n",
       "        var display = window.getComputedStyle(gd).display;\n",
       "        if (!display || display === 'none') {{\n",
       "            console.log([gd, 'removed!']);\n",
       "            Plotly.purge(gd);\n",
       "            observer.disconnect();\n",
       "        }}\n",
       "}});\n",
       "\n",
       "// Listen for the removal of the full notebook cells\n",
       "var notebookContainer = gd.closest('#notebook-container');\n",
       "if (notebookContainer) {{\n",
       "    x.observe(notebookContainer, {childList: true});\n",
       "}}\n",
       "\n",
       "// Listen for the clearing of the current output cell\n",
       "var outputEl = gd.closest('.output');\n",
       "if (outputEl) {{\n",
       "    x.observe(outputEl, {childList: true});\n",
       "}}\n",
       "\n",
       "                        })                };                });            </script>        </div>"
      ]
     },
     "metadata": {},
     "output_type": "display_data"
    }
   ],
   "source": [
    "for i in tickers:    \n",
    "    scaled_predictions = lstm_model.predict(test[i]['X'])\n",
    "    y_hat = test_scaler[i].inverse_transform(scaled_predictions)\n",
    "    y = test_scaler[i].inverse_transform(test[i]['y'].reshape(-1,1))\n",
    "    rmse = sqrt(MSE(y_hat, y))\n",
    "    \n",
    "    \n",
    "    #visualization\n",
    "    df_y_hat = pd.DataFrame(y_hat)\n",
    "    df_y_hat.columns = [i]\n",
    "    df_y_hat['date'] = stock_data_close[-len(y_hat):].index\n",
    "    \n",
    "    df_y = pd.DataFrame(y)\n",
    "    df_y.columns = [i]\n",
    "    df_y['date'] = stock_data_close[-len(y_hat):].index\n",
    "    \n",
    "    \n",
    "    fig = go.Figure()\n",
    "\n",
    "    fig.add_trace(\n",
    "        go.Scatter(\n",
    "            x= df_y['date'],\n",
    "            y = df_y[i],\n",
    "            name= 'Real Stock Prices',\n",
    "            line=dict(color='blue', width=0.7)))\n",
    "\n",
    "    # add predicted stock prices\n",
    "    fig.add_trace(\n",
    "        go.Scatter(\n",
    "        x = df_y_hat['date'],\n",
    "        y = df_y_hat[i],\n",
    "        name = 'Predicted Stock Prices',\n",
    "        mode ='lines',\n",
    "        line = dict(color='red', width=1.5)))\n",
    "\n",
    "\n",
    "    fig.update_layout(\n",
    "            title= 'Real Stock Prices vs Predicted by LSTM\\n\\nRMSE {}'.format(rmse),\n",
    "            xaxis_title = \"Date\", \n",
    "            yaxis_title = 'Value')\n",
    "    \n",
    "    fig.show()\n",
    "    "
   ]
  },
  {
   "cell_type": "markdown",
   "id": "19ee6671",
   "metadata": {},
   "source": [
    "Predict prices for next 30 days"
   ]
  },
  {
   "cell_type": "code",
   "execution_count": 27,
   "id": "62e29301",
   "metadata": {},
   "outputs": [],
   "source": [
    "#plot"
   ]
  },
  {
   "cell_type": "code",
   "execution_count": null,
   "id": "a5a92267",
   "metadata": {},
   "outputs": [],
   "source": []
  }
 ],
 "metadata": {
  "kernelspec": {
   "display_name": "Python 3 (ipykernel)",
   "language": "python",
   "name": "python3"
  },
  "language_info": {
   "codemirror_mode": {
    "name": "ipython",
    "version": 3
   },
   "file_extension": ".py",
   "mimetype": "text/x-python",
   "name": "python",
   "nbconvert_exporter": "python",
   "pygments_lexer": "ipython3",
   "version": "3.9.7"
  }
 },
 "nbformat": 4,
 "nbformat_minor": 5
}
