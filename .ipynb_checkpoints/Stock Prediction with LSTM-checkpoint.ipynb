{
 "cells": [
  {
   "attachments": {
    "LSTM.png": {
     "image/png": "[encoded data removed]"
    }
   },
   "cell_type": "markdown",
   "id": "cedcb052",
   "metadata": {},
   "source": [
    "# Stock prediction using Long short-term memory \n",
    "\n",
    "An LSTM is a type of recurrent neural network that addresses the vanishing gradient problem in traditional RNNs. By using a gating mechanism that selectively recalls or forgets information, LSTM networks deal with this problem. In essence, LSTM uses past data in a particular way. It uses data that the neural network has seen and 'forgets' irrelevant data.![LSTM.png](attachment:LSTM.png)\n",
    "\n",
    "\n",
    "Some of its most common uses are:\n",
    "- language modeling, such as translation, and \n",
    "- time series forecasting such as predicting weather, energy consumption and **stock prices**!"
   ]
  },
  {
   "cell_type": "code",
   "execution_count": 68,
   "id": "f7892fdf",
   "metadata": {},
   "outputs": [],
   "source": [
    "#import libraries\n",
    "\n",
    "import yfinance as yf\n",
    "import pandas as pd\n",
    "import datetime as datetime\n",
    "import numpy as np\n",
    "\n",
    "from sklearn.preprocessing import MinMaxScaler\n",
    "from tensorflow.keras.layers import LSTM, Dense\n",
    "from tensorflow.keras.models import Sequential, load_model, model_from_json\n",
    "from sklearn.metrics import mean_squared_error as MSE\n",
    "from tensorflow.keras.metrics import RootMeanSquaredError\n",
    "from tensorflow.keras.callbacks import EarlyStopping\n",
    "from math import sqrt\n",
    "\n",
    "#visualization libraries\n",
    "import matplotlib.pyplot as plt\n",
    "import plotly.graph_objects as go\n",
    "from plotly.subplots import make_subplots"
   ]
  },
  {
   "cell_type": "markdown",
   "id": "05b781cb",
   "metadata": {},
   "source": [
    "Get past5 years of stock data "
   ]
  },
  {
   "cell_type": "code",
   "execution_count": 2,
   "id": "4e286911",
   "metadata": {},
   "outputs": [
    {
     "name": "stdout",
     "output_type": "stream",
     "text": [
      "[*********************100%***********************]  3 of 3 completed\n"
     ]
    }
   ],
   "source": [
    "# get today's date\n",
    "end_date = datetime.datetime.today().strftime(\"%Y-%m-%d\")\n",
    "\n",
    "#we will train our model individually on three different stocks \n",
    "tickers = [\"AAPL\", \"MSFT\", \"AMZN\"]\n",
    "\n",
    "# get past 5 years of data\n",
    "start_date = (datetime.datetime.today() - datetime.timedelta(days=365*5)).strftime(\"%Y-%m-%d\")\n",
    "stock_data = yf.download(tickers, start=start_date, end=end_date)"
   ]
  },
  {
   "cell_type": "markdown",
   "id": "1726f8f1",
   "metadata": {},
   "source": [
    "Keep only values for close and reorganize dataframe"
   ]
  },
  {
   "cell_type": "code",
   "execution_count": 3,
   "id": "41837460",
   "metadata": {},
   "outputs": [],
   "source": [
    "stock_data_close = stock_data['Close']"
   ]
  },
  {
   "cell_type": "code",
   "execution_count": 4,
   "id": "f711fce4",
   "metadata": {
    "scrolled": true
   },
   "outputs": [
    {
     "data": {
      "text/html": [
       "<div>\n",
       "<style scoped>\n",
       "    .dataframe tbody tr th:only-of-type {\n",
       "        vertical-align: middle;\n",
       "    }\n",
       "\n",
       "    .dataframe tbody tr th {\n",
       "        vertical-align: top;\n",
       "    }\n",
       "\n",
       "    .dataframe thead th {\n",
       "        text-align: right;\n",
       "    }\n",
       "</style>\n",
       "<table border=\"1\" class=\"dataframe\">\n",
       "  <thead>\n",
       "    <tr style=\"text-align: right;\">\n",
       "      <th></th>\n",
       "      <th>AAPL</th>\n",
       "      <th>AMZN</th>\n",
       "      <th>MSFT</th>\n",
       "    </tr>\n",
       "    <tr>\n",
       "      <th>Date</th>\n",
       "      <th></th>\n",
       "      <th></th>\n",
       "      <th></th>\n",
       "    </tr>\n",
       "  </thead>\n",
       "  <tbody>\n",
       "    <tr>\n",
       "      <th>2018-08-31 00:00:00-04:00</th>\n",
       "      <td>56.907501</td>\n",
       "      <td>100.635498</td>\n",
       "      <td>112.330002</td>\n",
       "    </tr>\n",
       "    <tr>\n",
       "      <th>2018-09-04 00:00:00-04:00</th>\n",
       "      <td>57.090000</td>\n",
       "      <td>101.975502</td>\n",
       "      <td>111.709999</td>\n",
       "    </tr>\n",
       "    <tr>\n",
       "      <th>2018-09-05 00:00:00-04:00</th>\n",
       "      <td>56.717499</td>\n",
       "      <td>99.740997</td>\n",
       "      <td>108.489998</td>\n",
       "    </tr>\n",
       "    <tr>\n",
       "      <th>2018-09-06 00:00:00-04:00</th>\n",
       "      <td>55.775002</td>\n",
       "      <td>97.915497</td>\n",
       "      <td>108.739998</td>\n",
       "    </tr>\n",
       "    <tr>\n",
       "      <th>2018-09-07 00:00:00-04:00</th>\n",
       "      <td>55.325001</td>\n",
       "      <td>97.603500</td>\n",
       "      <td>108.209999</td>\n",
       "    </tr>\n",
       "    <tr>\n",
       "      <th>...</th>\n",
       "      <td>...</td>\n",
       "      <td>...</td>\n",
       "      <td>...</td>\n",
       "    </tr>\n",
       "    <tr>\n",
       "      <th>2023-08-23 00:00:00-04:00</th>\n",
       "      <td>181.119995</td>\n",
       "      <td>135.520004</td>\n",
       "      <td>327.000000</td>\n",
       "    </tr>\n",
       "    <tr>\n",
       "      <th>2023-08-24 00:00:00-04:00</th>\n",
       "      <td>176.380005</td>\n",
       "      <td>131.839996</td>\n",
       "      <td>319.970001</td>\n",
       "    </tr>\n",
       "    <tr>\n",
       "      <th>2023-08-25 00:00:00-04:00</th>\n",
       "      <td>178.610001</td>\n",
       "      <td>133.259995</td>\n",
       "      <td>322.980011</td>\n",
       "    </tr>\n",
       "    <tr>\n",
       "      <th>2023-08-28 00:00:00-04:00</th>\n",
       "      <td>180.190002</td>\n",
       "      <td>133.139999</td>\n",
       "      <td>323.700012</td>\n",
       "    </tr>\n",
       "    <tr>\n",
       "      <th>2023-08-29 00:00:00-04:00</th>\n",
       "      <td>184.119995</td>\n",
       "      <td>134.910004</td>\n",
       "      <td>328.410004</td>\n",
       "    </tr>\n",
       "  </tbody>\n",
       "</table>\n",
       "<p>1256 rows × 3 columns</p>\n",
       "</div>"
      ],
      "text/plain": [
       "                                 AAPL        AMZN        MSFT\n",
       "Date                                                         \n",
       "2018-08-31 00:00:00-04:00   56.907501  100.635498  112.330002\n",
       "2018-09-04 00:00:00-04:00   57.090000  101.975502  111.709999\n",
       "2018-09-05 00:00:00-04:00   56.717499   99.740997  108.489998\n",
       "2018-09-06 00:00:00-04:00   55.775002   97.915497  108.739998\n",
       "2018-09-07 00:00:00-04:00   55.325001   97.603500  108.209999\n",
       "...                               ...         ...         ...\n",
       "2023-08-23 00:00:00-04:00  181.119995  135.520004  327.000000\n",
       "2023-08-24 00:00:00-04:00  176.380005  131.839996  319.970001\n",
       "2023-08-25 00:00:00-04:00  178.610001  133.259995  322.980011\n",
       "2023-08-28 00:00:00-04:00  180.190002  133.139999  323.700012\n",
       "2023-08-29 00:00:00-04:00  184.119995  134.910004  328.410004\n",
       "\n",
       "[1256 rows x 3 columns]"
      ]
     },
     "execution_count": 4,
     "metadata": {},
     "output_type": "execute_result"
    }
   ],
   "source": [
    "stock_data_close"
   ]
  },
  {
   "cell_type": "markdown",
   "id": "1dd2616e",
   "metadata": {},
   "source": [
    "Split data now in train and test.<br>We will use a standard 80/20 split"
   ]
  },
  {
   "cell_type": "code",
   "execution_count": 5,
   "id": "334f5c0a",
   "metadata": {},
   "outputs": [],
   "source": [
    "data_split = int(stock_data_close.shape[0] * 0.8)\n",
    "\n",
    "df_train, df_test = stock_data_close[:data_split], stock_data_close[data_split:]"
   ]
  },
  {
   "cell_type": "markdown",
   "id": "cd6a26cb",
   "metadata": {},
   "source": [
    "Scale data to speed up conversion in the model"
   ]
  },
  {
   "cell_type": "code",
   "execution_count": 6,
   "id": "6ef3e56c",
   "metadata": {},
   "outputs": [],
   "source": [
    "scaled_df_train = {}\n",
    "scaled_df_test = {}\n",
    "train_scaler = {}\n",
    "test_scaler = {}\n",
    "\n",
    "for i in tickers:\n",
    "    min_maxscaler = MinMaxScaler(feature_range=(0,1))\n",
    "    scaled_df_train[i] = min_maxscaler.fit_transform(df_train[[i]])\n",
    "    train_scaler[i] = min_maxscaler\n",
    "    \n",
    "for i in tickers:\n",
    "    min_maxscaler = MinMaxScaler(feature_range=(0,1))\n",
    "    scaled_df_test[i] = min_maxscaler.fit_transform(df_test[[i]])\n",
    "    test_scaler[i] = min_maxscaler"
   ]
  },
  {
   "cell_type": "markdown",
   "id": "180e1dd0",
   "metadata": {},
   "source": [
    "Now, we will use the previous 60 trading days to train the model"
   ]
  },
  {
   "cell_type": "code",
   "execution_count": 7,
   "id": "eff1a329",
   "metadata": {},
   "outputs": [],
   "source": [
    "#train data\n",
    "\n",
    "train = {}\n",
    "for stock in tickers:\n",
    "    #dict inside dict for each stock to have x and y values\n",
    "    train[stock] = {}\n",
    "    x_train = []\n",
    "    y_train = []\n",
    "    for i in range(60, len(scaled_df_train[stock])):\n",
    "        x_train.append(scaled_df_train[stock][i-60:i,0])\n",
    "        y_train.append(scaled_df_train[stock][i,0])\n",
    "    #convert list into array\n",
    "    x_train, y_train = np.array(x_train), np.array(y_train)\n",
    "    #reshape data\n",
    "    train[stock]['X'] = np.reshape(x_train, (x_train.shape[0], x_train.shape[1], 1))\n",
    "    train[stock]['y'] = y_train\n",
    "\n",
    "    \n",
    "#test data\n",
    "\n",
    "test = {}\n",
    "for stock in tickers:\n",
    "    test[stock] = {}\n",
    "    x_test = []\n",
    "    y_test = []\n",
    "    for i in range(60, len(scaled_df_test[stock])):\n",
    "        x_test.append(scaled_df_test[stock][i-60:i,0])\n",
    "        y_test.append(scaled_df_test[stock][i,0])\n",
    "    #convert list into array\n",
    "    x_test, y_test = np.array(x_test), np.array(y_test)\n",
    "    #reshape data\n",
    "    test[stock]['X'] = np.reshape(x_test, (x_test.shape[0], x_test.shape[1], 1))\n",
    "    test[stock]['y'] = y_test"
   ]
  },
  {
   "cell_type": "markdown",
   "id": "76d4209a",
   "metadata": {},
   "source": [
    "Now we can start building our model"
   ]
  },
  {
   "cell_type": "markdown",
   "id": "12ad563a",
   "metadata": {},
   "source": [
    "Build LSTM Model"
   ]
  },
  {
   "cell_type": "code",
   "execution_count": 8,
   "id": "68193bdc",
   "metadata": {},
   "outputs": [],
   "source": [
    "early_stop = EarlyStopping(monitor='loss', patience=5, verbose=1)\n",
    "lstm_model = Sequential()\n",
    "#no layers \n",
    "lstm_model.add(LSTM(50, return_sequences = True, input_shape = (x_train.shape[1], 1)))\n",
    "lstm_model.add(LSTM(50, return_sequences = False))\n",
    "#no neurons\n",
    "lstm_model.add(Dense(25))\n",
    "lstm_model.add(Dense(1))\n",
    "\n",
    "#compile model\n",
    "lstm_model.compile(optimizer='adam', loss='mean_squared_error')"
   ]
  },
  {
   "cell_type": "markdown",
   "id": "49d759e7",
   "metadata": {},
   "source": [
    "Fit model"
   ]
  },
  {
   "cell_type": "code",
   "execution_count": 70,
   "id": "9aeb57d4",
   "metadata": {},
   "outputs": [
    {
     "name": "stdout",
     "output_type": "stream",
     "text": [
      "Epoch 1/100\n",
      "30/30 [==============================] - 1s 40ms/step - loss: 3.2912e-04\n",
      "Epoch 2/100\n",
      "30/30 [==============================] - 1s 38ms/step - loss: 2.8515e-04\n",
      "Epoch 3/100\n",
      "30/30 [==============================] - 1s 39ms/step - loss: 2.5658e-04\n",
      "Epoch 4/100\n",
      "30/30 [==============================] - 1s 38ms/step - loss: 2.6036e-04\n",
      "Epoch 5/100\n",
      "30/30 [==============================] - 1s 40ms/step - loss: 2.6014e-04\n",
      "Epoch 6/100\n",
      "30/30 [==============================] - 1s 37ms/step - loss: 2.5010e-04\n",
      "Epoch 7/100\n",
      "30/30 [==============================] - 1s 38ms/step - loss: 2.6504e-04\n",
      "Epoch 8/100\n",
      "30/30 [==============================] - 1s 38ms/step - loss: 2.6166e-04\n",
      "Epoch 9/100\n",
      "30/30 [==============================] - 1s 39ms/step - loss: 2.7856e-04\n",
      "Epoch 10/100\n",
      "30/30 [==============================] - 1s 38ms/step - loss: 2.6557e-04\n",
      "Epoch 11/100\n",
      "30/30 [==============================] - 1s 39ms/step - loss: 3.1296e-04\n",
      "Epoch 11: early stopping\n"
     ]
    },
    {
     "name": "stderr",
     "output_type": "stream",
     "text": [
      "WARNING:absl:Found untraced functions such as _update_step_xla, lstm_cell_layer_call_fn, lstm_cell_layer_call_and_return_conditional_losses, lstm_cell_1_layer_call_fn, lstm_cell_1_layer_call_and_return_conditional_losses while saving (showing 5 of 5). These functions will not be directly callable after loading.\n"
     ]
    },
    {
     "name": "stdout",
     "output_type": "stream",
     "text": [
      "INFO:tensorflow:Assets written to: model.\\assets\n"
     ]
    },
    {
     "name": "stderr",
     "output_type": "stream",
     "text": [
      "INFO:tensorflow:Assets written to: model.\\assets\n"
     ]
    },
    {
     "name": "stdout",
     "output_type": "stream",
     "text": [
      "Epoch 1/100\n",
      "30/30 [==============================] - 1s 47ms/step - loss: 3.0228e-04\n",
      "Epoch 2/100\n",
      "30/30 [==============================] - 1s 42ms/step - loss: 2.9310e-04\n",
      "Epoch 3/100\n",
      "30/30 [==============================] - 1s 42ms/step - loss: 2.6624e-04\n",
      "Epoch 4/100\n",
      "30/30 [==============================] - 1s 43ms/step - loss: 2.8106e-04\n",
      "Epoch 5/100\n",
      "30/30 [==============================] - 1s 42ms/step - loss: 2.7547e-04\n",
      "Epoch 6/100\n",
      "30/30 [==============================] - 1s 42ms/step - loss: 3.2532e-04\n",
      "Epoch 7/100\n",
      "30/30 [==============================] - 1s 41ms/step - loss: 3.0874e-04\n",
      "Epoch 8/100\n",
      "30/30 [==============================] - 1s 43ms/step - loss: 2.8417e-04\n",
      "Epoch 8: early stopping\n"
     ]
    },
    {
     "name": "stderr",
     "output_type": "stream",
     "text": [
      "WARNING:absl:Found untraced functions such as _update_step_xla, lstm_cell_layer_call_fn, lstm_cell_layer_call_and_return_conditional_losses, lstm_cell_1_layer_call_fn, lstm_cell_1_layer_call_and_return_conditional_losses while saving (showing 5 of 5). These functions will not be directly callable after loading.\n"
     ]
    },
    {
     "name": "stdout",
     "output_type": "stream",
     "text": [
      "INFO:tensorflow:Assets written to: model.\\assets\n"
     ]
    },
    {
     "name": "stderr",
     "output_type": "stream",
     "text": [
      "INFO:tensorflow:Assets written to: model.\\assets\n"
     ]
    },
    {
     "name": "stdout",
     "output_type": "stream",
     "text": [
      "Epoch 1/100\n",
      "30/30 [==============================] - 1s 49ms/step - loss: 6.5522e-04\n",
      "Epoch 2/100\n",
      "30/30 [==============================] - 1s 44ms/step - loss: 6.7723e-04\n",
      "Epoch 3/100\n",
      "30/30 [==============================] - 1s 45ms/step - loss: 6.3028e-04\n",
      "Epoch 4/100\n",
      "30/30 [==============================] - 1s 47ms/step - loss: 6.3005e-04\n",
      "Epoch 5/100\n",
      "30/30 [==============================] - 1s 49ms/step - loss: 6.1429e-04\n",
      "Epoch 6/100\n",
      "30/30 [==============================] - 2s 50ms/step - loss: 7.6218e-04\n",
      "Epoch 7/100\n",
      "30/30 [==============================] - 2s 50ms/step - loss: 6.6321e-04\n",
      "Epoch 8/100\n",
      "30/30 [==============================] - 1s 49ms/step - loss: 7.3425e-04\n",
      "Epoch 9/100\n",
      "30/30 [==============================] - 1s 45ms/step - loss: 6.9739e-04\n",
      "Epoch 10/100\n",
      "30/30 [==============================] - 1s 45ms/step - loss: 7.3533e-04\n",
      "Epoch 10: early stopping\n"
     ]
    },
    {
     "name": "stderr",
     "output_type": "stream",
     "text": [
      "WARNING:absl:Found untraced functions such as _update_step_xla, lstm_cell_layer_call_fn, lstm_cell_layer_call_and_return_conditional_losses, lstm_cell_1_layer_call_fn, lstm_cell_1_layer_call_and_return_conditional_losses while saving (showing 5 of 5). These functions will not be directly callable after loading.\n"
     ]
    },
    {
     "name": "stdout",
     "output_type": "stream",
     "text": [
      "INFO:tensorflow:Assets written to: model.\\assets\n"
     ]
    },
    {
     "name": "stderr",
     "output_type": "stream",
     "text": [
      "INFO:tensorflow:Assets written to: model.\\assets\n"
     ]
    }
   ],
   "source": [
    "for i in tickers:\n",
    "    lstm_model.fit(train[i]['X'], train[i]['y'], batch_size=32, epochs=100, callbacks=[early_stop])\n",
    "    lstm_model.save('model.'.format(i))"
   ]
  },
  {
   "cell_type": "markdown",
   "id": "d9474960",
   "metadata": {},
   "source": [
    "Get predicted prices"
   ]
  },
  {
   "cell_type": "code",
   "execution_count": 74,
   "id": "806985d1",
   "metadata": {},
   "outputs": [
    {
     "name": "stdout",
     "output_type": "stream",
     "text": [
      "6/6 [==============================] - 1s 23ms/step\n"
     ]
    },
    {
     "data": {
      "application/vnd.plotly.v1+json": {
       "config": {
        "plotlyServerURL": "https://plot.ly"
       },
       "data": [
        {
         "line": {
          "color": "blue",
          "width": 0.7
         },
         "name": "Real Stock Prices",
         "type": "scatter",
         "x": [
          "2022-11-22T00:00:00-05:00",
          "2022-11-23T00:00:00-05:00",
          "2022-11-25T00:00:00-05:00",
          "2022-11-28T00:00:00-05:00",
          "2022-11-29T00:00:00-05:00",
          "2022-11-30T00:00:00-05:00",
          "2022-12-01T00:00:00-05:00",
          "2022-12-02T00:00:00-05:00",
          "2022-12-05T00:00:00-05:00",
          "2022-12-06T00:00:00-05:00",
          "2022-12-07T00:00:00-05:00",
          "2022-12-08T00:00:00-05:00",
          "2022-12-09T00:00:00-05:00",
          "2022-12-12T00:00:00-05:00",
          "2022-12-13T00:00:00-05:00",
          "2022-12-14T00:00:00-05:00",
          "2022-12-15T00:00:00-05:00",
          "2022-12-16T00:00:00-05:00",
          "2022-12-19T00:00:00-05:00",
          "2022-12-20T00:00:00-05:00",
          "2022-12-21T00:00:00-05:00",
          "2022-12-22T00:00:00-05:00",
          "2022-12-23T00:00:00-05:00",
          "2022-12-27T00:00:00-05:00",
          "2022-12-28T00:00:00-05:00",
          "2022-12-29T00:00:00-05:00",
          "2022-12-30T00:00:00-05:00",
          "2023-01-03T00:00:00-05:00",
          "2023-01-04T00:00:00-05:00",
          "2023-01-05T00:00:00-05:00",
          "2023-01-06T00:00:00-05:00",
          "2023-01-09T00:00:00-05:00",
          "2023-01-10T00:00:00-05:00",
          "2023-01-11T00:00:00-05:00",
          "2023-01-12T00:00:00-05:00",
          "2023-01-13T00:00:00-05:00",
          "2023-01-17T00:00:00-05:00",
          "2023-01-18T00:00:00-05:00",
          "2023-01-19T00:00:00-05:00",
          "2023-01-20T00:00:00-05:00",
          "2023-01-23T00:00:00-05:00",
          "2023-01-24T00:00:00-05:00",
          "2023-01-25T00:00:00-05:00",
          "2023-01-26T00:00:00-05:00",
          "2023-01-27T00:00:00-05:00",
          "2023-01-30T00:00:00-05:00",
          "2023-01-31T00:00:00-05:00",
          "2023-02-01T00:00:00-05:00",
          "2023-02-02T00:00:00-05:00",
          "2023-02-03T00:00:00-05:00",
          "2023-02-06T00:00:00-05:00",
          "2023-02-07T00:00:00-05:00",
          "2023-02-08T00:00:00-05:00",
          "2023-02-09T00:00:00-05:00",
          "2023-02-10T00:00:00-05:00",
          "2023-02-13T00:00:00-05:00",
          "2023-02-14T00:00:00-05:00",
          "2023-02-15T00:00:00-05:00",
          "2023-02-16T00:00:00-05:00",
          "2023-02-17T00:00:00-05:00",
          "2023-02-21T00:00:00-05:00",
          "2023-02-22T00:00:00-05:00",
          "2023-02-23T00:00:00-05:00",
          "2023-02-24T00:00:00-05:00",
          "2023-02-27T00:00:00-05:00",
          "2023-02-28T00:00:00-05:00",
          "2023-03-01T00:00:00-05:00",
          "2023-03-02T00:00:00-05:00",
          "2023-03-03T00:00:00-05:00",
          "2023-03-06T00:00:00-05:00",
          "2023-03-07T00:00:00-05:00",
          "2023-03-08T00:00:00-05:00",
          "2023-03-09T00:00:00-05:00",
          "2023-03-10T00:00:00-05:00",
          "2023-03-13T00:00:00-04:00",
          "2023-03-14T00:00:00-04:00",
          "2023-03-15T00:00:00-04:00",
          "2023-03-16T00:00:00-04:00",
          "2023-03-17T00:00:00-04:00",
          "2023-03-20T00:00:00-04:00",
          "2023-03-21T00:00:00-04:00",
          "2023-03-22T00:00:00-04:00",
          "2023-03-23T00:00:00-04:00",
          "2023-03-24T00:00:00-04:00",
          "2023-03-27T00:00:00-04:00",
          "2023-03-28T00:00:00-04:00",
          "2023-03-29T00:00:00-04:00",
          "2023-03-30T00:00:00-04:00",
          "2023-03-31T00:00:00-04:00",
          "2023-04-03T00:00:00-04:00",
          "2023-04-04T00:00:00-04:00",
          "2023-04-05T00:00:00-04:00",
          "2023-04-06T00:00:00-04:00",
          "2023-04-10T00:00:00-04:00",
          "2023-04-11T00:00:00-04:00",
          "2023-04-12T00:00:00-04:00",
          "2023-04-13T00:00:00-04:00",
          "2023-04-14T00:00:00-04:00",
          "2023-04-17T00:00:00-04:00",
          "2023-04-18T00:00:00-04:00",
          "2023-04-19T00:00:00-04:00",
          "2023-04-20T00:00:00-04:00",
          "2023-04-21T00:00:00-04:00",
          "2023-04-24T00:00:00-04:00",
          "2023-04-25T00:00:00-04:00",
          "2023-04-26T00:00:00-04:00",
          "2023-04-27T00:00:00-04:00",
          "2023-04-28T00:00:00-04:00",
          "2023-05-01T00:00:00-04:00",
          "2023-05-02T00:00:00-04:00",
          "2023-05-03T00:00:00-04:00",
          "2023-05-04T00:00:00-04:00",
          "2023-05-05T00:00:00-04:00",
          "2023-05-08T00:00:00-04:00",
          "2023-05-09T00:00:00-04:00",
          "2023-05-10T00:00:00-04:00",
          "2023-05-11T00:00:00-04:00",
          "2023-05-12T00:00:00-04:00",
          "2023-05-15T00:00:00-04:00",
          "2023-05-16T00:00:00-04:00",
          "2023-05-17T00:00:00-04:00",
          "2023-05-18T00:00:00-04:00",
          "2023-05-19T00:00:00-04:00",
          "2023-05-22T00:00:00-04:00",
          "2023-05-23T00:00:00-04:00",
          "2023-05-24T00:00:00-04:00",
          "2023-05-25T00:00:00-04:00",
          "2023-05-26T00:00:00-04:00",
          "2023-05-30T00:00:00-04:00",
          "2023-05-31T00:00:00-04:00",
          "2023-06-01T00:00:00-04:00",
          "2023-06-02T00:00:00-04:00",
          "2023-06-05T00:00:00-04:00",
          "2023-06-06T00:00:00-04:00",
          "2023-06-07T00:00:00-04:00",
          "2023-06-08T00:00:00-04:00",
          "2023-06-09T00:00:00-04:00",
          "2023-06-12T00:00:00-04:00",
          "2023-06-13T00:00:00-04:00",
          "2023-06-14T00:00:00-04:00",
          "2023-06-15T00:00:00-04:00",
          "2023-06-16T00:00:00-04:00",
          "2023-06-20T00:00:00-04:00",
          "2023-06-21T00:00:00-04:00",
          "2023-06-22T00:00:00-04:00",
          "2023-06-23T00:00:00-04:00",
          "2023-06-26T00:00:00-04:00",
          "2023-06-27T00:00:00-04:00",
          "2023-06-28T00:00:00-04:00",
          "2023-06-29T00:00:00-04:00",
          "2023-06-30T00:00:00-04:00",
          "2023-07-03T00:00:00-04:00",
          "2023-07-05T00:00:00-04:00",
          "2023-07-06T00:00:00-04:00",
          "2023-07-07T00:00:00-04:00",
          "2023-07-10T00:00:00-04:00",
          "2023-07-11T00:00:00-04:00",
          "2023-07-12T00:00:00-04:00",
          "2023-07-13T00:00:00-04:00",
          "2023-07-14T00:00:00-04:00",
          "2023-07-17T00:00:00-04:00",
          "2023-07-18T00:00:00-04:00",
          "2023-07-19T00:00:00-04:00",
          "2023-07-20T00:00:00-04:00",
          "2023-07-21T00:00:00-04:00",
          "2023-07-24T00:00:00-04:00",
          "2023-07-25T00:00:00-04:00",
          "2023-07-26T00:00:00-04:00",
          "2023-07-27T00:00:00-04:00",
          "2023-07-28T00:00:00-04:00",
          "2023-07-31T00:00:00-04:00",
          "2023-08-01T00:00:00-04:00",
          "2023-08-02T00:00:00-04:00",
          "2023-08-03T00:00:00-04:00",
          "2023-08-04T00:00:00-04:00",
          "2023-08-07T00:00:00-04:00",
          "2023-08-08T00:00:00-04:00",
          "2023-08-09T00:00:00-04:00",
          "2023-08-10T00:00:00-04:00",
          "2023-08-11T00:00:00-04:00",
          "2023-08-14T00:00:00-04:00",
          "2023-08-15T00:00:00-04:00",
          "2023-08-16T00:00:00-04:00",
          "2023-08-17T00:00:00-04:00",
          "2023-08-18T00:00:00-04:00",
          "2023-08-21T00:00:00-04:00",
          "2023-08-22T00:00:00-04:00",
          "2023-08-23T00:00:00-04:00",
          "2023-08-24T00:00:00-04:00",
          "2023-08-25T00:00:00-04:00",
          "2023-08-28T00:00:00-04:00",
          "2023-08-29T00:00:00-04:00"
         ],
         "y": [
          150.17999267578125,
          151.07000732421875,
          148.11000061035156,
          144.22000122070312,
          141.1699981689453,
          148.0299987792969,
          148.30999755859375,
          147.80999755859375,
          146.6300048828125,
          142.91000366210938,
          140.94000244140625,
          142.64999389648438,
          142.16000366210938,
          144.49000549316406,
          145.47000122070312,
          143.2100067138672,
          136.5,
          134.50999450683594,
          132.3699951171875,
          132.3000030517578,
          135.4499969482422,
          132.22999572753906,
          131.86000061035156,
          130.02999877929688,
          126.04000091552734,
          129.61000061035156,
          129.92999267578125,
          125.06999969482422,
          126.36000061035156,
          125.0199966430664,
          129.6199951171875,
          130.14999389648438,
          130.72999572753906,
          133.49000549316406,
          133.41000366210938,
          134.75999450683594,
          135.94000244140625,
          135.2100067138672,
          135.27000427246094,
          137.8699951171875,
          141.11000061035156,
          142.52999877929688,
          141.86000061035156,
          143.96000671386716,
          145.92999267578125,
          143,
          144.2899932861328,
          145.42999267578125,
          150.82000732421875,
          154.5,
          151.72999572753906,
          154.64999389648438,
          151.9199981689453,
          150.8699951171875,
          151.00999450683594,
          153.85000610351562,
          153.1999969482422,
          155.3300018310547,
          153.7100067138672,
          152.5500030517578,
          148.47999572753906,
          148.91000366210938,
          149.39999389648438,
          146.7100067138672,
          147.9199981689453,
          147.41000366210938,
          145.30999755859375,
          145.91000366210938,
          151.02999877929688,
          153.8300018310547,
          151.60000610351562,
          152.8699951171875,
          150.58999633789062,
          148.5,
          150.47000122070312,
          152.58999633789065,
          152.9900054931641,
          155.85000610351562,
          155,
          157.39999389648438,
          159.27999877929688,
          157.8300018310547,
          158.92999267578125,
          160.25,
          158.27999877929688,
          157.64999389648438,
          160.77000427246094,
          162.36000061035156,
          164.89999389648438,
          166.1699981689453,
          165.6300048828125,
          163.75999450683594,
          164.66000366210938,
          162.02999877929688,
          160.8000030517578,
          160.10000610351562,
          165.55999755859375,
          165.2100067138672,
          165.22999572753906,
          166.47000122070312,
          167.6300048828125,
          166.64999389648438,
          165.02000427246094,
          165.3300018310547,
          163.77000427246094,
          163.75999450683594,
          168.41000366210938,
          169.67999267578125,
          169.58999633789062,
          168.5399932861328,
          167.4499969482422,
          165.7899932861328,
          173.57000732421875,
          173.5,
          171.77000427246094,
          173.55999755859375,
          173.75,
          172.57000732421875,
          172.07000732421875,
          172.07000732421875,
          172.69000244140625,
          175.0500030517578,
          175.16000366210938,
          174.19999694824216,
          171.55999755859372,
          171.83999633789062,
          172.99000549316406,
          175.42999267578125,
          177.3000030517578,
          177.25,
          180.08999633789062,
          180.9499969482422,
          179.5800018310547,
          179.2100067138672,
          177.82000732421875,
          180.57000732421875,
          180.9600067138672,
          183.7899932861328,
          183.30999755859375,
          183.9499969482422,
          186.00999450683594,
          184.9199981689453,
          185.00999450683594,
          183.9600067138672,
          187,
          186.67999267578122,
          185.27000427246094,
          188.05999755859375,
          189.25,
          189.58999633789062,
          193.97000122070312,
          192.4600067138672,
          191.3300018310547,
          191.80999755859375,
          190.67999267578125,
          188.61000061035153,
          188.0800018310547,
          189.77000427246094,
          190.5399932861328,
          190.69000244140625,
          193.99000549316406,
          193.72999572753906,
          195.10000610351562,
          193.1300048828125,
          191.94000244140625,
          192.75000000000003,
          193.6199951171875,
          194.5,
          193.22000122070312,
          195.8300018310547,
          196.4499969482422,
          195.61000061035156,
          192.5800018310547,
          191.1699981689453,
          181.99000549316406,
          178.85000610351562,
          179.8000030517578,
          178.19000244140625,
          177.97000122070312,
          177.7899932861328,
          179.4600067138672,
          177.4499969482422,
          176.57000732421875,
          174,
          174.49000549316406,
          175.83999633789062,
          177.22999572753903,
          181.1199951171875,
          176.3800048828125,
          178.61000061035156,
          180.19000244140625,
          184.1199951171875
         ]
        },
        {
         "line": {
          "color": "red",
          "width": 1.5
         },
         "mode": "lines",
         "name": "Predicted Stock Prices",
         "type": "scatter",
         "x": [
          "2022-11-22T00:00:00-05:00",
          "2022-11-23T00:00:00-05:00",
          "2022-11-25T00:00:00-05:00",
          "2022-11-28T00:00:00-05:00",
          "2022-11-29T00:00:00-05:00",
          "2022-11-30T00:00:00-05:00",
          "2022-12-01T00:00:00-05:00",
          "2022-12-02T00:00:00-05:00",
          "2022-12-05T00:00:00-05:00",
          "2022-12-06T00:00:00-05:00",
          "2022-12-07T00:00:00-05:00",
          "2022-12-08T00:00:00-05:00",
          "2022-12-09T00:00:00-05:00",
          "2022-12-12T00:00:00-05:00",
          "2022-12-13T00:00:00-05:00",
          "2022-12-14T00:00:00-05:00",
          "2022-12-15T00:00:00-05:00",
          "2022-12-16T00:00:00-05:00",
          "2022-12-19T00:00:00-05:00",
          "2022-12-20T00:00:00-05:00",
          "2022-12-21T00:00:00-05:00",
          "2022-12-22T00:00:00-05:00",
          "2022-12-23T00:00:00-05:00",
          "2022-12-27T00:00:00-05:00",
          "2022-12-28T00:00:00-05:00",
          "2022-12-29T00:00:00-05:00",
          "2022-12-30T00:00:00-05:00",
          "2023-01-03T00:00:00-05:00",
          "2023-01-04T00:00:00-05:00",
          "2023-01-05T00:00:00-05:00",
          "2023-01-06T00:00:00-05:00",
          "2023-01-09T00:00:00-05:00",
          "2023-01-10T00:00:00-05:00",
          "2023-01-11T00:00:00-05:00",
          "2023-01-12T00:00:00-05:00",
          "2023-01-13T00:00:00-05:00",
          "2023-01-17T00:00:00-05:00",
          "2023-01-18T00:00:00-05:00",
          "2023-01-19T00:00:00-05:00",
          "2023-01-20T00:00:00-05:00",
          "2023-01-23T00:00:00-05:00",
          "2023-01-24T00:00:00-05:00",
          "2023-01-25T00:00:00-05:00",
          "2023-01-26T00:00:00-05:00",
          "2023-01-27T00:00:00-05:00",
          "2023-01-30T00:00:00-05:00",
          "2023-01-31T00:00:00-05:00",
          "2023-02-01T00:00:00-05:00",
          "2023-02-02T00:00:00-05:00",
          "2023-02-03T00:00:00-05:00",
          "2023-02-06T00:00:00-05:00",
          "2023-02-07T00:00:00-05:00",
          "2023-02-08T00:00:00-05:00",
          "2023-02-09T00:00:00-05:00",
          "2023-02-10T00:00:00-05:00",
          "2023-02-13T00:00:00-05:00",
          "2023-02-14T00:00:00-05:00",
          "2023-02-15T00:00:00-05:00",
          "2023-02-16T00:00:00-05:00",
          "2023-02-17T00:00:00-05:00",
          "2023-02-21T00:00:00-05:00",
          "2023-02-22T00:00:00-05:00",
          "2023-02-23T00:00:00-05:00",
          "2023-02-24T00:00:00-05:00",
          "2023-02-27T00:00:00-05:00",
          "2023-02-28T00:00:00-05:00",
          "2023-03-01T00:00:00-05:00",
          "2023-03-02T00:00:00-05:00",
          "2023-03-03T00:00:00-05:00",
          "2023-03-06T00:00:00-05:00",
          "2023-03-07T00:00:00-05:00",
          "2023-03-08T00:00:00-05:00",
          "2023-03-09T00:00:00-05:00",
          "2023-03-10T00:00:00-05:00",
          "2023-03-13T00:00:00-04:00",
          "2023-03-14T00:00:00-04:00",
          "2023-03-15T00:00:00-04:00",
          "2023-03-16T00:00:00-04:00",
          "2023-03-17T00:00:00-04:00",
          "2023-03-20T00:00:00-04:00",
          "2023-03-21T00:00:00-04:00",
          "2023-03-22T00:00:00-04:00",
          "2023-03-23T00:00:00-04:00",
          "2023-03-24T00:00:00-04:00",
          "2023-03-27T00:00:00-04:00",
          "2023-03-28T00:00:00-04:00",
          "2023-03-29T00:00:00-04:00",
          "2023-03-30T00:00:00-04:00",
          "2023-03-31T00:00:00-04:00",
          "2023-04-03T00:00:00-04:00",
          "2023-04-04T00:00:00-04:00",
          "2023-04-05T00:00:00-04:00",
          "2023-04-06T00:00:00-04:00",
          "2023-04-10T00:00:00-04:00",
          "2023-04-11T00:00:00-04:00",
          "2023-04-12T00:00:00-04:00",
          "2023-04-13T00:00:00-04:00",
          "2023-04-14T00:00:00-04:00",
          "2023-04-17T00:00:00-04:00",
          "2023-04-18T00:00:00-04:00",
          "2023-04-19T00:00:00-04:00",
          "2023-04-20T00:00:00-04:00",
          "2023-04-21T00:00:00-04:00",
          "2023-04-24T00:00:00-04:00",
          "2023-04-25T00:00:00-04:00",
          "2023-04-26T00:00:00-04:00",
          "2023-04-27T00:00:00-04:00",
          "2023-04-28T00:00:00-04:00",
          "2023-05-01T00:00:00-04:00",
          "2023-05-02T00:00:00-04:00",
          "2023-05-03T00:00:00-04:00",
          "2023-05-04T00:00:00-04:00",
          "2023-05-05T00:00:00-04:00",
          "2023-05-08T00:00:00-04:00",
          "2023-05-09T00:00:00-04:00",
          "2023-05-10T00:00:00-04:00",
          "2023-05-11T00:00:00-04:00",
          "2023-05-12T00:00:00-04:00",
          "2023-05-15T00:00:00-04:00",
          "2023-05-16T00:00:00-04:00",
          "2023-05-17T00:00:00-04:00",
          "2023-05-18T00:00:00-04:00",
          "2023-05-19T00:00:00-04:00",
          "2023-05-22T00:00:00-04:00",
          "2023-05-23T00:00:00-04:00",
          "2023-05-24T00:00:00-04:00",
          "2023-05-25T00:00:00-04:00",
          "2023-05-26T00:00:00-04:00",
          "2023-05-30T00:00:00-04:00",
          "2023-05-31T00:00:00-04:00",
          "2023-06-01T00:00:00-04:00",
          "2023-06-02T00:00:00-04:00",
          "2023-06-05T00:00:00-04:00",
          "2023-06-06T00:00:00-04:00",
          "2023-06-07T00:00:00-04:00",
          "2023-06-08T00:00:00-04:00",
          "2023-06-09T00:00:00-04:00",
          "2023-06-12T00:00:00-04:00",
          "2023-06-13T00:00:00-04:00",
          "2023-06-14T00:00:00-04:00",
          "2023-06-15T00:00:00-04:00",
          "2023-06-16T00:00:00-04:00",
          "2023-06-20T00:00:00-04:00",
          "2023-06-21T00:00:00-04:00",
          "2023-06-22T00:00:00-04:00",
          "2023-06-23T00:00:00-04:00",
          "2023-06-26T00:00:00-04:00",
          "2023-06-27T00:00:00-04:00",
          "2023-06-28T00:00:00-04:00",
          "2023-06-29T00:00:00-04:00",
          "2023-06-30T00:00:00-04:00",
          "2023-07-03T00:00:00-04:00",
          "2023-07-05T00:00:00-04:00",
          "2023-07-06T00:00:00-04:00",
          "2023-07-07T00:00:00-04:00",
          "2023-07-10T00:00:00-04:00",
          "2023-07-11T00:00:00-04:00",
          "2023-07-12T00:00:00-04:00",
          "2023-07-13T00:00:00-04:00",
          "2023-07-14T00:00:00-04:00",
          "2023-07-17T00:00:00-04:00",
          "2023-07-18T00:00:00-04:00",
          "2023-07-19T00:00:00-04:00",
          "2023-07-20T00:00:00-04:00",
          "2023-07-21T00:00:00-04:00",
          "2023-07-24T00:00:00-04:00",
          "2023-07-25T00:00:00-04:00",
          "2023-07-26T00:00:00-04:00",
          "2023-07-27T00:00:00-04:00",
          "2023-07-28T00:00:00-04:00",
          "2023-07-31T00:00:00-04:00",
          "2023-08-01T00:00:00-04:00",
          "2023-08-02T00:00:00-04:00",
          "2023-08-03T00:00:00-04:00",
          "2023-08-04T00:00:00-04:00",
          "2023-08-07T00:00:00-04:00",
          "2023-08-08T00:00:00-04:00",
          "2023-08-09T00:00:00-04:00",
          "2023-08-10T00:00:00-04:00",
          "2023-08-11T00:00:00-04:00",
          "2023-08-14T00:00:00-04:00",
          "2023-08-15T00:00:00-04:00",
          "2023-08-16T00:00:00-04:00",
          "2023-08-17T00:00:00-04:00",
          "2023-08-18T00:00:00-04:00",
          "2023-08-21T00:00:00-04:00",
          "2023-08-22T00:00:00-04:00",
          "2023-08-23T00:00:00-04:00",
          "2023-08-24T00:00:00-04:00",
          "2023-08-25T00:00:00-04:00",
          "2023-08-28T00:00:00-04:00",
          "2023-08-29T00:00:00-04:00"
         ],
         "y": [
          149.5989532470703,
          150.47824096679688,
          151.60415649414062,
          149.65220642089844,
          146.08912658691406,
          142.8548583984375,
          146.618896484375,
          148.64674377441406,
          148.756591796875,
          147.73678588867188,
          144.68031311035156,
          142.26925659179688,
          142.67080688476562,
          142.73623657226562,
          144.34474182128906,
          145.72708129882812,
          144.58184814453125,
          139.5410614013672,
          136.2810516357422,
          133.88723754882812,
          132.93394470214844,
          134.47146606445312,
          133.6715850830078,
          132.85433959960938,
          131.46900939941406,
          128.6826629638672,
          128.95486450195312,
          129.68081665039062,
          127.68346405029297,
          126.94506072998047,
          126.08124542236328,
          127.8612289428711,
          129.52145385742188,
          130.66993713378906,
          132.64601135253906,
          133.6441650390625,
          134.7100372314453,
          135.8516082763672,
          135.89166259765625,
          135.78411865234375,
          137.2621612548828,
          140.09548950195312,
          142.3103790283203,
          142.5821990966797,
          143.86378479003906,
          145.7381134033203,
          144.32046508789062,
          144.4733123779297,
          145.4385223388672,
          149.75384521484375,
          154.18536376953125,
          153.075927734375,
          154.71519470214844,
          153.03819274902344,
          151.6728057861328,
          151.51287841796875,
          153.81350708007812,
          154.00306701660156,
          155.62535095214844,
          154.7174530029297,
          153.44796752929688,
          149.982421875,
          149.40576171875,
          149.81459045410156,
          148.00791931152344,
          148.2685089111328,
          148.10552978515625,
          146.51734924316406,
          146.38523864746094,
          150.2090606689453,
          153.8344268798828,
          152.98570251464844,
          153.45916748046875,
          151.85601806640625,
          149.78363037109375,
          150.7672576904297,
          152.88833618164062,
          153.82623291015625,
          156.25238037109375,
          156.14398193359375,
          157.93673706054688,
          159.96954345703125,
          159.0836639404297,
          159.74240112304688,
          161.07896423339844,
          159.61376953125,
          158.73927307128906,
          161.32797241210938,
          163.29229736328125,
          165.7838897705078,
          167.20787048339844,
          166.76141357421875,
          164.94700622558594,
          165.6333465576172,
          163.42373657226562,
          162.0316162109375,
          161.2861328125,
          166.092041015625,
          166.53421020507812,
          166.34686279296875,
          167.43739318847656,
          168.6795654296875,
          167.87355041503906,
          166.26861572265625,
          166.47006225585938,
          165.13845825195312,
          164.97853088378906,
          169.30902099609375,
          170.99822998046875,
          170.83993530273438,
          169.75575256347656,
          168.6984100341797,
          167.14622497558594,
          174.5460662841797,
          175.0559539794922,
          173.03768920898438,
          174.77467346191406,
          175.1255645751953,
          173.94189453125,
          173.44918823242188,
          173.49111938476562,
          174.1168212890625,
          176.4641571044922,
          176.54833984375,
          175.48960876464844,
          172.87060546875,
          173.19740295410156,
          174.43585205078125,
          176.87738037109375,
          178.7184600830078,
          178.54490661621094,
          181.47283935546875,
          182.3231201171875,
          180.821044921875,
          180.60858154296875,
          179.28207397460938,
          182.26931762695312,
          182.51287841796875,
          185.37989807128906,
          184.5881805419922,
          185.31674194335938,
          187.55995178222656,
          186.14620971679688,
          186.42356872558594,
          185.3335418701172,
          188.79312133789062,
          188.00831604003906,
          186.47190856933594,
          189.78785705566406,
          190.69241333007812,
          190.84999084472656,
          195.76329040527344,
          193.20574951171875,
          192.4499053955078,
          193.3426971435547,
          191.96690368652344,
          189.87283325195312,
          189.64651489257812,
          191.53028869628906,
          191.9687957763672,
          191.93740844726562,
          195.6504669189453,
          194.6793975830078,
          196.45260620117188,
          193.98211669921875,
          193.25413513183594,
          194.44424438476562,
          195.17898559570312,
          195.9359130859375,
          194.26866149902344,
          197.61526489257812,
          197.64889526367188,
          196.6237335205078,
          193.47276306152344,
          192.6591033935547,
          182.62451171875,
          180.75222778320312,
          181.90771484375,
          179.89683532714844,
          179.5094451904297,
          179.23316955566406,
          180.91888427734375,
          178.7510986328125,
          177.94354248046875,
          175.47406005859375,
          176.0987548828125,
          177.5493621826172,
          178.92819213867188,
          182.87237548828125,
          177.7218017578125,
          180.2548065185547,
          182.01437377929688
         ]
        }
       ],
       "layout": {
        "template": {
         "data": {
          "bar": [
           {
            "error_x": {
             "color": "#2a3f5f"
            },
            "error_y": {
             "color": "#2a3f5f"
            },
            "marker": {
             "line": {
              "color": "#E5ECF6",
              "width": 0.5
             },
             "pattern": {
              "fillmode": "overlay",
              "size": 10,
              "solidity": 0.2
             }
            },
            "type": "bar"
           }
          ],
          "barpolar": [
           {
            "marker": {
             "line": {
              "color": "#E5ECF6",
              "width": 0.5
             },
             "pattern": {
              "fillmode": "overlay",
              "size": 10,
              "solidity": 0.2
             }
            },
            "type": "barpolar"
           }
          ],
          "carpet": [
           {
            "aaxis": {
             "endlinecolor": "#2a3f5f",
             "gridcolor": "white",
             "linecolor": "white",
             "minorgridcolor": "white",
             "startlinecolor": "#2a3f5f"
            },
            "baxis": {
             "endlinecolor": "#2a3f5f",
             "gridcolor": "white",
             "linecolor": "white",
             "minorgridcolor": "white",
             "startlinecolor": "#2a3f5f"
            },
            "type": "carpet"
           }
          ],
          "choropleth": [
           {
            "colorbar": {
             "outlinewidth": 0,
             "ticks": ""
            },
            "type": "choropleth"
           }
          ],
          "contour": [
           {
            "colorbar": {
             "outlinewidth": 0,
             "ticks": ""
            },
            "colorscale": [
             [
              0,
              "#0d0887"
             ],
             [
              0.1111111111111111,
              "#46039f"
             ],
             [
              0.2222222222222222,
              "#7201a8"
             ],
             [
              0.3333333333333333,
              "#9c179e"
             ],
             [
              0.4444444444444444,
              "#bd3786"
             ],
             [
              0.5555555555555556,
              "#d8576b"
             ],
             [
              0.6666666666666666,
              "#ed7953"
             ],
             [
              0.7777777777777778,
              "#fb9f3a"
             ],
             [
              0.8888888888888888,
              "#fdca26"
             ],
             [
              1,
              "#f0f921"
             ]
            ],
            "type": "contour"
           }
          ],
          "contourcarpet": [
           {
            "colorbar": {
             "outlinewidth": 0,
             "ticks": ""
            },
            "type": "contourcarpet"
           }
          ],
          "heatmap": [
           {
            "colorbar": {
             "outlinewidth": 0,
             "ticks": ""
            },
            "colorscale": [
             [
              0,
              "#0d0887"
             ],
             [
              0.1111111111111111,
              "#46039f"
             ],
             [
              0.2222222222222222,
              "#7201a8"
             ],
             [
              0.3333333333333333,
              "#9c179e"
             ],
             [
              0.4444444444444444,
              "#bd3786"
             ],
             [
              0.5555555555555556,
              "#d8576b"
             ],
             [
              0.6666666666666666,
              "#ed7953"
             ],
             [
              0.7777777777777778,
              "#fb9f3a"
             ],
             [
              0.8888888888888888,
              "#fdca26"
             ],
             [
              1,
              "#f0f921"
             ]
            ],
            "type": "heatmap"
           }
          ],
          "heatmapgl": [
           {
            "colorbar": {
             "outlinewidth": 0,
             "ticks": ""
            },
            "colorscale": [
             [
              0,
              "#0d0887"
             ],
             [
              0.1111111111111111,
              "#46039f"
             ],
             [
              0.2222222222222222,
              "#7201a8"
             ],
             [
              0.3333333333333333,
              "#9c179e"
             ],
             [
              0.4444444444444444,
              "#bd3786"
             ],
             [
              0.5555555555555556,
              "#d8576b"
             ],
             [
              0.6666666666666666,
              "#ed7953"
             ],
             [
              0.7777777777777778,
              "#fb9f3a"
             ],
             [
              0.8888888888888888,
              "#fdca26"
             ],
             [
              1,
              "#f0f921"
             ]
            ],
            "type": "heatmapgl"
           }
          ],
          "histogram": [
           {
            "marker": {
             "pattern": {
              "fillmode": "overlay",
              "size": 10,
              "solidity": 0.2
             }
            },
            "type": "histogram"
           }
          ],
          "histogram2d": [
           {
            "colorbar": {
             "outlinewidth": 0,
             "ticks": ""
            },
            "colorscale": [
             [
              0,
              "#0d0887"
             ],
             [
              0.1111111111111111,
              "#46039f"
             ],
             [
              0.2222222222222222,
              "#7201a8"
             ],
             [
              0.3333333333333333,
              "#9c179e"
             ],
             [
              0.4444444444444444,
              "#bd3786"
             ],
             [
              0.5555555555555556,
              "#d8576b"
             ],
             [
              0.6666666666666666,
              "#ed7953"
             ],
             [
              0.7777777777777778,
              "#fb9f3a"
             ],
             [
              0.8888888888888888,
              "#fdca26"
             ],
             [
              1,
              "#f0f921"
             ]
            ],
            "type": "histogram2d"
           }
          ],
          "histogram2dcontour": [
           {
            "colorbar": {
             "outlinewidth": 0,
             "ticks": ""
            },
            "colorscale": [
             [
              0,
              "#0d0887"
             ],
             [
              0.1111111111111111,
              "#46039f"
             ],
             [
              0.2222222222222222,
              "#7201a8"
             ],
             [
              0.3333333333333333,
              "#9c179e"
             ],
             [
              0.4444444444444444,
              "#bd3786"
             ],
             [
              0.5555555555555556,
              "#d8576b"
             ],
             [
              0.6666666666666666,
              "#ed7953"
             ],
             [
              0.7777777777777778,
              "#fb9f3a"
             ],
             [
              0.8888888888888888,
              "#fdca26"
             ],
             [
              1,
              "#f0f921"
             ]
            ],
            "type": "histogram2dcontour"
           }
          ],
          "mesh3d": [
           {
            "colorbar": {
             "outlinewidth": 0,
             "ticks": ""
            },
            "type": "mesh3d"
           }
          ],
          "parcoords": [
           {
            "line": {
             "colorbar": {
              "outlinewidth": 0,
              "ticks": ""
             }
            },
            "type": "parcoords"
           }
          ],
          "pie": [
           {
            "automargin": true,
            "type": "pie"
           }
          ],
          "scatter": [
           {
            "fillpattern": {
             "fillmode": "overlay",
             "size": 10,
             "solidity": 0.2
            },
            "type": "scatter"
           }
          ],
          "scatter3d": [
           {
            "line": {
             "colorbar": {
              "outlinewidth": 0,
              "ticks": ""
             }
            },
            "marker": {
             "colorbar": {
              "outlinewidth": 0,
              "ticks": ""
             }
            },
            "type": "scatter3d"
           }
          ],
          "scattercarpet": [
           {
            "marker": {
             "colorbar": {
              "outlinewidth": 0,
              "ticks": ""
             }
            },
            "type": "scattercarpet"
           }
          ],
          "scattergeo": [
           {
            "marker": {
             "colorbar": {
              "outlinewidth": 0,
              "ticks": ""
             }
            },
            "type": "scattergeo"
           }
          ],
          "scattergl": [
           {
            "marker": {
             "colorbar": {
              "outlinewidth": 0,
              "ticks": ""
             }
            },
            "type": "scattergl"
           }
          ],
          "scattermapbox": [
           {
            "marker": {
             "colorbar": {
              "outlinewidth": 0,
              "ticks": ""
             }
            },
            "type": "scattermapbox"
           }
          ],
          "scatterpolar": [
           {
            "marker": {
             "colorbar": {
              "outlinewidth": 0,
              "ticks": ""
             }
            },
            "type": "scatterpolar"
           }
          ],
          "scatterpolargl": [
           {
            "marker": {
             "colorbar": {
              "outlinewidth": 0,
              "ticks": ""
             }
            },
            "type": "scatterpolargl"
           }
          ],
          "scatterternary": [
           {
            "marker": {
             "colorbar": {
              "outlinewidth": 0,
              "ticks": ""
             }
            },
            "type": "scatterternary"
           }
          ],
          "surface": [
           {
            "colorbar": {
             "outlinewidth": 0,
             "ticks": ""
            },
            "colorscale": [
             [
              0,
              "#0d0887"
             ],
             [
              0.1111111111111111,
              "#46039f"
             ],
             [
              0.2222222222222222,
              "#7201a8"
             ],
             [
              0.3333333333333333,
              "#9c179e"
             ],
             [
              0.4444444444444444,
              "#bd3786"
             ],
             [
              0.5555555555555556,
              "#d8576b"
             ],
             [
              0.6666666666666666,
              "#ed7953"
             ],
             [
              0.7777777777777778,
              "#fb9f3a"
             ],
             [
              0.8888888888888888,
              "#fdca26"
             ],
             [
              1,
              "#f0f921"
             ]
            ],
            "type": "surface"
           }
          ],
          "table": [
           {
            "cells": {
             "fill": {
              "color": "#EBF0F8"
             },
             "line": {
              "color": "white"
             }
            },
            "header": {
             "fill": {
              "color": "#C8D4E3"
             },
             "line": {
              "color": "white"
             }
            },
            "type": "table"
           }
          ]
         },
         "layout": {
          "annotationdefaults": {
           "arrowcolor": "#2a3f5f",
           "arrowhead": 0,
           "arrowwidth": 1
          },
          "autotypenumbers": "strict",
          "coloraxis": {
           "colorbar": {
            "outlinewidth": 0,
            "ticks": ""
           }
          },
          "colorscale": {
           "diverging": [
            [
             0,
             "#8e0152"
            ],
            [
             0.1,
             "#c51b7d"
            ],
            [
             0.2,
             "#de77ae"
            ],
            [
             0.3,
             "#f1b6da"
            ],
            [
             0.4,
             "#fde0ef"
            ],
            [
             0.5,
             "#f7f7f7"
            ],
            [
             0.6,
             "#e6f5d0"
            ],
            [
             0.7,
             "#b8e186"
            ],
            [
             0.8,
             "#7fbc41"
            ],
            [
             0.9,
             "#4d9221"
            ],
            [
             1,
             "#276419"
            ]
           ],
           "sequential": [
            [
             0,
             "#0d0887"
            ],
            [
             0.1111111111111111,
             "#46039f"
            ],
            [
             0.2222222222222222,
             "#7201a8"
            ],
            [
             0.3333333333333333,
             "#9c179e"
            ],
            [
             0.4444444444444444,
             "#bd3786"
            ],
            [
             0.5555555555555556,
             "#d8576b"
            ],
            [
             0.6666666666666666,
             "#ed7953"
            ],
            [
             0.7777777777777778,
             "#fb9f3a"
            ],
            [
             0.8888888888888888,
             "#fdca26"
            ],
            [
             1,
             "#f0f921"
            ]
           ],
           "sequentialminus": [
            [
             0,
             "#0d0887"
            ],
            [
             0.1111111111111111,
             "#46039f"
            ],
            [
             0.2222222222222222,
             "#7201a8"
            ],
            [
             0.3333333333333333,
             "#9c179e"
            ],
            [
             0.4444444444444444,
             "#bd3786"
            ],
            [
             0.5555555555555556,
             "#d8576b"
            ],
            [
             0.6666666666666666,
             "#ed7953"
            ],
            [
             0.7777777777777778,
             "#fb9f3a"
            ],
            [
             0.8888888888888888,
             "#fdca26"
            ],
            [
             1,
             "#f0f921"
            ]
           ]
          },
          "colorway": [
           "#636efa",
           "#EF553B",
           "#00cc96",
           "#ab63fa",
           "#FFA15A",
           "#19d3f3",
           "#FF6692",
           "#B6E880",
           "#FF97FF",
           "#FECB52"
          ],
          "font": {
           "color": "#2a3f5f"
          },
          "geo": {
           "bgcolor": "white",
           "lakecolor": "white",
           "landcolor": "#E5ECF6",
           "showlakes": true,
           "showland": true,
           "subunitcolor": "white"
          },
          "hoverlabel": {
           "align": "left"
          },
          "hovermode": "closest",
          "mapbox": {
           "style": "light"
          },
          "paper_bgcolor": "white",
          "plot_bgcolor": "#E5ECF6",
          "polar": {
           "angularaxis": {
            "gridcolor": "white",
            "linecolor": "white",
            "ticks": ""
           },
           "bgcolor": "#E5ECF6",
           "radialaxis": {
            "gridcolor": "white",
            "linecolor": "white",
            "ticks": ""
           }
          },
          "scene": {
           "xaxis": {
            "backgroundcolor": "#E5ECF6",
            "gridcolor": "white",
            "gridwidth": 2,
            "linecolor": "white",
            "showbackground": true,
            "ticks": "",
            "zerolinecolor": "white"
           },
           "yaxis": {
            "backgroundcolor": "#E5ECF6",
            "gridcolor": "white",
            "gridwidth": 2,
            "linecolor": "white",
            "showbackground": true,
            "ticks": "",
            "zerolinecolor": "white"
           },
           "zaxis": {
            "backgroundcolor": "#E5ECF6",
            "gridcolor": "white",
            "gridwidth": 2,
            "linecolor": "white",
            "showbackground": true,
            "ticks": "",
            "zerolinecolor": "white"
           }
          },
          "shapedefaults": {
           "line": {
            "color": "#2a3f5f"
           }
          },
          "ternary": {
           "aaxis": {
            "gridcolor": "white",
            "linecolor": "white",
            "ticks": ""
           },
           "baxis": {
            "gridcolor": "white",
            "linecolor": "white",
            "ticks": ""
           },
           "bgcolor": "#E5ECF6",
           "caxis": {
            "gridcolor": "white",
            "linecolor": "white",
            "ticks": ""
           }
          },
          "title": {
           "x": 0.05
          },
          "xaxis": {
           "automargin": true,
           "gridcolor": "white",
           "linecolor": "white",
           "ticks": "",
           "title": {
            "standoff": 15
           },
           "zerolinecolor": "white",
           "zerolinewidth": 2
          },
          "yaxis": {
           "automargin": true,
           "gridcolor": "white",
           "linecolor": "white",
           "ticks": "",
           "title": {
            "standoff": 15
           },
           "zerolinecolor": "white",
           "zerolinewidth": 2
          }
         }
        },
        "title": {
         "text": "Real Stock Prices vs Predicted by LSTM\n\nRMSE 2.55730674469627"
        },
        "xaxis": {
         "title": {
          "text": "Date"
         }
        },
        "yaxis": {
         "title": {
          "text": "Value"
         }
        }
       }
      },
      "text/html": [
       "<div>                            <div id=\"95eb1821-52e2-492b-a3f2-8a0e3494621f\" class=\"plotly-graph-div\" style=\"height:525px; width:100%;\"></div>            <script type=\"text/javascript\">                require([\"plotly\"], function(Plotly) {                    window.PLOTLYENV=window.PLOTLYENV || {};                                    if (document.getElementById(\"95eb1821-52e2-492b-a3f2-8a0e3494621f\")) {                    Plotly.newPlot(                        \"95eb1821-52e2-492b-a3f2-8a0e3494621f\",                        [{\"line\":{\"color\":\"blue\",\"width\":0.7},\"name\":\"Real Stock Prices\",\"x\":[\"2022-11-22T00:00:00-05:00\",\"2022-11-23T00:00:00-05:00\",\"2022-11-25T00:00:00-05:00\",\"2022-11-28T00:00:00-05:00\",\"2022-11-29T00:00:00-05:00\",\"2022-11-30T00:00:00-05:00\",\"2022-12-01T00:00:00-05:00\",\"2022-12-02T00:00:00-05:00\",\"2022-12-05T00:00:00-05:00\",\"2022-12-06T00:00:00-05:00\",\"2022-12-07T00:00:00-05:00\",\"2022-12-08T00:00:00-05:00\",\"2022-12-09T00:00:00-05:00\",\"2022-12-12T00:00:00-05:00\",\"2022-12-13T00:00:00-05:00\",\"2022-12-14T00:00:00-05:00\",\"2022-12-15T00:00:00-05:00\",\"2022-12-16T00:00:00-05:00\",\"2022-12-19T00:00:00-05:00\",\"2022-12-20T00:00:00-05:00\",\"2022-12-21T00:00:00-05:00\",\"2022-12-22T00:00:00-05:00\",\"2022-12-23T00:00:00-05:00\",\"2022-12-27T00:00:00-05:00\",\"2022-12-28T00:00:00-05:00\",\"2022-12-29T00:00:00-05:00\",\"2022-12-30T00:00:00-05:00\",\"2023-01-03T00:00:00-05:00\",\"2023-01-04T00:00:00-05:00\",\"2023-01-05T00:00:00-05:00\",\"2023-01-06T00:00:00-05:00\",\"2023-01-09T00:00:00-05:00\",\"2023-01-10T00:00:00-05:00\",\"2023-01-11T00:00:00-05:00\",\"2023-01-12T00:00:00-05:00\",\"2023-01-13T00:00:00-05:00\",\"2023-01-17T00:00:00-05:00\",\"2023-01-18T00:00:00-05:00\",\"2023-01-19T00:00:00-05:00\",\"2023-01-20T00:00:00-05:00\",\"2023-01-23T00:00:00-05:00\",\"2023-01-24T00:00:00-05:00\",\"2023-01-25T00:00:00-05:00\",\"2023-01-26T00:00:00-05:00\",\"2023-01-27T00:00:00-05:00\",\"2023-01-30T00:00:00-05:00\",\"2023-01-31T00:00:00-05:00\",\"2023-02-01T00:00:00-05:00\",\"2023-02-02T00:00:00-05:00\",\"2023-02-03T00:00:00-05:00\",\"2023-02-06T00:00:00-05:00\",\"2023-02-07T00:00:00-05:00\",\"2023-02-08T00:00:00-05:00\",\"2023-02-09T00:00:00-05:00\",\"2023-02-10T00:00:00-05:00\",\"2023-02-13T00:00:00-05:00\",\"2023-02-14T00:00:00-05:00\",\"2023-02-15T00:00:00-05:00\",\"2023-02-16T00:00:00-05:00\",\"2023-02-17T00:00:00-05:00\",\"2023-02-21T00:00:00-05:00\",\"2023-02-22T00:00:00-05:00\",\"2023-02-23T00:00:00-05:00\",\"2023-02-24T00:00:00-05:00\",\"2023-02-27T00:00:00-05:00\",\"2023-02-28T00:00:00-05:00\",\"2023-03-01T00:00:00-05:00\",\"2023-03-02T00:00:00-05:00\",\"2023-03-03T00:00:00-05:00\",\"2023-03-06T00:00:00-05:00\",\"2023-03-07T00:00:00-05:00\",\"2023-03-08T00:00:00-05:00\",\"2023-03-09T00:00:00-05:00\",\"2023-03-10T00:00:00-05:00\",\"2023-03-13T00:00:00-04:00\",\"2023-03-14T00:00:00-04:00\",\"2023-03-15T00:00:00-04:00\",\"2023-03-16T00:00:00-04:00\",\"2023-03-17T00:00:00-04:00\",\"2023-03-20T00:00:00-04:00\",\"2023-03-21T00:00:00-04:00\",\"2023-03-22T00:00:00-04:00\",\"2023-03-23T00:00:00-04:00\",\"2023-03-24T00:00:00-04:00\",\"2023-03-27T00:00:00-04:00\",\"2023-03-28T00:00:00-04:00\",\"2023-03-29T00:00:00-04:00\",\"2023-03-30T00:00:00-04:00\",\"2023-03-31T00:00:00-04:00\",\"2023-04-03T00:00:00-04:00\",\"2023-04-04T00:00:00-04:00\",\"2023-04-05T00:00:00-04:00\",\"2023-04-06T00:00:00-04:00\",\"2023-04-10T00:00:00-04:00\",\"2023-04-11T00:00:00-04:00\",\"2023-04-12T00:00:00-04:00\",\"2023-04-13T00:00:00-04:00\",\"2023-04-14T00:00:00-04:00\",\"2023-04-17T00:00:00-04:00\",\"2023-04-18T00:00:00-04:00\",\"2023-04-19T00:00:00-04:00\",\"2023-04-20T00:00:00-04:00\",\"2023-04-21T00:00:00-04:00\",\"2023-04-24T00:00:00-04:00\",\"2023-04-25T00:00:00-04:00\",\"2023-04-26T00:00:00-04:00\",\"2023-04-27T00:00:00-04:00\",\"2023-04-28T00:00:00-04:00\",\"2023-05-01T00:00:00-04:00\",\"2023-05-02T00:00:00-04:00\",\"2023-05-03T00:00:00-04:00\",\"2023-05-04T00:00:00-04:00\",\"2023-05-05T00:00:00-04:00\",\"2023-05-08T00:00:00-04:00\",\"2023-05-09T00:00:00-04:00\",\"2023-05-10T00:00:00-04:00\",\"2023-05-11T00:00:00-04:00\",\"2023-05-12T00:00:00-04:00\",\"2023-05-15T00:00:00-04:00\",\"2023-05-16T00:00:00-04:00\",\"2023-05-17T00:00:00-04:00\",\"2023-05-18T00:00:00-04:00\",\"2023-05-19T00:00:00-04:00\",\"2023-05-22T00:00:00-04:00\",\"2023-05-23T00:00:00-04:00\",\"2023-05-24T00:00:00-04:00\",\"2023-05-25T00:00:00-04:00\",\"2023-05-26T00:00:00-04:00\",\"2023-05-30T00:00:00-04:00\",\"2023-05-31T00:00:00-04:00\",\"2023-06-01T00:00:00-04:00\",\"2023-06-02T00:00:00-04:00\",\"2023-06-05T00:00:00-04:00\",\"2023-06-06T00:00:00-04:00\",\"2023-06-07T00:00:00-04:00\",\"2023-06-08T00:00:00-04:00\",\"2023-06-09T00:00:00-04:00\",\"2023-06-12T00:00:00-04:00\",\"2023-06-13T00:00:00-04:00\",\"2023-06-14T00:00:00-04:00\",\"2023-06-15T00:00:00-04:00\",\"2023-06-16T00:00:00-04:00\",\"2023-06-20T00:00:00-04:00\",\"2023-06-21T00:00:00-04:00\",\"2023-06-22T00:00:00-04:00\",\"2023-06-23T00:00:00-04:00\",\"2023-06-26T00:00:00-04:00\",\"2023-06-27T00:00:00-04:00\",\"2023-06-28T00:00:00-04:00\",\"2023-06-29T00:00:00-04:00\",\"2023-06-30T00:00:00-04:00\",\"2023-07-03T00:00:00-04:00\",\"2023-07-05T00:00:00-04:00\",\"2023-07-06T00:00:00-04:00\",\"2023-07-07T00:00:00-04:00\",\"2023-07-10T00:00:00-04:00\",\"2023-07-11T00:00:00-04:00\",\"2023-07-12T00:00:00-04:00\",\"2023-07-13T00:00:00-04:00\",\"2023-07-14T00:00:00-04:00\",\"2023-07-17T00:00:00-04:00\",\"2023-07-18T00:00:00-04:00\",\"2023-07-19T00:00:00-04:00\",\"2023-07-20T00:00:00-04:00\",\"2023-07-21T00:00:00-04:00\",\"2023-07-24T00:00:00-04:00\",\"2023-07-25T00:00:00-04:00\",\"2023-07-26T00:00:00-04:00\",\"2023-07-27T00:00:00-04:00\",\"2023-07-28T00:00:00-04:00\",\"2023-07-31T00:00:00-04:00\",\"2023-08-01T00:00:00-04:00\",\"2023-08-02T00:00:00-04:00\",\"2023-08-03T00:00:00-04:00\",\"2023-08-04T00:00:00-04:00\",\"2023-08-07T00:00:00-04:00\",\"2023-08-08T00:00:00-04:00\",\"2023-08-09T00:00:00-04:00\",\"2023-08-10T00:00:00-04:00\",\"2023-08-11T00:00:00-04:00\",\"2023-08-14T00:00:00-04:00\",\"2023-08-15T00:00:00-04:00\",\"2023-08-16T00:00:00-04:00\",\"2023-08-17T00:00:00-04:00\",\"2023-08-18T00:00:00-04:00\",\"2023-08-21T00:00:00-04:00\",\"2023-08-22T00:00:00-04:00\",\"2023-08-23T00:00:00-04:00\",\"2023-08-24T00:00:00-04:00\",\"2023-08-25T00:00:00-04:00\",\"2023-08-28T00:00:00-04:00\",\"2023-08-29T00:00:00-04:00\"],\"y\":[150.17999267578125,151.07000732421875,148.11000061035156,144.22000122070312,141.1699981689453,148.0299987792969,148.30999755859375,147.80999755859375,146.6300048828125,142.91000366210938,140.94000244140625,142.64999389648438,142.16000366210938,144.49000549316406,145.47000122070312,143.2100067138672,136.5,134.50999450683594,132.3699951171875,132.3000030517578,135.4499969482422,132.22999572753906,131.86000061035156,130.02999877929688,126.04000091552734,129.61000061035156,129.92999267578125,125.06999969482422,126.36000061035156,125.0199966430664,129.6199951171875,130.14999389648438,130.72999572753906,133.49000549316406,133.41000366210938,134.75999450683594,135.94000244140625,135.2100067138672,135.27000427246094,137.8699951171875,141.11000061035156,142.52999877929688,141.86000061035156,143.96000671386716,145.92999267578125,143.0,144.2899932861328,145.42999267578125,150.82000732421875,154.5,151.72999572753906,154.64999389648438,151.9199981689453,150.8699951171875,151.00999450683594,153.85000610351562,153.1999969482422,155.3300018310547,153.7100067138672,152.5500030517578,148.47999572753906,148.91000366210938,149.39999389648438,146.7100067138672,147.9199981689453,147.41000366210938,145.30999755859375,145.91000366210938,151.02999877929688,153.8300018310547,151.60000610351562,152.8699951171875,150.58999633789062,148.5,150.47000122070312,152.58999633789065,152.9900054931641,155.85000610351562,155.0,157.39999389648438,159.27999877929688,157.8300018310547,158.92999267578125,160.25,158.27999877929688,157.64999389648438,160.77000427246094,162.36000061035156,164.89999389648438,166.1699981689453,165.6300048828125,163.75999450683594,164.66000366210938,162.02999877929688,160.8000030517578,160.10000610351562,165.55999755859375,165.2100067138672,165.22999572753906,166.47000122070312,167.6300048828125,166.64999389648438,165.02000427246094,165.3300018310547,163.77000427246094,163.75999450683594,168.41000366210938,169.67999267578125,169.58999633789062,168.5399932861328,167.4499969482422,165.7899932861328,173.57000732421875,173.5,171.77000427246094,173.55999755859375,173.75,172.57000732421875,172.07000732421875,172.07000732421875,172.69000244140625,175.0500030517578,175.16000366210938,174.19999694824216,171.55999755859372,171.83999633789062,172.99000549316406,175.42999267578125,177.3000030517578,177.25,180.08999633789062,180.9499969482422,179.5800018310547,179.2100067138672,177.82000732421875,180.57000732421875,180.9600067138672,183.7899932861328,183.30999755859375,183.9499969482422,186.00999450683594,184.9199981689453,185.00999450683594,183.9600067138672,187.0,186.67999267578122,185.27000427246094,188.05999755859375,189.25,189.58999633789062,193.97000122070312,192.4600067138672,191.3300018310547,191.80999755859375,190.67999267578125,188.61000061035153,188.0800018310547,189.77000427246094,190.5399932861328,190.69000244140625,193.99000549316406,193.72999572753906,195.10000610351562,193.1300048828125,191.94000244140625,192.75000000000003,193.6199951171875,194.5,193.22000122070312,195.8300018310547,196.4499969482422,195.61000061035156,192.5800018310547,191.1699981689453,181.99000549316406,178.85000610351562,179.8000030517578,178.19000244140625,177.97000122070312,177.7899932861328,179.4600067138672,177.4499969482422,176.57000732421875,174.0,174.49000549316406,175.83999633789062,177.22999572753903,181.1199951171875,176.3800048828125,178.61000061035156,180.19000244140625,184.1199951171875],\"type\":\"scatter\"},{\"line\":{\"color\":\"red\",\"width\":1.5},\"mode\":\"lines\",\"name\":\"Predicted Stock Prices\",\"x\":[\"2022-11-22T00:00:00-05:00\",\"2022-11-23T00:00:00-05:00\",\"2022-11-25T00:00:00-05:00\",\"2022-11-28T00:00:00-05:00\",\"2022-11-29T00:00:00-05:00\",\"2022-11-30T00:00:00-05:00\",\"2022-12-01T00:00:00-05:00\",\"2022-12-02T00:00:00-05:00\",\"2022-12-05T00:00:00-05:00\",\"2022-12-06T00:00:00-05:00\",\"2022-12-07T00:00:00-05:00\",\"2022-12-08T00:00:00-05:00\",\"2022-12-09T00:00:00-05:00\",\"2022-12-12T00:00:00-05:00\",\"2022-12-13T00:00:00-05:00\",\"2022-12-14T00:00:00-05:00\",\"2022-12-15T00:00:00-05:00\",\"2022-12-16T00:00:00-05:00\",\"2022-12-19T00:00:00-05:00\",\"2022-12-20T00:00:00-05:00\",\"2022-12-21T00:00:00-05:00\",\"2022-12-22T00:00:00-05:00\",\"2022-12-23T00:00:00-05:00\",\"2022-12-27T00:00:00-05:00\",\"2022-12-28T00:00:00-05:00\",\"2022-12-29T00:00:00-05:00\",\"2022-12-30T00:00:00-05:00\",\"2023-01-03T00:00:00-05:00\",\"2023-01-04T00:00:00-05:00\",\"2023-01-05T00:00:00-05:00\",\"2023-01-06T00:00:00-05:00\",\"2023-01-09T00:00:00-05:00\",\"2023-01-10T00:00:00-05:00\",\"2023-01-11T00:00:00-05:00\",\"2023-01-12T00:00:00-05:00\",\"2023-01-13T00:00:00-05:00\",\"2023-01-17T00:00:00-05:00\",\"2023-01-18T00:00:00-05:00\",\"2023-01-19T00:00:00-05:00\",\"2023-01-20T00:00:00-05:00\",\"2023-01-23T00:00:00-05:00\",\"2023-01-24T00:00:00-05:00\",\"2023-01-25T00:00:00-05:00\",\"2023-01-26T00:00:00-05:00\",\"2023-01-27T00:00:00-05:00\",\"2023-01-30T00:00:00-05:00\",\"2023-01-31T00:00:00-05:00\",\"2023-02-01T00:00:00-05:00\",\"2023-02-02T00:00:00-05:00\",\"2023-02-03T00:00:00-05:00\",\"2023-02-06T00:00:00-05:00\",\"2023-02-07T00:00:00-05:00\",\"2023-02-08T00:00:00-05:00\",\"2023-02-09T00:00:00-05:00\",\"2023-02-10T00:00:00-05:00\",\"2023-02-13T00:00:00-05:00\",\"2023-02-14T00:00:00-05:00\",\"2023-02-15T00:00:00-05:00\",\"2023-02-16T00:00:00-05:00\",\"2023-02-17T00:00:00-05:00\",\"2023-02-21T00:00:00-05:00\",\"2023-02-22T00:00:00-05:00\",\"2023-02-23T00:00:00-05:00\",\"2023-02-24T00:00:00-05:00\",\"2023-02-27T00:00:00-05:00\",\"2023-02-28T00:00:00-05:00\",\"2023-03-01T00:00:00-05:00\",\"2023-03-02T00:00:00-05:00\",\"2023-03-03T00:00:00-05:00\",\"2023-03-06T00:00:00-05:00\",\"2023-03-07T00:00:00-05:00\",\"2023-03-08T00:00:00-05:00\",\"2023-03-09T00:00:00-05:00\",\"2023-03-10T00:00:00-05:00\",\"2023-03-13T00:00:00-04:00\",\"2023-03-14T00:00:00-04:00\",\"2023-03-15T00:00:00-04:00\",\"2023-03-16T00:00:00-04:00\",\"2023-03-17T00:00:00-04:00\",\"2023-03-20T00:00:00-04:00\",\"2023-03-21T00:00:00-04:00\",\"2023-03-22T00:00:00-04:00\",\"2023-03-23T00:00:00-04:00\",\"2023-03-24T00:00:00-04:00\",\"2023-03-27T00:00:00-04:00\",\"2023-03-28T00:00:00-04:00\",\"2023-03-29T00:00:00-04:00\",\"2023-03-30T00:00:00-04:00\",\"2023-03-31T00:00:00-04:00\",\"2023-04-03T00:00:00-04:00\",\"2023-04-04T00:00:00-04:00\",\"2023-04-05T00:00:00-04:00\",\"2023-04-06T00:00:00-04:00\",\"2023-04-10T00:00:00-04:00\",\"2023-04-11T00:00:00-04:00\",\"2023-04-12T00:00:00-04:00\",\"2023-04-13T00:00:00-04:00\",\"2023-04-14T00:00:00-04:00\",\"2023-04-17T00:00:00-04:00\",\"2023-04-18T00:00:00-04:00\",\"2023-04-19T00:00:00-04:00\",\"2023-04-20T00:00:00-04:00\",\"2023-04-21T00:00:00-04:00\",\"2023-04-24T00:00:00-04:00\",\"2023-04-25T00:00:00-04:00\",\"2023-04-26T00:00:00-04:00\",\"2023-04-27T00:00:00-04:00\",\"2023-04-28T00:00:00-04:00\",\"2023-05-01T00:00:00-04:00\",\"2023-05-02T00:00:00-04:00\",\"2023-05-03T00:00:00-04:00\",\"2023-05-04T00:00:00-04:00\",\"2023-05-05T00:00:00-04:00\",\"2023-05-08T00:00:00-04:00\",\"2023-05-09T00:00:00-04:00\",\"2023-05-10T00:00:00-04:00\",\"2023-05-11T00:00:00-04:00\",\"2023-05-12T00:00:00-04:00\",\"2023-05-15T00:00:00-04:00\",\"2023-05-16T00:00:00-04:00\",\"2023-05-17T00:00:00-04:00\",\"2023-05-18T00:00:00-04:00\",\"2023-05-19T00:00:00-04:00\",\"2023-05-22T00:00:00-04:00\",\"2023-05-23T00:00:00-04:00\",\"2023-05-24T00:00:00-04:00\",\"2023-05-25T00:00:00-04:00\",\"2023-05-26T00:00:00-04:00\",\"2023-05-30T00:00:00-04:00\",\"2023-05-31T00:00:00-04:00\",\"2023-06-01T00:00:00-04:00\",\"2023-06-02T00:00:00-04:00\",\"2023-06-05T00:00:00-04:00\",\"2023-06-06T00:00:00-04:00\",\"2023-06-07T00:00:00-04:00\",\"2023-06-08T00:00:00-04:00\",\"2023-06-09T00:00:00-04:00\",\"2023-06-12T00:00:00-04:00\",\"2023-06-13T00:00:00-04:00\",\"2023-06-14T00:00:00-04:00\",\"2023-06-15T00:00:00-04:00\",\"2023-06-16T00:00:00-04:00\",\"2023-06-20T00:00:00-04:00\",\"2023-06-21T00:00:00-04:00\",\"2023-06-22T00:00:00-04:00\",\"2023-06-23T00:00:00-04:00\",\"2023-06-26T00:00:00-04:00\",\"2023-06-27T00:00:00-04:00\",\"2023-06-28T00:00:00-04:00\",\"2023-06-29T00:00:00-04:00\",\"2023-06-30T00:00:00-04:00\",\"2023-07-03T00:00:00-04:00\",\"2023-07-05T00:00:00-04:00\",\"2023-07-06T00:00:00-04:00\",\"2023-07-07T00:00:00-04:00\",\"2023-07-10T00:00:00-04:00\",\"2023-07-11T00:00:00-04:00\",\"2023-07-12T00:00:00-04:00\",\"2023-07-13T00:00:00-04:00\",\"2023-07-14T00:00:00-04:00\",\"2023-07-17T00:00:00-04:00\",\"2023-07-18T00:00:00-04:00\",\"2023-07-19T00:00:00-04:00\",\"2023-07-20T00:00:00-04:00\",\"2023-07-21T00:00:00-04:00\",\"2023-07-24T00:00:00-04:00\",\"2023-07-25T00:00:00-04:00\",\"2023-07-26T00:00:00-04:00\",\"2023-07-27T00:00:00-04:00\",\"2023-07-28T00:00:00-04:00\",\"2023-07-31T00:00:00-04:00\",\"2023-08-01T00:00:00-04:00\",\"2023-08-02T00:00:00-04:00\",\"2023-08-03T00:00:00-04:00\",\"2023-08-04T00:00:00-04:00\",\"2023-08-07T00:00:00-04:00\",\"2023-08-08T00:00:00-04:00\",\"2023-08-09T00:00:00-04:00\",\"2023-08-10T00:00:00-04:00\",\"2023-08-11T00:00:00-04:00\",\"2023-08-14T00:00:00-04:00\",\"2023-08-15T00:00:00-04:00\",\"2023-08-16T00:00:00-04:00\",\"2023-08-17T00:00:00-04:00\",\"2023-08-18T00:00:00-04:00\",\"2023-08-21T00:00:00-04:00\",\"2023-08-22T00:00:00-04:00\",\"2023-08-23T00:00:00-04:00\",\"2023-08-24T00:00:00-04:00\",\"2023-08-25T00:00:00-04:00\",\"2023-08-28T00:00:00-04:00\",\"2023-08-29T00:00:00-04:00\"],\"y\":[149.5989532470703,150.47824096679688,151.60415649414062,149.65220642089844,146.08912658691406,142.8548583984375,146.618896484375,148.64674377441406,148.756591796875,147.73678588867188,144.68031311035156,142.26925659179688,142.67080688476562,142.73623657226562,144.34474182128906,145.72708129882812,144.58184814453125,139.5410614013672,136.2810516357422,133.88723754882812,132.93394470214844,134.47146606445312,133.6715850830078,132.85433959960938,131.46900939941406,128.6826629638672,128.95486450195312,129.68081665039062,127.68346405029297,126.94506072998047,126.08124542236328,127.8612289428711,129.52145385742188,130.66993713378906,132.64601135253906,133.6441650390625,134.7100372314453,135.8516082763672,135.89166259765625,135.78411865234375,137.2621612548828,140.09548950195312,142.3103790283203,142.5821990966797,143.86378479003906,145.7381134033203,144.32046508789062,144.4733123779297,145.4385223388672,149.75384521484375,154.18536376953125,153.075927734375,154.71519470214844,153.03819274902344,151.6728057861328,151.51287841796875,153.81350708007812,154.00306701660156,155.62535095214844,154.7174530029297,153.44796752929688,149.982421875,149.40576171875,149.81459045410156,148.00791931152344,148.2685089111328,148.10552978515625,146.51734924316406,146.38523864746094,150.2090606689453,153.8344268798828,152.98570251464844,153.45916748046875,151.85601806640625,149.78363037109375,150.7672576904297,152.88833618164062,153.82623291015625,156.25238037109375,156.14398193359375,157.93673706054688,159.96954345703125,159.0836639404297,159.74240112304688,161.07896423339844,159.61376953125,158.73927307128906,161.32797241210938,163.29229736328125,165.7838897705078,167.20787048339844,166.76141357421875,164.94700622558594,165.6333465576172,163.42373657226562,162.0316162109375,161.2861328125,166.092041015625,166.53421020507812,166.34686279296875,167.43739318847656,168.6795654296875,167.87355041503906,166.26861572265625,166.47006225585938,165.13845825195312,164.97853088378906,169.30902099609375,170.99822998046875,170.83993530273438,169.75575256347656,168.6984100341797,167.14622497558594,174.5460662841797,175.0559539794922,173.03768920898438,174.77467346191406,175.1255645751953,173.94189453125,173.44918823242188,173.49111938476562,174.1168212890625,176.4641571044922,176.54833984375,175.48960876464844,172.87060546875,173.19740295410156,174.43585205078125,176.87738037109375,178.7184600830078,178.54490661621094,181.47283935546875,182.3231201171875,180.821044921875,180.60858154296875,179.28207397460938,182.26931762695312,182.51287841796875,185.37989807128906,184.5881805419922,185.31674194335938,187.55995178222656,186.14620971679688,186.42356872558594,185.3335418701172,188.79312133789062,188.00831604003906,186.47190856933594,189.78785705566406,190.69241333007812,190.84999084472656,195.76329040527344,193.20574951171875,192.4499053955078,193.3426971435547,191.96690368652344,189.87283325195312,189.64651489257812,191.53028869628906,191.9687957763672,191.93740844726562,195.6504669189453,194.6793975830078,196.45260620117188,193.98211669921875,193.25413513183594,194.44424438476562,195.17898559570312,195.9359130859375,194.26866149902344,197.61526489257812,197.64889526367188,196.6237335205078,193.47276306152344,192.6591033935547,182.62451171875,180.75222778320312,181.90771484375,179.89683532714844,179.5094451904297,179.23316955566406,180.91888427734375,178.7510986328125,177.94354248046875,175.47406005859375,176.0987548828125,177.5493621826172,178.92819213867188,182.87237548828125,177.7218017578125,180.2548065185547,182.01437377929688],\"type\":\"scatter\"}],                        {\"template\":{\"data\":{\"histogram2dcontour\":[{\"type\":\"histogram2dcontour\",\"colorbar\":{\"outlinewidth\":0,\"ticks\":\"\"},\"colorscale\":[[0.0,\"#0d0887\"],[0.1111111111111111,\"#46039f\"],[0.2222222222222222,\"#7201a8\"],[0.3333333333333333,\"#9c179e\"],[0.4444444444444444,\"#bd3786\"],[0.5555555555555556,\"#d8576b\"],[0.6666666666666666,\"#ed7953\"],[0.7777777777777778,\"#fb9f3a\"],[0.8888888888888888,\"#fdca26\"],[1.0,\"#f0f921\"]]}],\"choropleth\":[{\"type\":\"choropleth\",\"colorbar\":{\"outlinewidth\":0,\"ticks\":\"\"}}],\"histogram2d\":[{\"type\":\"histogram2d\",\"colorbar\":{\"outlinewidth\":0,\"ticks\":\"\"},\"colorscale\":[[0.0,\"#0d0887\"],[0.1111111111111111,\"#46039f\"],[0.2222222222222222,\"#7201a8\"],[0.3333333333333333,\"#9c179e\"],[0.4444444444444444,\"#bd3786\"],[0.5555555555555556,\"#d8576b\"],[0.6666666666666666,\"#ed7953\"],[0.7777777777777778,\"#fb9f3a\"],[0.8888888888888888,\"#fdca26\"],[1.0,\"#f0f921\"]]}],\"heatmap\":[{\"type\":\"heatmap\",\"colorbar\":{\"outlinewidth\":0,\"ticks\":\"\"},\"colorscale\":[[0.0,\"#0d0887\"],[0.1111111111111111,\"#46039f\"],[0.2222222222222222,\"#7201a8\"],[0.3333333333333333,\"#9c179e\"],[0.4444444444444444,\"#bd3786\"],[0.5555555555555556,\"#d8576b\"],[0.6666666666666666,\"#ed7953\"],[0.7777777777777778,\"#fb9f3a\"],[0.8888888888888888,\"#fdca26\"],[1.0,\"#f0f921\"]]}],\"heatmapgl\":[{\"type\":\"heatmapgl\",\"colorbar\":{\"outlinewidth\":0,\"ticks\":\"\"},\"colorscale\":[[0.0,\"#0d0887\"],[0.1111111111111111,\"#46039f\"],[0.2222222222222222,\"#7201a8\"],[0.3333333333333333,\"#9c179e\"],[0.4444444444444444,\"#bd3786\"],[0.5555555555555556,\"#d8576b\"],[0.6666666666666666,\"#ed7953\"],[0.7777777777777778,\"#fb9f3a\"],[0.8888888888888888,\"#fdca26\"],[1.0,\"#f0f921\"]]}],\"contourcarpet\":[{\"type\":\"contourcarpet\",\"colorbar\":{\"outlinewidth\":0,\"ticks\":\"\"}}],\"contour\":[{\"type\":\"contour\",\"colorbar\":{\"outlinewidth\":0,\"ticks\":\"\"},\"colorscale\":[[0.0,\"#0d0887\"],[0.1111111111111111,\"#46039f\"],[0.2222222222222222,\"#7201a8\"],[0.3333333333333333,\"#9c179e\"],[0.4444444444444444,\"#bd3786\"],[0.5555555555555556,\"#d8576b\"],[0.6666666666666666,\"#ed7953\"],[0.7777777777777778,\"#fb9f3a\"],[0.8888888888888888,\"#fdca26\"],[1.0,\"#f0f921\"]]}],\"surface\":[{\"type\":\"surface\",\"colorbar\":{\"outlinewidth\":0,\"ticks\":\"\"},\"colorscale\":[[0.0,\"#0d0887\"],[0.1111111111111111,\"#46039f\"],[0.2222222222222222,\"#7201a8\"],[0.3333333333333333,\"#9c179e\"],[0.4444444444444444,\"#bd3786\"],[0.5555555555555556,\"#d8576b\"],[0.6666666666666666,\"#ed7953\"],[0.7777777777777778,\"#fb9f3a\"],[0.8888888888888888,\"#fdca26\"],[1.0,\"#f0f921\"]]}],\"mesh3d\":[{\"type\":\"mesh3d\",\"colorbar\":{\"outlinewidth\":0,\"ticks\":\"\"}}],\"scatter\":[{\"fillpattern\":{\"fillmode\":\"overlay\",\"size\":10,\"solidity\":0.2},\"type\":\"scatter\"}],\"parcoords\":[{\"type\":\"parcoords\",\"line\":{\"colorbar\":{\"outlinewidth\":0,\"ticks\":\"\"}}}],\"scatterpolargl\":[{\"type\":\"scatterpolargl\",\"marker\":{\"colorbar\":{\"outlinewidth\":0,\"ticks\":\"\"}}}],\"bar\":[{\"error_x\":{\"color\":\"#2a3f5f\"},\"error_y\":{\"color\":\"#2a3f5f\"},\"marker\":{\"line\":{\"color\":\"#E5ECF6\",\"width\":0.5},\"pattern\":{\"fillmode\":\"overlay\",\"size\":10,\"solidity\":0.2}},\"type\":\"bar\"}],\"scattergeo\":[{\"type\":\"scattergeo\",\"marker\":{\"colorbar\":{\"outlinewidth\":0,\"ticks\":\"\"}}}],\"scatterpolar\":[{\"type\":\"scatterpolar\",\"marker\":{\"colorbar\":{\"outlinewidth\":0,\"ticks\":\"\"}}}],\"histogram\":[{\"marker\":{\"pattern\":{\"fillmode\":\"overlay\",\"size\":10,\"solidity\":0.2}},\"type\":\"histogram\"}],\"scattergl\":[{\"type\":\"scattergl\",\"marker\":{\"colorbar\":{\"outlinewidth\":0,\"ticks\":\"\"}}}],\"scatter3d\":[{\"type\":\"scatter3d\",\"line\":{\"colorbar\":{\"outlinewidth\":0,\"ticks\":\"\"}},\"marker\":{\"colorbar\":{\"outlinewidth\":0,\"ticks\":\"\"}}}],\"scattermapbox\":[{\"type\":\"scattermapbox\",\"marker\":{\"colorbar\":{\"outlinewidth\":0,\"ticks\":\"\"}}}],\"scatterternary\":[{\"type\":\"scatterternary\",\"marker\":{\"colorbar\":{\"outlinewidth\":0,\"ticks\":\"\"}}}],\"scattercarpet\":[{\"type\":\"scattercarpet\",\"marker\":{\"colorbar\":{\"outlinewidth\":0,\"ticks\":\"\"}}}],\"carpet\":[{\"aaxis\":{\"endlinecolor\":\"#2a3f5f\",\"gridcolor\":\"white\",\"linecolor\":\"white\",\"minorgridcolor\":\"white\",\"startlinecolor\":\"#2a3f5f\"},\"baxis\":{\"endlinecolor\":\"#2a3f5f\",\"gridcolor\":\"white\",\"linecolor\":\"white\",\"minorgridcolor\":\"white\",\"startlinecolor\":\"#2a3f5f\"},\"type\":\"carpet\"}],\"table\":[{\"cells\":{\"fill\":{\"color\":\"#EBF0F8\"},\"line\":{\"color\":\"white\"}},\"header\":{\"fill\":{\"color\":\"#C8D4E3\"},\"line\":{\"color\":\"white\"}},\"type\":\"table\"}],\"barpolar\":[{\"marker\":{\"line\":{\"color\":\"#E5ECF6\",\"width\":0.5},\"pattern\":{\"fillmode\":\"overlay\",\"size\":10,\"solidity\":0.2}},\"type\":\"barpolar\"}],\"pie\":[{\"automargin\":true,\"type\":\"pie\"}]},\"layout\":{\"autotypenumbers\":\"strict\",\"colorway\":[\"#636efa\",\"#EF553B\",\"#00cc96\",\"#ab63fa\",\"#FFA15A\",\"#19d3f3\",\"#FF6692\",\"#B6E880\",\"#FF97FF\",\"#FECB52\"],\"font\":{\"color\":\"#2a3f5f\"},\"hovermode\":\"closest\",\"hoverlabel\":{\"align\":\"left\"},\"paper_bgcolor\":\"white\",\"plot_bgcolor\":\"#E5ECF6\",\"polar\":{\"bgcolor\":\"#E5ECF6\",\"angularaxis\":{\"gridcolor\":\"white\",\"linecolor\":\"white\",\"ticks\":\"\"},\"radialaxis\":{\"gridcolor\":\"white\",\"linecolor\":\"white\",\"ticks\":\"\"}},\"ternary\":{\"bgcolor\":\"#E5ECF6\",\"aaxis\":{\"gridcolor\":\"white\",\"linecolor\":\"white\",\"ticks\":\"\"},\"baxis\":{\"gridcolor\":\"white\",\"linecolor\":\"white\",\"ticks\":\"\"},\"caxis\":{\"gridcolor\":\"white\",\"linecolor\":\"white\",\"ticks\":\"\"}},\"coloraxis\":{\"colorbar\":{\"outlinewidth\":0,\"ticks\":\"\"}},\"colorscale\":{\"sequential\":[[0.0,\"#0d0887\"],[0.1111111111111111,\"#46039f\"],[0.2222222222222222,\"#7201a8\"],[0.3333333333333333,\"#9c179e\"],[0.4444444444444444,\"#bd3786\"],[0.5555555555555556,\"#d8576b\"],[0.6666666666666666,\"#ed7953\"],[0.7777777777777778,\"#fb9f3a\"],[0.8888888888888888,\"#fdca26\"],[1.0,\"#f0f921\"]],\"sequentialminus\":[[0.0,\"#0d0887\"],[0.1111111111111111,\"#46039f\"],[0.2222222222222222,\"#7201a8\"],[0.3333333333333333,\"#9c179e\"],[0.4444444444444444,\"#bd3786\"],[0.5555555555555556,\"#d8576b\"],[0.6666666666666666,\"#ed7953\"],[0.7777777777777778,\"#fb9f3a\"],[0.8888888888888888,\"#fdca26\"],[1.0,\"#f0f921\"]],\"diverging\":[[0,\"#8e0152\"],[0.1,\"#c51b7d\"],[0.2,\"#de77ae\"],[0.3,\"#f1b6da\"],[0.4,\"#fde0ef\"],[0.5,\"#f7f7f7\"],[0.6,\"#e6f5d0\"],[0.7,\"#b8e186\"],[0.8,\"#7fbc41\"],[0.9,\"#4d9221\"],[1,\"#276419\"]]},\"xaxis\":{\"gridcolor\":\"white\",\"linecolor\":\"white\",\"ticks\":\"\",\"title\":{\"standoff\":15},\"zerolinecolor\":\"white\",\"automargin\":true,\"zerolinewidth\":2},\"yaxis\":{\"gridcolor\":\"white\",\"linecolor\":\"white\",\"ticks\":\"\",\"title\":{\"standoff\":15},\"zerolinecolor\":\"white\",\"automargin\":true,\"zerolinewidth\":2},\"scene\":{\"xaxis\":{\"backgroundcolor\":\"#E5ECF6\",\"gridcolor\":\"white\",\"linecolor\":\"white\",\"showbackground\":true,\"ticks\":\"\",\"zerolinecolor\":\"white\",\"gridwidth\":2},\"yaxis\":{\"backgroundcolor\":\"#E5ECF6\",\"gridcolor\":\"white\",\"linecolor\":\"white\",\"showbackground\":true,\"ticks\":\"\",\"zerolinecolor\":\"white\",\"gridwidth\":2},\"zaxis\":{\"backgroundcolor\":\"#E5ECF6\",\"gridcolor\":\"white\",\"linecolor\":\"white\",\"showbackground\":true,\"ticks\":\"\",\"zerolinecolor\":\"white\",\"gridwidth\":2}},\"shapedefaults\":{\"line\":{\"color\":\"#2a3f5f\"}},\"annotationdefaults\":{\"arrowcolor\":\"#2a3f5f\",\"arrowhead\":0,\"arrowwidth\":1},\"geo\":{\"bgcolor\":\"white\",\"landcolor\":\"#E5ECF6\",\"subunitcolor\":\"white\",\"showland\":true,\"showlakes\":true,\"lakecolor\":\"white\"},\"title\":{\"x\":0.05},\"mapbox\":{\"style\":\"light\"}}},\"title\":{\"text\":\"Real Stock Prices vs Predicted by LSTM\\n\\nRMSE 2.55730674469627\"},\"xaxis\":{\"title\":{\"text\":\"Date\"}},\"yaxis\":{\"title\":{\"text\":\"Value\"}}},                        {\"responsive\": true}                    ).then(function(){\n",
       "                            \n",
       "var gd = document.getElementById('95eb1821-52e2-492b-a3f2-8a0e3494621f');\n",
       "var x = new MutationObserver(function (mutations, observer) {{\n",
       "        var display = window.getComputedStyle(gd).display;\n",
       "        if (!display || display === 'none') {{\n",
       "            console.log([gd, 'removed!']);\n",
       "            Plotly.purge(gd);\n",
       "            observer.disconnect();\n",
       "        }}\n",
       "}});\n",
       "\n",
       "// Listen for the removal of the full notebook cells\n",
       "var notebookContainer = gd.closest('#notebook-container');\n",
       "if (notebookContainer) {{\n",
       "    x.observe(notebookContainer, {childList: true});\n",
       "}}\n",
       "\n",
       "// Listen for the clearing of the current output cell\n",
       "var outputEl = gd.closest('.output');\n",
       "if (outputEl) {{\n",
       "    x.observe(outputEl, {childList: true});\n",
       "}}\n",
       "\n",
       "                        })                };                });            </script>        </div>"
      ]
     },
     "metadata": {},
     "output_type": "display_data"
    },
    {
     "name": "stdout",
     "output_type": "stream",
     "text": [
      "6/6 [==============================] - 1s 25ms/step\n"
     ]
    },
    {
     "data": {
      "application/vnd.plotly.v1+json": {
       "config": {
        "plotlyServerURL": "https://plot.ly"
       },
       "data": [
        {
         "line": {
          "color": "blue",
          "width": 0.7
         },
         "name": "Real Stock Prices",
         "type": "scatter",
         "x": [
          "2022-11-22T00:00:00-05:00",
          "2022-11-23T00:00:00-05:00",
          "2022-11-25T00:00:00-05:00",
          "2022-11-28T00:00:00-05:00",
          "2022-11-29T00:00:00-05:00",
          "2022-11-30T00:00:00-05:00",
          "2022-12-01T00:00:00-05:00",
          "2022-12-02T00:00:00-05:00",
          "2022-12-05T00:00:00-05:00",
          "2022-12-06T00:00:00-05:00",
          "2022-12-07T00:00:00-05:00",
          "2022-12-08T00:00:00-05:00",
          "2022-12-09T00:00:00-05:00",
          "2022-12-12T00:00:00-05:00",
          "2022-12-13T00:00:00-05:00",
          "2022-12-14T00:00:00-05:00",
          "2022-12-15T00:00:00-05:00",
          "2022-12-16T00:00:00-05:00",
          "2022-12-19T00:00:00-05:00",
          "2022-12-20T00:00:00-05:00",
          "2022-12-21T00:00:00-05:00",
          "2022-12-22T00:00:00-05:00",
          "2022-12-23T00:00:00-05:00",
          "2022-12-27T00:00:00-05:00",
          "2022-12-28T00:00:00-05:00",
          "2022-12-29T00:00:00-05:00",
          "2022-12-30T00:00:00-05:00",
          "2023-01-03T00:00:00-05:00",
          "2023-01-04T00:00:00-05:00",
          "2023-01-05T00:00:00-05:00",
          "2023-01-06T00:00:00-05:00",
          "2023-01-09T00:00:00-05:00",
          "2023-01-10T00:00:00-05:00",
          "2023-01-11T00:00:00-05:00",
          "2023-01-12T00:00:00-05:00",
          "2023-01-13T00:00:00-05:00",
          "2023-01-17T00:00:00-05:00",
          "2023-01-18T00:00:00-05:00",
          "2023-01-19T00:00:00-05:00",
          "2023-01-20T00:00:00-05:00",
          "2023-01-23T00:00:00-05:00",
          "2023-01-24T00:00:00-05:00",
          "2023-01-25T00:00:00-05:00",
          "2023-01-26T00:00:00-05:00",
          "2023-01-27T00:00:00-05:00",
          "2023-01-30T00:00:00-05:00",
          "2023-01-31T00:00:00-05:00",
          "2023-02-01T00:00:00-05:00",
          "2023-02-02T00:00:00-05:00",
          "2023-02-03T00:00:00-05:00",
          "2023-02-06T00:00:00-05:00",
          "2023-02-07T00:00:00-05:00",
          "2023-02-08T00:00:00-05:00",
          "2023-02-09T00:00:00-05:00",
          "2023-02-10T00:00:00-05:00",
          "2023-02-13T00:00:00-05:00",
          "2023-02-14T00:00:00-05:00",
          "2023-02-15T00:00:00-05:00",
          "2023-02-16T00:00:00-05:00",
          "2023-02-17T00:00:00-05:00",
          "2023-02-21T00:00:00-05:00",
          "2023-02-22T00:00:00-05:00",
          "2023-02-23T00:00:00-05:00",
          "2023-02-24T00:00:00-05:00",
          "2023-02-27T00:00:00-05:00",
          "2023-02-28T00:00:00-05:00",
          "2023-03-01T00:00:00-05:00",
          "2023-03-02T00:00:00-05:00",
          "2023-03-03T00:00:00-05:00",
          "2023-03-06T00:00:00-05:00",
          "2023-03-07T00:00:00-05:00",
          "2023-03-08T00:00:00-05:00",
          "2023-03-09T00:00:00-05:00",
          "2023-03-10T00:00:00-05:00",
          "2023-03-13T00:00:00-04:00",
          "2023-03-14T00:00:00-04:00",
          "2023-03-15T00:00:00-04:00",
          "2023-03-16T00:00:00-04:00",
          "2023-03-17T00:00:00-04:00",
          "2023-03-20T00:00:00-04:00",
          "2023-03-21T00:00:00-04:00",
          "2023-03-22T00:00:00-04:00",
          "2023-03-23T00:00:00-04:00",
          "2023-03-24T00:00:00-04:00",
          "2023-03-27T00:00:00-04:00",
          "2023-03-28T00:00:00-04:00",
          "2023-03-29T00:00:00-04:00",
          "2023-03-30T00:00:00-04:00",
          "2023-03-31T00:00:00-04:00",
          "2023-04-03T00:00:00-04:00",
          "2023-04-04T00:00:00-04:00",
          "2023-04-05T00:00:00-04:00",
          "2023-04-06T00:00:00-04:00",
          "2023-04-10T00:00:00-04:00",
          "2023-04-11T00:00:00-04:00",
          "2023-04-12T00:00:00-04:00",
          "2023-04-13T00:00:00-04:00",
          "2023-04-14T00:00:00-04:00",
          "2023-04-17T00:00:00-04:00",
          "2023-04-18T00:00:00-04:00",
          "2023-04-19T00:00:00-04:00",
          "2023-04-20T00:00:00-04:00",
          "2023-04-21T00:00:00-04:00",
          "2023-04-24T00:00:00-04:00",
          "2023-04-25T00:00:00-04:00",
          "2023-04-26T00:00:00-04:00",
          "2023-04-27T00:00:00-04:00",
          "2023-04-28T00:00:00-04:00",
          "2023-05-01T00:00:00-04:00",
          "2023-05-02T00:00:00-04:00",
          "2023-05-03T00:00:00-04:00",
          "2023-05-04T00:00:00-04:00",
          "2023-05-05T00:00:00-04:00",
          "2023-05-08T00:00:00-04:00",
          "2023-05-09T00:00:00-04:00",
          "2023-05-10T00:00:00-04:00",
          "2023-05-11T00:00:00-04:00",
          "2023-05-12T00:00:00-04:00",
          "2023-05-15T00:00:00-04:00",
          "2023-05-16T00:00:00-04:00",
          "2023-05-17T00:00:00-04:00",
          "2023-05-18T00:00:00-04:00",
          "2023-05-19T00:00:00-04:00",
          "2023-05-22T00:00:00-04:00",
          "2023-05-23T00:00:00-04:00",
          "2023-05-24T00:00:00-04:00",
          "2023-05-25T00:00:00-04:00",
          "2023-05-26T00:00:00-04:00",
          "2023-05-30T00:00:00-04:00",
          "2023-05-31T00:00:00-04:00",
          "2023-06-01T00:00:00-04:00",
          "2023-06-02T00:00:00-04:00",
          "2023-06-05T00:00:00-04:00",
          "2023-06-06T00:00:00-04:00",
          "2023-06-07T00:00:00-04:00",
          "2023-06-08T00:00:00-04:00",
          "2023-06-09T00:00:00-04:00",
          "2023-06-12T00:00:00-04:00",
          "2023-06-13T00:00:00-04:00",
          "2023-06-14T00:00:00-04:00",
          "2023-06-15T00:00:00-04:00",
          "2023-06-16T00:00:00-04:00",
          "2023-06-20T00:00:00-04:00",
          "2023-06-21T00:00:00-04:00",
          "2023-06-22T00:00:00-04:00",
          "2023-06-23T00:00:00-04:00",
          "2023-06-26T00:00:00-04:00",
          "2023-06-27T00:00:00-04:00",
          "2023-06-28T00:00:00-04:00",
          "2023-06-29T00:00:00-04:00",
          "2023-06-30T00:00:00-04:00",
          "2023-07-03T00:00:00-04:00",
          "2023-07-05T00:00:00-04:00",
          "2023-07-06T00:00:00-04:00",
          "2023-07-07T00:00:00-04:00",
          "2023-07-10T00:00:00-04:00",
          "2023-07-11T00:00:00-04:00",
          "2023-07-12T00:00:00-04:00",
          "2023-07-13T00:00:00-04:00",
          "2023-07-14T00:00:00-04:00",
          "2023-07-17T00:00:00-04:00",
          "2023-07-18T00:00:00-04:00",
          "2023-07-19T00:00:00-04:00",
          "2023-07-20T00:00:00-04:00",
          "2023-07-21T00:00:00-04:00",
          "2023-07-24T00:00:00-04:00",
          "2023-07-25T00:00:00-04:00",
          "2023-07-26T00:00:00-04:00",
          "2023-07-27T00:00:00-04:00",
          "2023-07-28T00:00:00-04:00",
          "2023-07-31T00:00:00-04:00",
          "2023-08-01T00:00:00-04:00",
          "2023-08-02T00:00:00-04:00",
          "2023-08-03T00:00:00-04:00",
          "2023-08-04T00:00:00-04:00",
          "2023-08-07T00:00:00-04:00",
          "2023-08-08T00:00:00-04:00",
          "2023-08-09T00:00:00-04:00",
          "2023-08-10T00:00:00-04:00",
          "2023-08-11T00:00:00-04:00",
          "2023-08-14T00:00:00-04:00",
          "2023-08-15T00:00:00-04:00",
          "2023-08-16T00:00:00-04:00",
          "2023-08-17T00:00:00-04:00",
          "2023-08-18T00:00:00-04:00",
          "2023-08-21T00:00:00-04:00",
          "2023-08-22T00:00:00-04:00",
          "2023-08-23T00:00:00-04:00",
          "2023-08-24T00:00:00-04:00",
          "2023-08-25T00:00:00-04:00",
          "2023-08-28T00:00:00-04:00",
          "2023-08-29T00:00:00-04:00"
         ],
         "y": [
          245.02999877929688,
          247.5800018310547,
          247.49000549316406,
          241.75999450683594,
          240.3300018310547,
          255.13999938964844,
          254.69000244140625,
          255.02000427246094,
          250.1999969482422,
          245.1199951171875,
          244.3699951171875,
          247.39999389648438,
          245.4199981689453,
          252.50999450683594,
          256.9200134277344,
          257.2200012207031,
          249.00999450683594,
          244.69000244140628,
          240.4499969482422,
          241.8000030517578,
          244.42999267578122,
          238.19000244140628,
          238.72999572753903,
          236.96000671386722,
          234.52999877929685,
          241.00999450683594,
          239.82000732421875,
          239.5800018310547,
          229.1000061035156,
          222.30999755859375,
          224.92999267578128,
          227.1199951171875,
          228.85000610351562,
          235.77000427246094,
          238.50999450683594,
          239.22999572753906,
          240.35000610351565,
          235.80999755859375,
          231.92999267578125,
          240.22000122070315,
          242.5800018310547,
          242.0399932861328,
          240.61000061035156,
          248,
          248.16000366210938,
          242.7100067138672,
          247.80999755859378,
          252.75,
          264.6000061035156,
          258.3500061035156,
          256.7699890136719,
          267.55999755859375,
          266.7300109863281,
          263.6199951171875,
          263.1000061035156,
          271.32000732421875,
          272.1700134277344,
          269.32000732421875,
          262.1499938964844,
          258.05999755859375,
          252.6699981689453,
          251.50999450683594,
          254.77000427246094,
          249.22000122070312,
          250.16000366210938,
          249.4199981689453,
          246.27000427246094,
          251.11000061035156,
          255.2899932861328,
          256.8699951171875,
          254.14999389648438,
          253.6999969482422,
          252.32000732421875,
          248.58999633789062,
          253.9199981689453,
          260.7900085449219,
          265.44000244140625,
          276.20001220703125,
          279.42999267578125,
          272.2300109863281,
          273.7799987792969,
          272.2900085449219,
          277.6600036621094,
          280.57000732421875,
          276.3800048828125,
          275.2300109863281,
          280.510009765625,
          284.04998779296875,
          288.29998779296875,
          287.2300109863281,
          287.17999267578125,
          284.3399963378906,
          291.60000610351557,
          289.3900146484375,
          282.8299865722656,
          283.489990234375,
          289.8399963378906,
          286.1400146484375,
          288.79998779296875,
          288.3699951171875,
          288.45001220703125,
          286.1099853515625,
          285.760009765625,
          281.7699890136719,
          275.4200134277344,
          295.3699951171875,
          304.8299865722656,
          307.260009765625,
          305.55999755859375,
          305.4100036621094,
          304.3999938964844,
          305.4100036621094,
          310.6499938964844,
          308.6499938964844,
          307,
          312.30999755859375,
          310.1099853515625,
          308.9700012207032,
          309.4599914550781,
          311.739990234375,
          314,
          318.5199890136719,
          318.3399963378906,
          321.1799926757813,
          315.260009765625,
          313.8500061035156,
          325.9200134277344,
          332.8900146484375,
          331.2099914550781,
          328.3900146484375,
          332.5799865722656,
          335.3999938964844,
          335.94000244140625,
          333.67999267578125,
          323.3800048828125,
          325.260009765625,
          326.7900085449219,
          331.8500061035156,
          334.2900085449219,
          337.3399963378906,
          348.1000061035156,
          342.3299865722656,
          338.04998779296875,
          333.55999755859375,
          339.7099914550781,
          335.0199890136719,
          328.6000061035156,
          334.57000732421875,
          335.8500061035156,
          335.04998779296875,
          340.5400085449219,
          337.989990234375,
          338.1499938964844,
          341.2699890136719,
          337.2200012207031,
          331.8299865722656,
          332.4700012207031,
          337.20001220703125,
          342.6600036621094,
          345.239990234375,
          345.7300109863281,
          359.489990234375,
          355.0799865722656,
          346.8699951171875,
          343.7699890136719,
          345.1099853515625,
          350.9800109863281,
          337.7699890136719,
          330.7200012207031,
          338.3699951171875,
          335.9200134277344,
          336.3399963378907,
          327.5,
          326.6600036621094,
          327.7799987792969,
          330.10998535156244,
          326.0499877929688,
          322.2300109863282,
          322.92999267578125,
          321.010009765625,
          324.0400085449219,
          321.8599853515625,
          320.3999938964844,
          316.8800048828125,
          316.4800109863281,
          321.8800048828125,
          322.4599914550781,
          327,
          319.9700012207031,
          322.9800109863281,
          323.70001220703125,
          328.4100036621094
         ]
        },
        {
         "line": {
          "color": "red",
          "width": 1.5
         },
         "mode": "lines",
         "name": "Predicted Stock Prices",
         "type": "scatter",
         "x": [
          "2022-11-22T00:00:00-05:00",
          "2022-11-23T00:00:00-05:00",
          "2022-11-25T00:00:00-05:00",
          "2022-11-28T00:00:00-05:00",
          "2022-11-29T00:00:00-05:00",
          "2022-11-30T00:00:00-05:00",
          "2022-12-01T00:00:00-05:00",
          "2022-12-02T00:00:00-05:00",
          "2022-12-05T00:00:00-05:00",
          "2022-12-06T00:00:00-05:00",
          "2022-12-07T00:00:00-05:00",
          "2022-12-08T00:00:00-05:00",
          "2022-12-09T00:00:00-05:00",
          "2022-12-12T00:00:00-05:00",
          "2022-12-13T00:00:00-05:00",
          "2022-12-14T00:00:00-05:00",
          "2022-12-15T00:00:00-05:00",
          "2022-12-16T00:00:00-05:00",
          "2022-12-19T00:00:00-05:00",
          "2022-12-20T00:00:00-05:00",
          "2022-12-21T00:00:00-05:00",
          "2022-12-22T00:00:00-05:00",
          "2022-12-23T00:00:00-05:00",
          "2022-12-27T00:00:00-05:00",
          "2022-12-28T00:00:00-05:00",
          "2022-12-29T00:00:00-05:00",
          "2022-12-30T00:00:00-05:00",
          "2023-01-03T00:00:00-05:00",
          "2023-01-04T00:00:00-05:00",
          "2023-01-05T00:00:00-05:00",
          "2023-01-06T00:00:00-05:00",
          "2023-01-09T00:00:00-05:00",
          "2023-01-10T00:00:00-05:00",
          "2023-01-11T00:00:00-05:00",
          "2023-01-12T00:00:00-05:00",
          "2023-01-13T00:00:00-05:00",
          "2023-01-17T00:00:00-05:00",
          "2023-01-18T00:00:00-05:00",
          "2023-01-19T00:00:00-05:00",
          "2023-01-20T00:00:00-05:00",
          "2023-01-23T00:00:00-05:00",
          "2023-01-24T00:00:00-05:00",
          "2023-01-25T00:00:00-05:00",
          "2023-01-26T00:00:00-05:00",
          "2023-01-27T00:00:00-05:00",
          "2023-01-30T00:00:00-05:00",
          "2023-01-31T00:00:00-05:00",
          "2023-02-01T00:00:00-05:00",
          "2023-02-02T00:00:00-05:00",
          "2023-02-03T00:00:00-05:00",
          "2023-02-06T00:00:00-05:00",
          "2023-02-07T00:00:00-05:00",
          "2023-02-08T00:00:00-05:00",
          "2023-02-09T00:00:00-05:00",
          "2023-02-10T00:00:00-05:00",
          "2023-02-13T00:00:00-05:00",
          "2023-02-14T00:00:00-05:00",
          "2023-02-15T00:00:00-05:00",
          "2023-02-16T00:00:00-05:00",
          "2023-02-17T00:00:00-05:00",
          "2023-02-21T00:00:00-05:00",
          "2023-02-22T00:00:00-05:00",
          "2023-02-23T00:00:00-05:00",
          "2023-02-24T00:00:00-05:00",
          "2023-02-27T00:00:00-05:00",
          "2023-02-28T00:00:00-05:00",
          "2023-03-01T00:00:00-05:00",
          "2023-03-02T00:00:00-05:00",
          "2023-03-03T00:00:00-05:00",
          "2023-03-06T00:00:00-05:00",
          "2023-03-07T00:00:00-05:00",
          "2023-03-08T00:00:00-05:00",
          "2023-03-09T00:00:00-05:00",
          "2023-03-10T00:00:00-05:00",
          "2023-03-13T00:00:00-04:00",
          "2023-03-14T00:00:00-04:00",
          "2023-03-15T00:00:00-04:00",
          "2023-03-16T00:00:00-04:00",
          "2023-03-17T00:00:00-04:00",
          "2023-03-20T00:00:00-04:00",
          "2023-03-21T00:00:00-04:00",
          "2023-03-22T00:00:00-04:00",
          "2023-03-23T00:00:00-04:00",
          "2023-03-24T00:00:00-04:00",
          "2023-03-27T00:00:00-04:00",
          "2023-03-28T00:00:00-04:00",
          "2023-03-29T00:00:00-04:00",
          "2023-03-30T00:00:00-04:00",
          "2023-03-31T00:00:00-04:00",
          "2023-04-03T00:00:00-04:00",
          "2023-04-04T00:00:00-04:00",
          "2023-04-05T00:00:00-04:00",
          "2023-04-06T00:00:00-04:00",
          "2023-04-10T00:00:00-04:00",
          "2023-04-11T00:00:00-04:00",
          "2023-04-12T00:00:00-04:00",
          "2023-04-13T00:00:00-04:00",
          "2023-04-14T00:00:00-04:00",
          "2023-04-17T00:00:00-04:00",
          "2023-04-18T00:00:00-04:00",
          "2023-04-19T00:00:00-04:00",
          "2023-04-20T00:00:00-04:00",
          "2023-04-21T00:00:00-04:00",
          "2023-04-24T00:00:00-04:00",
          "2023-04-25T00:00:00-04:00",
          "2023-04-26T00:00:00-04:00",
          "2023-04-27T00:00:00-04:00",
          "2023-04-28T00:00:00-04:00",
          "2023-05-01T00:00:00-04:00",
          "2023-05-02T00:00:00-04:00",
          "2023-05-03T00:00:00-04:00",
          "2023-05-04T00:00:00-04:00",
          "2023-05-05T00:00:00-04:00",
          "2023-05-08T00:00:00-04:00",
          "2023-05-09T00:00:00-04:00",
          "2023-05-10T00:00:00-04:00",
          "2023-05-11T00:00:00-04:00",
          "2023-05-12T00:00:00-04:00",
          "2023-05-15T00:00:00-04:00",
          "2023-05-16T00:00:00-04:00",
          "2023-05-17T00:00:00-04:00",
          "2023-05-18T00:00:00-04:00",
          "2023-05-19T00:00:00-04:00",
          "2023-05-22T00:00:00-04:00",
          "2023-05-23T00:00:00-04:00",
          "2023-05-24T00:00:00-04:00",
          "2023-05-25T00:00:00-04:00",
          "2023-05-26T00:00:00-04:00",
          "2023-05-30T00:00:00-04:00",
          "2023-05-31T00:00:00-04:00",
          "2023-06-01T00:00:00-04:00",
          "2023-06-02T00:00:00-04:00",
          "2023-06-05T00:00:00-04:00",
          "2023-06-06T00:00:00-04:00",
          "2023-06-07T00:00:00-04:00",
          "2023-06-08T00:00:00-04:00",
          "2023-06-09T00:00:00-04:00",
          "2023-06-12T00:00:00-04:00",
          "2023-06-13T00:00:00-04:00",
          "2023-06-14T00:00:00-04:00",
          "2023-06-15T00:00:00-04:00",
          "2023-06-16T00:00:00-04:00",
          "2023-06-20T00:00:00-04:00",
          "2023-06-21T00:00:00-04:00",
          "2023-06-22T00:00:00-04:00",
          "2023-06-23T00:00:00-04:00",
          "2023-06-26T00:00:00-04:00",
          "2023-06-27T00:00:00-04:00",
          "2023-06-28T00:00:00-04:00",
          "2023-06-29T00:00:00-04:00",
          "2023-06-30T00:00:00-04:00",
          "2023-07-03T00:00:00-04:00",
          "2023-07-05T00:00:00-04:00",
          "2023-07-06T00:00:00-04:00",
          "2023-07-07T00:00:00-04:00",
          "2023-07-10T00:00:00-04:00",
          "2023-07-11T00:00:00-04:00",
          "2023-07-12T00:00:00-04:00",
          "2023-07-13T00:00:00-04:00",
          "2023-07-14T00:00:00-04:00",
          "2023-07-17T00:00:00-04:00",
          "2023-07-18T00:00:00-04:00",
          "2023-07-19T00:00:00-04:00",
          "2023-07-20T00:00:00-04:00",
          "2023-07-21T00:00:00-04:00",
          "2023-07-24T00:00:00-04:00",
          "2023-07-25T00:00:00-04:00",
          "2023-07-26T00:00:00-04:00",
          "2023-07-27T00:00:00-04:00",
          "2023-07-28T00:00:00-04:00",
          "2023-07-31T00:00:00-04:00",
          "2023-08-01T00:00:00-04:00",
          "2023-08-02T00:00:00-04:00",
          "2023-08-03T00:00:00-04:00",
          "2023-08-04T00:00:00-04:00",
          "2023-08-07T00:00:00-04:00",
          "2023-08-08T00:00:00-04:00",
          "2023-08-09T00:00:00-04:00",
          "2023-08-10T00:00:00-04:00",
          "2023-08-11T00:00:00-04:00",
          "2023-08-14T00:00:00-04:00",
          "2023-08-15T00:00:00-04:00",
          "2023-08-16T00:00:00-04:00",
          "2023-08-17T00:00:00-04:00",
          "2023-08-18T00:00:00-04:00",
          "2023-08-21T00:00:00-04:00",
          "2023-08-22T00:00:00-04:00",
          "2023-08-23T00:00:00-04:00",
          "2023-08-24T00:00:00-04:00",
          "2023-08-25T00:00:00-04:00",
          "2023-08-28T00:00:00-04:00",
          "2023-08-29T00:00:00-04:00"
         ],
         "y": [
          242.52484130859375,
          244.65516662597656,
          247.31626892089844,
          248.2906036376953,
          244.6975860595703,
          242.02488708496094,
          250.71841430664062,
          254.89749145507812,
          256.1088562011719,
          252.79844665527344,
          247.88311767578125,
          245.59083557128906,
          246.9955291748047,
          246.60565185546875,
          251.05218505859375,
          256.17840576171875,
          258.171875,
          252.70492553710938,
          247.45355224609375,
          242.9283905029297,
          242.22360229492188,
          244.02394104003906,
          241.1012420654297,
          239.87164306640625,
          238.44935607910156,
          236.41036987304688,
          239.3967742919922,
          240.50901794433594,
          240.64231872558594,
          234.3172149658203,
          227.2830810546875,
          225.43910217285156,
          226.35787963867188,
          228.1889190673828,
          233.13311767578125,
          237.5001678466797,
          239.76065063476562,
          241.06956481933594,
          238.6378173828125,
          234.8983917236328,
          238.08840942382812,
          241.7058563232422,
          242.93838500976562,
          242.2433319091797,
          246.4385223388672,
          248.643798828125,
          245.65066528320312,
          247.3531036376953,
          251.71029663085938,
          261.9316711425781,
          261.1694030761719,
          258.7863464355469,
          265.87841796875,
          267.994140625,
          265.7818908691406,
          264.5141906738281,
          270.5840148925781,
          273.3236999511719,
          271.44873046875,
          265.1321105957031,
          260.31622314453125,
          255.2527618408203,
          252.98387145996094,
          254.7506866455078,
          251.83709716796875,
          251.1597900390625,
          250.58900451660156,
          248.31549072265625,
          250.60775756835938,
          254.72024536132812,
          257.4481201171875,
          256.28729248046875,
          255.2718048095703,
          253.99591064453125,
          251.03256225585938,
          253.58961486816406,
          259.81707763671875,
          265.6083068847656,
          275.55828857421875,
          280.91192626953125,
          275.6180725097656,
          275.19781494140625,
          274.2067565917969,
          278.4448547363281,
          282.0634765625,
          279.14691162109375,
          277.28179931640625,
          281.3554992675781,
          285.43377685546875,
          289.7748718261719,
          289.4115295410156,
          289.0662841796875,
          286.5561218261719,
          292.6117858886719,
          291.8367614746094,
          285.6579284667969,
          285.2608642578125,
          291.0410461425781,
          288.8563537597656,
          290.53887939453125,
          290.51324462890625,
          290.5172119140625,
          288.47076416015625,
          287.85882568359375,
          284.4043884277344,
          278.44158935546875,
          294.5464782714844,
          306.8663024902344,
          309.8975830078125,
          307.8371887207031,
          307.59197998046875,
          306.9277648925781,
          308.0911865234375,
          313.4018859863281,
          311.61431884765625,
          309.7173156738281,
          314.9303283691406,
          312.9519958496094,
          311.587646484375,
          312.09136962890625,
          314.4121398925781,
          316.6908264160156,
          321.18426513671875,
          320.918212890625,
          323.7572021484375,
          317.73358154296875,
          316.5166320800781,
          329.14031982421875,
          336.1778869628906,
          333.4329528808594,
          330.59564208984375,
          335.6805419921875,
          338.52642822265625,
          338.74298095703125,
          336.25213623046875,
          325.58831787109375,
          328.69219970703125,
          330.2343444824219,
          335.186767578125,
          337.12646484375,
          340.0105285644531,
          351.5083312988281,
          343.5643615722656,
          340.1894226074219,
          336.3349914550781,
          343.7819519042969,
          337.6717224121094,
          331.1900634765625,
          338.35577392578125,
          339.018310546875,
          337.7208251953125,
          343.7854919433594,
          340.3114929199219,
          340.9324645996094,
          344.5150451660156,
          339.6566467285156,
          334.46429443359375,
          335.9562072753906,
          340.9682922363281,
          346.1502990722656,
          348.03668212890625,
          348.2185363769531,
          363.8586730957031,
          356.0092468261719,
          348.4026184082031,
          347.0768737792969,
          349.07525634765625,
          355.0910949707031,
          338.82720947265625,
          333.622802734375,
          342.80877685546875,
          338.85113525390625,
          339.259765625,
          329.63250732421875,
          329.76593017578125,
          331.1328125,
          333.399169921875,
          328.7657775878906,
          325.050537109375,
          326.1767272949219,
          324.2310791015625,
          327.4091491699219,
          324.99835205078125,
          323.5050354003906,
          320.0312805175781,
          319.7969970703125,
          325.4113464355469,
          325.8169250488281,
          330.3146057128906,
          322.74395751953125,
          326.2680969238281,
          327.1556396484375
         ]
        }
       ],
       "layout": {
        "template": {
         "data": {
          "bar": [
           {
            "error_x": {
             "color": "#2a3f5f"
            },
            "error_y": {
             "color": "#2a3f5f"
            },
            "marker": {
             "line": {
              "color": "#E5ECF6",
              "width": 0.5
             },
             "pattern": {
              "fillmode": "overlay",
              "size": 10,
              "solidity": 0.2
             }
            },
            "type": "bar"
           }
          ],
          "barpolar": [
           {
            "marker": {
             "line": {
              "color": "#E5ECF6",
              "width": 0.5
             },
             "pattern": {
              "fillmode": "overlay",
              "size": 10,
              "solidity": 0.2
             }
            },
            "type": "barpolar"
           }
          ],
          "carpet": [
           {
            "aaxis": {
             "endlinecolor": "#2a3f5f",
             "gridcolor": "white",
             "linecolor": "white",
             "minorgridcolor": "white",
             "startlinecolor": "#2a3f5f"
            },
            "baxis": {
             "endlinecolor": "#2a3f5f",
             "gridcolor": "white",
             "linecolor": "white",
             "minorgridcolor": "white",
             "startlinecolor": "#2a3f5f"
            },
            "type": "carpet"
           }
          ],
          "choropleth": [
           {
            "colorbar": {
             "outlinewidth": 0,
             "ticks": ""
            },
            "type": "choropleth"
           }
          ],
          "contour": [
           {
            "colorbar": {
             "outlinewidth": 0,
             "ticks": ""
            },
            "colorscale": [
             [
              0,
              "#0d0887"
             ],
             [
              0.1111111111111111,
              "#46039f"
             ],
             [
              0.2222222222222222,
              "#7201a8"
             ],
             [
              0.3333333333333333,
              "#9c179e"
             ],
             [
              0.4444444444444444,
              "#bd3786"
             ],
             [
              0.5555555555555556,
              "#d8576b"
             ],
             [
              0.6666666666666666,
              "#ed7953"
             ],
             [
              0.7777777777777778,
              "#fb9f3a"
             ],
             [
              0.8888888888888888,
              "#fdca26"
             ],
             [
              1,
              "#f0f921"
             ]
            ],
            "type": "contour"
           }
          ],
          "contourcarpet": [
           {
            "colorbar": {
             "outlinewidth": 0,
             "ticks": ""
            },
            "type": "contourcarpet"
           }
          ],
          "heatmap": [
           {
            "colorbar": {
             "outlinewidth": 0,
             "ticks": ""
            },
            "colorscale": [
             [
              0,
              "#0d0887"
             ],
             [
              0.1111111111111111,
              "#46039f"
             ],
             [
              0.2222222222222222,
              "#7201a8"
             ],
             [
              0.3333333333333333,
              "#9c179e"
             ],
             [
              0.4444444444444444,
              "#bd3786"
             ],
             [
              0.5555555555555556,
              "#d8576b"
             ],
             [
              0.6666666666666666,
              "#ed7953"
             ],
             [
              0.7777777777777778,
              "#fb9f3a"
             ],
             [
              0.8888888888888888,
              "#fdca26"
             ],
             [
              1,
              "#f0f921"
             ]
            ],
            "type": "heatmap"
           }
          ],
          "heatmapgl": [
           {
            "colorbar": {
             "outlinewidth": 0,
             "ticks": ""
            },
            "colorscale": [
             [
              0,
              "#0d0887"
             ],
             [
              0.1111111111111111,
              "#46039f"
             ],
             [
              0.2222222222222222,
              "#7201a8"
             ],
             [
              0.3333333333333333,
              "#9c179e"
             ],
             [
              0.4444444444444444,
              "#bd3786"
             ],
             [
              0.5555555555555556,
              "#d8576b"
             ],
             [
              0.6666666666666666,
              "#ed7953"
             ],
             [
              0.7777777777777778,
              "#fb9f3a"
             ],
             [
              0.8888888888888888,
              "#fdca26"
             ],
             [
              1,
              "#f0f921"
             ]
            ],
            "type": "heatmapgl"
           }
          ],
          "histogram": [
           {
            "marker": {
             "pattern": {
              "fillmode": "overlay",
              "size": 10,
              "solidity": 0.2
             }
            },
            "type": "histogram"
           }
          ],
          "histogram2d": [
           {
            "colorbar": {
             "outlinewidth": 0,
             "ticks": ""
            },
            "colorscale": [
             [
              0,
              "#0d0887"
             ],
             [
              0.1111111111111111,
              "#46039f"
             ],
             [
              0.2222222222222222,
              "#7201a8"
             ],
             [
              0.3333333333333333,
              "#9c179e"
             ],
             [
              0.4444444444444444,
              "#bd3786"
             ],
             [
              0.5555555555555556,
              "#d8576b"
             ],
             [
              0.6666666666666666,
              "#ed7953"
             ],
             [
              0.7777777777777778,
              "#fb9f3a"
             ],
             [
              0.8888888888888888,
              "#fdca26"
             ],
             [
              1,
              "#f0f921"
             ]
            ],
            "type": "histogram2d"
           }
          ],
          "histogram2dcontour": [
           {
            "colorbar": {
             "outlinewidth": 0,
             "ticks": ""
            },
            "colorscale": [
             [
              0,
              "#0d0887"
             ],
             [
              0.1111111111111111,
              "#46039f"
             ],
             [
              0.2222222222222222,
              "#7201a8"
             ],
             [
              0.3333333333333333,
              "#9c179e"
             ],
             [
              0.4444444444444444,
              "#bd3786"
             ],
             [
              0.5555555555555556,
              "#d8576b"
             ],
             [
              0.6666666666666666,
              "#ed7953"
             ],
             [
              0.7777777777777778,
              "#fb9f3a"
             ],
             [
              0.8888888888888888,
              "#fdca26"
             ],
             [
              1,
              "#f0f921"
             ]
            ],
            "type": "histogram2dcontour"
           }
          ],
          "mesh3d": [
           {
            "colorbar": {
             "outlinewidth": 0,
             "ticks": ""
            },
            "type": "mesh3d"
           }
          ],
          "parcoords": [
           {
            "line": {
             "colorbar": {
              "outlinewidth": 0,
              "ticks": ""
             }
            },
            "type": "parcoords"
           }
          ],
          "pie": [
           {
            "automargin": true,
            "type": "pie"
           }
          ],
          "scatter": [
           {
            "fillpattern": {
             "fillmode": "overlay",
             "size": 10,
             "solidity": 0.2
            },
            "type": "scatter"
           }
          ],
          "scatter3d": [
           {
            "line": {
             "colorbar": {
              "outlinewidth": 0,
              "ticks": ""
             }
            },
            "marker": {
             "colorbar": {
              "outlinewidth": 0,
              "ticks": ""
             }
            },
            "type": "scatter3d"
           }
          ],
          "scattercarpet": [
           {
            "marker": {
             "colorbar": {
              "outlinewidth": 0,
              "ticks": ""
             }
            },
            "type": "scattercarpet"
           }
          ],
          "scattergeo": [
           {
            "marker": {
             "colorbar": {
              "outlinewidth": 0,
              "ticks": ""
             }
            },
            "type": "scattergeo"
           }
          ],
          "scattergl": [
           {
            "marker": {
             "colorbar": {
              "outlinewidth": 0,
              "ticks": ""
             }
            },
            "type": "scattergl"
           }
          ],
          "scattermapbox": [
           {
            "marker": {
             "colorbar": {
              "outlinewidth": 0,
              "ticks": ""
             }
            },
            "type": "scattermapbox"
           }
          ],
          "scatterpolar": [
           {
            "marker": {
             "colorbar": {
              "outlinewidth": 0,
              "ticks": ""
             }
            },
            "type": "scatterpolar"
           }
          ],
          "scatterpolargl": [
           {
            "marker": {
             "colorbar": {
              "outlinewidth": 0,
              "ticks": ""
             }
            },
            "type": "scatterpolargl"
           }
          ],
          "scatterternary": [
           {
            "marker": {
             "colorbar": {
              "outlinewidth": 0,
              "ticks": ""
             }
            },
            "type": "scatterternary"
           }
          ],
          "surface": [
           {
            "colorbar": {
             "outlinewidth": 0,
             "ticks": ""
            },
            "colorscale": [
             [
              0,
              "#0d0887"
             ],
             [
              0.1111111111111111,
              "#46039f"
             ],
             [
              0.2222222222222222,
              "#7201a8"
             ],
             [
              0.3333333333333333,
              "#9c179e"
             ],
             [
              0.4444444444444444,
              "#bd3786"
             ],
             [
              0.5555555555555556,
              "#d8576b"
             ],
             [
              0.6666666666666666,
              "#ed7953"
             ],
             [
              0.7777777777777778,
              "#fb9f3a"
             ],
             [
              0.8888888888888888,
              "#fdca26"
             ],
             [
              1,
              "#f0f921"
             ]
            ],
            "type": "surface"
           }
          ],
          "table": [
           {
            "cells": {
             "fill": {
              "color": "#EBF0F8"
             },
             "line": {
              "color": "white"
             }
            },
            "header": {
             "fill": {
              "color": "#C8D4E3"
             },
             "line": {
              "color": "white"
             }
            },
            "type": "table"
           }
          ]
         },
         "layout": {
          "annotationdefaults": {
           "arrowcolor": "#2a3f5f",
           "arrowhead": 0,
           "arrowwidth": 1
          },
          "autotypenumbers": "strict",
          "coloraxis": {
           "colorbar": {
            "outlinewidth": 0,
            "ticks": ""
           }
          },
          "colorscale": {
           "diverging": [
            [
             0,
             "#8e0152"
            ],
            [
             0.1,
             "#c51b7d"
            ],
            [
             0.2,
             "#de77ae"
            ],
            [
             0.3,
             "#f1b6da"
            ],
            [
             0.4,
             "#fde0ef"
            ],
            [
             0.5,
             "#f7f7f7"
            ],
            [
             0.6,
             "#e6f5d0"
            ],
            [
             0.7,
             "#b8e186"
            ],
            [
             0.8,
             "#7fbc41"
            ],
            [
             0.9,
             "#4d9221"
            ],
            [
             1,
             "#276419"
            ]
           ],
           "sequential": [
            [
             0,
             "#0d0887"
            ],
            [
             0.1111111111111111,
             "#46039f"
            ],
            [
             0.2222222222222222,
             "#7201a8"
            ],
            [
             0.3333333333333333,
             "#9c179e"
            ],
            [
             0.4444444444444444,
             "#bd3786"
            ],
            [
             0.5555555555555556,
             "#d8576b"
            ],
            [
             0.6666666666666666,
             "#ed7953"
            ],
            [
             0.7777777777777778,
             "#fb9f3a"
            ],
            [
             0.8888888888888888,
             "#fdca26"
            ],
            [
             1,
             "#f0f921"
            ]
           ],
           "sequentialminus": [
            [
             0,
             "#0d0887"
            ],
            [
             0.1111111111111111,
             "#46039f"
            ],
            [
             0.2222222222222222,
             "#7201a8"
            ],
            [
             0.3333333333333333,
             "#9c179e"
            ],
            [
             0.4444444444444444,
             "#bd3786"
            ],
            [
             0.5555555555555556,
             "#d8576b"
            ],
            [
             0.6666666666666666,
             "#ed7953"
            ],
            [
             0.7777777777777778,
             "#fb9f3a"
            ],
            [
             0.8888888888888888,
             "#fdca26"
            ],
            [
             1,
             "#f0f921"
            ]
           ]
          },
          "colorway": [
           "#636efa",
           "#EF553B",
           "#00cc96",
           "#ab63fa",
           "#FFA15A",
           "#19d3f3",
           "#FF6692",
           "#B6E880",
           "#FF97FF",
           "#FECB52"
          ],
          "font": {
           "color": "#2a3f5f"
          },
          "geo": {
           "bgcolor": "white",
           "lakecolor": "white",
           "landcolor": "#E5ECF6",
           "showlakes": true,
           "showland": true,
           "subunitcolor": "white"
          },
          "hoverlabel": {
           "align": "left"
          },
          "hovermode": "closest",
          "mapbox": {
           "style": "light"
          },
          "paper_bgcolor": "white",
          "plot_bgcolor": "#E5ECF6",
          "polar": {
           "angularaxis": {
            "gridcolor": "white",
            "linecolor": "white",
            "ticks": ""
           },
           "bgcolor": "#E5ECF6",
           "radialaxis": {
            "gridcolor": "white",
            "linecolor": "white",
            "ticks": ""
           }
          },
          "scene": {
           "xaxis": {
            "backgroundcolor": "#E5ECF6",
            "gridcolor": "white",
            "gridwidth": 2,
            "linecolor": "white",
            "showbackground": true,
            "ticks": "",
            "zerolinecolor": "white"
           },
           "yaxis": {
            "backgroundcolor": "#E5ECF6",
            "gridcolor": "white",
            "gridwidth": 2,
            "linecolor": "white",
            "showbackground": true,
            "ticks": "",
            "zerolinecolor": "white"
           },
           "zaxis": {
            "backgroundcolor": "#E5ECF6",
            "gridcolor": "white",
            "gridwidth": 2,
            "linecolor": "white",
            "showbackground": true,
            "ticks": "",
            "zerolinecolor": "white"
           }
          },
          "shapedefaults": {
           "line": {
            "color": "#2a3f5f"
           }
          },
          "ternary": {
           "aaxis": {
            "gridcolor": "white",
            "linecolor": "white",
            "ticks": ""
           },
           "baxis": {
            "gridcolor": "white",
            "linecolor": "white",
            "ticks": ""
           },
           "bgcolor": "#E5ECF6",
           "caxis": {
            "gridcolor": "white",
            "linecolor": "white",
            "ticks": ""
           }
          },
          "title": {
           "x": 0.05
          },
          "xaxis": {
           "automargin": true,
           "gridcolor": "white",
           "linecolor": "white",
           "ticks": "",
           "title": {
            "standoff": 15
           },
           "zerolinecolor": "white",
           "zerolinewidth": 2
          },
          "yaxis": {
           "automargin": true,
           "gridcolor": "white",
           "linecolor": "white",
           "ticks": "",
           "title": {
            "standoff": 15
           },
           "zerolinecolor": "white",
           "zerolinewidth": 2
          }
         }
        },
        "title": {
         "text": "Real Stock Prices vs Predicted by LSTM\n\nRMSE 5.44630560420184"
        },
        "xaxis": {
         "title": {
          "text": "Date"
         }
        },
        "yaxis": {
         "title": {
          "text": "Value"
         }
        }
       }
      },
      "text/html": [
       "<div>                            <div id=\"22f82839-aed5-4271-8a3a-f5471c031fff\" class=\"plotly-graph-div\" style=\"height:525px; width:100%;\"></div>            <script type=\"text/javascript\">                require([\"plotly\"], function(Plotly) {                    window.PLOTLYENV=window.PLOTLYENV || {};                                    if (document.getElementById(\"22f82839-aed5-4271-8a3a-f5471c031fff\")) {                    Plotly.newPlot(                        \"22f82839-aed5-4271-8a3a-f5471c031fff\",                        [{\"line\":{\"color\":\"blue\",\"width\":0.7},\"name\":\"Real Stock Prices\",\"x\":[\"2022-11-22T00:00:00-05:00\",\"2022-11-23T00:00:00-05:00\",\"2022-11-25T00:00:00-05:00\",\"2022-11-28T00:00:00-05:00\",\"2022-11-29T00:00:00-05:00\",\"2022-11-30T00:00:00-05:00\",\"2022-12-01T00:00:00-05:00\",\"2022-12-02T00:00:00-05:00\",\"2022-12-05T00:00:00-05:00\",\"2022-12-06T00:00:00-05:00\",\"2022-12-07T00:00:00-05:00\",\"2022-12-08T00:00:00-05:00\",\"2022-12-09T00:00:00-05:00\",\"2022-12-12T00:00:00-05:00\",\"2022-12-13T00:00:00-05:00\",\"2022-12-14T00:00:00-05:00\",\"2022-12-15T00:00:00-05:00\",\"2022-12-16T00:00:00-05:00\",\"2022-12-19T00:00:00-05:00\",\"2022-12-20T00:00:00-05:00\",\"2022-12-21T00:00:00-05:00\",\"2022-12-22T00:00:00-05:00\",\"2022-12-23T00:00:00-05:00\",\"2022-12-27T00:00:00-05:00\",\"2022-12-28T00:00:00-05:00\",\"2022-12-29T00:00:00-05:00\",\"2022-12-30T00:00:00-05:00\",\"2023-01-03T00:00:00-05:00\",\"2023-01-04T00:00:00-05:00\",\"2023-01-05T00:00:00-05:00\",\"2023-01-06T00:00:00-05:00\",\"2023-01-09T00:00:00-05:00\",\"2023-01-10T00:00:00-05:00\",\"2023-01-11T00:00:00-05:00\",\"2023-01-12T00:00:00-05:00\",\"2023-01-13T00:00:00-05:00\",\"2023-01-17T00:00:00-05:00\",\"2023-01-18T00:00:00-05:00\",\"2023-01-19T00:00:00-05:00\",\"2023-01-20T00:00:00-05:00\",\"2023-01-23T00:00:00-05:00\",\"2023-01-24T00:00:00-05:00\",\"2023-01-25T00:00:00-05:00\",\"2023-01-26T00:00:00-05:00\",\"2023-01-27T00:00:00-05:00\",\"2023-01-30T00:00:00-05:00\",\"2023-01-31T00:00:00-05:00\",\"2023-02-01T00:00:00-05:00\",\"2023-02-02T00:00:00-05:00\",\"2023-02-03T00:00:00-05:00\",\"2023-02-06T00:00:00-05:00\",\"2023-02-07T00:00:00-05:00\",\"2023-02-08T00:00:00-05:00\",\"2023-02-09T00:00:00-05:00\",\"2023-02-10T00:00:00-05:00\",\"2023-02-13T00:00:00-05:00\",\"2023-02-14T00:00:00-05:00\",\"2023-02-15T00:00:00-05:00\",\"2023-02-16T00:00:00-05:00\",\"2023-02-17T00:00:00-05:00\",\"2023-02-21T00:00:00-05:00\",\"2023-02-22T00:00:00-05:00\",\"2023-02-23T00:00:00-05:00\",\"2023-02-24T00:00:00-05:00\",\"2023-02-27T00:00:00-05:00\",\"2023-02-28T00:00:00-05:00\",\"2023-03-01T00:00:00-05:00\",\"2023-03-02T00:00:00-05:00\",\"2023-03-03T00:00:00-05:00\",\"2023-03-06T00:00:00-05:00\",\"2023-03-07T00:00:00-05:00\",\"2023-03-08T00:00:00-05:00\",\"2023-03-09T00:00:00-05:00\",\"2023-03-10T00:00:00-05:00\",\"2023-03-13T00:00:00-04:00\",\"2023-03-14T00:00:00-04:00\",\"2023-03-15T00:00:00-04:00\",\"2023-03-16T00:00:00-04:00\",\"2023-03-17T00:00:00-04:00\",\"2023-03-20T00:00:00-04:00\",\"2023-03-21T00:00:00-04:00\",\"2023-03-22T00:00:00-04:00\",\"2023-03-23T00:00:00-04:00\",\"2023-03-24T00:00:00-04:00\",\"2023-03-27T00:00:00-04:00\",\"2023-03-28T00:00:00-04:00\",\"2023-03-29T00:00:00-04:00\",\"2023-03-30T00:00:00-04:00\",\"2023-03-31T00:00:00-04:00\",\"2023-04-03T00:00:00-04:00\",\"2023-04-04T00:00:00-04:00\",\"2023-04-05T00:00:00-04:00\",\"2023-04-06T00:00:00-04:00\",\"2023-04-10T00:00:00-04:00\",\"2023-04-11T00:00:00-04:00\",\"2023-04-12T00:00:00-04:00\",\"2023-04-13T00:00:00-04:00\",\"2023-04-14T00:00:00-04:00\",\"2023-04-17T00:00:00-04:00\",\"2023-04-18T00:00:00-04:00\",\"2023-04-19T00:00:00-04:00\",\"2023-04-20T00:00:00-04:00\",\"2023-04-21T00:00:00-04:00\",\"2023-04-24T00:00:00-04:00\",\"2023-04-25T00:00:00-04:00\",\"2023-04-26T00:00:00-04:00\",\"2023-04-27T00:00:00-04:00\",\"2023-04-28T00:00:00-04:00\",\"2023-05-01T00:00:00-04:00\",\"2023-05-02T00:00:00-04:00\",\"2023-05-03T00:00:00-04:00\",\"2023-05-04T00:00:00-04:00\",\"2023-05-05T00:00:00-04:00\",\"2023-05-08T00:00:00-04:00\",\"2023-05-09T00:00:00-04:00\",\"2023-05-10T00:00:00-04:00\",\"2023-05-11T00:00:00-04:00\",\"2023-05-12T00:00:00-04:00\",\"2023-05-15T00:00:00-04:00\",\"2023-05-16T00:00:00-04:00\",\"2023-05-17T00:00:00-04:00\",\"2023-05-18T00:00:00-04:00\",\"2023-05-19T00:00:00-04:00\",\"2023-05-22T00:00:00-04:00\",\"2023-05-23T00:00:00-04:00\",\"2023-05-24T00:00:00-04:00\",\"2023-05-25T00:00:00-04:00\",\"2023-05-26T00:00:00-04:00\",\"2023-05-30T00:00:00-04:00\",\"2023-05-31T00:00:00-04:00\",\"2023-06-01T00:00:00-04:00\",\"2023-06-02T00:00:00-04:00\",\"2023-06-05T00:00:00-04:00\",\"2023-06-06T00:00:00-04:00\",\"2023-06-07T00:00:00-04:00\",\"2023-06-08T00:00:00-04:00\",\"2023-06-09T00:00:00-04:00\",\"2023-06-12T00:00:00-04:00\",\"2023-06-13T00:00:00-04:00\",\"2023-06-14T00:00:00-04:00\",\"2023-06-15T00:00:00-04:00\",\"2023-06-16T00:00:00-04:00\",\"2023-06-20T00:00:00-04:00\",\"2023-06-21T00:00:00-04:00\",\"2023-06-22T00:00:00-04:00\",\"2023-06-23T00:00:00-04:00\",\"2023-06-26T00:00:00-04:00\",\"2023-06-27T00:00:00-04:00\",\"2023-06-28T00:00:00-04:00\",\"2023-06-29T00:00:00-04:00\",\"2023-06-30T00:00:00-04:00\",\"2023-07-03T00:00:00-04:00\",\"2023-07-05T00:00:00-04:00\",\"2023-07-06T00:00:00-04:00\",\"2023-07-07T00:00:00-04:00\",\"2023-07-10T00:00:00-04:00\",\"2023-07-11T00:00:00-04:00\",\"2023-07-12T00:00:00-04:00\",\"2023-07-13T00:00:00-04:00\",\"2023-07-14T00:00:00-04:00\",\"2023-07-17T00:00:00-04:00\",\"2023-07-18T00:00:00-04:00\",\"2023-07-19T00:00:00-04:00\",\"2023-07-20T00:00:00-04:00\",\"2023-07-21T00:00:00-04:00\",\"2023-07-24T00:00:00-04:00\",\"2023-07-25T00:00:00-04:00\",\"2023-07-26T00:00:00-04:00\",\"2023-07-27T00:00:00-04:00\",\"2023-07-28T00:00:00-04:00\",\"2023-07-31T00:00:00-04:00\",\"2023-08-01T00:00:00-04:00\",\"2023-08-02T00:00:00-04:00\",\"2023-08-03T00:00:00-04:00\",\"2023-08-04T00:00:00-04:00\",\"2023-08-07T00:00:00-04:00\",\"2023-08-08T00:00:00-04:00\",\"2023-08-09T00:00:00-04:00\",\"2023-08-10T00:00:00-04:00\",\"2023-08-11T00:00:00-04:00\",\"2023-08-14T00:00:00-04:00\",\"2023-08-15T00:00:00-04:00\",\"2023-08-16T00:00:00-04:00\",\"2023-08-17T00:00:00-04:00\",\"2023-08-18T00:00:00-04:00\",\"2023-08-21T00:00:00-04:00\",\"2023-08-22T00:00:00-04:00\",\"2023-08-23T00:00:00-04:00\",\"2023-08-24T00:00:00-04:00\",\"2023-08-25T00:00:00-04:00\",\"2023-08-28T00:00:00-04:00\",\"2023-08-29T00:00:00-04:00\"],\"y\":[245.02999877929688,247.5800018310547,247.49000549316406,241.75999450683594,240.3300018310547,255.13999938964844,254.69000244140625,255.02000427246094,250.1999969482422,245.1199951171875,244.3699951171875,247.39999389648438,245.4199981689453,252.50999450683594,256.9200134277344,257.2200012207031,249.00999450683594,244.69000244140628,240.4499969482422,241.8000030517578,244.42999267578122,238.19000244140628,238.72999572753903,236.96000671386722,234.52999877929685,241.00999450683594,239.82000732421875,239.5800018310547,229.1000061035156,222.30999755859375,224.92999267578128,227.1199951171875,228.85000610351562,235.77000427246094,238.50999450683594,239.22999572753906,240.35000610351565,235.80999755859375,231.92999267578125,240.22000122070315,242.5800018310547,242.0399932861328,240.61000061035156,248.0,248.16000366210938,242.7100067138672,247.80999755859378,252.75,264.6000061035156,258.3500061035156,256.7699890136719,267.55999755859375,266.7300109863281,263.6199951171875,263.1000061035156,271.32000732421875,272.1700134277344,269.32000732421875,262.1499938964844,258.05999755859375,252.6699981689453,251.50999450683594,254.77000427246094,249.22000122070312,250.16000366210938,249.4199981689453,246.27000427246094,251.11000061035156,255.2899932861328,256.8699951171875,254.14999389648438,253.6999969482422,252.32000732421875,248.58999633789062,253.9199981689453,260.7900085449219,265.44000244140625,276.20001220703125,279.42999267578125,272.2300109863281,273.7799987792969,272.2900085449219,277.6600036621094,280.57000732421875,276.3800048828125,275.2300109863281,280.510009765625,284.04998779296875,288.29998779296875,287.2300109863281,287.17999267578125,284.3399963378906,291.60000610351557,289.3900146484375,282.8299865722656,283.489990234375,289.8399963378906,286.1400146484375,288.79998779296875,288.3699951171875,288.45001220703125,286.1099853515625,285.760009765625,281.7699890136719,275.4200134277344,295.3699951171875,304.8299865722656,307.260009765625,305.55999755859375,305.4100036621094,304.3999938964844,305.4100036621094,310.6499938964844,308.6499938964844,307.0,312.30999755859375,310.1099853515625,308.9700012207032,309.4599914550781,311.739990234375,314.0,318.5199890136719,318.3399963378906,321.1799926757813,315.260009765625,313.8500061035156,325.9200134277344,332.8900146484375,331.2099914550781,328.3900146484375,332.5799865722656,335.3999938964844,335.94000244140625,333.67999267578125,323.3800048828125,325.260009765625,326.7900085449219,331.8500061035156,334.2900085449219,337.3399963378906,348.1000061035156,342.3299865722656,338.04998779296875,333.55999755859375,339.7099914550781,335.0199890136719,328.6000061035156,334.57000732421875,335.8500061035156,335.04998779296875,340.5400085449219,337.989990234375,338.1499938964844,341.2699890136719,337.2200012207031,331.8299865722656,332.4700012207031,337.20001220703125,342.6600036621094,345.239990234375,345.7300109863281,359.489990234375,355.0799865722656,346.8699951171875,343.7699890136719,345.1099853515625,350.9800109863281,337.7699890136719,330.7200012207031,338.3699951171875,335.9200134277344,336.3399963378907,327.5,326.6600036621094,327.7799987792969,330.10998535156244,326.0499877929688,322.2300109863282,322.92999267578125,321.010009765625,324.0400085449219,321.8599853515625,320.3999938964844,316.8800048828125,316.4800109863281,321.8800048828125,322.4599914550781,327.0,319.9700012207031,322.9800109863281,323.70001220703125,328.4100036621094],\"type\":\"scatter\"},{\"line\":{\"color\":\"red\",\"width\":1.5},\"mode\":\"lines\",\"name\":\"Predicted Stock Prices\",\"x\":[\"2022-11-22T00:00:00-05:00\",\"2022-11-23T00:00:00-05:00\",\"2022-11-25T00:00:00-05:00\",\"2022-11-28T00:00:00-05:00\",\"2022-11-29T00:00:00-05:00\",\"2022-11-30T00:00:00-05:00\",\"2022-12-01T00:00:00-05:00\",\"2022-12-02T00:00:00-05:00\",\"2022-12-05T00:00:00-05:00\",\"2022-12-06T00:00:00-05:00\",\"2022-12-07T00:00:00-05:00\",\"2022-12-08T00:00:00-05:00\",\"2022-12-09T00:00:00-05:00\",\"2022-12-12T00:00:00-05:00\",\"2022-12-13T00:00:00-05:00\",\"2022-12-14T00:00:00-05:00\",\"2022-12-15T00:00:00-05:00\",\"2022-12-16T00:00:00-05:00\",\"2022-12-19T00:00:00-05:00\",\"2022-12-20T00:00:00-05:00\",\"2022-12-21T00:00:00-05:00\",\"2022-12-22T00:00:00-05:00\",\"2022-12-23T00:00:00-05:00\",\"2022-12-27T00:00:00-05:00\",\"2022-12-28T00:00:00-05:00\",\"2022-12-29T00:00:00-05:00\",\"2022-12-30T00:00:00-05:00\",\"2023-01-03T00:00:00-05:00\",\"2023-01-04T00:00:00-05:00\",\"2023-01-05T00:00:00-05:00\",\"2023-01-06T00:00:00-05:00\",\"2023-01-09T00:00:00-05:00\",\"2023-01-10T00:00:00-05:00\",\"2023-01-11T00:00:00-05:00\",\"2023-01-12T00:00:00-05:00\",\"2023-01-13T00:00:00-05:00\",\"2023-01-17T00:00:00-05:00\",\"2023-01-18T00:00:00-05:00\",\"2023-01-19T00:00:00-05:00\",\"2023-01-20T00:00:00-05:00\",\"2023-01-23T00:00:00-05:00\",\"2023-01-24T00:00:00-05:00\",\"2023-01-25T00:00:00-05:00\",\"2023-01-26T00:00:00-05:00\",\"2023-01-27T00:00:00-05:00\",\"2023-01-30T00:00:00-05:00\",\"2023-01-31T00:00:00-05:00\",\"2023-02-01T00:00:00-05:00\",\"2023-02-02T00:00:00-05:00\",\"2023-02-03T00:00:00-05:00\",\"2023-02-06T00:00:00-05:00\",\"2023-02-07T00:00:00-05:00\",\"2023-02-08T00:00:00-05:00\",\"2023-02-09T00:00:00-05:00\",\"2023-02-10T00:00:00-05:00\",\"2023-02-13T00:00:00-05:00\",\"2023-02-14T00:00:00-05:00\",\"2023-02-15T00:00:00-05:00\",\"2023-02-16T00:00:00-05:00\",\"2023-02-17T00:00:00-05:00\",\"2023-02-21T00:00:00-05:00\",\"2023-02-22T00:00:00-05:00\",\"2023-02-23T00:00:00-05:00\",\"2023-02-24T00:00:00-05:00\",\"2023-02-27T00:00:00-05:00\",\"2023-02-28T00:00:00-05:00\",\"2023-03-01T00:00:00-05:00\",\"2023-03-02T00:00:00-05:00\",\"2023-03-03T00:00:00-05:00\",\"2023-03-06T00:00:00-05:00\",\"2023-03-07T00:00:00-05:00\",\"2023-03-08T00:00:00-05:00\",\"2023-03-09T00:00:00-05:00\",\"2023-03-10T00:00:00-05:00\",\"2023-03-13T00:00:00-04:00\",\"2023-03-14T00:00:00-04:00\",\"2023-03-15T00:00:00-04:00\",\"2023-03-16T00:00:00-04:00\",\"2023-03-17T00:00:00-04:00\",\"2023-03-20T00:00:00-04:00\",\"2023-03-21T00:00:00-04:00\",\"2023-03-22T00:00:00-04:00\",\"2023-03-23T00:00:00-04:00\",\"2023-03-24T00:00:00-04:00\",\"2023-03-27T00:00:00-04:00\",\"2023-03-28T00:00:00-04:00\",\"2023-03-29T00:00:00-04:00\",\"2023-03-30T00:00:00-04:00\",\"2023-03-31T00:00:00-04:00\",\"2023-04-03T00:00:00-04:00\",\"2023-04-04T00:00:00-04:00\",\"2023-04-05T00:00:00-04:00\",\"2023-04-06T00:00:00-04:00\",\"2023-04-10T00:00:00-04:00\",\"2023-04-11T00:00:00-04:00\",\"2023-04-12T00:00:00-04:00\",\"2023-04-13T00:00:00-04:00\",\"2023-04-14T00:00:00-04:00\",\"2023-04-17T00:00:00-04:00\",\"2023-04-18T00:00:00-04:00\",\"2023-04-19T00:00:00-04:00\",\"2023-04-20T00:00:00-04:00\",\"2023-04-21T00:00:00-04:00\",\"2023-04-24T00:00:00-04:00\",\"2023-04-25T00:00:00-04:00\",\"2023-04-26T00:00:00-04:00\",\"2023-04-27T00:00:00-04:00\",\"2023-04-28T00:00:00-04:00\",\"2023-05-01T00:00:00-04:00\",\"2023-05-02T00:00:00-04:00\",\"2023-05-03T00:00:00-04:00\",\"2023-05-04T00:00:00-04:00\",\"2023-05-05T00:00:00-04:00\",\"2023-05-08T00:00:00-04:00\",\"2023-05-09T00:00:00-04:00\",\"2023-05-10T00:00:00-04:00\",\"2023-05-11T00:00:00-04:00\",\"2023-05-12T00:00:00-04:00\",\"2023-05-15T00:00:00-04:00\",\"2023-05-16T00:00:00-04:00\",\"2023-05-17T00:00:00-04:00\",\"2023-05-18T00:00:00-04:00\",\"2023-05-19T00:00:00-04:00\",\"2023-05-22T00:00:00-04:00\",\"2023-05-23T00:00:00-04:00\",\"2023-05-24T00:00:00-04:00\",\"2023-05-25T00:00:00-04:00\",\"2023-05-26T00:00:00-04:00\",\"2023-05-30T00:00:00-04:00\",\"2023-05-31T00:00:00-04:00\",\"2023-06-01T00:00:00-04:00\",\"2023-06-02T00:00:00-04:00\",\"2023-06-05T00:00:00-04:00\",\"2023-06-06T00:00:00-04:00\",\"2023-06-07T00:00:00-04:00\",\"2023-06-08T00:00:00-04:00\",\"2023-06-09T00:00:00-04:00\",\"2023-06-12T00:00:00-04:00\",\"2023-06-13T00:00:00-04:00\",\"2023-06-14T00:00:00-04:00\",\"2023-06-15T00:00:00-04:00\",\"2023-06-16T00:00:00-04:00\",\"2023-06-20T00:00:00-04:00\",\"2023-06-21T00:00:00-04:00\",\"2023-06-22T00:00:00-04:00\",\"2023-06-23T00:00:00-04:00\",\"2023-06-26T00:00:00-04:00\",\"2023-06-27T00:00:00-04:00\",\"2023-06-28T00:00:00-04:00\",\"2023-06-29T00:00:00-04:00\",\"2023-06-30T00:00:00-04:00\",\"2023-07-03T00:00:00-04:00\",\"2023-07-05T00:00:00-04:00\",\"2023-07-06T00:00:00-04:00\",\"2023-07-07T00:00:00-04:00\",\"2023-07-10T00:00:00-04:00\",\"2023-07-11T00:00:00-04:00\",\"2023-07-12T00:00:00-04:00\",\"2023-07-13T00:00:00-04:00\",\"2023-07-14T00:00:00-04:00\",\"2023-07-17T00:00:00-04:00\",\"2023-07-18T00:00:00-04:00\",\"2023-07-19T00:00:00-04:00\",\"2023-07-20T00:00:00-04:00\",\"2023-07-21T00:00:00-04:00\",\"2023-07-24T00:00:00-04:00\",\"2023-07-25T00:00:00-04:00\",\"2023-07-26T00:00:00-04:00\",\"2023-07-27T00:00:00-04:00\",\"2023-07-28T00:00:00-04:00\",\"2023-07-31T00:00:00-04:00\",\"2023-08-01T00:00:00-04:00\",\"2023-08-02T00:00:00-04:00\",\"2023-08-03T00:00:00-04:00\",\"2023-08-04T00:00:00-04:00\",\"2023-08-07T00:00:00-04:00\",\"2023-08-08T00:00:00-04:00\",\"2023-08-09T00:00:00-04:00\",\"2023-08-10T00:00:00-04:00\",\"2023-08-11T00:00:00-04:00\",\"2023-08-14T00:00:00-04:00\",\"2023-08-15T00:00:00-04:00\",\"2023-08-16T00:00:00-04:00\",\"2023-08-17T00:00:00-04:00\",\"2023-08-18T00:00:00-04:00\",\"2023-08-21T00:00:00-04:00\",\"2023-08-22T00:00:00-04:00\",\"2023-08-23T00:00:00-04:00\",\"2023-08-24T00:00:00-04:00\",\"2023-08-25T00:00:00-04:00\",\"2023-08-28T00:00:00-04:00\",\"2023-08-29T00:00:00-04:00\"],\"y\":[242.52484130859375,244.65516662597656,247.31626892089844,248.2906036376953,244.6975860595703,242.02488708496094,250.71841430664062,254.89749145507812,256.1088562011719,252.79844665527344,247.88311767578125,245.59083557128906,246.9955291748047,246.60565185546875,251.05218505859375,256.17840576171875,258.171875,252.70492553710938,247.45355224609375,242.9283905029297,242.22360229492188,244.02394104003906,241.1012420654297,239.87164306640625,238.44935607910156,236.41036987304688,239.3967742919922,240.50901794433594,240.64231872558594,234.3172149658203,227.2830810546875,225.43910217285156,226.35787963867188,228.1889190673828,233.13311767578125,237.5001678466797,239.76065063476562,241.06956481933594,238.6378173828125,234.8983917236328,238.08840942382812,241.7058563232422,242.93838500976562,242.2433319091797,246.4385223388672,248.643798828125,245.65066528320312,247.3531036376953,251.71029663085938,261.9316711425781,261.1694030761719,258.7863464355469,265.87841796875,267.994140625,265.7818908691406,264.5141906738281,270.5840148925781,273.3236999511719,271.44873046875,265.1321105957031,260.31622314453125,255.2527618408203,252.98387145996094,254.7506866455078,251.83709716796875,251.1597900390625,250.58900451660156,248.31549072265625,250.60775756835938,254.72024536132812,257.4481201171875,256.28729248046875,255.2718048095703,253.99591064453125,251.03256225585938,253.58961486816406,259.81707763671875,265.6083068847656,275.55828857421875,280.91192626953125,275.6180725097656,275.19781494140625,274.2067565917969,278.4448547363281,282.0634765625,279.14691162109375,277.28179931640625,281.3554992675781,285.43377685546875,289.7748718261719,289.4115295410156,289.0662841796875,286.5561218261719,292.6117858886719,291.8367614746094,285.6579284667969,285.2608642578125,291.0410461425781,288.8563537597656,290.53887939453125,290.51324462890625,290.5172119140625,288.47076416015625,287.85882568359375,284.4043884277344,278.44158935546875,294.5464782714844,306.8663024902344,309.8975830078125,307.8371887207031,307.59197998046875,306.9277648925781,308.0911865234375,313.4018859863281,311.61431884765625,309.7173156738281,314.9303283691406,312.9519958496094,311.587646484375,312.09136962890625,314.4121398925781,316.6908264160156,321.18426513671875,320.918212890625,323.7572021484375,317.73358154296875,316.5166320800781,329.14031982421875,336.1778869628906,333.4329528808594,330.59564208984375,335.6805419921875,338.52642822265625,338.74298095703125,336.25213623046875,325.58831787109375,328.69219970703125,330.2343444824219,335.186767578125,337.12646484375,340.0105285644531,351.5083312988281,343.5643615722656,340.1894226074219,336.3349914550781,343.7819519042969,337.6717224121094,331.1900634765625,338.35577392578125,339.018310546875,337.7208251953125,343.7854919433594,340.3114929199219,340.9324645996094,344.5150451660156,339.6566467285156,334.46429443359375,335.9562072753906,340.9682922363281,346.1502990722656,348.03668212890625,348.2185363769531,363.8586730957031,356.0092468261719,348.4026184082031,347.0768737792969,349.07525634765625,355.0910949707031,338.82720947265625,333.622802734375,342.80877685546875,338.85113525390625,339.259765625,329.63250732421875,329.76593017578125,331.1328125,333.399169921875,328.7657775878906,325.050537109375,326.1767272949219,324.2310791015625,327.4091491699219,324.99835205078125,323.5050354003906,320.0312805175781,319.7969970703125,325.4113464355469,325.8169250488281,330.3146057128906,322.74395751953125,326.2680969238281,327.1556396484375],\"type\":\"scatter\"}],                        {\"template\":{\"data\":{\"histogram2dcontour\":[{\"type\":\"histogram2dcontour\",\"colorbar\":{\"outlinewidth\":0,\"ticks\":\"\"},\"colorscale\":[[0.0,\"#0d0887\"],[0.1111111111111111,\"#46039f\"],[0.2222222222222222,\"#7201a8\"],[0.3333333333333333,\"#9c179e\"],[0.4444444444444444,\"#bd3786\"],[0.5555555555555556,\"#d8576b\"],[0.6666666666666666,\"#ed7953\"],[0.7777777777777778,\"#fb9f3a\"],[0.8888888888888888,\"#fdca26\"],[1.0,\"#f0f921\"]]}],\"choropleth\":[{\"type\":\"choropleth\",\"colorbar\":{\"outlinewidth\":0,\"ticks\":\"\"}}],\"histogram2d\":[{\"type\":\"histogram2d\",\"colorbar\":{\"outlinewidth\":0,\"ticks\":\"\"},\"colorscale\":[[0.0,\"#0d0887\"],[0.1111111111111111,\"#46039f\"],[0.2222222222222222,\"#7201a8\"],[0.3333333333333333,\"#9c179e\"],[0.4444444444444444,\"#bd3786\"],[0.5555555555555556,\"#d8576b\"],[0.6666666666666666,\"#ed7953\"],[0.7777777777777778,\"#fb9f3a\"],[0.8888888888888888,\"#fdca26\"],[1.0,\"#f0f921\"]]}],\"heatmap\":[{\"type\":\"heatmap\",\"colorbar\":{\"outlinewidth\":0,\"ticks\":\"\"},\"colorscale\":[[0.0,\"#0d0887\"],[0.1111111111111111,\"#46039f\"],[0.2222222222222222,\"#7201a8\"],[0.3333333333333333,\"#9c179e\"],[0.4444444444444444,\"#bd3786\"],[0.5555555555555556,\"#d8576b\"],[0.6666666666666666,\"#ed7953\"],[0.7777777777777778,\"#fb9f3a\"],[0.8888888888888888,\"#fdca26\"],[1.0,\"#f0f921\"]]}],\"heatmapgl\":[{\"type\":\"heatmapgl\",\"colorbar\":{\"outlinewidth\":0,\"ticks\":\"\"},\"colorscale\":[[0.0,\"#0d0887\"],[0.1111111111111111,\"#46039f\"],[0.2222222222222222,\"#7201a8\"],[0.3333333333333333,\"#9c179e\"],[0.4444444444444444,\"#bd3786\"],[0.5555555555555556,\"#d8576b\"],[0.6666666666666666,\"#ed7953\"],[0.7777777777777778,\"#fb9f3a\"],[0.8888888888888888,\"#fdca26\"],[1.0,\"#f0f921\"]]}],\"contourcarpet\":[{\"type\":\"contourcarpet\",\"colorbar\":{\"outlinewidth\":0,\"ticks\":\"\"}}],\"contour\":[{\"type\":\"contour\",\"colorbar\":{\"outlinewidth\":0,\"ticks\":\"\"},\"colorscale\":[[0.0,\"#0d0887\"],[0.1111111111111111,\"#46039f\"],[0.2222222222222222,\"#7201a8\"],[0.3333333333333333,\"#9c179e\"],[0.4444444444444444,\"#bd3786\"],[0.5555555555555556,\"#d8576b\"],[0.6666666666666666,\"#ed7953\"],[0.7777777777777778,\"#fb9f3a\"],[0.8888888888888888,\"#fdca26\"],[1.0,\"#f0f921\"]]}],\"surface\":[{\"type\":\"surface\",\"colorbar\":{\"outlinewidth\":0,\"ticks\":\"\"},\"colorscale\":[[0.0,\"#0d0887\"],[0.1111111111111111,\"#46039f\"],[0.2222222222222222,\"#7201a8\"],[0.3333333333333333,\"#9c179e\"],[0.4444444444444444,\"#bd3786\"],[0.5555555555555556,\"#d8576b\"],[0.6666666666666666,\"#ed7953\"],[0.7777777777777778,\"#fb9f3a\"],[0.8888888888888888,\"#fdca26\"],[1.0,\"#f0f921\"]]}],\"mesh3d\":[{\"type\":\"mesh3d\",\"colorbar\":{\"outlinewidth\":0,\"ticks\":\"\"}}],\"scatter\":[{\"fillpattern\":{\"fillmode\":\"overlay\",\"size\":10,\"solidity\":0.2},\"type\":\"scatter\"}],\"parcoords\":[{\"type\":\"parcoords\",\"line\":{\"colorbar\":{\"outlinewidth\":0,\"ticks\":\"\"}}}],\"scatterpolargl\":[{\"type\":\"scatterpolargl\",\"marker\":{\"colorbar\":{\"outlinewidth\":0,\"ticks\":\"\"}}}],\"bar\":[{\"error_x\":{\"color\":\"#2a3f5f\"},\"error_y\":{\"color\":\"#2a3f5f\"},\"marker\":{\"line\":{\"color\":\"#E5ECF6\",\"width\":0.5},\"pattern\":{\"fillmode\":\"overlay\",\"size\":10,\"solidity\":0.2}},\"type\":\"bar\"}],\"scattergeo\":[{\"type\":\"scattergeo\",\"marker\":{\"colorbar\":{\"outlinewidth\":0,\"ticks\":\"\"}}}],\"scatterpolar\":[{\"type\":\"scatterpolar\",\"marker\":{\"colorbar\":{\"outlinewidth\":0,\"ticks\":\"\"}}}],\"histogram\":[{\"marker\":{\"pattern\":{\"fillmode\":\"overlay\",\"size\":10,\"solidity\":0.2}},\"type\":\"histogram\"}],\"scattergl\":[{\"type\":\"scattergl\",\"marker\":{\"colorbar\":{\"outlinewidth\":0,\"ticks\":\"\"}}}],\"scatter3d\":[{\"type\":\"scatter3d\",\"line\":{\"colorbar\":{\"outlinewidth\":0,\"ticks\":\"\"}},\"marker\":{\"colorbar\":{\"outlinewidth\":0,\"ticks\":\"\"}}}],\"scattermapbox\":[{\"type\":\"scattermapbox\",\"marker\":{\"colorbar\":{\"outlinewidth\":0,\"ticks\":\"\"}}}],\"scatterternary\":[{\"type\":\"scatterternary\",\"marker\":{\"colorbar\":{\"outlinewidth\":0,\"ticks\":\"\"}}}],\"scattercarpet\":[{\"type\":\"scattercarpet\",\"marker\":{\"colorbar\":{\"outlinewidth\":0,\"ticks\":\"\"}}}],\"carpet\":[{\"aaxis\":{\"endlinecolor\":\"#2a3f5f\",\"gridcolor\":\"white\",\"linecolor\":\"white\",\"minorgridcolor\":\"white\",\"startlinecolor\":\"#2a3f5f\"},\"baxis\":{\"endlinecolor\":\"#2a3f5f\",\"gridcolor\":\"white\",\"linecolor\":\"white\",\"minorgridcolor\":\"white\",\"startlinecolor\":\"#2a3f5f\"},\"type\":\"carpet\"}],\"table\":[{\"cells\":{\"fill\":{\"color\":\"#EBF0F8\"},\"line\":{\"color\":\"white\"}},\"header\":{\"fill\":{\"color\":\"#C8D4E3\"},\"line\":{\"color\":\"white\"}},\"type\":\"table\"}],\"barpolar\":[{\"marker\":{\"line\":{\"color\":\"#E5ECF6\",\"width\":0.5},\"pattern\":{\"fillmode\":\"overlay\",\"size\":10,\"solidity\":0.2}},\"type\":\"barpolar\"}],\"pie\":[{\"automargin\":true,\"type\":\"pie\"}]},\"layout\":{\"autotypenumbers\":\"strict\",\"colorway\":[\"#636efa\",\"#EF553B\",\"#00cc96\",\"#ab63fa\",\"#FFA15A\",\"#19d3f3\",\"#FF6692\",\"#B6E880\",\"#FF97FF\",\"#FECB52\"],\"font\":{\"color\":\"#2a3f5f\"},\"hovermode\":\"closest\",\"hoverlabel\":{\"align\":\"left\"},\"paper_bgcolor\":\"white\",\"plot_bgcolor\":\"#E5ECF6\",\"polar\":{\"bgcolor\":\"#E5ECF6\",\"angularaxis\":{\"gridcolor\":\"white\",\"linecolor\":\"white\",\"ticks\":\"\"},\"radialaxis\":{\"gridcolor\":\"white\",\"linecolor\":\"white\",\"ticks\":\"\"}},\"ternary\":{\"bgcolor\":\"#E5ECF6\",\"aaxis\":{\"gridcolor\":\"white\",\"linecolor\":\"white\",\"ticks\":\"\"},\"baxis\":{\"gridcolor\":\"white\",\"linecolor\":\"white\",\"ticks\":\"\"},\"caxis\":{\"gridcolor\":\"white\",\"linecolor\":\"white\",\"ticks\":\"\"}},\"coloraxis\":{\"colorbar\":{\"outlinewidth\":0,\"ticks\":\"\"}},\"colorscale\":{\"sequential\":[[0.0,\"#0d0887\"],[0.1111111111111111,\"#46039f\"],[0.2222222222222222,\"#7201a8\"],[0.3333333333333333,\"#9c179e\"],[0.4444444444444444,\"#bd3786\"],[0.5555555555555556,\"#d8576b\"],[0.6666666666666666,\"#ed7953\"],[0.7777777777777778,\"#fb9f3a\"],[0.8888888888888888,\"#fdca26\"],[1.0,\"#f0f921\"]],\"sequentialminus\":[[0.0,\"#0d0887\"],[0.1111111111111111,\"#46039f\"],[0.2222222222222222,\"#7201a8\"],[0.3333333333333333,\"#9c179e\"],[0.4444444444444444,\"#bd3786\"],[0.5555555555555556,\"#d8576b\"],[0.6666666666666666,\"#ed7953\"],[0.7777777777777778,\"#fb9f3a\"],[0.8888888888888888,\"#fdca26\"],[1.0,\"#f0f921\"]],\"diverging\":[[0,\"#8e0152\"],[0.1,\"#c51b7d\"],[0.2,\"#de77ae\"],[0.3,\"#f1b6da\"],[0.4,\"#fde0ef\"],[0.5,\"#f7f7f7\"],[0.6,\"#e6f5d0\"],[0.7,\"#b8e186\"],[0.8,\"#7fbc41\"],[0.9,\"#4d9221\"],[1,\"#276419\"]]},\"xaxis\":{\"gridcolor\":\"white\",\"linecolor\":\"white\",\"ticks\":\"\",\"title\":{\"standoff\":15},\"zerolinecolor\":\"white\",\"automargin\":true,\"zerolinewidth\":2},\"yaxis\":{\"gridcolor\":\"white\",\"linecolor\":\"white\",\"ticks\":\"\",\"title\":{\"standoff\":15},\"zerolinecolor\":\"white\",\"automargin\":true,\"zerolinewidth\":2},\"scene\":{\"xaxis\":{\"backgroundcolor\":\"#E5ECF6\",\"gridcolor\":\"white\",\"linecolor\":\"white\",\"showbackground\":true,\"ticks\":\"\",\"zerolinecolor\":\"white\",\"gridwidth\":2},\"yaxis\":{\"backgroundcolor\":\"#E5ECF6\",\"gridcolor\":\"white\",\"linecolor\":\"white\",\"showbackground\":true,\"ticks\":\"\",\"zerolinecolor\":\"white\",\"gridwidth\":2},\"zaxis\":{\"backgroundcolor\":\"#E5ECF6\",\"gridcolor\":\"white\",\"linecolor\":\"white\",\"showbackground\":true,\"ticks\":\"\",\"zerolinecolor\":\"white\",\"gridwidth\":2}},\"shapedefaults\":{\"line\":{\"color\":\"#2a3f5f\"}},\"annotationdefaults\":{\"arrowcolor\":\"#2a3f5f\",\"arrowhead\":0,\"arrowwidth\":1},\"geo\":{\"bgcolor\":\"white\",\"landcolor\":\"#E5ECF6\",\"subunitcolor\":\"white\",\"showland\":true,\"showlakes\":true,\"lakecolor\":\"white\"},\"title\":{\"x\":0.05},\"mapbox\":{\"style\":\"light\"}}},\"title\":{\"text\":\"Real Stock Prices vs Predicted by LSTM\\n\\nRMSE 5.44630560420184\"},\"xaxis\":{\"title\":{\"text\":\"Date\"}},\"yaxis\":{\"title\":{\"text\":\"Value\"}}},                        {\"responsive\": true}                    ).then(function(){\n",
       "                            \n",
       "var gd = document.getElementById('22f82839-aed5-4271-8a3a-f5471c031fff');\n",
       "var x = new MutationObserver(function (mutations, observer) {{\n",
       "        var display = window.getComputedStyle(gd).display;\n",
       "        if (!display || display === 'none') {{\n",
       "            console.log([gd, 'removed!']);\n",
       "            Plotly.purge(gd);\n",
       "            observer.disconnect();\n",
       "        }}\n",
       "}});\n",
       "\n",
       "// Listen for the removal of the full notebook cells\n",
       "var notebookContainer = gd.closest('#notebook-container');\n",
       "if (notebookContainer) {{\n",
       "    x.observe(notebookContainer, {childList: true});\n",
       "}}\n",
       "\n",
       "// Listen for the clearing of the current output cell\n",
       "var outputEl = gd.closest('.output');\n",
       "if (outputEl) {{\n",
       "    x.observe(outputEl, {childList: true});\n",
       "}}\n",
       "\n",
       "                        })                };                });            </script>        </div>"
      ]
     },
     "metadata": {},
     "output_type": "display_data"
    },
    {
     "name": "stdout",
     "output_type": "stream",
     "text": [
      "6/6 [==============================] - 1s 28ms/step\n"
     ]
    },
    {
     "data": {
      "application/vnd.plotly.v1+json": {
       "config": {
        "plotlyServerURL": "https://plot.ly"
       },
       "data": [
        {
         "line": {
          "color": "blue",
          "width": 0.7
         },
         "name": "Real Stock Prices",
         "type": "scatter",
         "x": [
          "2022-11-22T00:00:00-05:00",
          "2022-11-23T00:00:00-05:00",
          "2022-11-25T00:00:00-05:00",
          "2022-11-28T00:00:00-05:00",
          "2022-11-29T00:00:00-05:00",
          "2022-11-30T00:00:00-05:00",
          "2022-12-01T00:00:00-05:00",
          "2022-12-02T00:00:00-05:00",
          "2022-12-05T00:00:00-05:00",
          "2022-12-06T00:00:00-05:00",
          "2022-12-07T00:00:00-05:00",
          "2022-12-08T00:00:00-05:00",
          "2022-12-09T00:00:00-05:00",
          "2022-12-12T00:00:00-05:00",
          "2022-12-13T00:00:00-05:00",
          "2022-12-14T00:00:00-05:00",
          "2022-12-15T00:00:00-05:00",
          "2022-12-16T00:00:00-05:00",
          "2022-12-19T00:00:00-05:00",
          "2022-12-20T00:00:00-05:00",
          "2022-12-21T00:00:00-05:00",
          "2022-12-22T00:00:00-05:00",
          "2022-12-23T00:00:00-05:00",
          "2022-12-27T00:00:00-05:00",
          "2022-12-28T00:00:00-05:00",
          "2022-12-29T00:00:00-05:00",
          "2022-12-30T00:00:00-05:00",
          "2023-01-03T00:00:00-05:00",
          "2023-01-04T00:00:00-05:00",
          "2023-01-05T00:00:00-05:00",
          "2023-01-06T00:00:00-05:00",
          "2023-01-09T00:00:00-05:00",
          "2023-01-10T00:00:00-05:00",
          "2023-01-11T00:00:00-05:00",
          "2023-01-12T00:00:00-05:00",
          "2023-01-13T00:00:00-05:00",
          "2023-01-17T00:00:00-05:00",
          "2023-01-18T00:00:00-05:00",
          "2023-01-19T00:00:00-05:00",
          "2023-01-20T00:00:00-05:00",
          "2023-01-23T00:00:00-05:00",
          "2023-01-24T00:00:00-05:00",
          "2023-01-25T00:00:00-05:00",
          "2023-01-26T00:00:00-05:00",
          "2023-01-27T00:00:00-05:00",
          "2023-01-30T00:00:00-05:00",
          "2023-01-31T00:00:00-05:00",
          "2023-02-01T00:00:00-05:00",
          "2023-02-02T00:00:00-05:00",
          "2023-02-03T00:00:00-05:00",
          "2023-02-06T00:00:00-05:00",
          "2023-02-07T00:00:00-05:00",
          "2023-02-08T00:00:00-05:00",
          "2023-02-09T00:00:00-05:00",
          "2023-02-10T00:00:00-05:00",
          "2023-02-13T00:00:00-05:00",
          "2023-02-14T00:00:00-05:00",
          "2023-02-15T00:00:00-05:00",
          "2023-02-16T00:00:00-05:00",
          "2023-02-17T00:00:00-05:00",
          "2023-02-21T00:00:00-05:00",
          "2023-02-22T00:00:00-05:00",
          "2023-02-23T00:00:00-05:00",
          "2023-02-24T00:00:00-05:00",
          "2023-02-27T00:00:00-05:00",
          "2023-02-28T00:00:00-05:00",
          "2023-03-01T00:00:00-05:00",
          "2023-03-02T00:00:00-05:00",
          "2023-03-03T00:00:00-05:00",
          "2023-03-06T00:00:00-05:00",
          "2023-03-07T00:00:00-05:00",
          "2023-03-08T00:00:00-05:00",
          "2023-03-09T00:00:00-05:00",
          "2023-03-10T00:00:00-05:00",
          "2023-03-13T00:00:00-04:00",
          "2023-03-14T00:00:00-04:00",
          "2023-03-15T00:00:00-04:00",
          "2023-03-16T00:00:00-04:00",
          "2023-03-17T00:00:00-04:00",
          "2023-03-20T00:00:00-04:00",
          "2023-03-21T00:00:00-04:00",
          "2023-03-22T00:00:00-04:00",
          "2023-03-23T00:00:00-04:00",
          "2023-03-24T00:00:00-04:00",
          "2023-03-27T00:00:00-04:00",
          "2023-03-28T00:00:00-04:00",
          "2023-03-29T00:00:00-04:00",
          "2023-03-30T00:00:00-04:00",
          "2023-03-31T00:00:00-04:00",
          "2023-04-03T00:00:00-04:00",
          "2023-04-04T00:00:00-04:00",
          "2023-04-05T00:00:00-04:00",
          "2023-04-06T00:00:00-04:00",
          "2023-04-10T00:00:00-04:00",
          "2023-04-11T00:00:00-04:00",
          "2023-04-12T00:00:00-04:00",
          "2023-04-13T00:00:00-04:00",
          "2023-04-14T00:00:00-04:00",
          "2023-04-17T00:00:00-04:00",
          "2023-04-18T00:00:00-04:00",
          "2023-04-19T00:00:00-04:00",
          "2023-04-20T00:00:00-04:00",
          "2023-04-21T00:00:00-04:00",
          "2023-04-24T00:00:00-04:00",
          "2023-04-25T00:00:00-04:00",
          "2023-04-26T00:00:00-04:00",
          "2023-04-27T00:00:00-04:00",
          "2023-04-28T00:00:00-04:00",
          "2023-05-01T00:00:00-04:00",
          "2023-05-02T00:00:00-04:00",
          "2023-05-03T00:00:00-04:00",
          "2023-05-04T00:00:00-04:00",
          "2023-05-05T00:00:00-04:00",
          "2023-05-08T00:00:00-04:00",
          "2023-05-09T00:00:00-04:00",
          "2023-05-10T00:00:00-04:00",
          "2023-05-11T00:00:00-04:00",
          "2023-05-12T00:00:00-04:00",
          "2023-05-15T00:00:00-04:00",
          "2023-05-16T00:00:00-04:00",
          "2023-05-17T00:00:00-04:00",
          "2023-05-18T00:00:00-04:00",
          "2023-05-19T00:00:00-04:00",
          "2023-05-22T00:00:00-04:00",
          "2023-05-23T00:00:00-04:00",
          "2023-05-24T00:00:00-04:00",
          "2023-05-25T00:00:00-04:00",
          "2023-05-26T00:00:00-04:00",
          "2023-05-30T00:00:00-04:00",
          "2023-05-31T00:00:00-04:00",
          "2023-06-01T00:00:00-04:00",
          "2023-06-02T00:00:00-04:00",
          "2023-06-05T00:00:00-04:00",
          "2023-06-06T00:00:00-04:00",
          "2023-06-07T00:00:00-04:00",
          "2023-06-08T00:00:00-04:00",
          "2023-06-09T00:00:00-04:00",
          "2023-06-12T00:00:00-04:00",
          "2023-06-13T00:00:00-04:00",
          "2023-06-14T00:00:00-04:00",
          "2023-06-15T00:00:00-04:00",
          "2023-06-16T00:00:00-04:00",
          "2023-06-20T00:00:00-04:00",
          "2023-06-21T00:00:00-04:00",
          "2023-06-22T00:00:00-04:00",
          "2023-06-23T00:00:00-04:00",
          "2023-06-26T00:00:00-04:00",
          "2023-06-27T00:00:00-04:00",
          "2023-06-28T00:00:00-04:00",
          "2023-06-29T00:00:00-04:00",
          "2023-06-30T00:00:00-04:00",
          "2023-07-03T00:00:00-04:00",
          "2023-07-05T00:00:00-04:00",
          "2023-07-06T00:00:00-04:00",
          "2023-07-07T00:00:00-04:00",
          "2023-07-10T00:00:00-04:00",
          "2023-07-11T00:00:00-04:00",
          "2023-07-12T00:00:00-04:00",
          "2023-07-13T00:00:00-04:00",
          "2023-07-14T00:00:00-04:00",
          "2023-07-17T00:00:00-04:00",
          "2023-07-18T00:00:00-04:00",
          "2023-07-19T00:00:00-04:00",
          "2023-07-20T00:00:00-04:00",
          "2023-07-21T00:00:00-04:00",
          "2023-07-24T00:00:00-04:00",
          "2023-07-25T00:00:00-04:00",
          "2023-07-26T00:00:00-04:00",
          "2023-07-27T00:00:00-04:00",
          "2023-07-28T00:00:00-04:00",
          "2023-07-31T00:00:00-04:00",
          "2023-08-01T00:00:00-04:00",
          "2023-08-02T00:00:00-04:00",
          "2023-08-03T00:00:00-04:00",
          "2023-08-04T00:00:00-04:00",
          "2023-08-07T00:00:00-04:00",
          "2023-08-08T00:00:00-04:00",
          "2023-08-09T00:00:00-04:00",
          "2023-08-10T00:00:00-04:00",
          "2023-08-11T00:00:00-04:00",
          "2023-08-14T00:00:00-04:00",
          "2023-08-15T00:00:00-04:00",
          "2023-08-16T00:00:00-04:00",
          "2023-08-17T00:00:00-04:00",
          "2023-08-18T00:00:00-04:00",
          "2023-08-21T00:00:00-04:00",
          "2023-08-22T00:00:00-04:00",
          "2023-08-23T00:00:00-04:00",
          "2023-08-24T00:00:00-04:00",
          "2023-08-25T00:00:00-04:00",
          "2023-08-28T00:00:00-04:00",
          "2023-08-29T00:00:00-04:00"
         ],
         "y": [
          93.19999694824219,
          94.12999725341797,
          93.41000366210938,
          93.94999694824219,
          92.41999816894531,
          96.54000091552734,
          95.5,
          94.12999725341797,
          91.01000213623047,
          88.25,
          88.45999908447266,
          90.3499984741211,
          89.08999633789062,
          90.55000305175781,
          92.48999786376953,
          91.58000183105469,
          88.44999694824219,
          87.86000061035156,
          84.91999816894531,
          85.19000244140625,
          86.7699966430664,
          83.79000091552734,
          85.25,
          83.04000091552734,
          81.81999969482422,
          84.18000030517578,
          84,
          85.81999969482422,
          85.13999938964844,
          83.12000274658203,
          86.08000183105469,
          87.36000061035156,
          89.87000274658203,
          95.08999633789062,
          95.2699966430664,
          98.12000274658203,
          96.05000305175781,
          95.45999908447266,
          93.68000030517578,
          97.25,
          97.5199966430664,
          96.31999969482422,
          97.18000030517578,
          99.22000122070312,
          102.23999786376953,
          100.55000305175781,
          103.12999725341797,
          105.1500015258789,
          112.91000366210938,
          103.38999938964844,
          102.18000030517578,
          102.11000061035156,
          100.05000305175781,
          98.23999786376953,
          97.61000061035156,
          99.54000091552734,
          99.69999694824219,
          101.16000366210938,
          98.1500015258789,
          97.19999694824219,
          94.58000183105469,
          95.79000091552734,
          95.81999969482422,
          93.5,
          93.76000213623047,
          94.2300033569336,
          92.16999816894531,
          92.12999725341797,
          94.9000015258789,
          93.75,
          93.55000305175781,
          93.91999816894531,
          92.25,
          90.7300033569336,
          92.43000030517578,
          94.87999725341797,
          96.19999694824219,
          100.04000091552734,
          98.94999694824219,
          97.70999908447266,
          100.61000061035156,
          98.69999694824219,
          98.70999908447266,
          98.12999725341797,
          98.04000091552734,
          97.23999786376953,
          100.25,
          102,
          103.29000091552734,
          102.41000366210938,
          103.94999694824219,
          101.0999984741211,
          102.05999755859375,
          102.16999816894531,
          99.91999816894531,
          97.83000183105469,
          102.4000015258789,
          102.51000213623047,
          102.73999786376953,
          102.30000305175781,
          104.30000305175781,
          103.80999755859375,
          106.95999908447266,
          106.20999908447266,
          102.56999969482422,
          104.9800033569336,
          109.81999969482422,
          105.44999694824219,
          102.05000305175781,
          103.62999725341797,
          103.6500015258789,
          104,
          105.66000366210938,
          105.83000183105469,
          106.62000274658203,
          110.19000244140625,
          112.18000030517578,
          110.26000213623047,
          111.19999694824219,
          113.4000015258789,
          115.5,
          118.1500015258789,
          116.25,
          115.01000213623047,
          114.98999786376953,
          116.75,
          115,
          120.11000061035156,
          121.66000366210939,
          120.58000183105469,
          122.7699966430664,
          124.24999999999999,
          125.30000305175783,
          126.61000061035156,
          121.2300033569336,
          124.24999999999999,
          123.4300003051758,
          126.56999969482423,
          126.66000366210939,
          126.41999816894533,
          127.11000061035156,
          125.48999786376953,
          125.77999877929689,
          124.83000183105467,
          130.14999389648438,
          129.3300018310547,
          127.33000183105467,
          129.17999267578125,
          129.0399932861328,
          127.9000015258789,
          130.36000061035156,
          130.22000122070312,
          130.3800048828125,
          128.36000061035156,
          129.77999877929688,
          127.12999725341797,
          128.77999877929688,
          130.8000030517578,
          134.3000030517578,
          134.67999267578125,
          133.55999755859375,
          132.8300018310547,
          135.36000061035156,
          129.9600067138672,
          130,
          128.8000030517578,
          129.1300048828125,
          128.14999389648438,
          128.25,
          132.2100067138672,
          133.67999267578125,
          131.69000244140625,
          128.2100067138672,
          128.91000366210938,
          139.57000732421875,
          142.22000122070312,
          139.94000244140625,
          137.85000610351562,
          138.55999755859375,
          138.41000366210938,
          140.57000732421875,
          137.6699981689453,
          135.07000732421875,
          133.97999572753906,
          133.22000122070312,
          134.67999267578125,
          134.25,
          135.52000427246094,
          131.83999633789062,
          133.25999450683594,
          133.13999938964844,
          134.91000366210938
         ]
        },
        {
         "line": {
          "color": "red",
          "width": 1.5
         },
         "mode": "lines",
         "name": "Predicted Stock Prices",
         "type": "scatter",
         "x": [
          "2022-11-22T00:00:00-05:00",
          "2022-11-23T00:00:00-05:00",
          "2022-11-25T00:00:00-05:00",
          "2022-11-28T00:00:00-05:00",
          "2022-11-29T00:00:00-05:00",
          "2022-11-30T00:00:00-05:00",
          "2022-12-01T00:00:00-05:00",
          "2022-12-02T00:00:00-05:00",
          "2022-12-05T00:00:00-05:00",
          "2022-12-06T00:00:00-05:00",
          "2022-12-07T00:00:00-05:00",
          "2022-12-08T00:00:00-05:00",
          "2022-12-09T00:00:00-05:00",
          "2022-12-12T00:00:00-05:00",
          "2022-12-13T00:00:00-05:00",
          "2022-12-14T00:00:00-05:00",
          "2022-12-15T00:00:00-05:00",
          "2022-12-16T00:00:00-05:00",
          "2022-12-19T00:00:00-05:00",
          "2022-12-20T00:00:00-05:00",
          "2022-12-21T00:00:00-05:00",
          "2022-12-22T00:00:00-05:00",
          "2022-12-23T00:00:00-05:00",
          "2022-12-27T00:00:00-05:00",
          "2022-12-28T00:00:00-05:00",
          "2022-12-29T00:00:00-05:00",
          "2022-12-30T00:00:00-05:00",
          "2023-01-03T00:00:00-05:00",
          "2023-01-04T00:00:00-05:00",
          "2023-01-05T00:00:00-05:00",
          "2023-01-06T00:00:00-05:00",
          "2023-01-09T00:00:00-05:00",
          "2023-01-10T00:00:00-05:00",
          "2023-01-11T00:00:00-05:00",
          "2023-01-12T00:00:00-05:00",
          "2023-01-13T00:00:00-05:00",
          "2023-01-17T00:00:00-05:00",
          "2023-01-18T00:00:00-05:00",
          "2023-01-19T00:00:00-05:00",
          "2023-01-20T00:00:00-05:00",
          "2023-01-23T00:00:00-05:00",
          "2023-01-24T00:00:00-05:00",
          "2023-01-25T00:00:00-05:00",
          "2023-01-26T00:00:00-05:00",
          "2023-01-27T00:00:00-05:00",
          "2023-01-30T00:00:00-05:00",
          "2023-01-31T00:00:00-05:00",
          "2023-02-01T00:00:00-05:00",
          "2023-02-02T00:00:00-05:00",
          "2023-02-03T00:00:00-05:00",
          "2023-02-06T00:00:00-05:00",
          "2023-02-07T00:00:00-05:00",
          "2023-02-08T00:00:00-05:00",
          "2023-02-09T00:00:00-05:00",
          "2023-02-10T00:00:00-05:00",
          "2023-02-13T00:00:00-05:00",
          "2023-02-14T00:00:00-05:00",
          "2023-02-15T00:00:00-05:00",
          "2023-02-16T00:00:00-05:00",
          "2023-02-17T00:00:00-05:00",
          "2023-02-21T00:00:00-05:00",
          "2023-02-22T00:00:00-05:00",
          "2023-02-23T00:00:00-05:00",
          "2023-02-24T00:00:00-05:00",
          "2023-02-27T00:00:00-05:00",
          "2023-02-28T00:00:00-05:00",
          "2023-03-01T00:00:00-05:00",
          "2023-03-02T00:00:00-05:00",
          "2023-03-03T00:00:00-05:00",
          "2023-03-06T00:00:00-05:00",
          "2023-03-07T00:00:00-05:00",
          "2023-03-08T00:00:00-05:00",
          "2023-03-09T00:00:00-05:00",
          "2023-03-10T00:00:00-05:00",
          "2023-03-13T00:00:00-04:00",
          "2023-03-14T00:00:00-04:00",
          "2023-03-15T00:00:00-04:00",
          "2023-03-16T00:00:00-04:00",
          "2023-03-17T00:00:00-04:00",
          "2023-03-20T00:00:00-04:00",
          "2023-03-21T00:00:00-04:00",
          "2023-03-22T00:00:00-04:00",
          "2023-03-23T00:00:00-04:00",
          "2023-03-24T00:00:00-04:00",
          "2023-03-27T00:00:00-04:00",
          "2023-03-28T00:00:00-04:00",
          "2023-03-29T00:00:00-04:00",
          "2023-03-30T00:00:00-04:00",
          "2023-03-31T00:00:00-04:00",
          "2023-04-03T00:00:00-04:00",
          "2023-04-04T00:00:00-04:00",
          "2023-04-05T00:00:00-04:00",
          "2023-04-06T00:00:00-04:00",
          "2023-04-10T00:00:00-04:00",
          "2023-04-11T00:00:00-04:00",
          "2023-04-12T00:00:00-04:00",
          "2023-04-13T00:00:00-04:00",
          "2023-04-14T00:00:00-04:00",
          "2023-04-17T00:00:00-04:00",
          "2023-04-18T00:00:00-04:00",
          "2023-04-19T00:00:00-04:00",
          "2023-04-20T00:00:00-04:00",
          "2023-04-21T00:00:00-04:00",
          "2023-04-24T00:00:00-04:00",
          "2023-04-25T00:00:00-04:00",
          "2023-04-26T00:00:00-04:00",
          "2023-04-27T00:00:00-04:00",
          "2023-04-28T00:00:00-04:00",
          "2023-05-01T00:00:00-04:00",
          "2023-05-02T00:00:00-04:00",
          "2023-05-03T00:00:00-04:00",
          "2023-05-04T00:00:00-04:00",
          "2023-05-05T00:00:00-04:00",
          "2023-05-08T00:00:00-04:00",
          "2023-05-09T00:00:00-04:00",
          "2023-05-10T00:00:00-04:00",
          "2023-05-11T00:00:00-04:00",
          "2023-05-12T00:00:00-04:00",
          "2023-05-15T00:00:00-04:00",
          "2023-05-16T00:00:00-04:00",
          "2023-05-17T00:00:00-04:00",
          "2023-05-18T00:00:00-04:00",
          "2023-05-19T00:00:00-04:00",
          "2023-05-22T00:00:00-04:00",
          "2023-05-23T00:00:00-04:00",
          "2023-05-24T00:00:00-04:00",
          "2023-05-25T00:00:00-04:00",
          "2023-05-26T00:00:00-04:00",
          "2023-05-30T00:00:00-04:00",
          "2023-05-31T00:00:00-04:00",
          "2023-06-01T00:00:00-04:00",
          "2023-06-02T00:00:00-04:00",
          "2023-06-05T00:00:00-04:00",
          "2023-06-06T00:00:00-04:00",
          "2023-06-07T00:00:00-04:00",
          "2023-06-08T00:00:00-04:00",
          "2023-06-09T00:00:00-04:00",
          "2023-06-12T00:00:00-04:00",
          "2023-06-13T00:00:00-04:00",
          "2023-06-14T00:00:00-04:00",
          "2023-06-15T00:00:00-04:00",
          "2023-06-16T00:00:00-04:00",
          "2023-06-20T00:00:00-04:00",
          "2023-06-21T00:00:00-04:00",
          "2023-06-22T00:00:00-04:00",
          "2023-06-23T00:00:00-04:00",
          "2023-06-26T00:00:00-04:00",
          "2023-06-27T00:00:00-04:00",
          "2023-06-28T00:00:00-04:00",
          "2023-06-29T00:00:00-04:00",
          "2023-06-30T00:00:00-04:00",
          "2023-07-03T00:00:00-04:00",
          "2023-07-05T00:00:00-04:00",
          "2023-07-06T00:00:00-04:00",
          "2023-07-07T00:00:00-04:00",
          "2023-07-10T00:00:00-04:00",
          "2023-07-11T00:00:00-04:00",
          "2023-07-12T00:00:00-04:00",
          "2023-07-13T00:00:00-04:00",
          "2023-07-14T00:00:00-04:00",
          "2023-07-17T00:00:00-04:00",
          "2023-07-18T00:00:00-04:00",
          "2023-07-19T00:00:00-04:00",
          "2023-07-20T00:00:00-04:00",
          "2023-07-21T00:00:00-04:00",
          "2023-07-24T00:00:00-04:00",
          "2023-07-25T00:00:00-04:00",
          "2023-07-26T00:00:00-04:00",
          "2023-07-27T00:00:00-04:00",
          "2023-07-28T00:00:00-04:00",
          "2023-07-31T00:00:00-04:00",
          "2023-08-01T00:00:00-04:00",
          "2023-08-02T00:00:00-04:00",
          "2023-08-03T00:00:00-04:00",
          "2023-08-04T00:00:00-04:00",
          "2023-08-07T00:00:00-04:00",
          "2023-08-08T00:00:00-04:00",
          "2023-08-09T00:00:00-04:00",
          "2023-08-10T00:00:00-04:00",
          "2023-08-11T00:00:00-04:00",
          "2023-08-14T00:00:00-04:00",
          "2023-08-15T00:00:00-04:00",
          "2023-08-16T00:00:00-04:00",
          "2023-08-17T00:00:00-04:00",
          "2023-08-18T00:00:00-04:00",
          "2023-08-21T00:00:00-04:00",
          "2023-08-22T00:00:00-04:00",
          "2023-08-23T00:00:00-04:00",
          "2023-08-24T00:00:00-04:00",
          "2023-08-25T00:00:00-04:00",
          "2023-08-28T00:00:00-04:00",
          "2023-08-29T00:00:00-04:00"
         ],
         "y": [
          93.7535629272461,
          93.67550659179688,
          94.3625259399414,
          94.250732421875,
          94.45792388916016,
          93.57786560058594,
          95.7401351928711,
          96.18682098388672,
          95.27381896972656,
          92.81623077392578,
          90.08399963378906,
          89.04878997802734,
          89.85435485839844,
          89.72908782958984,
          90.42601013183594,
          91.98246765136719,
          92.2015609741211,
          90.27067565917969,
          88.87554168701172,
          86.69319915771484,
          85.7485122680664,
          86.2772445678711,
          85.20429992675781,
          85.22647094726562,
          84.26721954345703,
          83.05815124511719,
          83.5365219116211,
          83.96371459960938,
          85.11359405517578,
          85.46881866455078,
          84.49409484863281,
          85.29991912841797,
          86.63890838623047,
          88.77131652832031,
          93.00382232666016,
          95.25949096679688,
          97.73616027832031,
          97.16722106933594,
          96.22664642333984,
          94.6605224609375,
          96.40237426757812,
          97.5375747680664,
          97.06233978271484,
          97.32904815673828,
          98.88057708740234,
          101.68104553222656,
          101.39076232910156,
          102.9560317993164,
          105.06771850585938,
          111.98776245117188,
          105.78455352783203,
          102.9733657836914,
          102.46456146240234,
          100.97190856933594,
          99.23400115966797,
          98.27079010009766,
          99.37419891357422,
          100.00740814208984,
          101.22000122070312,
          99.45177459716797,
          98.03202819824219,
          95.83370971679688,
          95.8506088256836,
          96.08348846435547,
          94.70533752441406,
          94.24160766601562,
          94.45036315917969,
          93.30926513671875,
          92.7266616821289,
          94.2802734375,
          94.40497589111328,
          94.19164276123047,
          94.30181121826172,
          93.31938171386719,
          91.90241241455078,
          92.31938171386719,
          94.2195816040039,
          96.02444458007812,
          99.30960845947266,
          99.81554412841797,
          98.8067398071289,
          100.38360595703125,
          99.70561981201172,
          99.33342742919922,
          98.82586669921875,
          98.5939712524414,
          97.98472595214844,
          99.8667221069336,
          101.95576477050781,
          103.55802154541016,
          103.26180267333984,
          104.1960678100586,
          102.33460235595703,
          102.4050064086914,
          102.64209747314453,
          101.0595932006836,
          99.00692749023438,
          101.65806579589844,
          102.91297912597656,
          103.33649444580078,
          103.03373718261719,
          104.41566467285156,
          104.5088119506836,
          106.9342269897461,
          107.05410766601562,
          104.0528335571289,
          105.09111785888672,
          109.51008605957031,
          107.09774780273438,
          103.53910064697266,
          103.89816284179688,
          104.23759460449219,
          104.61474609375,
          106.00617218017578,
          106.52406311035156,
          107.20366668701172,
          110.28926086425781,
          112.73994445800781,
          111.41741180419922,
          111.85266876220703,
          113.96244049072266,
          116.24932098388672,
          118.96427917480469,
          117.39521789550781,
          115.99125671386719,
          115.91817474365234,
          117.62552642822266,
          116.20011138916016,
          120.75137329101562,
          122.73077392578125,
          121.57717895507812,
          123.62638854980469,
          125.26280212402344,
          126.32795715332031,
          127.6561050415039,
          122.15730285644531,
          125.32482147216797,
          124.67888641357422,
          127.76629638671875,
          127.77980041503906,
          127.41512298583984,
          128.16839599609375,
          126.51020050048828,
          126.9007797241211,
          125.97601318359375,
          131.51556396484375,
          130.3916473388672,
          128.2019805908203,
          130.39646911621094,
          130.22227478027344,
          129.0006561279297,
          131.71543884277344,
          131.39683532714844,
          131.52618408203125,
          129.39425659179688,
          131.1188507080078,
          128.2395782470703,
          130.1392364501953,
          132.20091247558594,
          135.71231079101562,
          135.6644744873047,
          134.4167022705078,
          133.93539428710938,
          136.92532348632812,
          130.63760375976562,
          131.45704650878906,
          130.19821166992188,
          130.56353759765625,
          129.41920471191406,
          129.51963806152344,
          133.69158935546875,
          134.8842315673828,
          132.477294921875,
          129.1009979248047,
          130.35003662109375,
          141.9143829345703,
          143.30953979492188,
          140.08270263671875,
          138.66372680664062,
          140.12510681152344,
          139.7869415283203,
          142.22860717773438,
          138.35145568847656,
          136.13526916503906,
          135.37269592285156,
          134.6019744873047,
          136.18838500976562,
          135.365234375,
          136.76513671875,
          132.51393127441406,
          134.66888427734375,
          134.38140869140625
         ]
        }
       ],
       "layout": {
        "template": {
         "data": {
          "bar": [
           {
            "error_x": {
             "color": "#2a3f5f"
            },
            "error_y": {
             "color": "#2a3f5f"
            },
            "marker": {
             "line": {
              "color": "#E5ECF6",
              "width": 0.5
             },
             "pattern": {
              "fillmode": "overlay",
              "size": 10,
              "solidity": 0.2
             }
            },
            "type": "bar"
           }
          ],
          "barpolar": [
           {
            "marker": {
             "line": {
              "color": "#E5ECF6",
              "width": 0.5
             },
             "pattern": {
              "fillmode": "overlay",
              "size": 10,
              "solidity": 0.2
             }
            },
            "type": "barpolar"
           }
          ],
          "carpet": [
           {
            "aaxis": {
             "endlinecolor": "#2a3f5f",
             "gridcolor": "white",
             "linecolor": "white",
             "minorgridcolor": "white",
             "startlinecolor": "#2a3f5f"
            },
            "baxis": {
             "endlinecolor": "#2a3f5f",
             "gridcolor": "white",
             "linecolor": "white",
             "minorgridcolor": "white",
             "startlinecolor": "#2a3f5f"
            },
            "type": "carpet"
           }
          ],
          "choropleth": [
           {
            "colorbar": {
             "outlinewidth": 0,
             "ticks": ""
            },
            "type": "choropleth"
           }
          ],
          "contour": [
           {
            "colorbar": {
             "outlinewidth": 0,
             "ticks": ""
            },
            "colorscale": [
             [
              0,
              "#0d0887"
             ],
             [
              0.1111111111111111,
              "#46039f"
             ],
             [
              0.2222222222222222,
              "#7201a8"
             ],
             [
              0.3333333333333333,
              "#9c179e"
             ],
             [
              0.4444444444444444,
              "#bd3786"
             ],
             [
              0.5555555555555556,
              "#d8576b"
             ],
             [
              0.6666666666666666,
              "#ed7953"
             ],
             [
              0.7777777777777778,
              "#fb9f3a"
             ],
             [
              0.8888888888888888,
              "#fdca26"
             ],
             [
              1,
              "#f0f921"
             ]
            ],
            "type": "contour"
           }
          ],
          "contourcarpet": [
           {
            "colorbar": {
             "outlinewidth": 0,
             "ticks": ""
            },
            "type": "contourcarpet"
           }
          ],
          "heatmap": [
           {
            "colorbar": {
             "outlinewidth": 0,
             "ticks": ""
            },
            "colorscale": [
             [
              0,
              "#0d0887"
             ],
             [
              0.1111111111111111,
              "#46039f"
             ],
             [
              0.2222222222222222,
              "#7201a8"
             ],
             [
              0.3333333333333333,
              "#9c179e"
             ],
             [
              0.4444444444444444,
              "#bd3786"
             ],
             [
              0.5555555555555556,
              "#d8576b"
             ],
             [
              0.6666666666666666,
              "#ed7953"
             ],
             [
              0.7777777777777778,
              "#fb9f3a"
             ],
             [
              0.8888888888888888,
              "#fdca26"
             ],
             [
              1,
              "#f0f921"
             ]
            ],
            "type": "heatmap"
           }
          ],
          "heatmapgl": [
           {
            "colorbar": {
             "outlinewidth": 0,
             "ticks": ""
            },
            "colorscale": [
             [
              0,
              "#0d0887"
             ],
             [
              0.1111111111111111,
              "#46039f"
             ],
             [
              0.2222222222222222,
              "#7201a8"
             ],
             [
              0.3333333333333333,
              "#9c179e"
             ],
             [
              0.4444444444444444,
              "#bd3786"
             ],
             [
              0.5555555555555556,
              "#d8576b"
             ],
             [
              0.6666666666666666,
              "#ed7953"
             ],
             [
              0.7777777777777778,
              "#fb9f3a"
             ],
             [
              0.8888888888888888,
              "#fdca26"
             ],
             [
              1,
              "#f0f921"
             ]
            ],
            "type": "heatmapgl"
           }
          ],
          "histogram": [
           {
            "marker": {
             "pattern": {
              "fillmode": "overlay",
              "size": 10,
              "solidity": 0.2
             }
            },
            "type": "histogram"
           }
          ],
          "histogram2d": [
           {
            "colorbar": {
             "outlinewidth": 0,
             "ticks": ""
            },
            "colorscale": [
             [
              0,
              "#0d0887"
             ],
             [
              0.1111111111111111,
              "#46039f"
             ],
             [
              0.2222222222222222,
              "#7201a8"
             ],
             [
              0.3333333333333333,
              "#9c179e"
             ],
             [
              0.4444444444444444,
              "#bd3786"
             ],
             [
              0.5555555555555556,
              "#d8576b"
             ],
             [
              0.6666666666666666,
              "#ed7953"
             ],
             [
              0.7777777777777778,
              "#fb9f3a"
             ],
             [
              0.8888888888888888,
              "#fdca26"
             ],
             [
              1,
              "#f0f921"
             ]
            ],
            "type": "histogram2d"
           }
          ],
          "histogram2dcontour": [
           {
            "colorbar": {
             "outlinewidth": 0,
             "ticks": ""
            },
            "colorscale": [
             [
              0,
              "#0d0887"
             ],
             [
              0.1111111111111111,
              "#46039f"
             ],
             [
              0.2222222222222222,
              "#7201a8"
             ],
             [
              0.3333333333333333,
              "#9c179e"
             ],
             [
              0.4444444444444444,
              "#bd3786"
             ],
             [
              0.5555555555555556,
              "#d8576b"
             ],
             [
              0.6666666666666666,
              "#ed7953"
             ],
             [
              0.7777777777777778,
              "#fb9f3a"
             ],
             [
              0.8888888888888888,
              "#fdca26"
             ],
             [
              1,
              "#f0f921"
             ]
            ],
            "type": "histogram2dcontour"
           }
          ],
          "mesh3d": [
           {
            "colorbar": {
             "outlinewidth": 0,
             "ticks": ""
            },
            "type": "mesh3d"
           }
          ],
          "parcoords": [
           {
            "line": {
             "colorbar": {
              "outlinewidth": 0,
              "ticks": ""
             }
            },
            "type": "parcoords"
           }
          ],
          "pie": [
           {
            "automargin": true,
            "type": "pie"
           }
          ],
          "scatter": [
           {
            "fillpattern": {
             "fillmode": "overlay",
             "size": 10,
             "solidity": 0.2
            },
            "type": "scatter"
           }
          ],
          "scatter3d": [
           {
            "line": {
             "colorbar": {
              "outlinewidth": 0,
              "ticks": ""
             }
            },
            "marker": {
             "colorbar": {
              "outlinewidth": 0,
              "ticks": ""
             }
            },
            "type": "scatter3d"
           }
          ],
          "scattercarpet": [
           {
            "marker": {
             "colorbar": {
              "outlinewidth": 0,
              "ticks": ""
             }
            },
            "type": "scattercarpet"
           }
          ],
          "scattergeo": [
           {
            "marker": {
             "colorbar": {
              "outlinewidth": 0,
              "ticks": ""
             }
            },
            "type": "scattergeo"
           }
          ],
          "scattergl": [
           {
            "marker": {
             "colorbar": {
              "outlinewidth": 0,
              "ticks": ""
             }
            },
            "type": "scattergl"
           }
          ],
          "scattermapbox": [
           {
            "marker": {
             "colorbar": {
              "outlinewidth": 0,
              "ticks": ""
             }
            },
            "type": "scattermapbox"
           }
          ],
          "scatterpolar": [
           {
            "marker": {
             "colorbar": {
              "outlinewidth": 0,
              "ticks": ""
             }
            },
            "type": "scatterpolar"
           }
          ],
          "scatterpolargl": [
           {
            "marker": {
             "colorbar": {
              "outlinewidth": 0,
              "ticks": ""
             }
            },
            "type": "scatterpolargl"
           }
          ],
          "scatterternary": [
           {
            "marker": {
             "colorbar": {
              "outlinewidth": 0,
              "ticks": ""
             }
            },
            "type": "scatterternary"
           }
          ],
          "surface": [
           {
            "colorbar": {
             "outlinewidth": 0,
             "ticks": ""
            },
            "colorscale": [
             [
              0,
              "#0d0887"
             ],
             [
              0.1111111111111111,
              "#46039f"
             ],
             [
              0.2222222222222222,
              "#7201a8"
             ],
             [
              0.3333333333333333,
              "#9c179e"
             ],
             [
              0.4444444444444444,
              "#bd3786"
             ],
             [
              0.5555555555555556,
              "#d8576b"
             ],
             [
              0.6666666666666666,
              "#ed7953"
             ],
             [
              0.7777777777777778,
              "#fb9f3a"
             ],
             [
              0.8888888888888888,
              "#fdca26"
             ],
             [
              1,
              "#f0f921"
             ]
            ],
            "type": "surface"
           }
          ],
          "table": [
           {
            "cells": {
             "fill": {
              "color": "#EBF0F8"
             },
             "line": {
              "color": "white"
             }
            },
            "header": {
             "fill": {
              "color": "#C8D4E3"
             },
             "line": {
              "color": "white"
             }
            },
            "type": "table"
           }
          ]
         },
         "layout": {
          "annotationdefaults": {
           "arrowcolor": "#2a3f5f",
           "arrowhead": 0,
           "arrowwidth": 1
          },
          "autotypenumbers": "strict",
          "coloraxis": {
           "colorbar": {
            "outlinewidth": 0,
            "ticks": ""
           }
          },
          "colorscale": {
           "diverging": [
            [
             0,
             "#8e0152"
            ],
            [
             0.1,
             "#c51b7d"
            ],
            [
             0.2,
             "#de77ae"
            ],
            [
             0.3,
             "#f1b6da"
            ],
            [
             0.4,
             "#fde0ef"
            ],
            [
             0.5,
             "#f7f7f7"
            ],
            [
             0.6,
             "#e6f5d0"
            ],
            [
             0.7,
             "#b8e186"
            ],
            [
             0.8,
             "#7fbc41"
            ],
            [
             0.9,
             "#4d9221"
            ],
            [
             1,
             "#276419"
            ]
           ],
           "sequential": [
            [
             0,
             "#0d0887"
            ],
            [
             0.1111111111111111,
             "#46039f"
            ],
            [
             0.2222222222222222,
             "#7201a8"
            ],
            [
             0.3333333333333333,
             "#9c179e"
            ],
            [
             0.4444444444444444,
             "#bd3786"
            ],
            [
             0.5555555555555556,
             "#d8576b"
            ],
            [
             0.6666666666666666,
             "#ed7953"
            ],
            [
             0.7777777777777778,
             "#fb9f3a"
            ],
            [
             0.8888888888888888,
             "#fdca26"
            ],
            [
             1,
             "#f0f921"
            ]
           ],
           "sequentialminus": [
            [
             0,
             "#0d0887"
            ],
            [
             0.1111111111111111,
             "#46039f"
            ],
            [
             0.2222222222222222,
             "#7201a8"
            ],
            [
             0.3333333333333333,
             "#9c179e"
            ],
            [
             0.4444444444444444,
             "#bd3786"
            ],
            [
             0.5555555555555556,
             "#d8576b"
            ],
            [
             0.6666666666666666,
             "#ed7953"
            ],
            [
             0.7777777777777778,
             "#fb9f3a"
            ],
            [
             0.8888888888888888,
             "#fdca26"
            ],
            [
             1,
             "#f0f921"
            ]
           ]
          },
          "colorway": [
           "#636efa",
           "#EF553B",
           "#00cc96",
           "#ab63fa",
           "#FFA15A",
           "#19d3f3",
           "#FF6692",
           "#B6E880",
           "#FF97FF",
           "#FECB52"
          ],
          "font": {
           "color": "#2a3f5f"
          },
          "geo": {
           "bgcolor": "white",
           "lakecolor": "white",
           "landcolor": "#E5ECF6",
           "showlakes": true,
           "showland": true,
           "subunitcolor": "white"
          },
          "hoverlabel": {
           "align": "left"
          },
          "hovermode": "closest",
          "mapbox": {
           "style": "light"
          },
          "paper_bgcolor": "white",
          "plot_bgcolor": "#E5ECF6",
          "polar": {
           "angularaxis": {
            "gridcolor": "white",
            "linecolor": "white",
            "ticks": ""
           },
           "bgcolor": "#E5ECF6",
           "radialaxis": {
            "gridcolor": "white",
            "linecolor": "white",
            "ticks": ""
           }
          },
          "scene": {
           "xaxis": {
            "backgroundcolor": "#E5ECF6",
            "gridcolor": "white",
            "gridwidth": 2,
            "linecolor": "white",
            "showbackground": true,
            "ticks": "",
            "zerolinecolor": "white"
           },
           "yaxis": {
            "backgroundcolor": "#E5ECF6",
            "gridcolor": "white",
            "gridwidth": 2,
            "linecolor": "white",
            "showbackground": true,
            "ticks": "",
            "zerolinecolor": "white"
           },
           "zaxis": {
            "backgroundcolor": "#E5ECF6",
            "gridcolor": "white",
            "gridwidth": 2,
            "linecolor": "white",
            "showbackground": true,
            "ticks": "",
            "zerolinecolor": "white"
           }
          },
          "shapedefaults": {
           "line": {
            "color": "#2a3f5f"
           }
          },
          "ternary": {
           "aaxis": {
            "gridcolor": "white",
            "linecolor": "white",
            "ticks": ""
           },
           "baxis": {
            "gridcolor": "white",
            "linecolor": "white",
            "ticks": ""
           },
           "bgcolor": "#E5ECF6",
           "caxis": {
            "gridcolor": "white",
            "linecolor": "white",
            "ticks": ""
           }
          },
          "title": {
           "x": 0.05
          },
          "xaxis": {
           "automargin": true,
           "gridcolor": "white",
           "linecolor": "white",
           "ticks": "",
           "title": {
            "standoff": 15
           },
           "zerolinecolor": "white",
           "zerolinewidth": 2
          },
          "yaxis": {
           "automargin": true,
           "gridcolor": "white",
           "linecolor": "white",
           "ticks": "",
           "title": {
            "standoff": 15
           },
           "zerolinecolor": "white",
           "zerolinewidth": 2
          }
         }
        },
        "title": {
         "text": "Real Stock Prices vs Predicted by LSTM\n\nRMSE 2.4682494370119676"
        },
        "xaxis": {
         "title": {
          "text": "Date"
         }
        },
        "yaxis": {
         "title": {
          "text": "Value"
         }
        }
       }
      },
      "text/html": [
       "<div>                            <div id=\"edd6e0a0-dfae-4d0f-ae4b-978e3944b52b\" class=\"plotly-graph-div\" style=\"height:525px; width:100%;\"></div>            <script type=\"text/javascript\">                require([\"plotly\"], function(Plotly) {                    window.PLOTLYENV=window.PLOTLYENV || {};                                    if (document.getElementById(\"edd6e0a0-dfae-4d0f-ae4b-978e3944b52b\")) {                    Plotly.newPlot(                        \"edd6e0a0-dfae-4d0f-ae4b-978e3944b52b\",                        [{\"line\":{\"color\":\"blue\",\"width\":0.7},\"name\":\"Real Stock Prices\",\"x\":[\"2022-11-22T00:00:00-05:00\",\"2022-11-23T00:00:00-05:00\",\"2022-11-25T00:00:00-05:00\",\"2022-11-28T00:00:00-05:00\",\"2022-11-29T00:00:00-05:00\",\"2022-11-30T00:00:00-05:00\",\"2022-12-01T00:00:00-05:00\",\"2022-12-02T00:00:00-05:00\",\"2022-12-05T00:00:00-05:00\",\"2022-12-06T00:00:00-05:00\",\"2022-12-07T00:00:00-05:00\",\"2022-12-08T00:00:00-05:00\",\"2022-12-09T00:00:00-05:00\",\"2022-12-12T00:00:00-05:00\",\"2022-12-13T00:00:00-05:00\",\"2022-12-14T00:00:00-05:00\",\"2022-12-15T00:00:00-05:00\",\"2022-12-16T00:00:00-05:00\",\"2022-12-19T00:00:00-05:00\",\"2022-12-20T00:00:00-05:00\",\"2022-12-21T00:00:00-05:00\",\"2022-12-22T00:00:00-05:00\",\"2022-12-23T00:00:00-05:00\",\"2022-12-27T00:00:00-05:00\",\"2022-12-28T00:00:00-05:00\",\"2022-12-29T00:00:00-05:00\",\"2022-12-30T00:00:00-05:00\",\"2023-01-03T00:00:00-05:00\",\"2023-01-04T00:00:00-05:00\",\"2023-01-05T00:00:00-05:00\",\"2023-01-06T00:00:00-05:00\",\"2023-01-09T00:00:00-05:00\",\"2023-01-10T00:00:00-05:00\",\"2023-01-11T00:00:00-05:00\",\"2023-01-12T00:00:00-05:00\",\"2023-01-13T00:00:00-05:00\",\"2023-01-17T00:00:00-05:00\",\"2023-01-18T00:00:00-05:00\",\"2023-01-19T00:00:00-05:00\",\"2023-01-20T00:00:00-05:00\",\"2023-01-23T00:00:00-05:00\",\"2023-01-24T00:00:00-05:00\",\"2023-01-25T00:00:00-05:00\",\"2023-01-26T00:00:00-05:00\",\"2023-01-27T00:00:00-05:00\",\"2023-01-30T00:00:00-05:00\",\"2023-01-31T00:00:00-05:00\",\"2023-02-01T00:00:00-05:00\",\"2023-02-02T00:00:00-05:00\",\"2023-02-03T00:00:00-05:00\",\"2023-02-06T00:00:00-05:00\",\"2023-02-07T00:00:00-05:00\",\"2023-02-08T00:00:00-05:00\",\"2023-02-09T00:00:00-05:00\",\"2023-02-10T00:00:00-05:00\",\"2023-02-13T00:00:00-05:00\",\"2023-02-14T00:00:00-05:00\",\"2023-02-15T00:00:00-05:00\",\"2023-02-16T00:00:00-05:00\",\"2023-02-17T00:00:00-05:00\",\"2023-02-21T00:00:00-05:00\",\"2023-02-22T00:00:00-05:00\",\"2023-02-23T00:00:00-05:00\",\"2023-02-24T00:00:00-05:00\",\"2023-02-27T00:00:00-05:00\",\"2023-02-28T00:00:00-05:00\",\"2023-03-01T00:00:00-05:00\",\"2023-03-02T00:00:00-05:00\",\"2023-03-03T00:00:00-05:00\",\"2023-03-06T00:00:00-05:00\",\"2023-03-07T00:00:00-05:00\",\"2023-03-08T00:00:00-05:00\",\"2023-03-09T00:00:00-05:00\",\"2023-03-10T00:00:00-05:00\",\"2023-03-13T00:00:00-04:00\",\"2023-03-14T00:00:00-04:00\",\"2023-03-15T00:00:00-04:00\",\"2023-03-16T00:00:00-04:00\",\"2023-03-17T00:00:00-04:00\",\"2023-03-20T00:00:00-04:00\",\"2023-03-21T00:00:00-04:00\",\"2023-03-22T00:00:00-04:00\",\"2023-03-23T00:00:00-04:00\",\"2023-03-24T00:00:00-04:00\",\"2023-03-27T00:00:00-04:00\",\"2023-03-28T00:00:00-04:00\",\"2023-03-29T00:00:00-04:00\",\"2023-03-30T00:00:00-04:00\",\"2023-03-31T00:00:00-04:00\",\"2023-04-03T00:00:00-04:00\",\"2023-04-04T00:00:00-04:00\",\"2023-04-05T00:00:00-04:00\",\"2023-04-06T00:00:00-04:00\",\"2023-04-10T00:00:00-04:00\",\"2023-04-11T00:00:00-04:00\",\"2023-04-12T00:00:00-04:00\",\"2023-04-13T00:00:00-04:00\",\"2023-04-14T00:00:00-04:00\",\"2023-04-17T00:00:00-04:00\",\"2023-04-18T00:00:00-04:00\",\"2023-04-19T00:00:00-04:00\",\"2023-04-20T00:00:00-04:00\",\"2023-04-21T00:00:00-04:00\",\"2023-04-24T00:00:00-04:00\",\"2023-04-25T00:00:00-04:00\",\"2023-04-26T00:00:00-04:00\",\"2023-04-27T00:00:00-04:00\",\"2023-04-28T00:00:00-04:00\",\"2023-05-01T00:00:00-04:00\",\"2023-05-02T00:00:00-04:00\",\"2023-05-03T00:00:00-04:00\",\"2023-05-04T00:00:00-04:00\",\"2023-05-05T00:00:00-04:00\",\"2023-05-08T00:00:00-04:00\",\"2023-05-09T00:00:00-04:00\",\"2023-05-10T00:00:00-04:00\",\"2023-05-11T00:00:00-04:00\",\"2023-05-12T00:00:00-04:00\",\"2023-05-15T00:00:00-04:00\",\"2023-05-16T00:00:00-04:00\",\"2023-05-17T00:00:00-04:00\",\"2023-05-18T00:00:00-04:00\",\"2023-05-19T00:00:00-04:00\",\"2023-05-22T00:00:00-04:00\",\"2023-05-23T00:00:00-04:00\",\"2023-05-24T00:00:00-04:00\",\"2023-05-25T00:00:00-04:00\",\"2023-05-26T00:00:00-04:00\",\"2023-05-30T00:00:00-04:00\",\"2023-05-31T00:00:00-04:00\",\"2023-06-01T00:00:00-04:00\",\"2023-06-02T00:00:00-04:00\",\"2023-06-05T00:00:00-04:00\",\"2023-06-06T00:00:00-04:00\",\"2023-06-07T00:00:00-04:00\",\"2023-06-08T00:00:00-04:00\",\"2023-06-09T00:00:00-04:00\",\"2023-06-12T00:00:00-04:00\",\"2023-06-13T00:00:00-04:00\",\"2023-06-14T00:00:00-04:00\",\"2023-06-15T00:00:00-04:00\",\"2023-06-16T00:00:00-04:00\",\"2023-06-20T00:00:00-04:00\",\"2023-06-21T00:00:00-04:00\",\"2023-06-22T00:00:00-04:00\",\"2023-06-23T00:00:00-04:00\",\"2023-06-26T00:00:00-04:00\",\"2023-06-27T00:00:00-04:00\",\"2023-06-28T00:00:00-04:00\",\"2023-06-29T00:00:00-04:00\",\"2023-06-30T00:00:00-04:00\",\"2023-07-03T00:00:00-04:00\",\"2023-07-05T00:00:00-04:00\",\"2023-07-06T00:00:00-04:00\",\"2023-07-07T00:00:00-04:00\",\"2023-07-10T00:00:00-04:00\",\"2023-07-11T00:00:00-04:00\",\"2023-07-12T00:00:00-04:00\",\"2023-07-13T00:00:00-04:00\",\"2023-07-14T00:00:00-04:00\",\"2023-07-17T00:00:00-04:00\",\"2023-07-18T00:00:00-04:00\",\"2023-07-19T00:00:00-04:00\",\"2023-07-20T00:00:00-04:00\",\"2023-07-21T00:00:00-04:00\",\"2023-07-24T00:00:00-04:00\",\"2023-07-25T00:00:00-04:00\",\"2023-07-26T00:00:00-04:00\",\"2023-07-27T00:00:00-04:00\",\"2023-07-28T00:00:00-04:00\",\"2023-07-31T00:00:00-04:00\",\"2023-08-01T00:00:00-04:00\",\"2023-08-02T00:00:00-04:00\",\"2023-08-03T00:00:00-04:00\",\"2023-08-04T00:00:00-04:00\",\"2023-08-07T00:00:00-04:00\",\"2023-08-08T00:00:00-04:00\",\"2023-08-09T00:00:00-04:00\",\"2023-08-10T00:00:00-04:00\",\"2023-08-11T00:00:00-04:00\",\"2023-08-14T00:00:00-04:00\",\"2023-08-15T00:00:00-04:00\",\"2023-08-16T00:00:00-04:00\",\"2023-08-17T00:00:00-04:00\",\"2023-08-18T00:00:00-04:00\",\"2023-08-21T00:00:00-04:00\",\"2023-08-22T00:00:00-04:00\",\"2023-08-23T00:00:00-04:00\",\"2023-08-24T00:00:00-04:00\",\"2023-08-25T00:00:00-04:00\",\"2023-08-28T00:00:00-04:00\",\"2023-08-29T00:00:00-04:00\"],\"y\":[93.19999694824219,94.12999725341797,93.41000366210938,93.94999694824219,92.41999816894531,96.54000091552734,95.5,94.12999725341797,91.01000213623047,88.25,88.45999908447266,90.3499984741211,89.08999633789062,90.55000305175781,92.48999786376953,91.58000183105469,88.44999694824219,87.86000061035156,84.91999816894531,85.19000244140625,86.7699966430664,83.79000091552734,85.25,83.04000091552734,81.81999969482422,84.18000030517578,84.0,85.81999969482422,85.13999938964844,83.12000274658203,86.08000183105469,87.36000061035156,89.87000274658203,95.08999633789062,95.2699966430664,98.12000274658203,96.05000305175781,95.45999908447266,93.68000030517578,97.25,97.5199966430664,96.31999969482422,97.18000030517578,99.22000122070312,102.23999786376953,100.55000305175781,103.12999725341797,105.1500015258789,112.91000366210938,103.38999938964844,102.18000030517578,102.11000061035156,100.05000305175781,98.23999786376953,97.61000061035156,99.54000091552734,99.69999694824219,101.16000366210938,98.1500015258789,97.19999694824219,94.58000183105469,95.79000091552734,95.81999969482422,93.5,93.76000213623047,94.2300033569336,92.16999816894531,92.12999725341797,94.9000015258789,93.75,93.55000305175781,93.91999816894531,92.25,90.7300033569336,92.43000030517578,94.87999725341797,96.19999694824219,100.04000091552734,98.94999694824219,97.70999908447266,100.61000061035156,98.69999694824219,98.70999908447266,98.12999725341797,98.04000091552734,97.23999786376953,100.25,102.0,103.29000091552734,102.41000366210938,103.94999694824219,101.0999984741211,102.05999755859375,102.16999816894531,99.91999816894531,97.83000183105469,102.4000015258789,102.51000213623047,102.73999786376953,102.30000305175781,104.30000305175781,103.80999755859375,106.95999908447266,106.20999908447266,102.56999969482422,104.9800033569336,109.81999969482422,105.44999694824219,102.05000305175781,103.62999725341797,103.6500015258789,104.0,105.66000366210938,105.83000183105469,106.62000274658203,110.19000244140625,112.18000030517578,110.26000213623047,111.19999694824219,113.4000015258789,115.5,118.1500015258789,116.25,115.01000213623047,114.98999786376953,116.75,115.0,120.11000061035156,121.66000366210939,120.58000183105469,122.7699966430664,124.24999999999999,125.30000305175783,126.61000061035156,121.2300033569336,124.24999999999999,123.4300003051758,126.56999969482423,126.66000366210939,126.41999816894533,127.11000061035156,125.48999786376953,125.77999877929689,124.83000183105467,130.14999389648438,129.3300018310547,127.33000183105467,129.17999267578125,129.0399932861328,127.9000015258789,130.36000061035156,130.22000122070312,130.3800048828125,128.36000061035156,129.77999877929688,127.12999725341797,128.77999877929688,130.8000030517578,134.3000030517578,134.67999267578125,133.55999755859375,132.8300018310547,135.36000061035156,129.9600067138672,130.0,128.8000030517578,129.1300048828125,128.14999389648438,128.25,132.2100067138672,133.67999267578125,131.69000244140625,128.2100067138672,128.91000366210938,139.57000732421875,142.22000122070312,139.94000244140625,137.85000610351562,138.55999755859375,138.41000366210938,140.57000732421875,137.6699981689453,135.07000732421875,133.97999572753906,133.22000122070312,134.67999267578125,134.25,135.52000427246094,131.83999633789062,133.25999450683594,133.13999938964844,134.91000366210938],\"type\":\"scatter\"},{\"line\":{\"color\":\"red\",\"width\":1.5},\"mode\":\"lines\",\"name\":\"Predicted Stock Prices\",\"x\":[\"2022-11-22T00:00:00-05:00\",\"2022-11-23T00:00:00-05:00\",\"2022-11-25T00:00:00-05:00\",\"2022-11-28T00:00:00-05:00\",\"2022-11-29T00:00:00-05:00\",\"2022-11-30T00:00:00-05:00\",\"2022-12-01T00:00:00-05:00\",\"2022-12-02T00:00:00-05:00\",\"2022-12-05T00:00:00-05:00\",\"2022-12-06T00:00:00-05:00\",\"2022-12-07T00:00:00-05:00\",\"2022-12-08T00:00:00-05:00\",\"2022-12-09T00:00:00-05:00\",\"2022-12-12T00:00:00-05:00\",\"2022-12-13T00:00:00-05:00\",\"2022-12-14T00:00:00-05:00\",\"2022-12-15T00:00:00-05:00\",\"2022-12-16T00:00:00-05:00\",\"2022-12-19T00:00:00-05:00\",\"2022-12-20T00:00:00-05:00\",\"2022-12-21T00:00:00-05:00\",\"2022-12-22T00:00:00-05:00\",\"2022-12-23T00:00:00-05:00\",\"2022-12-27T00:00:00-05:00\",\"2022-12-28T00:00:00-05:00\",\"2022-12-29T00:00:00-05:00\",\"2022-12-30T00:00:00-05:00\",\"2023-01-03T00:00:00-05:00\",\"2023-01-04T00:00:00-05:00\",\"2023-01-05T00:00:00-05:00\",\"2023-01-06T00:00:00-05:00\",\"2023-01-09T00:00:00-05:00\",\"2023-01-10T00:00:00-05:00\",\"2023-01-11T00:00:00-05:00\",\"2023-01-12T00:00:00-05:00\",\"2023-01-13T00:00:00-05:00\",\"2023-01-17T00:00:00-05:00\",\"2023-01-18T00:00:00-05:00\",\"2023-01-19T00:00:00-05:00\",\"2023-01-20T00:00:00-05:00\",\"2023-01-23T00:00:00-05:00\",\"2023-01-24T00:00:00-05:00\",\"2023-01-25T00:00:00-05:00\",\"2023-01-26T00:00:00-05:00\",\"2023-01-27T00:00:00-05:00\",\"2023-01-30T00:00:00-05:00\",\"2023-01-31T00:00:00-05:00\",\"2023-02-01T00:00:00-05:00\",\"2023-02-02T00:00:00-05:00\",\"2023-02-03T00:00:00-05:00\",\"2023-02-06T00:00:00-05:00\",\"2023-02-07T00:00:00-05:00\",\"2023-02-08T00:00:00-05:00\",\"2023-02-09T00:00:00-05:00\",\"2023-02-10T00:00:00-05:00\",\"2023-02-13T00:00:00-05:00\",\"2023-02-14T00:00:00-05:00\",\"2023-02-15T00:00:00-05:00\",\"2023-02-16T00:00:00-05:00\",\"2023-02-17T00:00:00-05:00\",\"2023-02-21T00:00:00-05:00\",\"2023-02-22T00:00:00-05:00\",\"2023-02-23T00:00:00-05:00\",\"2023-02-24T00:00:00-05:00\",\"2023-02-27T00:00:00-05:00\",\"2023-02-28T00:00:00-05:00\",\"2023-03-01T00:00:00-05:00\",\"2023-03-02T00:00:00-05:00\",\"2023-03-03T00:00:00-05:00\",\"2023-03-06T00:00:00-05:00\",\"2023-03-07T00:00:00-05:00\",\"2023-03-08T00:00:00-05:00\",\"2023-03-09T00:00:00-05:00\",\"2023-03-10T00:00:00-05:00\",\"2023-03-13T00:00:00-04:00\",\"2023-03-14T00:00:00-04:00\",\"2023-03-15T00:00:00-04:00\",\"2023-03-16T00:00:00-04:00\",\"2023-03-17T00:00:00-04:00\",\"2023-03-20T00:00:00-04:00\",\"2023-03-21T00:00:00-04:00\",\"2023-03-22T00:00:00-04:00\",\"2023-03-23T00:00:00-04:00\",\"2023-03-24T00:00:00-04:00\",\"2023-03-27T00:00:00-04:00\",\"2023-03-28T00:00:00-04:00\",\"2023-03-29T00:00:00-04:00\",\"2023-03-30T00:00:00-04:00\",\"2023-03-31T00:00:00-04:00\",\"2023-04-03T00:00:00-04:00\",\"2023-04-04T00:00:00-04:00\",\"2023-04-05T00:00:00-04:00\",\"2023-04-06T00:00:00-04:00\",\"2023-04-10T00:00:00-04:00\",\"2023-04-11T00:00:00-04:00\",\"2023-04-12T00:00:00-04:00\",\"2023-04-13T00:00:00-04:00\",\"2023-04-14T00:00:00-04:00\",\"2023-04-17T00:00:00-04:00\",\"2023-04-18T00:00:00-04:00\",\"2023-04-19T00:00:00-04:00\",\"2023-04-20T00:00:00-04:00\",\"2023-04-21T00:00:00-04:00\",\"2023-04-24T00:00:00-04:00\",\"2023-04-25T00:00:00-04:00\",\"2023-04-26T00:00:00-04:00\",\"2023-04-27T00:00:00-04:00\",\"2023-04-28T00:00:00-04:00\",\"2023-05-01T00:00:00-04:00\",\"2023-05-02T00:00:00-04:00\",\"2023-05-03T00:00:00-04:00\",\"2023-05-04T00:00:00-04:00\",\"2023-05-05T00:00:00-04:00\",\"2023-05-08T00:00:00-04:00\",\"2023-05-09T00:00:00-04:00\",\"2023-05-10T00:00:00-04:00\",\"2023-05-11T00:00:00-04:00\",\"2023-05-12T00:00:00-04:00\",\"2023-05-15T00:00:00-04:00\",\"2023-05-16T00:00:00-04:00\",\"2023-05-17T00:00:00-04:00\",\"2023-05-18T00:00:00-04:00\",\"2023-05-19T00:00:00-04:00\",\"2023-05-22T00:00:00-04:00\",\"2023-05-23T00:00:00-04:00\",\"2023-05-24T00:00:00-04:00\",\"2023-05-25T00:00:00-04:00\",\"2023-05-26T00:00:00-04:00\",\"2023-05-30T00:00:00-04:00\",\"2023-05-31T00:00:00-04:00\",\"2023-06-01T00:00:00-04:00\",\"2023-06-02T00:00:00-04:00\",\"2023-06-05T00:00:00-04:00\",\"2023-06-06T00:00:00-04:00\",\"2023-06-07T00:00:00-04:00\",\"2023-06-08T00:00:00-04:00\",\"2023-06-09T00:00:00-04:00\",\"2023-06-12T00:00:00-04:00\",\"2023-06-13T00:00:00-04:00\",\"2023-06-14T00:00:00-04:00\",\"2023-06-15T00:00:00-04:00\",\"2023-06-16T00:00:00-04:00\",\"2023-06-20T00:00:00-04:00\",\"2023-06-21T00:00:00-04:00\",\"2023-06-22T00:00:00-04:00\",\"2023-06-23T00:00:00-04:00\",\"2023-06-26T00:00:00-04:00\",\"2023-06-27T00:00:00-04:00\",\"2023-06-28T00:00:00-04:00\",\"2023-06-29T00:00:00-04:00\",\"2023-06-30T00:00:00-04:00\",\"2023-07-03T00:00:00-04:00\",\"2023-07-05T00:00:00-04:00\",\"2023-07-06T00:00:00-04:00\",\"2023-07-07T00:00:00-04:00\",\"2023-07-10T00:00:00-04:00\",\"2023-07-11T00:00:00-04:00\",\"2023-07-12T00:00:00-04:00\",\"2023-07-13T00:00:00-04:00\",\"2023-07-14T00:00:00-04:00\",\"2023-07-17T00:00:00-04:00\",\"2023-07-18T00:00:00-04:00\",\"2023-07-19T00:00:00-04:00\",\"2023-07-20T00:00:00-04:00\",\"2023-07-21T00:00:00-04:00\",\"2023-07-24T00:00:00-04:00\",\"2023-07-25T00:00:00-04:00\",\"2023-07-26T00:00:00-04:00\",\"2023-07-27T00:00:00-04:00\",\"2023-07-28T00:00:00-04:00\",\"2023-07-31T00:00:00-04:00\",\"2023-08-01T00:00:00-04:00\",\"2023-08-02T00:00:00-04:00\",\"2023-08-03T00:00:00-04:00\",\"2023-08-04T00:00:00-04:00\",\"2023-08-07T00:00:00-04:00\",\"2023-08-08T00:00:00-04:00\",\"2023-08-09T00:00:00-04:00\",\"2023-08-10T00:00:00-04:00\",\"2023-08-11T00:00:00-04:00\",\"2023-08-14T00:00:00-04:00\",\"2023-08-15T00:00:00-04:00\",\"2023-08-16T00:00:00-04:00\",\"2023-08-17T00:00:00-04:00\",\"2023-08-18T00:00:00-04:00\",\"2023-08-21T00:00:00-04:00\",\"2023-08-22T00:00:00-04:00\",\"2023-08-23T00:00:00-04:00\",\"2023-08-24T00:00:00-04:00\",\"2023-08-25T00:00:00-04:00\",\"2023-08-28T00:00:00-04:00\",\"2023-08-29T00:00:00-04:00\"],\"y\":[93.7535629272461,93.67550659179688,94.3625259399414,94.250732421875,94.45792388916016,93.57786560058594,95.7401351928711,96.18682098388672,95.27381896972656,92.81623077392578,90.08399963378906,89.04878997802734,89.85435485839844,89.72908782958984,90.42601013183594,91.98246765136719,92.2015609741211,90.27067565917969,88.87554168701172,86.69319915771484,85.7485122680664,86.2772445678711,85.20429992675781,85.22647094726562,84.26721954345703,83.05815124511719,83.5365219116211,83.96371459960938,85.11359405517578,85.46881866455078,84.49409484863281,85.29991912841797,86.63890838623047,88.77131652832031,93.00382232666016,95.25949096679688,97.73616027832031,97.16722106933594,96.22664642333984,94.6605224609375,96.40237426757812,97.5375747680664,97.06233978271484,97.32904815673828,98.88057708740234,101.68104553222656,101.39076232910156,102.9560317993164,105.06771850585938,111.98776245117188,105.78455352783203,102.9733657836914,102.46456146240234,100.97190856933594,99.23400115966797,98.27079010009766,99.37419891357422,100.00740814208984,101.22000122070312,99.45177459716797,98.03202819824219,95.83370971679688,95.8506088256836,96.08348846435547,94.70533752441406,94.24160766601562,94.45036315917969,93.30926513671875,92.7266616821289,94.2802734375,94.40497589111328,94.19164276123047,94.30181121826172,93.31938171386719,91.90241241455078,92.31938171386719,94.2195816040039,96.02444458007812,99.30960845947266,99.81554412841797,98.8067398071289,100.38360595703125,99.70561981201172,99.33342742919922,98.82586669921875,98.5939712524414,97.98472595214844,99.8667221069336,101.95576477050781,103.55802154541016,103.26180267333984,104.1960678100586,102.33460235595703,102.4050064086914,102.64209747314453,101.0595932006836,99.00692749023438,101.65806579589844,102.91297912597656,103.33649444580078,103.03373718261719,104.41566467285156,104.5088119506836,106.9342269897461,107.05410766601562,104.0528335571289,105.09111785888672,109.51008605957031,107.09774780273438,103.53910064697266,103.89816284179688,104.23759460449219,104.61474609375,106.00617218017578,106.52406311035156,107.20366668701172,110.28926086425781,112.73994445800781,111.41741180419922,111.85266876220703,113.96244049072266,116.24932098388672,118.96427917480469,117.39521789550781,115.99125671386719,115.91817474365234,117.62552642822266,116.20011138916016,120.75137329101562,122.73077392578125,121.57717895507812,123.62638854980469,125.26280212402344,126.32795715332031,127.6561050415039,122.15730285644531,125.32482147216797,124.67888641357422,127.76629638671875,127.77980041503906,127.41512298583984,128.16839599609375,126.51020050048828,126.9007797241211,125.97601318359375,131.51556396484375,130.3916473388672,128.2019805908203,130.39646911621094,130.22227478027344,129.0006561279297,131.71543884277344,131.39683532714844,131.52618408203125,129.39425659179688,131.1188507080078,128.2395782470703,130.1392364501953,132.20091247558594,135.71231079101562,135.6644744873047,134.4167022705078,133.93539428710938,136.92532348632812,130.63760375976562,131.45704650878906,130.19821166992188,130.56353759765625,129.41920471191406,129.51963806152344,133.69158935546875,134.8842315673828,132.477294921875,129.1009979248047,130.35003662109375,141.9143829345703,143.30953979492188,140.08270263671875,138.66372680664062,140.12510681152344,139.7869415283203,142.22860717773438,138.35145568847656,136.13526916503906,135.37269592285156,134.6019744873047,136.18838500976562,135.365234375,136.76513671875,132.51393127441406,134.66888427734375,134.38140869140625],\"type\":\"scatter\"}],                        {\"template\":{\"data\":{\"histogram2dcontour\":[{\"type\":\"histogram2dcontour\",\"colorbar\":{\"outlinewidth\":0,\"ticks\":\"\"},\"colorscale\":[[0.0,\"#0d0887\"],[0.1111111111111111,\"#46039f\"],[0.2222222222222222,\"#7201a8\"],[0.3333333333333333,\"#9c179e\"],[0.4444444444444444,\"#bd3786\"],[0.5555555555555556,\"#d8576b\"],[0.6666666666666666,\"#ed7953\"],[0.7777777777777778,\"#fb9f3a\"],[0.8888888888888888,\"#fdca26\"],[1.0,\"#f0f921\"]]}],\"choropleth\":[{\"type\":\"choropleth\",\"colorbar\":{\"outlinewidth\":0,\"ticks\":\"\"}}],\"histogram2d\":[{\"type\":\"histogram2d\",\"colorbar\":{\"outlinewidth\":0,\"ticks\":\"\"},\"colorscale\":[[0.0,\"#0d0887\"],[0.1111111111111111,\"#46039f\"],[0.2222222222222222,\"#7201a8\"],[0.3333333333333333,\"#9c179e\"],[0.4444444444444444,\"#bd3786\"],[0.5555555555555556,\"#d8576b\"],[0.6666666666666666,\"#ed7953\"],[0.7777777777777778,\"#fb9f3a\"],[0.8888888888888888,\"#fdca26\"],[1.0,\"#f0f921\"]]}],\"heatmap\":[{\"type\":\"heatmap\",\"colorbar\":{\"outlinewidth\":0,\"ticks\":\"\"},\"colorscale\":[[0.0,\"#0d0887\"],[0.1111111111111111,\"#46039f\"],[0.2222222222222222,\"#7201a8\"],[0.3333333333333333,\"#9c179e\"],[0.4444444444444444,\"#bd3786\"],[0.5555555555555556,\"#d8576b\"],[0.6666666666666666,\"#ed7953\"],[0.7777777777777778,\"#fb9f3a\"],[0.8888888888888888,\"#fdca26\"],[1.0,\"#f0f921\"]]}],\"heatmapgl\":[{\"type\":\"heatmapgl\",\"colorbar\":{\"outlinewidth\":0,\"ticks\":\"\"},\"colorscale\":[[0.0,\"#0d0887\"],[0.1111111111111111,\"#46039f\"],[0.2222222222222222,\"#7201a8\"],[0.3333333333333333,\"#9c179e\"],[0.4444444444444444,\"#bd3786\"],[0.5555555555555556,\"#d8576b\"],[0.6666666666666666,\"#ed7953\"],[0.7777777777777778,\"#fb9f3a\"],[0.8888888888888888,\"#fdca26\"],[1.0,\"#f0f921\"]]}],\"contourcarpet\":[{\"type\":\"contourcarpet\",\"colorbar\":{\"outlinewidth\":0,\"ticks\":\"\"}}],\"contour\":[{\"type\":\"contour\",\"colorbar\":{\"outlinewidth\":0,\"ticks\":\"\"},\"colorscale\":[[0.0,\"#0d0887\"],[0.1111111111111111,\"#46039f\"],[0.2222222222222222,\"#7201a8\"],[0.3333333333333333,\"#9c179e\"],[0.4444444444444444,\"#bd3786\"],[0.5555555555555556,\"#d8576b\"],[0.6666666666666666,\"#ed7953\"],[0.7777777777777778,\"#fb9f3a\"],[0.8888888888888888,\"#fdca26\"],[1.0,\"#f0f921\"]]}],\"surface\":[{\"type\":\"surface\",\"colorbar\":{\"outlinewidth\":0,\"ticks\":\"\"},\"colorscale\":[[0.0,\"#0d0887\"],[0.1111111111111111,\"#46039f\"],[0.2222222222222222,\"#7201a8\"],[0.3333333333333333,\"#9c179e\"],[0.4444444444444444,\"#bd3786\"],[0.5555555555555556,\"#d8576b\"],[0.6666666666666666,\"#ed7953\"],[0.7777777777777778,\"#fb9f3a\"],[0.8888888888888888,\"#fdca26\"],[1.0,\"#f0f921\"]]}],\"mesh3d\":[{\"type\":\"mesh3d\",\"colorbar\":{\"outlinewidth\":0,\"ticks\":\"\"}}],\"scatter\":[{\"fillpattern\":{\"fillmode\":\"overlay\",\"size\":10,\"solidity\":0.2},\"type\":\"scatter\"}],\"parcoords\":[{\"type\":\"parcoords\",\"line\":{\"colorbar\":{\"outlinewidth\":0,\"ticks\":\"\"}}}],\"scatterpolargl\":[{\"type\":\"scatterpolargl\",\"marker\":{\"colorbar\":{\"outlinewidth\":0,\"ticks\":\"\"}}}],\"bar\":[{\"error_x\":{\"color\":\"#2a3f5f\"},\"error_y\":{\"color\":\"#2a3f5f\"},\"marker\":{\"line\":{\"color\":\"#E5ECF6\",\"width\":0.5},\"pattern\":{\"fillmode\":\"overlay\",\"size\":10,\"solidity\":0.2}},\"type\":\"bar\"}],\"scattergeo\":[{\"type\":\"scattergeo\",\"marker\":{\"colorbar\":{\"outlinewidth\":0,\"ticks\":\"\"}}}],\"scatterpolar\":[{\"type\":\"scatterpolar\",\"marker\":{\"colorbar\":{\"outlinewidth\":0,\"ticks\":\"\"}}}],\"histogram\":[{\"marker\":{\"pattern\":{\"fillmode\":\"overlay\",\"size\":10,\"solidity\":0.2}},\"type\":\"histogram\"}],\"scattergl\":[{\"type\":\"scattergl\",\"marker\":{\"colorbar\":{\"outlinewidth\":0,\"ticks\":\"\"}}}],\"scatter3d\":[{\"type\":\"scatter3d\",\"line\":{\"colorbar\":{\"outlinewidth\":0,\"ticks\":\"\"}},\"marker\":{\"colorbar\":{\"outlinewidth\":0,\"ticks\":\"\"}}}],\"scattermapbox\":[{\"type\":\"scattermapbox\",\"marker\":{\"colorbar\":{\"outlinewidth\":0,\"ticks\":\"\"}}}],\"scatterternary\":[{\"type\":\"scatterternary\",\"marker\":{\"colorbar\":{\"outlinewidth\":0,\"ticks\":\"\"}}}],\"scattercarpet\":[{\"type\":\"scattercarpet\",\"marker\":{\"colorbar\":{\"outlinewidth\":0,\"ticks\":\"\"}}}],\"carpet\":[{\"aaxis\":{\"endlinecolor\":\"#2a3f5f\",\"gridcolor\":\"white\",\"linecolor\":\"white\",\"minorgridcolor\":\"white\",\"startlinecolor\":\"#2a3f5f\"},\"baxis\":{\"endlinecolor\":\"#2a3f5f\",\"gridcolor\":\"white\",\"linecolor\":\"white\",\"minorgridcolor\":\"white\",\"startlinecolor\":\"#2a3f5f\"},\"type\":\"carpet\"}],\"table\":[{\"cells\":{\"fill\":{\"color\":\"#EBF0F8\"},\"line\":{\"color\":\"white\"}},\"header\":{\"fill\":{\"color\":\"#C8D4E3\"},\"line\":{\"color\":\"white\"}},\"type\":\"table\"}],\"barpolar\":[{\"marker\":{\"line\":{\"color\":\"#E5ECF6\",\"width\":0.5},\"pattern\":{\"fillmode\":\"overlay\",\"size\":10,\"solidity\":0.2}},\"type\":\"barpolar\"}],\"pie\":[{\"automargin\":true,\"type\":\"pie\"}]},\"layout\":{\"autotypenumbers\":\"strict\",\"colorway\":[\"#636efa\",\"#EF553B\",\"#00cc96\",\"#ab63fa\",\"#FFA15A\",\"#19d3f3\",\"#FF6692\",\"#B6E880\",\"#FF97FF\",\"#FECB52\"],\"font\":{\"color\":\"#2a3f5f\"},\"hovermode\":\"closest\",\"hoverlabel\":{\"align\":\"left\"},\"paper_bgcolor\":\"white\",\"plot_bgcolor\":\"#E5ECF6\",\"polar\":{\"bgcolor\":\"#E5ECF6\",\"angularaxis\":{\"gridcolor\":\"white\",\"linecolor\":\"white\",\"ticks\":\"\"},\"radialaxis\":{\"gridcolor\":\"white\",\"linecolor\":\"white\",\"ticks\":\"\"}},\"ternary\":{\"bgcolor\":\"#E5ECF6\",\"aaxis\":{\"gridcolor\":\"white\",\"linecolor\":\"white\",\"ticks\":\"\"},\"baxis\":{\"gridcolor\":\"white\",\"linecolor\":\"white\",\"ticks\":\"\"},\"caxis\":{\"gridcolor\":\"white\",\"linecolor\":\"white\",\"ticks\":\"\"}},\"coloraxis\":{\"colorbar\":{\"outlinewidth\":0,\"ticks\":\"\"}},\"colorscale\":{\"sequential\":[[0.0,\"#0d0887\"],[0.1111111111111111,\"#46039f\"],[0.2222222222222222,\"#7201a8\"],[0.3333333333333333,\"#9c179e\"],[0.4444444444444444,\"#bd3786\"],[0.5555555555555556,\"#d8576b\"],[0.6666666666666666,\"#ed7953\"],[0.7777777777777778,\"#fb9f3a\"],[0.8888888888888888,\"#fdca26\"],[1.0,\"#f0f921\"]],\"sequentialminus\":[[0.0,\"#0d0887\"],[0.1111111111111111,\"#46039f\"],[0.2222222222222222,\"#7201a8\"],[0.3333333333333333,\"#9c179e\"],[0.4444444444444444,\"#bd3786\"],[0.5555555555555556,\"#d8576b\"],[0.6666666666666666,\"#ed7953\"],[0.7777777777777778,\"#fb9f3a\"],[0.8888888888888888,\"#fdca26\"],[1.0,\"#f0f921\"]],\"diverging\":[[0,\"#8e0152\"],[0.1,\"#c51b7d\"],[0.2,\"#de77ae\"],[0.3,\"#f1b6da\"],[0.4,\"#fde0ef\"],[0.5,\"#f7f7f7\"],[0.6,\"#e6f5d0\"],[0.7,\"#b8e186\"],[0.8,\"#7fbc41\"],[0.9,\"#4d9221\"],[1,\"#276419\"]]},\"xaxis\":{\"gridcolor\":\"white\",\"linecolor\":\"white\",\"ticks\":\"\",\"title\":{\"standoff\":15},\"zerolinecolor\":\"white\",\"automargin\":true,\"zerolinewidth\":2},\"yaxis\":{\"gridcolor\":\"white\",\"linecolor\":\"white\",\"ticks\":\"\",\"title\":{\"standoff\":15},\"zerolinecolor\":\"white\",\"automargin\":true,\"zerolinewidth\":2},\"scene\":{\"xaxis\":{\"backgroundcolor\":\"#E5ECF6\",\"gridcolor\":\"white\",\"linecolor\":\"white\",\"showbackground\":true,\"ticks\":\"\",\"zerolinecolor\":\"white\",\"gridwidth\":2},\"yaxis\":{\"backgroundcolor\":\"#E5ECF6\",\"gridcolor\":\"white\",\"linecolor\":\"white\",\"showbackground\":true,\"ticks\":\"\",\"zerolinecolor\":\"white\",\"gridwidth\":2},\"zaxis\":{\"backgroundcolor\":\"#E5ECF6\",\"gridcolor\":\"white\",\"linecolor\":\"white\",\"showbackground\":true,\"ticks\":\"\",\"zerolinecolor\":\"white\",\"gridwidth\":2}},\"shapedefaults\":{\"line\":{\"color\":\"#2a3f5f\"}},\"annotationdefaults\":{\"arrowcolor\":\"#2a3f5f\",\"arrowhead\":0,\"arrowwidth\":1},\"geo\":{\"bgcolor\":\"white\",\"landcolor\":\"#E5ECF6\",\"subunitcolor\":\"white\",\"showland\":true,\"showlakes\":true,\"lakecolor\":\"white\"},\"title\":{\"x\":0.05},\"mapbox\":{\"style\":\"light\"}}},\"title\":{\"text\":\"Real Stock Prices vs Predicted by LSTM\\n\\nRMSE 2.4682494370119676\"},\"xaxis\":{\"title\":{\"text\":\"Date\"}},\"yaxis\":{\"title\":{\"text\":\"Value\"}}},                        {\"responsive\": true}                    ).then(function(){\n",
       "                            \n",
       "var gd = document.getElementById('edd6e0a0-dfae-4d0f-ae4b-978e3944b52b');\n",
       "var x = new MutationObserver(function (mutations, observer) {{\n",
       "        var display = window.getComputedStyle(gd).display;\n",
       "        if (!display || display === 'none') {{\n",
       "            console.log([gd, 'removed!']);\n",
       "            Plotly.purge(gd);\n",
       "            observer.disconnect();\n",
       "        }}\n",
       "}});\n",
       "\n",
       "// Listen for the removal of the full notebook cells\n",
       "var notebookContainer = gd.closest('#notebook-container');\n",
       "if (notebookContainer) {{\n",
       "    x.observe(notebookContainer, {childList: true});\n",
       "}}\n",
       "\n",
       "// Listen for the clearing of the current output cell\n",
       "var outputEl = gd.closest('.output');\n",
       "if (outputEl) {{\n",
       "    x.observe(outputEl, {childList: true});\n",
       "}}\n",
       "\n",
       "                        })                };                });            </script>        </div>"
      ]
     },
     "metadata": {},
     "output_type": "display_data"
    }
   ],
   "source": [
    "#store all models in a dictionary\n",
    "models = {}\n",
    "\n",
    "for i in tickers:    \n",
    "    #load models\n",
    "    models['lstm_model_'+i] = load_model('model.'.format(i))\n",
    "    \n",
    "    #make predictions\n",
    "    scaled_predictions = models['lstm_model_'+i].predict(test[i]['X']);\n",
    "    \n",
    "    #rescale predictions\n",
    "    y_hat = test_scaler[i].inverse_transform(scaled_predictions);\n",
    "    #rescale original y values\n",
    "    y = test_scaler[i].inverse_transform(test[i]['y'].reshape(-1,1));\n",
    "    #compute rsme\n",
    "    rmse = sqrt(MSE(y_hat, y));\n",
    "    \n",
    "    \n",
    "    #visualization\n",
    "    df_y_hat = pd.DataFrame(y_hat)\n",
    "    df_y_hat.columns = [i]\n",
    "    df_y_hat['date'] = stock_data_close[-len(y_hat):].index\n",
    "    \n",
    "    df_y = pd.DataFrame(y)\n",
    "    df_y.columns = [i]\n",
    "    df_y['date'] = stock_data_close[-len(y_hat):].index\n",
    "    \n",
    "    \n",
    "    fig = go.Figure()\n",
    "\n",
    "    fig.add_trace(\n",
    "        go.Scatter(\n",
    "            x= df_y['date'],\n",
    "            y = df_y[i],\n",
    "            name= 'Real Stock Prices',\n",
    "            line=dict(color='blue', width=0.7)))\n",
    "\n",
    "    # add predicted stock prices\n",
    "    fig.add_trace(\n",
    "        go.Scatter(\n",
    "        x = df_y_hat['date'],\n",
    "        y = df_y_hat[i],\n",
    "        name = 'Predicted Stock Prices',\n",
    "        mode ='lines',\n",
    "        line = dict(color='red', width=1.5)))\n",
    "\n",
    "\n",
    "    fig.update_layout(\n",
    "            title= 'Real Stock Prices vs Predicted by LSTM\\n\\nRMSE {}'.format(rmse),\n",
    "            xaxis_title = \"Date\", \n",
    "            yaxis_title = 'Value')\n",
    "    \n",
    "    fig.show()\n",
    "    "
   ]
  },
  {
   "cell_type": "markdown",
   "id": "19ee6671",
   "metadata": {},
   "source": [
    "Predict prices for next 30 days<br>\n",
    "For that we need to use the last predicted values of the model as inputs"
   ]
  },
  {
   "cell_type": "code",
   "execution_count": 75,
   "id": "48a017e6",
   "metadata": {},
   "outputs": [
    {
     "name": "stdout",
     "output_type": "stream",
     "text": [
      "1/1 [==============================] - 1s 669ms/step\n",
      "1/1 [==============================] - 0s 39ms/step\n",
      "1/1 [==============================] - 0s 23ms/step\n",
      "1/1 [==============================] - 0s 22ms/step\n",
      "1/1 [==============================] - 0s 24ms/step\n",
      "1/1 [==============================] - 0s 24ms/step\n",
      "1/1 [==============================] - 0s 43ms/step\n",
      "1/1 [==============================] - 0s 25ms/step\n",
      "1/1 [==============================] - 0s 26ms/step\n",
      "1/1 [==============================] - 0s 27ms/step\n",
      "1/1 [==============================] - 0s 24ms/step\n",
      "1/1 [==============================] - 0s 29ms/step\n",
      "1/1 [==============================] - 0s 24ms/step\n",
      "1/1 [==============================] - 0s 28ms/step\n",
      "1/1 [==============================] - 0s 28ms/step\n",
      "1/1 [==============================] - 0s 24ms/step\n",
      "1/1 [==============================] - 0s 26ms/step\n",
      "1/1 [==============================] - 0s 24ms/step\n",
      "1/1 [==============================] - 0s 18ms/step\n",
      "1/1 [==============================] - 0s 22ms/step\n",
      "1/1 [==============================] - 0s 24ms/step\n",
      "1/1 [==============================] - 0s 16ms/step\n",
      "1/1 [==============================] - 0s 23ms/step\n",
      "1/1 [==============================] - 0s 25ms/step\n",
      "1/1 [==============================] - 0s 23ms/step\n",
      "1/1 [==============================] - 0s 24ms/step\n",
      "1/1 [==============================] - 0s 21ms/step\n",
      "1/1 [==============================] - 0s 24ms/step\n",
      "1/1 [==============================] - 0s 25ms/step\n",
      "1/1 [==============================] - 0s 30ms/step\n"
     ]
    },
    {
     "data": {
      "application/vnd.plotly.v1+json": {
       "config": {
        "plotlyServerURL": "https://plot.ly"
       },
       "data": [
        {
         "line": {
          "color": "blue",
          "width": 0.7
         },
         "name": "Real Stock Prices",
         "type": "scatter",
         "x": [
          "2022-11-22T00:00:00-05:00",
          "2022-11-23T00:00:00-05:00",
          "2022-11-25T00:00:00-05:00",
          "2022-11-28T00:00:00-05:00",
          "2022-11-29T00:00:00-05:00",
          "2022-11-30T00:00:00-05:00",
          "2022-12-01T00:00:00-05:00",
          "2022-12-02T00:00:00-05:00",
          "2022-12-05T00:00:00-05:00",
          "2022-12-06T00:00:00-05:00",
          "2022-12-07T00:00:00-05:00",
          "2022-12-08T00:00:00-05:00",
          "2022-12-09T00:00:00-05:00",
          "2022-12-12T00:00:00-05:00",
          "2022-12-13T00:00:00-05:00",
          "2022-12-14T00:00:00-05:00",
          "2022-12-15T00:00:00-05:00",
          "2022-12-16T00:00:00-05:00",
          "2022-12-19T00:00:00-05:00",
          "2022-12-20T00:00:00-05:00",
          "2022-12-21T00:00:00-05:00",
          "2022-12-22T00:00:00-05:00",
          "2022-12-23T00:00:00-05:00",
          "2022-12-27T00:00:00-05:00",
          "2022-12-28T00:00:00-05:00",
          "2022-12-29T00:00:00-05:00",
          "2022-12-30T00:00:00-05:00",
          "2023-01-03T00:00:00-05:00",
          "2023-01-04T00:00:00-05:00",
          "2023-01-05T00:00:00-05:00",
          "2023-01-06T00:00:00-05:00",
          "2023-01-09T00:00:00-05:00",
          "2023-01-10T00:00:00-05:00",
          "2023-01-11T00:00:00-05:00",
          "2023-01-12T00:00:00-05:00",
          "2023-01-13T00:00:00-05:00",
          "2023-01-17T00:00:00-05:00",
          "2023-01-18T00:00:00-05:00",
          "2023-01-19T00:00:00-05:00",
          "2023-01-20T00:00:00-05:00",
          "2023-01-23T00:00:00-05:00",
          "2023-01-24T00:00:00-05:00",
          "2023-01-25T00:00:00-05:00",
          "2023-01-26T00:00:00-05:00",
          "2023-01-27T00:00:00-05:00",
          "2023-01-30T00:00:00-05:00",
          "2023-01-31T00:00:00-05:00",
          "2023-02-01T00:00:00-05:00",
          "2023-02-02T00:00:00-05:00",
          "2023-02-03T00:00:00-05:00",
          "2023-02-06T00:00:00-05:00",
          "2023-02-07T00:00:00-05:00",
          "2023-02-08T00:00:00-05:00",
          "2023-02-09T00:00:00-05:00",
          "2023-02-10T00:00:00-05:00",
          "2023-02-13T00:00:00-05:00",
          "2023-02-14T00:00:00-05:00",
          "2023-02-15T00:00:00-05:00",
          "2023-02-16T00:00:00-05:00",
          "2023-02-17T00:00:00-05:00",
          "2023-02-21T00:00:00-05:00",
          "2023-02-22T00:00:00-05:00",
          "2023-02-23T00:00:00-05:00",
          "2023-02-24T00:00:00-05:00",
          "2023-02-27T00:00:00-05:00",
          "2023-02-28T00:00:00-05:00",
          "2023-03-01T00:00:00-05:00",
          "2023-03-02T00:00:00-05:00",
          "2023-03-03T00:00:00-05:00",
          "2023-03-06T00:00:00-05:00",
          "2023-03-07T00:00:00-05:00",
          "2023-03-08T00:00:00-05:00",
          "2023-03-09T00:00:00-05:00",
          "2023-03-10T00:00:00-05:00",
          "2023-03-13T00:00:00-04:00",
          "2023-03-14T00:00:00-04:00",
          "2023-03-15T00:00:00-04:00",
          "2023-03-16T00:00:00-04:00",
          "2023-03-17T00:00:00-04:00",
          "2023-03-20T00:00:00-04:00",
          "2023-03-21T00:00:00-04:00",
          "2023-03-22T00:00:00-04:00",
          "2023-03-23T00:00:00-04:00",
          "2023-03-24T00:00:00-04:00",
          "2023-03-27T00:00:00-04:00",
          "2023-03-28T00:00:00-04:00",
          "2023-03-29T00:00:00-04:00",
          "2023-03-30T00:00:00-04:00",
          "2023-03-31T00:00:00-04:00",
          "2023-04-03T00:00:00-04:00",
          "2023-04-04T00:00:00-04:00",
          "2023-04-05T00:00:00-04:00",
          "2023-04-06T00:00:00-04:00",
          "2023-04-10T00:00:00-04:00",
          "2023-04-11T00:00:00-04:00",
          "2023-04-12T00:00:00-04:00",
          "2023-04-13T00:00:00-04:00",
          "2023-04-14T00:00:00-04:00",
          "2023-04-17T00:00:00-04:00",
          "2023-04-18T00:00:00-04:00",
          "2023-04-19T00:00:00-04:00",
          "2023-04-20T00:00:00-04:00",
          "2023-04-21T00:00:00-04:00",
          "2023-04-24T00:00:00-04:00",
          "2023-04-25T00:00:00-04:00",
          "2023-04-26T00:00:00-04:00",
          "2023-04-27T00:00:00-04:00",
          "2023-04-28T00:00:00-04:00",
          "2023-05-01T00:00:00-04:00",
          "2023-05-02T00:00:00-04:00",
          "2023-05-03T00:00:00-04:00",
          "2023-05-04T00:00:00-04:00",
          "2023-05-05T00:00:00-04:00",
          "2023-05-08T00:00:00-04:00",
          "2023-05-09T00:00:00-04:00",
          "2023-05-10T00:00:00-04:00",
          "2023-05-11T00:00:00-04:00",
          "2023-05-12T00:00:00-04:00",
          "2023-05-15T00:00:00-04:00",
          "2023-05-16T00:00:00-04:00",
          "2023-05-17T00:00:00-04:00",
          "2023-05-18T00:00:00-04:00",
          "2023-05-19T00:00:00-04:00",
          "2023-05-22T00:00:00-04:00",
          "2023-05-23T00:00:00-04:00",
          "2023-05-24T00:00:00-04:00",
          "2023-05-25T00:00:00-04:00",
          "2023-05-26T00:00:00-04:00",
          "2023-05-30T00:00:00-04:00",
          "2023-05-31T00:00:00-04:00",
          "2023-06-01T00:00:00-04:00",
          "2023-06-02T00:00:00-04:00",
          "2023-06-05T00:00:00-04:00",
          "2023-06-06T00:00:00-04:00",
          "2023-06-07T00:00:00-04:00",
          "2023-06-08T00:00:00-04:00",
          "2023-06-09T00:00:00-04:00",
          "2023-06-12T00:00:00-04:00",
          "2023-06-13T00:00:00-04:00",
          "2023-06-14T00:00:00-04:00",
          "2023-06-15T00:00:00-04:00",
          "2023-06-16T00:00:00-04:00",
          "2023-06-20T00:00:00-04:00",
          "2023-06-21T00:00:00-04:00",
          "2023-06-22T00:00:00-04:00",
          "2023-06-23T00:00:00-04:00",
          "2023-06-26T00:00:00-04:00",
          "2023-06-27T00:00:00-04:00",
          "2023-06-28T00:00:00-04:00",
          "2023-06-29T00:00:00-04:00",
          "2023-06-30T00:00:00-04:00",
          "2023-07-03T00:00:00-04:00",
          "2023-07-05T00:00:00-04:00",
          "2023-07-06T00:00:00-04:00",
          "2023-07-07T00:00:00-04:00",
          "2023-07-10T00:00:00-04:00",
          "2023-07-11T00:00:00-04:00",
          "2023-07-12T00:00:00-04:00",
          "2023-07-13T00:00:00-04:00",
          "2023-07-14T00:00:00-04:00",
          "2023-07-17T00:00:00-04:00",
          "2023-07-18T00:00:00-04:00",
          "2023-07-19T00:00:00-04:00",
          "2023-07-20T00:00:00-04:00",
          "2023-07-21T00:00:00-04:00",
          "2023-07-24T00:00:00-04:00",
          "2023-07-25T00:00:00-04:00",
          "2023-07-26T00:00:00-04:00",
          "2023-07-27T00:00:00-04:00",
          "2023-07-28T00:00:00-04:00",
          "2023-07-31T00:00:00-04:00",
          "2023-08-01T00:00:00-04:00",
          "2023-08-02T00:00:00-04:00",
          "2023-08-03T00:00:00-04:00",
          "2023-08-04T00:00:00-04:00",
          "2023-08-07T00:00:00-04:00",
          "2023-08-08T00:00:00-04:00",
          "2023-08-09T00:00:00-04:00",
          "2023-08-10T00:00:00-04:00",
          "2023-08-11T00:00:00-04:00",
          "2023-08-14T00:00:00-04:00",
          "2023-08-15T00:00:00-04:00",
          "2023-08-16T00:00:00-04:00",
          "2023-08-17T00:00:00-04:00",
          "2023-08-18T00:00:00-04:00",
          "2023-08-21T00:00:00-04:00",
          "2023-08-22T00:00:00-04:00",
          "2023-08-23T00:00:00-04:00",
          "2023-08-24T00:00:00-04:00",
          "2023-08-25T00:00:00-04:00",
          "2023-08-28T00:00:00-04:00",
          "2023-08-29T00:00:00-04:00"
         ],
         "y": [
          93.19999694824219,
          94.12999725341797,
          93.41000366210938,
          93.94999694824219,
          92.41999816894531,
          96.54000091552734,
          95.5,
          94.12999725341797,
          91.01000213623047,
          88.25,
          88.45999908447266,
          90.3499984741211,
          89.08999633789062,
          90.55000305175781,
          92.48999786376953,
          91.58000183105469,
          88.44999694824219,
          87.86000061035156,
          84.91999816894531,
          85.19000244140625,
          86.7699966430664,
          83.79000091552734,
          85.25,
          83.04000091552734,
          81.81999969482422,
          84.18000030517578,
          84,
          85.81999969482422,
          85.13999938964844,
          83.12000274658203,
          86.08000183105469,
          87.36000061035156,
          89.87000274658203,
          95.08999633789062,
          95.2699966430664,
          98.12000274658203,
          96.05000305175781,
          95.45999908447266,
          93.68000030517578,
          97.25,
          97.5199966430664,
          96.31999969482422,
          97.18000030517578,
          99.22000122070312,
          102.23999786376953,
          100.55000305175781,
          103.12999725341797,
          105.1500015258789,
          112.91000366210938,
          103.38999938964844,
          102.18000030517578,
          102.11000061035156,
          100.05000305175781,
          98.23999786376953,
          97.61000061035156,
          99.54000091552734,
          99.69999694824219,
          101.16000366210938,
          98.1500015258789,
          97.19999694824219,
          94.58000183105469,
          95.79000091552734,
          95.81999969482422,
          93.5,
          93.76000213623047,
          94.2300033569336,
          92.16999816894531,
          92.12999725341797,
          94.9000015258789,
          93.75,
          93.55000305175781,
          93.91999816894531,
          92.25,
          90.7300033569336,
          92.43000030517578,
          94.87999725341797,
          96.19999694824219,
          100.04000091552734,
          98.94999694824219,
          97.70999908447266,
          100.61000061035156,
          98.69999694824219,
          98.70999908447266,
          98.12999725341797,
          98.04000091552734,
          97.23999786376953,
          100.25,
          102,
          103.29000091552734,
          102.41000366210938,
          103.94999694824219,
          101.0999984741211,
          102.05999755859375,
          102.16999816894531,
          99.91999816894531,
          97.83000183105469,
          102.4000015258789,
          102.51000213623047,
          102.73999786376953,
          102.30000305175781,
          104.30000305175781,
          103.80999755859375,
          106.95999908447266,
          106.20999908447266,
          102.56999969482422,
          104.9800033569336,
          109.81999969482422,
          105.44999694824219,
          102.05000305175781,
          103.62999725341797,
          103.6500015258789,
          104,
          105.66000366210938,
          105.83000183105469,
          106.62000274658203,
          110.19000244140625,
          112.18000030517578,
          110.26000213623047,
          111.19999694824219,
          113.4000015258789,
          115.5,
          118.1500015258789,
          116.25,
          115.01000213623047,
          114.98999786376953,
          116.75,
          115,
          120.11000061035156,
          121.66000366210939,
          120.58000183105469,
          122.7699966430664,
          124.24999999999999,
          125.30000305175783,
          126.61000061035156,
          121.2300033569336,
          124.24999999999999,
          123.4300003051758,
          126.56999969482423,
          126.66000366210939,
          126.41999816894533,
          127.11000061035156,
          125.48999786376953,
          125.77999877929689,
          124.83000183105467,
          130.14999389648438,
          129.3300018310547,
          127.33000183105467,
          129.17999267578125,
          129.0399932861328,
          127.9000015258789,
          130.36000061035156,
          130.22000122070312,
          130.3800048828125,
          128.36000061035156,
          129.77999877929688,
          127.12999725341797,
          128.77999877929688,
          130.8000030517578,
          134.3000030517578,
          134.67999267578125,
          133.55999755859375,
          132.8300018310547,
          135.36000061035156,
          129.9600067138672,
          130,
          128.8000030517578,
          129.1300048828125,
          128.14999389648438,
          128.25,
          132.2100067138672,
          133.67999267578125,
          131.69000244140625,
          128.2100067138672,
          128.91000366210938,
          139.57000732421875,
          142.22000122070312,
          139.94000244140625,
          137.85000610351562,
          138.55999755859375,
          138.41000366210938,
          140.57000732421875,
          137.6699981689453,
          135.07000732421875,
          133.97999572753906,
          133.22000122070312,
          134.67999267578125,
          134.25,
          135.52000427246094,
          131.83999633789062,
          133.25999450683594,
          133.13999938964844,
          134.91000366210938
         ]
        },
        {
         "line": {
          "color": "red",
          "width": 1.5
         },
         "mode": "lines",
         "name": "30 - day Predicted Future Stock Prices",
         "type": "scatter",
         "x": [
          "2023-08-30T21:19:59.737952",
          "2023-08-31T21:19:59.737952",
          "2023-09-01T21:19:59.737952",
          "2023-09-02T21:19:59.737952",
          "2023-09-03T21:19:59.737952",
          "2023-09-04T21:19:59.737952",
          "2023-09-05T21:19:59.737952",
          "2023-09-06T21:19:59.737952",
          "2023-09-07T21:19:59.737952",
          "2023-09-08T21:19:59.737952",
          "2023-09-09T21:19:59.737952",
          "2023-09-10T21:19:59.737952",
          "2023-09-11T21:19:59.737952",
          "2023-09-12T21:19:59.737952",
          "2023-09-13T21:19:59.737952",
          "2023-09-14T21:19:59.737952",
          "2023-09-15T21:19:59.737952",
          "2023-09-16T21:19:59.737952",
          "2023-09-17T21:19:59.737952",
          "2023-09-18T21:19:59.737952",
          "2023-09-19T21:19:59.737952",
          "2023-09-20T21:19:59.737952",
          "2023-09-21T21:19:59.737952",
          "2023-09-22T21:19:59.737952",
          "2023-09-23T21:19:59.737952",
          "2023-09-24T21:19:59.737952",
          "2023-09-25T21:19:59.737952",
          "2023-09-26T21:19:59.737952",
          "2023-09-27T21:19:59.737952",
          "2023-09-28T21:19:59.737952"
         ],
         "y": [
          186.04949951171875,
          187.75347900390625,
          189.34799194335938,
          190.95387268066406,
          192.59107971191406,
          194.23419189453125,
          195.84666442871094,
          197.3992156982422,
          198.87493896484375,
          200.26698303222656,
          201.57437133789062,
          202.798828125,
          203.9427490234375,
          205.00885009765625,
          206.000244140625,
          206.92051696777344,
          207.77381896972656,
          208.564697265625,
          209.2978973388672,
          209.9781494140625,
          210.61013793945312,
          211.19834899902344,
          211.74693298339844,
          212.25978088378906,
          212.7404022216797,
          213.19189453125,
          213.61708068847656,
          214.01841735839844,
          214.3980255126953,
          214.75770568847656
         ]
        }
       ],
       "layout": {
        "template": {
         "data": {
          "bar": [
           {
            "error_x": {
             "color": "#2a3f5f"
            },
            "error_y": {
             "color": "#2a3f5f"
            },
            "marker": {
             "line": {
              "color": "#E5ECF6",
              "width": 0.5
             },
             "pattern": {
              "fillmode": "overlay",
              "size": 10,
              "solidity": 0.2
             }
            },
            "type": "bar"
           }
          ],
          "barpolar": [
           {
            "marker": {
             "line": {
              "color": "#E5ECF6",
              "width": 0.5
             },
             "pattern": {
              "fillmode": "overlay",
              "size": 10,
              "solidity": 0.2
             }
            },
            "type": "barpolar"
           }
          ],
          "carpet": [
           {
            "aaxis": {
             "endlinecolor": "#2a3f5f",
             "gridcolor": "white",
             "linecolor": "white",
             "minorgridcolor": "white",
             "startlinecolor": "#2a3f5f"
            },
            "baxis": {
             "endlinecolor": "#2a3f5f",
             "gridcolor": "white",
             "linecolor": "white",
             "minorgridcolor": "white",
             "startlinecolor": "#2a3f5f"
            },
            "type": "carpet"
           }
          ],
          "choropleth": [
           {
            "colorbar": {
             "outlinewidth": 0,
             "ticks": ""
            },
            "type": "choropleth"
           }
          ],
          "contour": [
           {
            "colorbar": {
             "outlinewidth": 0,
             "ticks": ""
            },
            "colorscale": [
             [
              0,
              "#0d0887"
             ],
             [
              0.1111111111111111,
              "#46039f"
             ],
             [
              0.2222222222222222,
              "#7201a8"
             ],
             [
              0.3333333333333333,
              "#9c179e"
             ],
             [
              0.4444444444444444,
              "#bd3786"
             ],
             [
              0.5555555555555556,
              "#d8576b"
             ],
             [
              0.6666666666666666,
              "#ed7953"
             ],
             [
              0.7777777777777778,
              "#fb9f3a"
             ],
             [
              0.8888888888888888,
              "#fdca26"
             ],
             [
              1,
              "#f0f921"
             ]
            ],
            "type": "contour"
           }
          ],
          "contourcarpet": [
           {
            "colorbar": {
             "outlinewidth": 0,
             "ticks": ""
            },
            "type": "contourcarpet"
           }
          ],
          "heatmap": [
           {
            "colorbar": {
             "outlinewidth": 0,
             "ticks": ""
            },
            "colorscale": [
             [
              0,
              "#0d0887"
             ],
             [
              0.1111111111111111,
              "#46039f"
             ],
             [
              0.2222222222222222,
              "#7201a8"
             ],
             [
              0.3333333333333333,
              "#9c179e"
             ],
             [
              0.4444444444444444,
              "#bd3786"
             ],
             [
              0.5555555555555556,
              "#d8576b"
             ],
             [
              0.6666666666666666,
              "#ed7953"
             ],
             [
              0.7777777777777778,
              "#fb9f3a"
             ],
             [
              0.8888888888888888,
              "#fdca26"
             ],
             [
              1,
              "#f0f921"
             ]
            ],
            "type": "heatmap"
           }
          ],
          "heatmapgl": [
           {
            "colorbar": {
             "outlinewidth": 0,
             "ticks": ""
            },
            "colorscale": [
             [
              0,
              "#0d0887"
             ],
             [
              0.1111111111111111,
              "#46039f"
             ],
             [
              0.2222222222222222,
              "#7201a8"
             ],
             [
              0.3333333333333333,
              "#9c179e"
             ],
             [
              0.4444444444444444,
              "#bd3786"
             ],
             [
              0.5555555555555556,
              "#d8576b"
             ],
             [
              0.6666666666666666,
              "#ed7953"
             ],
             [
              0.7777777777777778,
              "#fb9f3a"
             ],
             [
              0.8888888888888888,
              "#fdca26"
             ],
             [
              1,
              "#f0f921"
             ]
            ],
            "type": "heatmapgl"
           }
          ],
          "histogram": [
           {
            "marker": {
             "pattern": {
              "fillmode": "overlay",
              "size": 10,
              "solidity": 0.2
             }
            },
            "type": "histogram"
           }
          ],
          "histogram2d": [
           {
            "colorbar": {
             "outlinewidth": 0,
             "ticks": ""
            },
            "colorscale": [
             [
              0,
              "#0d0887"
             ],
             [
              0.1111111111111111,
              "#46039f"
             ],
             [
              0.2222222222222222,
              "#7201a8"
             ],
             [
              0.3333333333333333,
              "#9c179e"
             ],
             [
              0.4444444444444444,
              "#bd3786"
             ],
             [
              0.5555555555555556,
              "#d8576b"
             ],
             [
              0.6666666666666666,
              "#ed7953"
             ],
             [
              0.7777777777777778,
              "#fb9f3a"
             ],
             [
              0.8888888888888888,
              "#fdca26"
             ],
             [
              1,
              "#f0f921"
             ]
            ],
            "type": "histogram2d"
           }
          ],
          "histogram2dcontour": [
           {
            "colorbar": {
             "outlinewidth": 0,
             "ticks": ""
            },
            "colorscale": [
             [
              0,
              "#0d0887"
             ],
             [
              0.1111111111111111,
              "#46039f"
             ],
             [
              0.2222222222222222,
              "#7201a8"
             ],
             [
              0.3333333333333333,
              "#9c179e"
             ],
             [
              0.4444444444444444,
              "#bd3786"
             ],
             [
              0.5555555555555556,
              "#d8576b"
             ],
             [
              0.6666666666666666,
              "#ed7953"
             ],
             [
              0.7777777777777778,
              "#fb9f3a"
             ],
             [
              0.8888888888888888,
              "#fdca26"
             ],
             [
              1,
              "#f0f921"
             ]
            ],
            "type": "histogram2dcontour"
           }
          ],
          "mesh3d": [
           {
            "colorbar": {
             "outlinewidth": 0,
             "ticks": ""
            },
            "type": "mesh3d"
           }
          ],
          "parcoords": [
           {
            "line": {
             "colorbar": {
              "outlinewidth": 0,
              "ticks": ""
             }
            },
            "type": "parcoords"
           }
          ],
          "pie": [
           {
            "automargin": true,
            "type": "pie"
           }
          ],
          "scatter": [
           {
            "fillpattern": {
             "fillmode": "overlay",
             "size": 10,
             "solidity": 0.2
            },
            "type": "scatter"
           }
          ],
          "scatter3d": [
           {
            "line": {
             "colorbar": {
              "outlinewidth": 0,
              "ticks": ""
             }
            },
            "marker": {
             "colorbar": {
              "outlinewidth": 0,
              "ticks": ""
             }
            },
            "type": "scatter3d"
           }
          ],
          "scattercarpet": [
           {
            "marker": {
             "colorbar": {
              "outlinewidth": 0,
              "ticks": ""
             }
            },
            "type": "scattercarpet"
           }
          ],
          "scattergeo": [
           {
            "marker": {
             "colorbar": {
              "outlinewidth": 0,
              "ticks": ""
             }
            },
            "type": "scattergeo"
           }
          ],
          "scattergl": [
           {
            "marker": {
             "colorbar": {
              "outlinewidth": 0,
              "ticks": ""
             }
            },
            "type": "scattergl"
           }
          ],
          "scattermapbox": [
           {
            "marker": {
             "colorbar": {
              "outlinewidth": 0,
              "ticks": ""
             }
            },
            "type": "scattermapbox"
           }
          ],
          "scatterpolar": [
           {
            "marker": {
             "colorbar": {
              "outlinewidth": 0,
              "ticks": ""
             }
            },
            "type": "scatterpolar"
           }
          ],
          "scatterpolargl": [
           {
            "marker": {
             "colorbar": {
              "outlinewidth": 0,
              "ticks": ""
             }
            },
            "type": "scatterpolargl"
           }
          ],
          "scatterternary": [
           {
            "marker": {
             "colorbar": {
              "outlinewidth": 0,
              "ticks": ""
             }
            },
            "type": "scatterternary"
           }
          ],
          "surface": [
           {
            "colorbar": {
             "outlinewidth": 0,
             "ticks": ""
            },
            "colorscale": [
             [
              0,
              "#0d0887"
             ],
             [
              0.1111111111111111,
              "#46039f"
             ],
             [
              0.2222222222222222,
              "#7201a8"
             ],
             [
              0.3333333333333333,
              "#9c179e"
             ],
             [
              0.4444444444444444,
              "#bd3786"
             ],
             [
              0.5555555555555556,
              "#d8576b"
             ],
             [
              0.6666666666666666,
              "#ed7953"
             ],
             [
              0.7777777777777778,
              "#fb9f3a"
             ],
             [
              0.8888888888888888,
              "#fdca26"
             ],
             [
              1,
              "#f0f921"
             ]
            ],
            "type": "surface"
           }
          ],
          "table": [
           {
            "cells": {
             "fill": {
              "color": "#EBF0F8"
             },
             "line": {
              "color": "white"
             }
            },
            "header": {
             "fill": {
              "color": "#C8D4E3"
             },
             "line": {
              "color": "white"
             }
            },
            "type": "table"
           }
          ]
         },
         "layout": {
          "annotationdefaults": {
           "arrowcolor": "#2a3f5f",
           "arrowhead": 0,
           "arrowwidth": 1
          },
          "autotypenumbers": "strict",
          "coloraxis": {
           "colorbar": {
            "outlinewidth": 0,
            "ticks": ""
           }
          },
          "colorscale": {
           "diverging": [
            [
             0,
             "#8e0152"
            ],
            [
             0.1,
             "#c51b7d"
            ],
            [
             0.2,
             "#de77ae"
            ],
            [
             0.3,
             "#f1b6da"
            ],
            [
             0.4,
             "#fde0ef"
            ],
            [
             0.5,
             "#f7f7f7"
            ],
            [
             0.6,
             "#e6f5d0"
            ],
            [
             0.7,
             "#b8e186"
            ],
            [
             0.8,
             "#7fbc41"
            ],
            [
             0.9,
             "#4d9221"
            ],
            [
             1,
             "#276419"
            ]
           ],
           "sequential": [
            [
             0,
             "#0d0887"
            ],
            [
             0.1111111111111111,
             "#46039f"
            ],
            [
             0.2222222222222222,
             "#7201a8"
            ],
            [
             0.3333333333333333,
             "#9c179e"
            ],
            [
             0.4444444444444444,
             "#bd3786"
            ],
            [
             0.5555555555555556,
             "#d8576b"
            ],
            [
             0.6666666666666666,
             "#ed7953"
            ],
            [
             0.7777777777777778,
             "#fb9f3a"
            ],
            [
             0.8888888888888888,
             "#fdca26"
            ],
            [
             1,
             "#f0f921"
            ]
           ],
           "sequentialminus": [
            [
             0,
             "#0d0887"
            ],
            [
             0.1111111111111111,
             "#46039f"
            ],
            [
             0.2222222222222222,
             "#7201a8"
            ],
            [
             0.3333333333333333,
             "#9c179e"
            ],
            [
             0.4444444444444444,
             "#bd3786"
            ],
            [
             0.5555555555555556,
             "#d8576b"
            ],
            [
             0.6666666666666666,
             "#ed7953"
            ],
            [
             0.7777777777777778,
             "#fb9f3a"
            ],
            [
             0.8888888888888888,
             "#fdca26"
            ],
            [
             1,
             "#f0f921"
            ]
           ]
          },
          "colorway": [
           "#636efa",
           "#EF553B",
           "#00cc96",
           "#ab63fa",
           "#FFA15A",
           "#19d3f3",
           "#FF6692",
           "#B6E880",
           "#FF97FF",
           "#FECB52"
          ],
          "font": {
           "color": "#2a3f5f"
          },
          "geo": {
           "bgcolor": "white",
           "lakecolor": "white",
           "landcolor": "#E5ECF6",
           "showlakes": true,
           "showland": true,
           "subunitcolor": "white"
          },
          "hoverlabel": {
           "align": "left"
          },
          "hovermode": "closest",
          "mapbox": {
           "style": "light"
          },
          "paper_bgcolor": "white",
          "plot_bgcolor": "#E5ECF6",
          "polar": {
           "angularaxis": {
            "gridcolor": "white",
            "linecolor": "white",
            "ticks": ""
           },
           "bgcolor": "#E5ECF6",
           "radialaxis": {
            "gridcolor": "white",
            "linecolor": "white",
            "ticks": ""
           }
          },
          "scene": {
           "xaxis": {
            "backgroundcolor": "#E5ECF6",
            "gridcolor": "white",
            "gridwidth": 2,
            "linecolor": "white",
            "showbackground": true,
            "ticks": "",
            "zerolinecolor": "white"
           },
           "yaxis": {
            "backgroundcolor": "#E5ECF6",
            "gridcolor": "white",
            "gridwidth": 2,
            "linecolor": "white",
            "showbackground": true,
            "ticks": "",
            "zerolinecolor": "white"
           },
           "zaxis": {
            "backgroundcolor": "#E5ECF6",
            "gridcolor": "white",
            "gridwidth": 2,
            "linecolor": "white",
            "showbackground": true,
            "ticks": "",
            "zerolinecolor": "white"
           }
          },
          "shapedefaults": {
           "line": {
            "color": "#2a3f5f"
           }
          },
          "ternary": {
           "aaxis": {
            "gridcolor": "white",
            "linecolor": "white",
            "ticks": ""
           },
           "baxis": {
            "gridcolor": "white",
            "linecolor": "white",
            "ticks": ""
           },
           "bgcolor": "#E5ECF6",
           "caxis": {
            "gridcolor": "white",
            "linecolor": "white",
            "ticks": ""
           }
          },
          "title": {
           "x": 0.05
          },
          "xaxis": {
           "automargin": true,
           "gridcolor": "white",
           "linecolor": "white",
           "ticks": "",
           "title": {
            "standoff": 15
           },
           "zerolinecolor": "white",
           "zerolinewidth": 2
          },
          "yaxis": {
           "automargin": true,
           "gridcolor": "white",
           "linecolor": "white",
           "ticks": "",
           "title": {
            "standoff": 15
           },
           "zerolinecolor": "white",
           "zerolinewidth": 2
          }
         }
        },
        "title": {
         "text": "Real Stock Prices and Predicted by LSTM"
        },
        "xaxis": {
         "title": {
          "text": "Date"
         }
        },
        "yaxis": {
         "title": {
          "text": "Value"
         }
        }
       }
      },
      "text/html": [
       "<div>                            <div id=\"d10a9d75-1b83-4b1f-96e6-9e32f75c0a17\" class=\"plotly-graph-div\" style=\"height:525px; width:100%;\"></div>            <script type=\"text/javascript\">                require([\"plotly\"], function(Plotly) {                    window.PLOTLYENV=window.PLOTLYENV || {};                                    if (document.getElementById(\"d10a9d75-1b83-4b1f-96e6-9e32f75c0a17\")) {                    Plotly.newPlot(                        \"d10a9d75-1b83-4b1f-96e6-9e32f75c0a17\",                        [{\"line\":{\"color\":\"blue\",\"width\":0.7},\"name\":\"Real Stock Prices\",\"x\":[\"2022-11-22T00:00:00-05:00\",\"2022-11-23T00:00:00-05:00\",\"2022-11-25T00:00:00-05:00\",\"2022-11-28T00:00:00-05:00\",\"2022-11-29T00:00:00-05:00\",\"2022-11-30T00:00:00-05:00\",\"2022-12-01T00:00:00-05:00\",\"2022-12-02T00:00:00-05:00\",\"2022-12-05T00:00:00-05:00\",\"2022-12-06T00:00:00-05:00\",\"2022-12-07T00:00:00-05:00\",\"2022-12-08T00:00:00-05:00\",\"2022-12-09T00:00:00-05:00\",\"2022-12-12T00:00:00-05:00\",\"2022-12-13T00:00:00-05:00\",\"2022-12-14T00:00:00-05:00\",\"2022-12-15T00:00:00-05:00\",\"2022-12-16T00:00:00-05:00\",\"2022-12-19T00:00:00-05:00\",\"2022-12-20T00:00:00-05:00\",\"2022-12-21T00:00:00-05:00\",\"2022-12-22T00:00:00-05:00\",\"2022-12-23T00:00:00-05:00\",\"2022-12-27T00:00:00-05:00\",\"2022-12-28T00:00:00-05:00\",\"2022-12-29T00:00:00-05:00\",\"2022-12-30T00:00:00-05:00\",\"2023-01-03T00:00:00-05:00\",\"2023-01-04T00:00:00-05:00\",\"2023-01-05T00:00:00-05:00\",\"2023-01-06T00:00:00-05:00\",\"2023-01-09T00:00:00-05:00\",\"2023-01-10T00:00:00-05:00\",\"2023-01-11T00:00:00-05:00\",\"2023-01-12T00:00:00-05:00\",\"2023-01-13T00:00:00-05:00\",\"2023-01-17T00:00:00-05:00\",\"2023-01-18T00:00:00-05:00\",\"2023-01-19T00:00:00-05:00\",\"2023-01-20T00:00:00-05:00\",\"2023-01-23T00:00:00-05:00\",\"2023-01-24T00:00:00-05:00\",\"2023-01-25T00:00:00-05:00\",\"2023-01-26T00:00:00-05:00\",\"2023-01-27T00:00:00-05:00\",\"2023-01-30T00:00:00-05:00\",\"2023-01-31T00:00:00-05:00\",\"2023-02-01T00:00:00-05:00\",\"2023-02-02T00:00:00-05:00\",\"2023-02-03T00:00:00-05:00\",\"2023-02-06T00:00:00-05:00\",\"2023-02-07T00:00:00-05:00\",\"2023-02-08T00:00:00-05:00\",\"2023-02-09T00:00:00-05:00\",\"2023-02-10T00:00:00-05:00\",\"2023-02-13T00:00:00-05:00\",\"2023-02-14T00:00:00-05:00\",\"2023-02-15T00:00:00-05:00\",\"2023-02-16T00:00:00-05:00\",\"2023-02-17T00:00:00-05:00\",\"2023-02-21T00:00:00-05:00\",\"2023-02-22T00:00:00-05:00\",\"2023-02-23T00:00:00-05:00\",\"2023-02-24T00:00:00-05:00\",\"2023-02-27T00:00:00-05:00\",\"2023-02-28T00:00:00-05:00\",\"2023-03-01T00:00:00-05:00\",\"2023-03-02T00:00:00-05:00\",\"2023-03-03T00:00:00-05:00\",\"2023-03-06T00:00:00-05:00\",\"2023-03-07T00:00:00-05:00\",\"2023-03-08T00:00:00-05:00\",\"2023-03-09T00:00:00-05:00\",\"2023-03-10T00:00:00-05:00\",\"2023-03-13T00:00:00-04:00\",\"2023-03-14T00:00:00-04:00\",\"2023-03-15T00:00:00-04:00\",\"2023-03-16T00:00:00-04:00\",\"2023-03-17T00:00:00-04:00\",\"2023-03-20T00:00:00-04:00\",\"2023-03-21T00:00:00-04:00\",\"2023-03-22T00:00:00-04:00\",\"2023-03-23T00:00:00-04:00\",\"2023-03-24T00:00:00-04:00\",\"2023-03-27T00:00:00-04:00\",\"2023-03-28T00:00:00-04:00\",\"2023-03-29T00:00:00-04:00\",\"2023-03-30T00:00:00-04:00\",\"2023-03-31T00:00:00-04:00\",\"2023-04-03T00:00:00-04:00\",\"2023-04-04T00:00:00-04:00\",\"2023-04-05T00:00:00-04:00\",\"2023-04-06T00:00:00-04:00\",\"2023-04-10T00:00:00-04:00\",\"2023-04-11T00:00:00-04:00\",\"2023-04-12T00:00:00-04:00\",\"2023-04-13T00:00:00-04:00\",\"2023-04-14T00:00:00-04:00\",\"2023-04-17T00:00:00-04:00\",\"2023-04-18T00:00:00-04:00\",\"2023-04-19T00:00:00-04:00\",\"2023-04-20T00:00:00-04:00\",\"2023-04-21T00:00:00-04:00\",\"2023-04-24T00:00:00-04:00\",\"2023-04-25T00:00:00-04:00\",\"2023-04-26T00:00:00-04:00\",\"2023-04-27T00:00:00-04:00\",\"2023-04-28T00:00:00-04:00\",\"2023-05-01T00:00:00-04:00\",\"2023-05-02T00:00:00-04:00\",\"2023-05-03T00:00:00-04:00\",\"2023-05-04T00:00:00-04:00\",\"2023-05-05T00:00:00-04:00\",\"2023-05-08T00:00:00-04:00\",\"2023-05-09T00:00:00-04:00\",\"2023-05-10T00:00:00-04:00\",\"2023-05-11T00:00:00-04:00\",\"2023-05-12T00:00:00-04:00\",\"2023-05-15T00:00:00-04:00\",\"2023-05-16T00:00:00-04:00\",\"2023-05-17T00:00:00-04:00\",\"2023-05-18T00:00:00-04:00\",\"2023-05-19T00:00:00-04:00\",\"2023-05-22T00:00:00-04:00\",\"2023-05-23T00:00:00-04:00\",\"2023-05-24T00:00:00-04:00\",\"2023-05-25T00:00:00-04:00\",\"2023-05-26T00:00:00-04:00\",\"2023-05-30T00:00:00-04:00\",\"2023-05-31T00:00:00-04:00\",\"2023-06-01T00:00:00-04:00\",\"2023-06-02T00:00:00-04:00\",\"2023-06-05T00:00:00-04:00\",\"2023-06-06T00:00:00-04:00\",\"2023-06-07T00:00:00-04:00\",\"2023-06-08T00:00:00-04:00\",\"2023-06-09T00:00:00-04:00\",\"2023-06-12T00:00:00-04:00\",\"2023-06-13T00:00:00-04:00\",\"2023-06-14T00:00:00-04:00\",\"2023-06-15T00:00:00-04:00\",\"2023-06-16T00:00:00-04:00\",\"2023-06-20T00:00:00-04:00\",\"2023-06-21T00:00:00-04:00\",\"2023-06-22T00:00:00-04:00\",\"2023-06-23T00:00:00-04:00\",\"2023-06-26T00:00:00-04:00\",\"2023-06-27T00:00:00-04:00\",\"2023-06-28T00:00:00-04:00\",\"2023-06-29T00:00:00-04:00\",\"2023-06-30T00:00:00-04:00\",\"2023-07-03T00:00:00-04:00\",\"2023-07-05T00:00:00-04:00\",\"2023-07-06T00:00:00-04:00\",\"2023-07-07T00:00:00-04:00\",\"2023-07-10T00:00:00-04:00\",\"2023-07-11T00:00:00-04:00\",\"2023-07-12T00:00:00-04:00\",\"2023-07-13T00:00:00-04:00\",\"2023-07-14T00:00:00-04:00\",\"2023-07-17T00:00:00-04:00\",\"2023-07-18T00:00:00-04:00\",\"2023-07-19T00:00:00-04:00\",\"2023-07-20T00:00:00-04:00\",\"2023-07-21T00:00:00-04:00\",\"2023-07-24T00:00:00-04:00\",\"2023-07-25T00:00:00-04:00\",\"2023-07-26T00:00:00-04:00\",\"2023-07-27T00:00:00-04:00\",\"2023-07-28T00:00:00-04:00\",\"2023-07-31T00:00:00-04:00\",\"2023-08-01T00:00:00-04:00\",\"2023-08-02T00:00:00-04:00\",\"2023-08-03T00:00:00-04:00\",\"2023-08-04T00:00:00-04:00\",\"2023-08-07T00:00:00-04:00\",\"2023-08-08T00:00:00-04:00\",\"2023-08-09T00:00:00-04:00\",\"2023-08-10T00:00:00-04:00\",\"2023-08-11T00:00:00-04:00\",\"2023-08-14T00:00:00-04:00\",\"2023-08-15T00:00:00-04:00\",\"2023-08-16T00:00:00-04:00\",\"2023-08-17T00:00:00-04:00\",\"2023-08-18T00:00:00-04:00\",\"2023-08-21T00:00:00-04:00\",\"2023-08-22T00:00:00-04:00\",\"2023-08-23T00:00:00-04:00\",\"2023-08-24T00:00:00-04:00\",\"2023-08-25T00:00:00-04:00\",\"2023-08-28T00:00:00-04:00\",\"2023-08-29T00:00:00-04:00\"],\"y\":[93.19999694824219,94.12999725341797,93.41000366210938,93.94999694824219,92.41999816894531,96.54000091552734,95.5,94.12999725341797,91.01000213623047,88.25,88.45999908447266,90.3499984741211,89.08999633789062,90.55000305175781,92.48999786376953,91.58000183105469,88.44999694824219,87.86000061035156,84.91999816894531,85.19000244140625,86.7699966430664,83.79000091552734,85.25,83.04000091552734,81.81999969482422,84.18000030517578,84.0,85.81999969482422,85.13999938964844,83.12000274658203,86.08000183105469,87.36000061035156,89.87000274658203,95.08999633789062,95.2699966430664,98.12000274658203,96.05000305175781,95.45999908447266,93.68000030517578,97.25,97.5199966430664,96.31999969482422,97.18000030517578,99.22000122070312,102.23999786376953,100.55000305175781,103.12999725341797,105.1500015258789,112.91000366210938,103.38999938964844,102.18000030517578,102.11000061035156,100.05000305175781,98.23999786376953,97.61000061035156,99.54000091552734,99.69999694824219,101.16000366210938,98.1500015258789,97.19999694824219,94.58000183105469,95.79000091552734,95.81999969482422,93.5,93.76000213623047,94.2300033569336,92.16999816894531,92.12999725341797,94.9000015258789,93.75,93.55000305175781,93.91999816894531,92.25,90.7300033569336,92.43000030517578,94.87999725341797,96.19999694824219,100.04000091552734,98.94999694824219,97.70999908447266,100.61000061035156,98.69999694824219,98.70999908447266,98.12999725341797,98.04000091552734,97.23999786376953,100.25,102.0,103.29000091552734,102.41000366210938,103.94999694824219,101.0999984741211,102.05999755859375,102.16999816894531,99.91999816894531,97.83000183105469,102.4000015258789,102.51000213623047,102.73999786376953,102.30000305175781,104.30000305175781,103.80999755859375,106.95999908447266,106.20999908447266,102.56999969482422,104.9800033569336,109.81999969482422,105.44999694824219,102.05000305175781,103.62999725341797,103.6500015258789,104.0,105.66000366210938,105.83000183105469,106.62000274658203,110.19000244140625,112.18000030517578,110.26000213623047,111.19999694824219,113.4000015258789,115.5,118.1500015258789,116.25,115.01000213623047,114.98999786376953,116.75,115.0,120.11000061035156,121.66000366210939,120.58000183105469,122.7699966430664,124.24999999999999,125.30000305175783,126.61000061035156,121.2300033569336,124.24999999999999,123.4300003051758,126.56999969482423,126.66000366210939,126.41999816894533,127.11000061035156,125.48999786376953,125.77999877929689,124.83000183105467,130.14999389648438,129.3300018310547,127.33000183105467,129.17999267578125,129.0399932861328,127.9000015258789,130.36000061035156,130.22000122070312,130.3800048828125,128.36000061035156,129.77999877929688,127.12999725341797,128.77999877929688,130.8000030517578,134.3000030517578,134.67999267578125,133.55999755859375,132.8300018310547,135.36000061035156,129.9600067138672,130.0,128.8000030517578,129.1300048828125,128.14999389648438,128.25,132.2100067138672,133.67999267578125,131.69000244140625,128.2100067138672,128.91000366210938,139.57000732421875,142.22000122070312,139.94000244140625,137.85000610351562,138.55999755859375,138.41000366210938,140.57000732421875,137.6699981689453,135.07000732421875,133.97999572753906,133.22000122070312,134.67999267578125,134.25,135.52000427246094,131.83999633789062,133.25999450683594,133.13999938964844,134.91000366210938],\"type\":\"scatter\"},{\"line\":{\"color\":\"red\",\"width\":1.5},\"mode\":\"lines\",\"name\":\"30 - day Predicted Future Stock Prices\",\"x\":[\"2023-08-30T21:19:59.737952\",\"2023-08-31T21:19:59.737952\",\"2023-09-01T21:19:59.737952\",\"2023-09-02T21:19:59.737952\",\"2023-09-03T21:19:59.737952\",\"2023-09-04T21:19:59.737952\",\"2023-09-05T21:19:59.737952\",\"2023-09-06T21:19:59.737952\",\"2023-09-07T21:19:59.737952\",\"2023-09-08T21:19:59.737952\",\"2023-09-09T21:19:59.737952\",\"2023-09-10T21:19:59.737952\",\"2023-09-11T21:19:59.737952\",\"2023-09-12T21:19:59.737952\",\"2023-09-13T21:19:59.737952\",\"2023-09-14T21:19:59.737952\",\"2023-09-15T21:19:59.737952\",\"2023-09-16T21:19:59.737952\",\"2023-09-17T21:19:59.737952\",\"2023-09-18T21:19:59.737952\",\"2023-09-19T21:19:59.737952\",\"2023-09-20T21:19:59.737952\",\"2023-09-21T21:19:59.737952\",\"2023-09-22T21:19:59.737952\",\"2023-09-23T21:19:59.737952\",\"2023-09-24T21:19:59.737952\",\"2023-09-25T21:19:59.737952\",\"2023-09-26T21:19:59.737952\",\"2023-09-27T21:19:59.737952\",\"2023-09-28T21:19:59.737952\"],\"y\":[186.04949951171875,187.75347900390625,189.34799194335938,190.95387268066406,192.59107971191406,194.23419189453125,195.84666442871094,197.3992156982422,198.87493896484375,200.26698303222656,201.57437133789062,202.798828125,203.9427490234375,205.00885009765625,206.000244140625,206.92051696777344,207.77381896972656,208.564697265625,209.2978973388672,209.9781494140625,210.61013793945312,211.19834899902344,211.74693298339844,212.25978088378906,212.7404022216797,213.19189453125,213.61708068847656,214.01841735839844,214.3980255126953,214.75770568847656],\"type\":\"scatter\"}],                        {\"template\":{\"data\":{\"histogram2dcontour\":[{\"type\":\"histogram2dcontour\",\"colorbar\":{\"outlinewidth\":0,\"ticks\":\"\"},\"colorscale\":[[0.0,\"#0d0887\"],[0.1111111111111111,\"#46039f\"],[0.2222222222222222,\"#7201a8\"],[0.3333333333333333,\"#9c179e\"],[0.4444444444444444,\"#bd3786\"],[0.5555555555555556,\"#d8576b\"],[0.6666666666666666,\"#ed7953\"],[0.7777777777777778,\"#fb9f3a\"],[0.8888888888888888,\"#fdca26\"],[1.0,\"#f0f921\"]]}],\"choropleth\":[{\"type\":\"choropleth\",\"colorbar\":{\"outlinewidth\":0,\"ticks\":\"\"}}],\"histogram2d\":[{\"type\":\"histogram2d\",\"colorbar\":{\"outlinewidth\":0,\"ticks\":\"\"},\"colorscale\":[[0.0,\"#0d0887\"],[0.1111111111111111,\"#46039f\"],[0.2222222222222222,\"#7201a8\"],[0.3333333333333333,\"#9c179e\"],[0.4444444444444444,\"#bd3786\"],[0.5555555555555556,\"#d8576b\"],[0.6666666666666666,\"#ed7953\"],[0.7777777777777778,\"#fb9f3a\"],[0.8888888888888888,\"#fdca26\"],[1.0,\"#f0f921\"]]}],\"heatmap\":[{\"type\":\"heatmap\",\"colorbar\":{\"outlinewidth\":0,\"ticks\":\"\"},\"colorscale\":[[0.0,\"#0d0887\"],[0.1111111111111111,\"#46039f\"],[0.2222222222222222,\"#7201a8\"],[0.3333333333333333,\"#9c179e\"],[0.4444444444444444,\"#bd3786\"],[0.5555555555555556,\"#d8576b\"],[0.6666666666666666,\"#ed7953\"],[0.7777777777777778,\"#fb9f3a\"],[0.8888888888888888,\"#fdca26\"],[1.0,\"#f0f921\"]]}],\"heatmapgl\":[{\"type\":\"heatmapgl\",\"colorbar\":{\"outlinewidth\":0,\"ticks\":\"\"},\"colorscale\":[[0.0,\"#0d0887\"],[0.1111111111111111,\"#46039f\"],[0.2222222222222222,\"#7201a8\"],[0.3333333333333333,\"#9c179e\"],[0.4444444444444444,\"#bd3786\"],[0.5555555555555556,\"#d8576b\"],[0.6666666666666666,\"#ed7953\"],[0.7777777777777778,\"#fb9f3a\"],[0.8888888888888888,\"#fdca26\"],[1.0,\"#f0f921\"]]}],\"contourcarpet\":[{\"type\":\"contourcarpet\",\"colorbar\":{\"outlinewidth\":0,\"ticks\":\"\"}}],\"contour\":[{\"type\":\"contour\",\"colorbar\":{\"outlinewidth\":0,\"ticks\":\"\"},\"colorscale\":[[0.0,\"#0d0887\"],[0.1111111111111111,\"#46039f\"],[0.2222222222222222,\"#7201a8\"],[0.3333333333333333,\"#9c179e\"],[0.4444444444444444,\"#bd3786\"],[0.5555555555555556,\"#d8576b\"],[0.6666666666666666,\"#ed7953\"],[0.7777777777777778,\"#fb9f3a\"],[0.8888888888888888,\"#fdca26\"],[1.0,\"#f0f921\"]]}],\"surface\":[{\"type\":\"surface\",\"colorbar\":{\"outlinewidth\":0,\"ticks\":\"\"},\"colorscale\":[[0.0,\"#0d0887\"],[0.1111111111111111,\"#46039f\"],[0.2222222222222222,\"#7201a8\"],[0.3333333333333333,\"#9c179e\"],[0.4444444444444444,\"#bd3786\"],[0.5555555555555556,\"#d8576b\"],[0.6666666666666666,\"#ed7953\"],[0.7777777777777778,\"#fb9f3a\"],[0.8888888888888888,\"#fdca26\"],[1.0,\"#f0f921\"]]}],\"mesh3d\":[{\"type\":\"mesh3d\",\"colorbar\":{\"outlinewidth\":0,\"ticks\":\"\"}}],\"scatter\":[{\"fillpattern\":{\"fillmode\":\"overlay\",\"size\":10,\"solidity\":0.2},\"type\":\"scatter\"}],\"parcoords\":[{\"type\":\"parcoords\",\"line\":{\"colorbar\":{\"outlinewidth\":0,\"ticks\":\"\"}}}],\"scatterpolargl\":[{\"type\":\"scatterpolargl\",\"marker\":{\"colorbar\":{\"outlinewidth\":0,\"ticks\":\"\"}}}],\"bar\":[{\"error_x\":{\"color\":\"#2a3f5f\"},\"error_y\":{\"color\":\"#2a3f5f\"},\"marker\":{\"line\":{\"color\":\"#E5ECF6\",\"width\":0.5},\"pattern\":{\"fillmode\":\"overlay\",\"size\":10,\"solidity\":0.2}},\"type\":\"bar\"}],\"scattergeo\":[{\"type\":\"scattergeo\",\"marker\":{\"colorbar\":{\"outlinewidth\":0,\"ticks\":\"\"}}}],\"scatterpolar\":[{\"type\":\"scatterpolar\",\"marker\":{\"colorbar\":{\"outlinewidth\":0,\"ticks\":\"\"}}}],\"histogram\":[{\"marker\":{\"pattern\":{\"fillmode\":\"overlay\",\"size\":10,\"solidity\":0.2}},\"type\":\"histogram\"}],\"scattergl\":[{\"type\":\"scattergl\",\"marker\":{\"colorbar\":{\"outlinewidth\":0,\"ticks\":\"\"}}}],\"scatter3d\":[{\"type\":\"scatter3d\",\"line\":{\"colorbar\":{\"outlinewidth\":0,\"ticks\":\"\"}},\"marker\":{\"colorbar\":{\"outlinewidth\":0,\"ticks\":\"\"}}}],\"scattermapbox\":[{\"type\":\"scattermapbox\",\"marker\":{\"colorbar\":{\"outlinewidth\":0,\"ticks\":\"\"}}}],\"scatterternary\":[{\"type\":\"scatterternary\",\"marker\":{\"colorbar\":{\"outlinewidth\":0,\"ticks\":\"\"}}}],\"scattercarpet\":[{\"type\":\"scattercarpet\",\"marker\":{\"colorbar\":{\"outlinewidth\":0,\"ticks\":\"\"}}}],\"carpet\":[{\"aaxis\":{\"endlinecolor\":\"#2a3f5f\",\"gridcolor\":\"white\",\"linecolor\":\"white\",\"minorgridcolor\":\"white\",\"startlinecolor\":\"#2a3f5f\"},\"baxis\":{\"endlinecolor\":\"#2a3f5f\",\"gridcolor\":\"white\",\"linecolor\":\"white\",\"minorgridcolor\":\"white\",\"startlinecolor\":\"#2a3f5f\"},\"type\":\"carpet\"}],\"table\":[{\"cells\":{\"fill\":{\"color\":\"#EBF0F8\"},\"line\":{\"color\":\"white\"}},\"header\":{\"fill\":{\"color\":\"#C8D4E3\"},\"line\":{\"color\":\"white\"}},\"type\":\"table\"}],\"barpolar\":[{\"marker\":{\"line\":{\"color\":\"#E5ECF6\",\"width\":0.5},\"pattern\":{\"fillmode\":\"overlay\",\"size\":10,\"solidity\":0.2}},\"type\":\"barpolar\"}],\"pie\":[{\"automargin\":true,\"type\":\"pie\"}]},\"layout\":{\"autotypenumbers\":\"strict\",\"colorway\":[\"#636efa\",\"#EF553B\",\"#00cc96\",\"#ab63fa\",\"#FFA15A\",\"#19d3f3\",\"#FF6692\",\"#B6E880\",\"#FF97FF\",\"#FECB52\"],\"font\":{\"color\":\"#2a3f5f\"},\"hovermode\":\"closest\",\"hoverlabel\":{\"align\":\"left\"},\"paper_bgcolor\":\"white\",\"plot_bgcolor\":\"#E5ECF6\",\"polar\":{\"bgcolor\":\"#E5ECF6\",\"angularaxis\":{\"gridcolor\":\"white\",\"linecolor\":\"white\",\"ticks\":\"\"},\"radialaxis\":{\"gridcolor\":\"white\",\"linecolor\":\"white\",\"ticks\":\"\"}},\"ternary\":{\"bgcolor\":\"#E5ECF6\",\"aaxis\":{\"gridcolor\":\"white\",\"linecolor\":\"white\",\"ticks\":\"\"},\"baxis\":{\"gridcolor\":\"white\",\"linecolor\":\"white\",\"ticks\":\"\"},\"caxis\":{\"gridcolor\":\"white\",\"linecolor\":\"white\",\"ticks\":\"\"}},\"coloraxis\":{\"colorbar\":{\"outlinewidth\":0,\"ticks\":\"\"}},\"colorscale\":{\"sequential\":[[0.0,\"#0d0887\"],[0.1111111111111111,\"#46039f\"],[0.2222222222222222,\"#7201a8\"],[0.3333333333333333,\"#9c179e\"],[0.4444444444444444,\"#bd3786\"],[0.5555555555555556,\"#d8576b\"],[0.6666666666666666,\"#ed7953\"],[0.7777777777777778,\"#fb9f3a\"],[0.8888888888888888,\"#fdca26\"],[1.0,\"#f0f921\"]],\"sequentialminus\":[[0.0,\"#0d0887\"],[0.1111111111111111,\"#46039f\"],[0.2222222222222222,\"#7201a8\"],[0.3333333333333333,\"#9c179e\"],[0.4444444444444444,\"#bd3786\"],[0.5555555555555556,\"#d8576b\"],[0.6666666666666666,\"#ed7953\"],[0.7777777777777778,\"#fb9f3a\"],[0.8888888888888888,\"#fdca26\"],[1.0,\"#f0f921\"]],\"diverging\":[[0,\"#8e0152\"],[0.1,\"#c51b7d\"],[0.2,\"#de77ae\"],[0.3,\"#f1b6da\"],[0.4,\"#fde0ef\"],[0.5,\"#f7f7f7\"],[0.6,\"#e6f5d0\"],[0.7,\"#b8e186\"],[0.8,\"#7fbc41\"],[0.9,\"#4d9221\"],[1,\"#276419\"]]},\"xaxis\":{\"gridcolor\":\"white\",\"linecolor\":\"white\",\"ticks\":\"\",\"title\":{\"standoff\":15},\"zerolinecolor\":\"white\",\"automargin\":true,\"zerolinewidth\":2},\"yaxis\":{\"gridcolor\":\"white\",\"linecolor\":\"white\",\"ticks\":\"\",\"title\":{\"standoff\":15},\"zerolinecolor\":\"white\",\"automargin\":true,\"zerolinewidth\":2},\"scene\":{\"xaxis\":{\"backgroundcolor\":\"#E5ECF6\",\"gridcolor\":\"white\",\"linecolor\":\"white\",\"showbackground\":true,\"ticks\":\"\",\"zerolinecolor\":\"white\",\"gridwidth\":2},\"yaxis\":{\"backgroundcolor\":\"#E5ECF6\",\"gridcolor\":\"white\",\"linecolor\":\"white\",\"showbackground\":true,\"ticks\":\"\",\"zerolinecolor\":\"white\",\"gridwidth\":2},\"zaxis\":{\"backgroundcolor\":\"#E5ECF6\",\"gridcolor\":\"white\",\"linecolor\":\"white\",\"showbackground\":true,\"ticks\":\"\",\"zerolinecolor\":\"white\",\"gridwidth\":2}},\"shapedefaults\":{\"line\":{\"color\":\"#2a3f5f\"}},\"annotationdefaults\":{\"arrowcolor\":\"#2a3f5f\",\"arrowhead\":0,\"arrowwidth\":1},\"geo\":{\"bgcolor\":\"white\",\"landcolor\":\"#E5ECF6\",\"subunitcolor\":\"white\",\"showland\":true,\"showlakes\":true,\"lakecolor\":\"white\"},\"title\":{\"x\":0.05},\"mapbox\":{\"style\":\"light\"}}},\"title\":{\"text\":\"Real Stock Prices and Predicted by LSTM\"},\"xaxis\":{\"title\":{\"text\":\"Date\"}},\"yaxis\":{\"title\":{\"text\":\"Value\"}}},                        {\"responsive\": true}                    ).then(function(){\n",
       "                            \n",
       "var gd = document.getElementById('d10a9d75-1b83-4b1f-96e6-9e32f75c0a17');\n",
       "var x = new MutationObserver(function (mutations, observer) {{\n",
       "        var display = window.getComputedStyle(gd).display;\n",
       "        if (!display || display === 'none') {{\n",
       "            console.log([gd, 'removed!']);\n",
       "            Plotly.purge(gd);\n",
       "            observer.disconnect();\n",
       "        }}\n",
       "}});\n",
       "\n",
       "// Listen for the removal of the full notebook cells\n",
       "var notebookContainer = gd.closest('#notebook-container');\n",
       "if (notebookContainer) {{\n",
       "    x.observe(notebookContainer, {childList: true});\n",
       "}}\n",
       "\n",
       "// Listen for the clearing of the current output cell\n",
       "var outputEl = gd.closest('.output');\n",
       "if (outputEl) {{\n",
       "    x.observe(outputEl, {childList: true});\n",
       "}}\n",
       "\n",
       "                        })                };                });            </script>        </div>"
      ]
     },
     "metadata": {},
     "output_type": "display_data"
    },
    {
     "name": "stdout",
     "output_type": "stream",
     "text": [
      "1/1 [==============================] - 1s 700ms/step\n",
      "1/1 [==============================] - 0s 32ms/step\n",
      "1/1 [==============================] - 0s 33ms/step\n",
      "1/1 [==============================] - 0s 37ms/step\n",
      "1/1 [==============================] - 0s 36ms/step\n",
      "1/1 [==============================] - 0s 23ms/step\n",
      "1/1 [==============================] - 0s 19ms/step\n",
      "1/1 [==============================] - 0s 26ms/step\n",
      "1/1 [==============================] - 0s 26ms/step\n",
      "1/1 [==============================] - 0s 37ms/step\n",
      "1/1 [==============================] - 0s 25ms/step\n",
      "1/1 [==============================] - 0s 15ms/step\n",
      "1/1 [==============================] - 0s 28ms/step\n",
      "1/1 [==============================] - 0s 32ms/step\n",
      "1/1 [==============================] - 0s 35ms/step\n",
      "1/1 [==============================] - 0s 15ms/step\n",
      "1/1 [==============================] - 0s 28ms/step\n",
      "1/1 [==============================] - 0s 31ms/step\n",
      "1/1 [==============================] - 0s 18ms/step\n",
      "1/1 [==============================] - 0s 26ms/step\n",
      "1/1 [==============================] - 0s 31ms/step\n",
      "1/1 [==============================] - 0s 34ms/step\n",
      "1/1 [==============================] - 0s 31ms/step\n",
      "1/1 [==============================] - 0s 33ms/step\n",
      "1/1 [==============================] - 0s 32ms/step\n",
      "1/1 [==============================] - 0s 24ms/step\n",
      "1/1 [==============================] - 0s 20ms/step\n",
      "1/1 [==============================] - 0s 18ms/step\n",
      "1/1 [==============================] - 0s 32ms/step\n",
      "1/1 [==============================] - 0s 17ms/step\n"
     ]
    },
    {
     "ename": "ValueError",
     "evalue": "Length of values (30) does not match length of index (60)",
     "output_type": "error",
     "traceback": [
      "\u001b[1;31m---------------------------------------------------------------------------\u001b[0m",
      "\u001b[1;31mValueError\u001b[0m                                Traceback (most recent call last)",
      "\u001b[1;32mC:\\Users\\UTILIZ~1\\AppData\\Local\\Temp/ipykernel_20952/1604260916.py\u001b[0m in \u001b[0;36m<module>\u001b[1;34m\u001b[0m\n\u001b[0;32m     29\u001b[0m     \u001b[0mdf_y_hat_future\u001b[0m \u001b[1;33m=\u001b[0m \u001b[0mpd\u001b[0m\u001b[1;33m.\u001b[0m\u001b[0mDataFrame\u001b[0m\u001b[1;33m(\u001b[0m\u001b[0my_hat_future\u001b[0m\u001b[1;33m)\u001b[0m\u001b[1;33m\u001b[0m\u001b[1;33m\u001b[0m\u001b[0m\n\u001b[0;32m     30\u001b[0m     \u001b[0mdf_y_hat_future\u001b[0m\u001b[1;33m.\u001b[0m\u001b[0mcolumns\u001b[0m \u001b[1;33m=\u001b[0m \u001b[1;33m[\u001b[0m\u001b[0mi\u001b[0m\u001b[1;33m]\u001b[0m\u001b[1;33m\u001b[0m\u001b[1;33m\u001b[0m\u001b[0m\n\u001b[1;32m---> 31\u001b[1;33m     \u001b[0mdf_y_hat_future\u001b[0m\u001b[1;33m[\u001b[0m\u001b[1;34m'date'\u001b[0m\u001b[1;33m]\u001b[0m \u001b[1;33m=\u001b[0m \u001b[0mpd\u001b[0m\u001b[1;33m.\u001b[0m\u001b[0mdate_range\u001b[0m\u001b[1;33m(\u001b[0m\u001b[0mstart\u001b[0m\u001b[1;33m=\u001b[0m\u001b[0mtoday\u001b[0m\u001b[1;33m,\u001b[0m \u001b[0mend\u001b[0m \u001b[1;33m=\u001b[0m \u001b[0mday_30\u001b[0m\u001b[1;33m,\u001b[0m \u001b[0mfreq\u001b[0m \u001b[1;33m=\u001b[0m\u001b[1;34m'D'\u001b[0m\u001b[1;33m)\u001b[0m\u001b[1;33m\u001b[0m\u001b[1;33m\u001b[0m\u001b[0m\n\u001b[0m\u001b[0;32m     32\u001b[0m \u001b[1;33m\u001b[0m\u001b[0m\n\u001b[0;32m     33\u001b[0m \u001b[1;33m\u001b[0m\u001b[0m\n",
      "\u001b[1;32m~\\anaconda3\\lib\\site-packages\\pandas\\core\\frame.py\u001b[0m in \u001b[0;36m__setitem__\u001b[1;34m(self, key, value)\u001b[0m\n\u001b[0;32m   3610\u001b[0m         \u001b[1;32melse\u001b[0m\u001b[1;33m:\u001b[0m\u001b[1;33m\u001b[0m\u001b[1;33m\u001b[0m\u001b[0m\n\u001b[0;32m   3611\u001b[0m             \u001b[1;31m# set column\u001b[0m\u001b[1;33m\u001b[0m\u001b[1;33m\u001b[0m\u001b[0m\n\u001b[1;32m-> 3612\u001b[1;33m             \u001b[0mself\u001b[0m\u001b[1;33m.\u001b[0m\u001b[0m_set_item\u001b[0m\u001b[1;33m(\u001b[0m\u001b[0mkey\u001b[0m\u001b[1;33m,\u001b[0m \u001b[0mvalue\u001b[0m\u001b[1;33m)\u001b[0m\u001b[1;33m\u001b[0m\u001b[1;33m\u001b[0m\u001b[0m\n\u001b[0m\u001b[0;32m   3613\u001b[0m \u001b[1;33m\u001b[0m\u001b[0m\n\u001b[0;32m   3614\u001b[0m     \u001b[1;32mdef\u001b[0m \u001b[0m_setitem_slice\u001b[0m\u001b[1;33m(\u001b[0m\u001b[0mself\u001b[0m\u001b[1;33m,\u001b[0m \u001b[0mkey\u001b[0m\u001b[1;33m:\u001b[0m \u001b[0mslice\u001b[0m\u001b[1;33m,\u001b[0m \u001b[0mvalue\u001b[0m\u001b[1;33m)\u001b[0m\u001b[1;33m:\u001b[0m\u001b[1;33m\u001b[0m\u001b[1;33m\u001b[0m\u001b[0m\n",
      "\u001b[1;32m~\\anaconda3\\lib\\site-packages\\pandas\\core\\frame.py\u001b[0m in \u001b[0;36m_set_item\u001b[1;34m(self, key, value)\u001b[0m\n\u001b[0;32m   3782\u001b[0m         \u001b[0mensure\u001b[0m \u001b[0mhomogeneity\u001b[0m\u001b[1;33m.\u001b[0m\u001b[1;33m\u001b[0m\u001b[1;33m\u001b[0m\u001b[0m\n\u001b[0;32m   3783\u001b[0m         \"\"\"\n\u001b[1;32m-> 3784\u001b[1;33m         \u001b[0mvalue\u001b[0m \u001b[1;33m=\u001b[0m \u001b[0mself\u001b[0m\u001b[1;33m.\u001b[0m\u001b[0m_sanitize_column\u001b[0m\u001b[1;33m(\u001b[0m\u001b[0mvalue\u001b[0m\u001b[1;33m)\u001b[0m\u001b[1;33m\u001b[0m\u001b[1;33m\u001b[0m\u001b[0m\n\u001b[0m\u001b[0;32m   3785\u001b[0m \u001b[1;33m\u001b[0m\u001b[0m\n\u001b[0;32m   3786\u001b[0m         if (\n",
      "\u001b[1;32m~\\anaconda3\\lib\\site-packages\\pandas\\core\\frame.py\u001b[0m in \u001b[0;36m_sanitize_column\u001b[1;34m(self, value)\u001b[0m\n\u001b[0;32m   4507\u001b[0m \u001b[1;33m\u001b[0m\u001b[0m\n\u001b[0;32m   4508\u001b[0m         \u001b[1;32mif\u001b[0m \u001b[0mis_list_like\u001b[0m\u001b[1;33m(\u001b[0m\u001b[0mvalue\u001b[0m\u001b[1;33m)\u001b[0m\u001b[1;33m:\u001b[0m\u001b[1;33m\u001b[0m\u001b[1;33m\u001b[0m\u001b[0m\n\u001b[1;32m-> 4509\u001b[1;33m             \u001b[0mcom\u001b[0m\u001b[1;33m.\u001b[0m\u001b[0mrequire_length_match\u001b[0m\u001b[1;33m(\u001b[0m\u001b[0mvalue\u001b[0m\u001b[1;33m,\u001b[0m \u001b[0mself\u001b[0m\u001b[1;33m.\u001b[0m\u001b[0mindex\u001b[0m\u001b[1;33m)\u001b[0m\u001b[1;33m\u001b[0m\u001b[1;33m\u001b[0m\u001b[0m\n\u001b[0m\u001b[0;32m   4510\u001b[0m         \u001b[1;32mreturn\u001b[0m \u001b[0msanitize_array\u001b[0m\u001b[1;33m(\u001b[0m\u001b[0mvalue\u001b[0m\u001b[1;33m,\u001b[0m \u001b[0mself\u001b[0m\u001b[1;33m.\u001b[0m\u001b[0mindex\u001b[0m\u001b[1;33m,\u001b[0m \u001b[0mcopy\u001b[0m\u001b[1;33m=\u001b[0m\u001b[1;32mTrue\u001b[0m\u001b[1;33m,\u001b[0m \u001b[0mallow_2d\u001b[0m\u001b[1;33m=\u001b[0m\u001b[1;32mTrue\u001b[0m\u001b[1;33m)\u001b[0m\u001b[1;33m\u001b[0m\u001b[1;33m\u001b[0m\u001b[0m\n\u001b[0;32m   4511\u001b[0m \u001b[1;33m\u001b[0m\u001b[0m\n",
      "\u001b[1;32m~\\anaconda3\\lib\\site-packages\\pandas\\core\\common.py\u001b[0m in \u001b[0;36mrequire_length_match\u001b[1;34m(data, index)\u001b[0m\n\u001b[0;32m    529\u001b[0m     \"\"\"\n\u001b[0;32m    530\u001b[0m     \u001b[1;32mif\u001b[0m \u001b[0mlen\u001b[0m\u001b[1;33m(\u001b[0m\u001b[0mdata\u001b[0m\u001b[1;33m)\u001b[0m \u001b[1;33m!=\u001b[0m \u001b[0mlen\u001b[0m\u001b[1;33m(\u001b[0m\u001b[0mindex\u001b[0m\u001b[1;33m)\u001b[0m\u001b[1;33m:\u001b[0m\u001b[1;33m\u001b[0m\u001b[1;33m\u001b[0m\u001b[0m\n\u001b[1;32m--> 531\u001b[1;33m         raise ValueError(\n\u001b[0m\u001b[0;32m    532\u001b[0m             \u001b[1;34m\"Length of values \"\u001b[0m\u001b[1;33m\u001b[0m\u001b[1;33m\u001b[0m\u001b[0m\n\u001b[0;32m    533\u001b[0m             \u001b[1;34mf\"({len(data)}) \"\u001b[0m\u001b[1;33m\u001b[0m\u001b[1;33m\u001b[0m\u001b[0m\n",
      "\u001b[1;31mValueError\u001b[0m: Length of values (30) does not match length of index (60)"
     ]
    }
   ],
   "source": [
    "#how many days we wanto to predict into the future\n",
    "num_prediction_days = 30\n",
    "#create a list to store predicted prices\n",
    "predicted_prices=[]\n",
    "\n",
    "#today's date\n",
    "today = datetime.datetime.today()\n",
    "#date in 30 days\n",
    "day_30 = (datetime.datetime.today() + datetime.timedelta(days=30)).strftime(\"%Y-%m-%d\")\n",
    "\n",
    "for i in tickers:\n",
    "    input_predict_data = pd.DataFrame(scaled_df_test[i])\n",
    "    current_sequence = input_predict_data[-60:]\n",
    "\n",
    "    for _ in range(num_prediction_days):\n",
    "        # Predict the next day's price\n",
    "        predicted_price = models['lstm_model_'+i].predict(np.array([current_sequence]))\n",
    "\n",
    "        # Store the predicted price\n",
    "        predicted_prices.append(predicted_price[0, 0])  # Assuming a single-output model\n",
    "\n",
    "        # Update the current sequence with the predicted price\n",
    "        current_sequence = np.roll(current_sequence, -1, axis=0)\n",
    "        current_sequence[-1] = predicted_price\n",
    "    \n",
    "    y_hat_future = test_scaler[i].inverse_transform(np.array(predicted_prices).reshape(-1, 1));\n",
    "\n",
    "    #visualization\n",
    "    df_y_hat_future = pd.DataFrame(y_hat_future)\n",
    "    df_y_hat_future.columns = [i]\n",
    "    df_y_hat_future['date'] = pd.date_range(start=today, end = day_30, freq ='D')\n",
    "    \n",
    "    \n",
    "    df_y = pd.DataFrame(y)\n",
    "    df_y.columns = [i]\n",
    "    df_y['date'] = stock_data_close[-df_y.shape[0]:].index\n",
    "    \n",
    "    \n",
    "    fig = go.Figure()\n",
    "\n",
    "    fig.add_trace(\n",
    "        go.Scatter(\n",
    "            x= df_y['date'],\n",
    "            y = df_y[i],\n",
    "            name= 'Real Stock Prices',\n",
    "            line=dict(color='blue', width=0.7)))\n",
    "\n",
    "    # add predicted stock prices\n",
    "    fig.add_trace(\n",
    "        go.Scatter(\n",
    "        x = df_y_hat_future['date'],\n",
    "        y = df_y_hat_future[i],\n",
    "        name = '{} - day Predicted Future Stock Prices'.format(str(num_prediction_days)),\n",
    "        mode ='lines',\n",
    "        line = dict(color='red', width=1.5)))\n",
    "\n",
    "\n",
    "    fig.update_layout(\n",
    "            title= 'Real Stock Prices and Predicted by LSTM',\n",
    "            xaxis_title = \"Date\", \n",
    "            yaxis_title = 'Value')\n",
    "    \n",
    "    fig.show()\n",
    "    \n",
    "    "
   ]
  },
  {
   "cell_type": "code",
   "execution_count": null,
   "id": "b4a1efe0",
   "metadata": {},
   "outputs": [],
   "source": []
  },
  {
   "cell_type": "code",
   "execution_count": null,
   "id": "46d6114f",
   "metadata": {},
   "outputs": [],
   "source": []
  },
  {
   "cell_type": "code",
   "execution_count": null,
   "id": "a5a92267",
   "metadata": {},
   "outputs": [],
   "source": []
  }
 ],
 "metadata": {
  "kernelspec": {
   "display_name": "Python 3 (ipykernel)",
   "language": "python",
   "name": "python3"
  },
  "language_info": {
   "codemirror_mode": {
    "name": "ipython",
    "version": 3
   },
   "file_extension": ".py",
   "mimetype": "text/x-python",
   "name": "python",
   "nbconvert_exporter": "python",
   "pygments_lexer": "ipython3",
   "version": "3.9.7"
  }
 },
 "nbformat": 4,
 "nbformat_minor": 5
}
